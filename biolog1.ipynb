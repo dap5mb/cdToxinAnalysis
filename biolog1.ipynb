{
 "cells": [
  {
   "cell_type": "markdown",
   "id": "58acc214-4255-47b6-bf88-63cb3ca8f8ac",
   "metadata": {},
   "source": [
    "# Metabolic modeling using phenotype microarray (PM) data\n",
    "- Simulations using data from Lei, et al (2013)\n",
    "    - https://journals.plos.org/plosone/article?id=10.1371/journal.pone.0056545#s4"
   ]
  },
  {
   "cell_type": "code",
   "execution_count": 1,
   "id": "ad700099-c86a-4b58-926e-954764382326",
   "metadata": {},
   "outputs": [],
   "source": [
    "# Load libraries\n",
    "import pandas as pd\n",
    "import cobra\n",
    "import copy\n",
    "import numpy as np\n",
    "import matplotlib.pyplot as plt\n",
    "import matplotlib.colors as colors\n",
    "import seaborn as sns"
   ]
  },
  {
   "cell_type": "code",
   "execution_count": 328,
   "id": "99af93b4-b9ff-4b94-ae8b-53f0e01d2c47",
   "metadata": {
    "tags": []
   },
   "outputs": [
    {
     "name": "stderr",
     "output_type": "stream",
     "text": [
      "https://identifiers.org/seed.reaction/ does not conform to 'http(s)://identifiers.org/collection/id' or'http(s)://identifiers.org/COLLECTION:id\n"
     ]
    }
   ],
   "source": [
    "# Load models\n",
    "cd630=cobra.io.read_sbml_model(\"models/iCdG709.sbml\")\n",
    "r20291=cobra.io.read_sbml_model(\"models/iCdR703.sbml\")"
   ]
  },
  {
   "cell_type": "code",
   "execution_count": 103,
   "id": "57b23717-1f8f-413f-afd4-1cfc88908e9c",
   "metadata": {
    "tags": []
   },
   "outputs": [],
   "source": [
    "# Load biolog data (PM)\n",
    "bdf = pd.read_csv('../data/biologData_Lei2013.csv', index_col=0)"
   ]
  },
  {
   "cell_type": "code",
   "execution_count": 536,
   "id": "a6b79597-32c1-4d38-a984-a3c7d6255794",
   "metadata": {},
   "outputs": [
    {
     "data": {
      "text/plain": [
       "652"
      ]
     },
     "execution_count": 536,
     "metadata": {},
     "output_type": "execute_result"
    }
   ],
   "source": [
    "bdf['chemical'].nunique() #652 unique metabolites"
   ]
  },
  {
   "cell_type": "markdown",
   "id": "9ace6f12-64e0-4cba-80bc-e8980a44fc32",
   "metadata": {},
   "source": [
    "# Check overlap bw GENREs and PM data"
   ]
  },
  {
   "cell_type": "code",
   "execution_count": 288,
   "id": "522dfea6-5fa8-4f2e-ab8a-8be1adfdd346",
   "metadata": {
    "tags": []
   },
   "outputs": [],
   "source": [
    "# Pull out model metabolite IDs and names to match w/Biolog data\n",
    "ID = []\n",
    "name = []\n",
    "for x in r20291.metabolites:\n",
    "    name.append(x.name)\n",
    "    ID.append(x.id)\n",
    "    \n",
    "for x in cd630.metabolites:\n",
    "    name.append(x.name)\n",
    "    ID.append(x.id)\n",
    "    \n",
    "metdf = pd.concat([pd.Series(ID),pd.Series(name)],axis=1).rename(columns={0:'ID',1:'name'})"
   ]
  },
  {
   "cell_type": "code",
   "execution_count": 292,
   "id": "dfc1a911-0f41-4227-9262-17099db69913",
   "metadata": {},
   "outputs": [],
   "source": [
    "# Drop duplicates\n",
    "metdf = metdf.drop_duplicates(subset=['ID'])"
   ]
  },
  {
   "cell_type": "code",
   "execution_count": 541,
   "id": "8a248556-7e44-42bf-8dc4-a9924211b292",
   "metadata": {},
   "outputs": [
    {
     "data": {
      "text/plain": [
       "(171, 2)"
      ]
     },
     "execution_count": 541,
     "metadata": {},
     "output_type": "execute_result"
    }
   ],
   "source": [
    "mdf1.shape"
   ]
  },
  {
   "cell_type": "code",
   "execution_count": 293,
   "id": "4a97e19b-f254-4d74-a832-df4b7f95175b",
   "metadata": {},
   "outputs": [],
   "source": [
    "# Filter to only extracellular metabolites (162 extracellular metabolites)\n",
    "mdf1 = metdf[metdf['ID'].str.contains('_e$')]"
   ]
  },
  {
   "cell_type": "code",
   "execution_count": 295,
   "id": "a63a4c9f-6f3b-4b32-9354-db5d72915c8a",
   "metadata": {},
   "outputs": [],
   "source": [
    "# Filter to metabolites with name match in biolog data (108 matches)\n",
    "mdf2 = pd.merge(mdf1, bdf.iloc[:,2:-1].rename(columns={'chemical':'name','Toxin Concentration (ng/ml)b':'toxin'}), \n",
    "                how='inner', \n",
    "                on='name')"
   ]
  },
  {
   "cell_type": "code",
   "execution_count": 312,
   "id": "3879fb6e-b9e5-46d6-9d59-4420f0ad827f",
   "metadata": {},
   "outputs": [],
   "source": [
    "# Change toxin column to float type\n",
    "mdf2.loc[mdf2['toxin']=='< 2.5', 'toxin']=0\n",
    "mdf2['toxin'] = mdf2['toxin'].astype('float')"
   ]
  },
  {
   "cell_type": "code",
   "execution_count": 410,
   "id": "6c520063-253c-474a-b8cc-0fe257c08adc",
   "metadata": {
    "collapsed": true,
    "jupyter": {
     "outputs_hidden": true
    },
    "tags": []
   },
   "outputs": [
    {
     "name": "stderr",
     "output_type": "stream",
     "text": [
      "/var/folders/85/n42jk96d3hsbdfcjbr1qlmb80000gp/T/ipykernel_54854/1162846886.py:1: FutureWarning: The default value of numeric_only in DataFrameGroupBy.mean is deprecated. In a future version, numeric_only will default to False. Either specify numeric_only or select only columns which should be valid for the function.\n",
      "  mdf3 = mdf2.groupby(by='ID').mean().reset_index()\n"
     ]
    }
   ],
   "source": [
    "mdf3 = mdf2.groupby(by='ID').mean().reset_index()"
   ]
  },
  {
   "cell_type": "code",
   "execution_count": 411,
   "id": "02c38647-2dae-44c0-a6f3-a41666ae7076",
   "metadata": {},
   "outputs": [],
   "source": [
    "mdf3.insert(1, 'name', None)\n",
    "for x in mdf3['ID']:\n",
    "    try:\n",
    "        mdf3.loc[mdf3['ID']==x, 'name'] = r20291.metabolites.get_by_id(x).name\n",
    "    except KeyError:\n",
    "        mdf3.loc[mdf3['ID']==x, 'name'] = cd630.metabolites.get_by_id(x).name"
   ]
  },
  {
   "cell_type": "code",
   "execution_count": 875,
   "id": "6031dfb7-e23f-4966-82f1-7164a2088cf1",
   "metadata": {},
   "outputs": [
    {
     "data": {
      "image/png": "[encoded data removed]",
      "text/plain": [
       "<Figure size 400x300 with 1 Axes>"
      ]
     },
     "metadata": {},
     "output_type": "display_data"
    }
   ],
   "source": [
    "f, ax = plt.subplots(1,1, figsize=(4,3))\n",
    "ax.hist(mdf3['toxin'], \n",
    "        bins=50, \n",
    "        color='#66b3b3')\n",
    "ax.set_ylabel('Frequency', fontsize=12)\n",
    "ax.set_xlabel('[Toxin], ng/uL', fontsize=12)\n",
    "ax.set_title('PM Data');\n",
    "\n",
    "#plt.savefig('../figures/biologHistogram.jpeg',bbox_inches='tight')"
   ]
  },
  {
   "cell_type": "markdown",
   "id": "6ade3613-4ac3-4cac-bbf7-9cc2a7255a90",
   "metadata": {},
   "source": [
    "## Show overlap bw Biolog data and reconstructions"
   ]
  },
  {
   "cell_type": "code",
   "execution_count": 548,
   "id": "1d063bc6-8bbb-48fe-95c7-d5bca5165bde",
   "metadata": {},
   "outputs": [],
   "source": [
    "from matplotlib_venn import venn2"
   ]
  },
  {
   "cell_type": "code",
   "execution_count": 877,
   "id": "e2675d96-9400-4c4e-9d20-a6bdb5f8b0d6",
   "metadata": {
    "tags": []
   },
   "outputs": [
    {
     "data": {
      "image/png": "[encoded data removed]",
      "text/plain": [
       "<Figure size 640x480 with 1 Axes>"
      ]
     },
     "metadata": {},
     "output_type": "display_data"
    }
   ],
   "source": [
    "ax = venn2(subsets = (587,106, 65), # (Unique biolog metabolites, unique extracellular metabolites, overlap)\n",
    "      set_labels = ('PM Data', \n",
    "                    'GENREs'),\n",
    "      set_colors=(\"#66b3b3\",\n",
    "                  \"#955a98\"),alpha=0.7)\n",
    "\n",
    "for text in ax.subset_labels:\n",
    "    text.set_fontsize(14)\n",
    "\n",
    "#plt.savefig('../figures/biologMetaboliteVenn.jpeg',bbox_inches='tight')"
   ]
  },
  {
   "cell_type": "markdown",
   "id": "2aa234a1-663b-49e5-9b50-1ea48793dcd6",
   "metadata": {},
   "source": [
    "## Bin toxin levels (ng/mL) using definitions from Lei et al\n",
    "- High: [420,) \n",
    "- Mid: [42, 420)\n",
    "- Low: [0, 42)"
   ]
  },
  {
   "cell_type": "code",
   "execution_count": 498,
   "id": "8c8d31f9-cd61-4438-9620-2e0f010eb4e6",
   "metadata": {},
   "outputs": [],
   "source": [
    "mdf3['bins'] = pd.cut(mdf3['toxin'], bins=[0,42,420,5500], right=False, labels=['low','mid','high'])"
   ]
  },
  {
   "cell_type": "code",
   "execution_count": 543,
   "id": "c97b2fa4-a225-454b-b9d5-e03810e2cffd",
   "metadata": {},
   "outputs": [
    {
     "data": {
      "text/plain": [
       "65"
      ]
     },
     "execution_count": 543,
     "metadata": {},
     "output_type": "execute_result"
    }
   ],
   "source": [
    "mdf3['name'].nunique()"
   ]
  },
  {
   "cell_type": "markdown",
   "id": "6649bd1f-dd3b-4d1a-8def-0edcc15caca8",
   "metadata": {
    "tags": []
   },
   "source": [
    "# Biolog flux simulations"
   ]
  },
  {
   "cell_type": "code",
   "execution_count": 322,
   "id": "606b5d47-0bfe-49cd-b43f-db03c68946f1",
   "metadata": {},
   "outputs": [],
   "source": [
    "# Minimal defined media, plus glucose\n",
    "mdm_G = {'cpd00001_e',  # water\n",
    "        'cpd00104_e', # Biotin\n",
    "        'cpd00644_e', # Pantothenate\n",
    "        'cpd00263_e', # Pyridoxine\n",
    "        'cpd00149_e', # Cobalt\n",
    "        'cpd00099_e', # Chloride\n",
    "        'cpd10515_e', # Iron\n",
    "        'cpd00030_e', # Manganese\n",
    "        'cpd00254_e', # Magnesium\n",
    "        'cpd00063_e', # Calcium\n",
    "        'cpd00205_e', # Potassium\n",
    "        'cpd00009_e', # Phosphate\n",
    "        'cpd00971_e', # Sodium\n",
    "        'cpd00242_e', # Carbonate\n",
    "        'cpd00322_e', # L-Isoleucine\n",
    "        'cpd00129_e', # L-Proline\n",
    "        'cpd00156_e', # L-Valine\n",
    "        'cpd00107_e', # L-Leucine\n",
    "        'cpd00084_e', # L-Cysteine\n",
    "        'cpd00065_e', # L-Tryptophan\n",
    "        'cpd00027_e'} # Glucose\n",
    "\n",
    "# minimal media exchange reactions\n",
    "mdmg_ex = list('EX_' + x for x in mdm_G)"
   ]
  },
  {
   "cell_type": "code",
   "execution_count": 413,
   "id": "3aa8fe9a-0155-4c10-86e2-484c5fe768dd",
   "metadata": {},
   "outputs": [],
   "source": [
    "# Exchange reactions for biolog metabolites\n",
    "mdf3['ex_id'] = 'EX_' + mdf3['ID'].astype(str)"
   ]
  },
  {
   "cell_type": "code",
   "execution_count": 414,
   "id": "2a37c331-604d-416f-ab71-9b6093dda69c",
   "metadata": {
    "tags": []
   },
   "outputs": [],
   "source": [
    "blg = set(mdf3['ex_id'])"
   ]
  },
  {
   "cell_type": "markdown",
   "id": "fa95cb93-bd10-4525-a948-ecb858dee51c",
   "metadata": {},
   "source": [
    "## R20291"
   ]
  },
  {
   "cell_type": "code",
   "execution_count": 419,
   "id": "521c3aaf-b75b-41e3-ac7b-c3156650f5d0",
   "metadata": {},
   "outputs": [
    {
     "name": "stdout",
     "output_type": "stream",
     "text": [
      "Read LP format model from file /var/folders/85/n42jk96d3hsbdfcjbr1qlmb80000gp/T/tmpzhkcho37.lp\n",
      "Reading time = 0.01 seconds\n",
      ": 1243 rows, 2626 columns, 11388 nonzeros\n"
     ]
    }
   ],
   "source": [
    "temp = copy.deepcopy(r20291)"
   ]
  },
  {
   "cell_type": "code",
   "execution_count": 420,
   "id": "191da79f-f472-4e9b-8c5b-58ea0c1839f0",
   "metadata": {},
   "outputs": [],
   "source": [
    "# Set lower bound of all ex-rxn = 0 unless in minimal media\n",
    "for i in temp.exchanges:\n",
    "    if not i.id in mdmg_ex:\n",
    "        i.lower_bound = 0.\n",
    "    else: \n",
    "        i.lower_bound = -1000."
   ]
  },
  {
   "cell_type": "code",
   "execution_count": 421,
   "id": "2fdd7bad-384c-42f2-bc31-b9c65a4af79c",
   "metadata": {
    "collapsed": true,
    "jupyter": {
     "outputs_hidden": true
    },
    "tags": []
   },
   "outputs": [
    {
     "name": "stderr",
     "output_type": "stream",
     "text": [
      "/Users/dap5mb/opt/anaconda3/lib/python3.8/site-packages/cobra/util/solver.py:554: UserWarning: Solver status is 'infeasible'.\n",
      "  warn(f\"Solver status is '{status}'.\", UserWarning)\n",
      "/Users/dap5mb/opt/anaconda3/lib/python3.8/site-packages/cobra/util/solver.py:554: UserWarning: Solver status is 'infeasible'.\n",
      "  warn(f\"Solver status is '{status}'.\", UserWarning)\n",
      "/Users/dap5mb/opt/anaconda3/lib/python3.8/site-packages/cobra/util/solver.py:554: UserWarning: Solver status is 'infeasible'.\n",
      "  warn(f\"Solver status is '{status}'.\", UserWarning)\n",
      "/Users/dap5mb/opt/anaconda3/lib/python3.8/site-packages/cobra/util/solver.py:554: UserWarning: Solver status is 'infeasible'.\n",
      "  warn(f\"Solver status is '{status}'.\", UserWarning)\n"
     ]
    },
    {
     "name": "stdout",
     "output_type": "stream",
     "text": [
      "EX_cpd11584_e is not in R20291 model\n",
      "EX_cpd01017_e is not in R20291 model\n",
      "EX_cpd11591_e is not in R20291 model\n",
      "EX_cpd11587_e is not in R20291 model\n"
     ]
    },
    {
     "name": "stderr",
     "output_type": "stream",
     "text": [
      "/Users/dap5mb/opt/anaconda3/lib/python3.8/site-packages/cobra/util/solver.py:554: UserWarning: Solver status is 'infeasible'.\n",
      "  warn(f\"Solver status is '{status}'.\", UserWarning)\n"
     ]
    },
    {
     "name": "stdout",
     "output_type": "stream",
     "text": [
      "EX_cpd11583_e is not in R20291 model\n"
     ]
    },
    {
     "name": "stderr",
     "output_type": "stream",
     "text": [
      "/Users/dap5mb/opt/anaconda3/lib/python3.8/site-packages/cobra/util/solver.py:554: UserWarning: Solver status is 'infeasible'.\n",
      "  warn(f\"Solver status is '{status}'.\", UserWarning)\n"
     ]
    },
    {
     "name": "stdout",
     "output_type": "stream",
     "text": [
      "EX_cpd11580_e is not in R20291 model\n"
     ]
    },
    {
     "name": "stderr",
     "output_type": "stream",
     "text": [
      "/Users/dap5mb/opt/anaconda3/lib/python3.8/site-packages/cobra/util/solver.py:554: UserWarning: Solver status is 'infeasible'.\n",
      "  warn(f\"Solver status is '{status}'.\", UserWarning)\n",
      "/Users/dap5mb/opt/anaconda3/lib/python3.8/site-packages/cobra/util/solver.py:554: UserWarning: Solver status is 'infeasible'.\n",
      "  warn(f\"Solver status is '{status}'.\", UserWarning)\n",
      "/Users/dap5mb/opt/anaconda3/lib/python3.8/site-packages/cobra/util/solver.py:554: UserWarning: Solver status is 'infeasible'.\n",
      "  warn(f\"Solver status is '{status}'.\", UserWarning)\n",
      "/Users/dap5mb/opt/anaconda3/lib/python3.8/site-packages/cobra/util/solver.py:554: UserWarning: Solver status is 'infeasible'.\n",
      "  warn(f\"Solver status is '{status}'.\", UserWarning)\n",
      "/Users/dap5mb/opt/anaconda3/lib/python3.8/site-packages/cobra/util/solver.py:554: UserWarning: Solver status is 'infeasible'.\n",
      "  warn(f\"Solver status is '{status}'.\", UserWarning)\n"
     ]
    }
   ],
   "source": [
    "# Get flux solutions for minimal media supplemented with biolog metabolites\n",
    "fdf = pd.DataFrame()\n",
    "mdf3['r20291_biomass']=''\n",
    "for x in blg:\n",
    "    try:\n",
    "        temp.reactions.get_by_id(x).lower_bound = -1000\n",
    "        temp.reactions.get_by_id(x).upper_bound = -1\n",
    "        mdf3.loc[mdf3['ex_id']==x, 'r20291_biomass'] = temp.slim_optimize()\n",
    "        flux = temp.optimize()\n",
    "        fdf = pd.concat([fdf,flux.fluxes.rename(x)], axis=1)\n",
    "        temp.reactions.get_by_id(x).upper_bound = 1000\n",
    "        if x in blg.intersection(mdmg_ex):\n",
    "            temp.reactions.get_by_id(x).lower_bound = -1000\n",
    "        else:\n",
    "            temp.reactions.get_by_id(x).lower_bound = 0\n",
    "    except KeyError: \n",
    "        print(x, \"is not in R20291 model\")"
   ]
  },
  {
   "cell_type": "code",
   "execution_count": 435,
   "id": "66955fa3-18c5-4ad7-af2d-e86ba72bc403",
   "metadata": {},
   "outputs": [],
   "source": [
    "fdf1 = fdf.T.reset_index()\n",
    "fdf1.insert(0, 'model', 'r20291')"
   ]
  },
  {
   "cell_type": "markdown",
   "id": "bcac2d4e-9e04-4646-9ea1-96f33fe1c375",
   "metadata": {},
   "source": [
    "## CD630"
   ]
  },
  {
   "cell_type": "code",
   "execution_count": 437,
   "id": "ffc0b452-78fb-498e-a970-9f0c3b73d143",
   "metadata": {},
   "outputs": [
    {
     "name": "stdout",
     "output_type": "stream",
     "text": [
      "Read LP format model from file /var/folders/85/n42jk96d3hsbdfcjbr1qlmb80000gp/T/tmpknyu89tf.lp\n",
      "Reading time = 0.01 seconds\n",
      ": 1243 rows, 2646 columns, 11514 nonzeros\n"
     ]
    }
   ],
   "source": [
    "temp1 = copy.deepcopy(cd630)"
   ]
  },
  {
   "cell_type": "code",
   "execution_count": 438,
   "id": "f42ea76b-525d-407f-8ca8-2645dcc0cad0",
   "metadata": {},
   "outputs": [],
   "source": [
    "# Set lower bound of all ex-rxn = 0 unless in minimal media\n",
    "for i in temp1.exchanges:\n",
    "    if not i.id in mdmg_ex:\n",
    "        i.lower_bound = 0.\n",
    "    else: \n",
    "        i.lower_bound = -1000."
   ]
  },
  {
   "cell_type": "code",
   "execution_count": 439,
   "id": "f8764e25-268e-458c-9d01-6b74770fae71",
   "metadata": {
    "collapsed": true,
    "jupyter": {
     "outputs_hidden": true
    },
    "tags": []
   },
   "outputs": [
    {
     "name": "stderr",
     "output_type": "stream",
     "text": [
      "/Users/dap5mb/opt/anaconda3/lib/python3.8/site-packages/cobra/util/solver.py:554: UserWarning: Solver status is 'infeasible'.\n",
      "  warn(f\"Solver status is '{status}'.\", UserWarning)\n",
      "/Users/dap5mb/opt/anaconda3/lib/python3.8/site-packages/cobra/util/solver.py:554: UserWarning: Solver status is 'infeasible'.\n",
      "  warn(f\"Solver status is '{status}'.\", UserWarning)\n",
      "/Users/dap5mb/opt/anaconda3/lib/python3.8/site-packages/cobra/util/solver.py:554: UserWarning: Solver status is 'infeasible'.\n",
      "  warn(f\"Solver status is '{status}'.\", UserWarning)\n"
     ]
    },
    {
     "name": "stdout",
     "output_type": "stream",
     "text": [
      "EX_cpd00100_e is not in cd630 model\n",
      "EX_cpd00042_e is not in cd630 model\n",
      "EX_cpd00155_e is not in cd630 model\n",
      "EX_cpd00152_e is not in cd630 model\n"
     ]
    },
    {
     "name": "stderr",
     "output_type": "stream",
     "text": [
      "/Users/dap5mb/opt/anaconda3/lib/python3.8/site-packages/cobra/util/solver.py:554: UserWarning: Solver status is 'infeasible'.\n",
      "  warn(f\"Solver status is '{status}'.\", UserWarning)\n",
      "/Users/dap5mb/opt/anaconda3/lib/python3.8/site-packages/cobra/util/solver.py:554: UserWarning: Solver status is 'infeasible'.\n",
      "  warn(f\"Solver status is '{status}'.\", UserWarning)\n",
      "/Users/dap5mb/opt/anaconda3/lib/python3.8/site-packages/cobra/util/solver.py:554: UserWarning: Solver status is 'infeasible'.\n",
      "  warn(f\"Solver status is '{status}'.\", UserWarning)\n",
      "/Users/dap5mb/opt/anaconda3/lib/python3.8/site-packages/cobra/util/solver.py:554: UserWarning: Solver status is 'infeasible'.\n",
      "  warn(f\"Solver status is '{status}'.\", UserWarning)\n"
     ]
    },
    {
     "name": "stdout",
     "output_type": "stream",
     "text": [
      "EX_cpd00098_e is not in cd630 model\n"
     ]
    }
   ],
   "source": [
    "# Get flux solutions for minimal media supplemented with biolog metabolites\n",
    "fdf = pd.DataFrame()\n",
    "mdf3['cd630_biomass']=''\n",
    "for x in blg:\n",
    "    try:\n",
    "        temp1.reactions.get_by_id(x).lower_bound = -1000\n",
    "        temp1.reactions.get_by_id(x).upper_bound = -1\n",
    "        mdf3.loc[mdf3['ex_id']==x, 'cd630_biomass'] = temp1.slim_optimize()\n",
    "        flux = temp1.optimize()\n",
    "        fdf = pd.concat([fdf,flux.fluxes.rename(x)], axis=1)\n",
    "        temp1.reactions.get_by_id(x).upper_bound = 1000\n",
    "        if x in blg.intersection(mdmg_ex):\n",
    "            temp1.reactions.get_by_id(x).lower_bound = -1000\n",
    "        else:\n",
    "            temp1.reactions.get_by_id(x).lower_bound = 0\n",
    "    except KeyError: \n",
    "        print(x, \"is not in cd630 model\")"
   ]
  },
  {
   "cell_type": "code",
   "execution_count": 442,
   "id": "970b040d-eb75-4c11-88d0-db5befb67b47",
   "metadata": {},
   "outputs": [],
   "source": [
    "fdf = fdf.T.reset_index()\n",
    "fdf.insert(0, 'model', 'cd630')"
   ]
  },
  {
   "cell_type": "code",
   "execution_count": 448,
   "id": "fc7a472e-c7f1-4ad1-802c-153e424f9536",
   "metadata": {},
   "outputs": [],
   "source": [
    "fdf2 = pd.concat([fdf,fdf1]).rename(columns={'index':'ex_id'})"
   ]
  },
  {
   "cell_type": "markdown",
   "id": "7ba05b20-6ede-43c5-8f83-c08228c341bd",
   "metadata": {},
   "source": [
    "# Process flux data and visualize"
   ]
  },
  {
   "cell_type": "code",
   "execution_count": 812,
   "id": "e683230e-12f1-4160-84fe-f10909ea082c",
   "metadata": {},
   "outputs": [],
   "source": [
    "# Column map (binary toxin labels)\n",
    "colDict2={\n",
    "    'low':'#c1fefe',\n",
    "    'mid':'#00b3b3',\n",
    "    'high':'#006a6a'\n",
    "        }\n",
    "colNwk2 = mdf3.set_index(mdf3['ex_id'])['bins'].rename('Toxin')\n",
    "colMap2 = pd.Series(colNwk2).map(colDict2)"
   ]
  },
  {
   "cell_type": "code",
   "execution_count": 836,
   "id": "d9f6bbfd-6843-44b0-a331-809e56873387",
   "metadata": {
    "tags": []
   },
   "outputs": [],
   "source": [
    "# Process flux data for cd630\n",
    "fdf_n = fdf.set_index('ex_id').reindex(colNwk2.sort_values().index).fillna(0).drop(columns='model') # Re-sort by toxin level and fill nans w/zero\n",
    "fdf_n = fdf_n.loc[:, (fdf_n != 0).any(axis=0)] # remove rxns w/all zeroes\n",
    "fdf_n = (fdf_n-fdf_n.min())/(fdf_n.max()-fdf_n.min()) # Min-Max normalization"
   ]
  },
  {
   "cell_type": "code",
   "execution_count": 878,
   "id": "4b1a3a07-a7fe-48bd-a6eb-5993d276d0aa",
   "metadata": {
    "tags": []
   },
   "outputs": [
    {
     "data": {
      "image/png": "[encoded data removed]",
      "text/plain": [
       "<Figure size 1000x1000 with 5 Axes>"
      ]
     },
     "metadata": {},
     "output_type": "display_data"
    }
   ],
   "source": [
    "# Data for figure:\n",
    "foo = np.abs(fdf_n.loc[: ,(fdf_n.var()>0.05)].T) # Filter out rxns w/flux variance < 0.05\n",
    "# xtick labels: get biolog metabolite names, sort by toxin level for \n",
    "xlab = mdf3.loc[mdf3['ex_id'].isin(foo.columns), ['ex_id','name']].set_index('ex_id').reindex(colNwk2.sort_values().index)['name'].to_list()\n",
    "\n",
    "##### Figure:\n",
    "ax = sns.clustermap(foo, \n",
    "               cmap='Blues',\n",
    "               col_colors=colMap2,\n",
    "               col_cluster=False,\n",
    "               dendrogram_ratio=0.05,\n",
    "               yticklabels=False,\n",
    "               xticklabels = xlab,\n",
    "               cbar_pos=(-0.14, 0.5, 0.05, 0.2), # (left, bottom,width, height)\n",
    "               cbar_kws={'label':'Absolute normalized flux', \"ticks\":[0,0.5,1]}\n",
    "           )\n",
    "ax.ax_heatmap.set_xlabel('PM Growth Conditions', fontsize = 16);\n",
    "ax.ax_heatmap.set_ylabel('Reactions', fontsize = 16, rotation=270, va='bottom');\n",
    "\n",
    "# Toxin Legend\n",
    "for label in colDict2:\n",
    "    ax.ax_col_dendrogram.bar(0,0, color = colDict2[label], label = label, linewidth=0)\n",
    "ax.ax_col_dendrogram.legend(loc = [-0.235,-4], title='$\\\\bf{Toxin Levels}$',frameon=False)._legend_box.align = \"left\"\n",
    "\n",
    "# Highlight arginine growth condition\n",
    "ax.ax_heatmap.get_xticklabels()[36].set_color('red') \n",
    "\n",
    "\n",
    "#plt.savefig('../figures/biologCD630Flux.jpeg',bbox_inches='tight')"
   ]
  },
  {
   "cell_type": "markdown",
   "id": "261a968f-89bd-4996-a481-664cda44f15c",
   "metadata": {},
   "source": [
    "# Calculate Pearson's correlation bw rxns and PM toxin data"
   ]
  },
  {
   "cell_type": "code",
   "execution_count": 731,
   "id": "26f3f530-5393-4a65-9ad2-7c133a3c923a",
   "metadata": {
    "tags": []
   },
   "outputs": [],
   "source": [
    "#p = [fdf_n.iloc[:,x].corr(t) for x in range(len(fdf_n.columns))]\n",
    "p = [fdf_n.loc[: ,(fdf_n.var()>0.025)].iloc[:,x].corr(t) for x in range(109)]"
   ]
  },
  {
   "cell_type": "code",
   "execution_count": 732,
   "id": "51271407-4e07-488c-9c18-57f04af972b9",
   "metadata": {},
   "outputs": [],
   "source": [
    "pdf = pd.concat([pd.Series(fdf_n.columns).rename('rxn'), pd.Series(p).rename('pcorr')], axis=1)"
   ]
  },
  {
   "cell_type": "code",
   "execution_count": 733,
   "id": "90740887-bf5e-4c6e-a822-c8bb290db110",
   "metadata": {
    "tags": []
   },
   "outputs": [
    {
     "data": {
      "text/html": [
       "<div>\n",
       "<style scoped>\n",
       "    .dataframe tbody tr th:only-of-type {\n",
       "        vertical-align: middle;\n",
       "    }\n",
       "\n",
       "    .dataframe tbody tr th {\n",
       "        vertical-align: top;\n",
       "    }\n",
       "\n",
       "    .dataframe thead th {\n",
       "        text-align: right;\n",
       "    }\n",
       "</style>\n",
       "<table border=\"1\" class=\"dataframe\">\n",
       "  <thead>\n",
       "    <tr style=\"text-align: right;\">\n",
       "      <th></th>\n",
       "      <th>rxn</th>\n",
       "      <th>pcorr</th>\n",
       "    </tr>\n",
       "  </thead>\n",
       "  <tbody>\n",
       "    <tr>\n",
       "      <th>15</th>\n",
       "      <td>rxn00678_c</td>\n",
       "      <td>0.257776</td>\n",
       "    </tr>\n",
       "    <tr>\n",
       "      <th>24</th>\n",
       "      <td>rxn08669_c</td>\n",
       "      <td>0.210515</td>\n",
       "    </tr>\n",
       "    <tr>\n",
       "      <th>61</th>\n",
       "      <td>rxn05234_c</td>\n",
       "      <td>0.206897</td>\n",
       "    </tr>\n",
       "    <tr>\n",
       "      <th>33</th>\n",
       "      <td>rxn03482_c</td>\n",
       "      <td>0.185290</td>\n",
       "    </tr>\n",
       "    <tr>\n",
       "      <th>31</th>\n",
       "      <td>rxn05569_c</td>\n",
       "      <td>0.177201</td>\n",
       "    </tr>\n",
       "    <tr>\n",
       "      <th>...</th>\n",
       "      <td>...</td>\n",
       "      <td>...</td>\n",
       "    </tr>\n",
       "    <tr>\n",
       "      <th>612</th>\n",
       "      <td>rxn19080_c</td>\n",
       "      <td>NaN</td>\n",
       "    </tr>\n",
       "    <tr>\n",
       "      <th>613</th>\n",
       "      <td>rxn00493_c</td>\n",
       "      <td>NaN</td>\n",
       "    </tr>\n",
       "    <tr>\n",
       "      <th>614</th>\n",
       "      <td>rxn01270_c</td>\n",
       "      <td>NaN</td>\n",
       "    </tr>\n",
       "    <tr>\n",
       "      <th>615</th>\n",
       "      <td>rxn00527_c</td>\n",
       "      <td>NaN</td>\n",
       "    </tr>\n",
       "    <tr>\n",
       "      <th>616</th>\n",
       "      <td>R00258_c</td>\n",
       "      <td>NaN</td>\n",
       "    </tr>\n",
       "  </tbody>\n",
       "</table>\n",
       "<p>617 rows × 2 columns</p>\n",
       "</div>"
      ],
      "text/plain": [
       "            rxn     pcorr\n",
       "15   rxn00678_c  0.257776\n",
       "24   rxn08669_c  0.210515\n",
       "61   rxn05234_c  0.206897\n",
       "33   rxn03482_c  0.185290\n",
       "31   rxn05569_c  0.177201\n",
       "..          ...       ...\n",
       "612  rxn19080_c       NaN\n",
       "613  rxn00493_c       NaN\n",
       "614  rxn01270_c       NaN\n",
       "615  rxn00527_c       NaN\n",
       "616    R00258_c       NaN\n",
       "\n",
       "[617 rows x 2 columns]"
      ]
     },
     "execution_count": 733,
     "metadata": {},
     "output_type": "execute_result"
    }
   ],
   "source": [
    "pdf.sort_values(by='pcorr', ascending=False)\n",
    "# No correlations w/toxin level"
   ]
  },
  {
   "cell_type": "code",
   "execution_count": null,
   "id": "aec49e8c-5ecc-459c-afec-099ccb091adc",
   "metadata": {},
   "outputs": [],
   "source": []
  },
  {
   "cell_type": "code",
   "execution_count": null,
   "id": "8bad2daf-2c6f-4baa-a3fc-70775521ae08",
   "metadata": {},
   "outputs": [],
   "source": []
  },
  {
   "cell_type": "code",
   "execution_count": null,
   "id": "dfa895b3-b1f1-40a3-903e-adf0fc282017",
   "metadata": {},
   "outputs": [],
   "source": []
  }
 ],
 "metadata": {
  "kernelspec": {
   "display_name": "Python 3 (ipykernel)",
   "language": "python",
   "name": "python3"
  },
  "language_info": {
   "codemirror_mode": {
    "name": "ipython",
    "version": 3
   },
   "file_extension": ".py",
   "mimetype": "text/x-python",
   "name": "python",
   "nbconvert_exporter": "python",
   "pygments_lexer": "ipython3",
   "version": "3.8.8"
  }
 },
 "nbformat": 4,
 "nbformat_minor": 5
}
