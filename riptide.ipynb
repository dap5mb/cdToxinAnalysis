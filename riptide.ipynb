{
 "cells": [
  {
   "cell_type": "markdown",
   "id": "979e0918-c497-419b-ab32-0aed672ebedf",
   "metadata": {},
   "source": [
    "# Riptide\n",
    "- create contextualized models using public transcriptome data\n",
    "- Details on the GEO studies included can be found in '../data/rnaSeqMetaData.xlsx' and 'countFormating.ipynb' files"
   ]
  },
  {
   "cell_type": "code",
   "execution_count": 3,
   "id": "5d6cf8f7-7a64-4b7a-aaf5-e68c63740b1f",
   "metadata": {},
   "outputs": [],
   "source": [
    "# Load libraries\n",
    "import pandas as pd\n",
    "import cobra\n",
    "import numpy as np\n",
    "from riptide import *"
   ]
  },
  {
   "cell_type": "code",
   "execution_count": 4,
   "id": "8bcb537d-fec0-4788-869a-8b2a0db6f72d",
   "metadata": {},
   "outputs": [
    {
     "name": "stdout",
     "output_type": "stream",
     "text": [
      "Set parameter Username\n",
      "Academic license - for non-commercial use only - expires 2023-04-21\n"
     ]
    },
    {
     "name": "stderr",
     "output_type": "stream",
     "text": [
      "https://identifiers.org/seed.reaction/ does not conform to 'http(s)://identifiers.org/collection/id' or'http(s)://identifiers.org/COLLECTION:id\n"
     ]
    }
   ],
   "source": [
    "# Load model\n",
    "model = cobra.io.read_sbml_model(\"models/iCdG709.sbml\")"
   ]
  },
  {
   "cell_type": "code",
   "execution_count": null,
   "id": "4c829a14-3190-4101-bb98-3c1521c2640e",
   "metadata": {},
   "outputs": [],
   "source": []
  },
  {
   "cell_type": "markdown",
   "id": "d297b2c5-ec07-4ae6-b0ac-70c7f3c553c9",
   "metadata": {},
   "source": [
    "# C. difficile 630 studies\n",
    "### GSE120189"
   ]
  },
  {
   "cell_type": "code",
   "execution_count": 5,
   "id": "cef38cfe-9316-4aa0-8b10-806ebbf20fc3",
   "metadata": {},
   "outputs": [],
   "source": [
    "# Create transcriptomic dictionaries (high iron, low iron)\n",
    "hife = riptide.read_transcription_file('../data/counts/gse120189_highFe_counts.tsv',  norm=False) # Already RPKM normalized\n",
    "lofe = riptide.read_transcription_file('../data/counts/gse120189_lowFe_counts.tsv',  norm=False) # Already RPKM normalized"
   ]
  },
  {
   "cell_type": "code",
   "execution_count": 6,
   "id": "6522404c-a7f7-462a-a677-21a0050877b1",
   "metadata": {
    "tags": []
   },
   "outputs": [
    {
     "name": "stdout",
     "output_type": "stream",
     "text": [
      "\n",
      "Initializing model and integrating transcriptomic data...\n",
      "Read LP format model from file /var/folders/85/n42jk96d3hsbdfcjbr1qlmb80000gp/T/tmpgg42r7po.lp\n",
      "Reading time = 0.01 seconds\n",
      ": 1243 rows, 2646 columns, 11514 nonzeros\n",
      "Pruning zero flux subnetworks...\n",
      "Read LP format model from file /var/folders/85/n42jk96d3hsbdfcjbr1qlmb80000gp/T/tmpfrbp5rly.lp\n",
      "Reading time = 0.01 seconds\n",
      ": 1243 rows, 2646 columns, 11514 nonzeros\n",
      "Read LP format model from file /var/folders/85/n42jk96d3hsbdfcjbr1qlmb80000gp/T/tmpcmn9cizl.lp\n",
      "Reading time = 0.01 seconds\n",
      ": 1243 rows, 2646 columns, 11514 nonzeros\n",
      "Read LP format model from file /var/folders/85/n42jk96d3hsbdfcjbr1qlmb80000gp/T/tmp46ube7rn.lp\n",
      "Reading time = 0.01 seconds\n",
      ": 1243 rows, 2646 columns, 11514 nonzeros\n",
      "Analyzing context-specific flux distributions...\n",
      "Read LP format model from file /var/folders/85/n42jk96d3hsbdfcjbr1qlmb80000gp/T/tmp1225hnsi.lp\n",
      "Reading time = 0.01 seconds\n",
      ": 702 rows, 1316 columns, 5834 nonzeros\n"
     ]
    },
    {
     "name": "stderr",
     "output_type": "stream",
     "text": [
      "/Users/dap5mb/opt/anaconda3/lib/python3.8/site-packages/optlang/interface.py:1474: DeprecationWarning: Deprecated, pass a TempConstr or use Model.addLConstr\n",
      "  self._add_constraints(add_constr)\n"
     ]
    },
    {
     "name": "stdout",
     "output_type": "stream",
     "text": [
      "Set parameter Username\n",
      "Academic license - for non-commercial use only - expires 2023-04-21\n",
      "Read LP format model from file /var/folders/85/n42jk96d3hsbdfcjbr1qlmb80000gp/T/tmp1r4sri03.lp\n",
      "Reading time = 0.01 seconds\n",
      ": 705 rows, 1319 columns, 8471 nonzeros\n",
      "Set parameter Username\n",
      "Academic license - for non-commercial use only - expires 2023-04-21\n",
      "Read LP format model from file /var/folders/85/n42jk96d3hsbdfcjbr1qlmb80000gp/T/tmpolomewmg.lp\n",
      "Reading time = 0.01 seconds\n",
      ": 705 rows, 1319 columns, 8471 nonzeros\n",
      "Set parameter Username\n",
      "Academic license - for non-commercial use only - expires 2023-04-21\n",
      "Read LP format model from file /var/folders/85/n42jk96d3hsbdfcjbr1qlmb80000gp/T/tmpkr676abg.lp\n",
      "Reading time = 0.01 seconds\n",
      ": 705 rows, 1319 columns, 8471 nonzeros\n",
      "Set parameter Username\n",
      "Academic license - for non-commercial use only - expires 2023-04-21\n",
      "Read LP format model from file /var/folders/85/n42jk96d3hsbdfcjbr1qlmb80000gp/T/tmpeflkzbpd.lp\n",
      "Reading time = 0.01 seconds\n",
      ": 705 rows, 1319 columns, 8471 nonzeros\n",
      "Set parameter Username\n",
      "Academic license - for non-commercial use only - expires 2023-04-21\n",
      "Read LP format model from file /var/folders/85/n42jk96d3hsbdfcjbr1qlmb80000gp/T/tmpwzvgt_rp.lp\n",
      "Reading time = 0.01 seconds\n",
      ": 705 rows, 1319 columns, 8471 nonzeros\n",
      "Set parameter Username\n",
      "Academic license - for non-commercial use only - expires 2023-04-21\n",
      "Read LP format model from file /var/folders/85/n42jk96d3hsbdfcjbr1qlmb80000gp/T/tmp6sr8swk1.lp\n",
      "Reading time = 0.01 seconds\n",
      ": 705 rows, 1319 columns, 8471 nonzeros\n",
      "Set parameter Username\n",
      "Academic license - for non-commercial use only - expires 2023-04-21\n",
      "Read LP format model from file /var/folders/85/n42jk96d3hsbdfcjbr1qlmb80000gp/T/tmpd2h0v632.lp\n",
      "Reading time = 0.02 seconds\n",
      ": 705 rows, 1319 columns, 8471 nonzeros\n",
      "Set parameter Username\n",
      "Academic license - for non-commercial use only - expires 2023-04-21\n",
      "Read LP format model from file /var/folders/85/n42jk96d3hsbdfcjbr1qlmb80000gp/T/tmpj7sx67tv.lp\n",
      "Reading time = 0.01 seconds\n",
      ": 705 rows, 1319 columns, 8471 nonzeros\n",
      "Set parameter Username\n",
      "Academic license - for non-commercial use only - expires 2023-04-21\n",
      "Read LP format model from file /var/folders/85/n42jk96d3hsbdfcjbr1qlmb80000gp/T/tmp9ft2m4nd.lp\n",
      "Reading time = 0.01 seconds\n",
      ": 705 rows, 1319 columns, 8471 nonzeros\n",
      "Set parameter Username\n",
      "Academic license - for non-commercial use only - expires 2023-04-21\n",
      "Read LP format model from file /var/folders/85/n42jk96d3hsbdfcjbr1qlmb80000gp/T/tmp4cf7qxih.lp\n",
      "Reading time = 0.01 seconds\n",
      ": 705 rows, 1319 columns, 8471 nonzeros\n",
      "Set parameter Username\n",
      "Academic license - for non-commercial use only - expires 2023-04-21\n",
      "Read LP format model from file /var/folders/85/n42jk96d3hsbdfcjbr1qlmb80000gp/T/tmpfx1k7j5x.lp\n",
      "Reading time = 0.01 seconds\n",
      ": 705 rows, 1319 columns, 8471 nonzeros\n",
      "Set parameter Username\n",
      "Academic license - for non-commercial use only - expires 2023-04-21\n",
      "Read LP format model from file /var/folders/85/n42jk96d3hsbdfcjbr1qlmb80000gp/T/tmpfljrco4h.lp\n",
      "Reading time = 0.01 seconds\n",
      ": 705 rows, 1319 columns, 8471 nonzeros\n",
      "Set parameter Username\n",
      "Academic license - for non-commercial use only - expires 2023-04-21\n",
      "Read LP format model from file /var/folders/85/n42jk96d3hsbdfcjbr1qlmb80000gp/T/tmp2srjyfa2.lp\n",
      "Reading time = 0.01 seconds\n",
      ": 705 rows, 1319 columns, 8471 nonzeros\n",
      "Set parameter Username\n",
      "Academic license - for non-commercial use only - expires 2023-04-21\n",
      "Read LP format model from file /var/folders/85/n42jk96d3hsbdfcjbr1qlmb80000gp/T/tmp7gxu99d2.lp\n",
      "Reading time = 0.01 seconds\n",
      ": 705 rows, 1319 columns, 8471 nonzeros\n"
     ]
    },
    {
     "name": "stderr",
     "output_type": "stream",
     "text": [
      "/Users/dap5mb/opt/anaconda3/lib/python3.8/site-packages/optlang/interface.py:1474: DeprecationWarning: Deprecated, pass a TempConstr or use Model.addLConstr\n",
      "  self._add_constraints(add_constr)\n"
     ]
    },
    {
     "name": "stdout",
     "output_type": "stream",
     "text": [
      "Set parameter Username\n",
      "Academic license - for non-commercial use only - expires 2023-04-21\n",
      "Read LP format model from file /var/folders/85/n42jk96d3hsbdfcjbr1qlmb80000gp/T/tmpw5dm66r_.lp\n",
      "Reading time = 0.01 seconds\n",
      ": 705 rows, 1319 columns, 8471 nonzeros\n",
      "Set parameter Username\n",
      "Academic license - for non-commercial use only - expires 2023-04-21\n",
      "Read LP format model from file /var/folders/85/n42jk96d3hsbdfcjbr1qlmb80000gp/T/tmpgiory126.lp\n",
      "Reading time = 0.01 seconds\n",
      ": 705 rows, 1319 columns, 8471 nonzeros\n",
      "Set parameter Username\n",
      "Academic license - for non-commercial use only - expires 2023-04-21\n",
      "Read LP format model from file /var/folders/85/n42jk96d3hsbdfcjbr1qlmb80000gp/T/tmpwje14kpe.lp\n",
      "Reading time = 0.01 seconds\n",
      ": 705 rows, 1319 columns, 8471 nonzeros\n",
      "Set parameter Username\n",
      "Academic license - for non-commercial use only - expires 2023-04-21\n",
      "Read LP format model from file /var/folders/85/n42jk96d3hsbdfcjbr1qlmb80000gp/T/tmp10j0l_i9.lp\n",
      "Reading time = 0.01 seconds\n",
      ": 705 rows, 1319 columns, 8471 nonzeros\n",
      "Set parameter Username\n",
      "Academic license - for non-commercial use only - expires 2023-04-21\n",
      "Read LP format model from file /var/folders/85/n42jk96d3hsbdfcjbr1qlmb80000gp/T/tmp139n9j_2.lp\n",
      "Reading time = 0.01 seconds\n",
      ": 705 rows, 1319 columns, 8471 nonzeros\n",
      "Set parameter Username\n",
      "Academic license - for non-commercial use only - expires 2023-04-21\n",
      "Read LP format model from file /var/folders/85/n42jk96d3hsbdfcjbr1qlmb80000gp/T/tmpazku0gtl.lp\n",
      "Reading time = 0.01 seconds\n",
      ": 705 rows, 1319 columns, 8471 nonzeros\n",
      "Set parameter Username\n",
      "Academic license - for non-commercial use only - expires 2023-04-21\n",
      "Read LP format model from file /var/folders/85/n42jk96d3hsbdfcjbr1qlmb80000gp/T/tmpg5jasgon.lp\n",
      "Reading time = 0.01 seconds\n",
      ": 705 rows, 1319 columns, 8471 nonzeros\n",
      "Set parameter Username\n",
      "Academic license - for non-commercial use only - expires 2023-04-21\n",
      "Read LP format model from file /var/folders/85/n42jk96d3hsbdfcjbr1qlmb80000gp/T/tmpdkutf2g3.lp\n",
      "Reading time = 0.01 seconds\n",
      ": 705 rows, 1319 columns, 8471 nonzeros\n",
      "Set parameter Username\n",
      "Academic license - for non-commercial use only - expires 2023-04-21\n",
      "Read LP format model from file /var/folders/85/n42jk96d3hsbdfcjbr1qlmb80000gp/T/tmpoj77iqaf.lp\n",
      "Reading time = 0.01 seconds\n",
      ": 705 rows, 1319 columns, 8471 nonzeros\n",
      "Set parameter Username\n",
      "Academic license - for non-commercial use only - expires 2023-04-21\n",
      "Read LP format model from file /var/folders/85/n42jk96d3hsbdfcjbr1qlmb80000gp/T/tmpkmg4me6a.lp\n",
      "Reading time = 0.01 seconds\n",
      ": 705 rows, 1319 columns, 8471 nonzeros\n",
      "Set parameter Username\n",
      "Academic license - for non-commercial use only - expires 2023-04-21\n",
      "Read LP format model from file /var/folders/85/n42jk96d3hsbdfcjbr1qlmb80000gp/T/tmpj3zl7bpk.lp\n",
      "Reading time = 0.01 seconds\n",
      ": 705 rows, 1319 columns, 8471 nonzeros\n",
      "Set parameter Username\n",
      "Academic license - for non-commercial use only - expires 2023-04-21\n",
      "Read LP format model from file /var/folders/85/n42jk96d3hsbdfcjbr1qlmb80000gp/T/tmpln4s4b4t.lp\n",
      "Reading time = 0.01 seconds\n",
      ": 705 rows, 1319 columns, 8471 nonzeros\n",
      "Set parameter Username\n",
      "Academic license - for non-commercial use only - expires 2023-04-21\n",
      "Read LP format model from file /var/folders/85/n42jk96d3hsbdfcjbr1qlmb80000gp/T/tmpiwzug0_w.lp\n",
      "Reading time = 0.01 seconds\n",
      ": 705 rows, 1319 columns, 8471 nonzeros\n",
      "Set parameter Username\n",
      "Academic license - for non-commercial use only - expires 2023-04-21\n",
      "Read LP format model from file /var/folders/85/n42jk96d3hsbdfcjbr1qlmb80000gp/T/tmp7b35rct9.lp\n",
      "Reading time = 0.03 seconds\n",
      ": 705 rows, 1319 columns, 8471 nonzeros\n",
      "\n",
      "Reactions pruned to 658 from 1323 (50.26% change)\n",
      "Metabolites pruned to 702 from 1243 (43.52% change)\n",
      "Flux through the objective DECREASED to ~123.31 from ~135.57 (9.04% change)\n",
      "Context-specific metabolism correlates with transcriptome (r=-0.122, p=0.002 *)\n",
      "\n",
      "RIPTiDe completed in, 1 minute and 38 seconds \n",
      "\n",
      "\n",
      "Initializing model and integrating transcriptomic data...\n",
      "Read LP format model from file /var/folders/85/n42jk96d3hsbdfcjbr1qlmb80000gp/T/tmpkvfx4use.lp\n",
      "Reading time = 0.02 seconds\n",
      ": 1243 rows, 2646 columns, 11514 nonzeros\n",
      "Pruning zero flux subnetworks...\n",
      "Read LP format model from file /var/folders/85/n42jk96d3hsbdfcjbr1qlmb80000gp/T/tmpsbc1098p.lp\n",
      "Reading time = 0.01 seconds\n",
      ": 1243 rows, 2646 columns, 11514 nonzeros\n"
     ]
    },
    {
     "name": "stderr",
     "output_type": "stream",
     "text": [
      "/Users/dap5mb/opt/anaconda3/lib/python3.8/site-packages/optlang/interface.py:1474: DeprecationWarning: Deprecated, pass a TempConstr or use Model.addLConstr\n",
      "  self._add_constraints(add_constr)\n"
     ]
    },
    {
     "name": "stdout",
     "output_type": "stream",
     "text": [
      "Read LP format model from file /var/folders/85/n42jk96d3hsbdfcjbr1qlmb80000gp/T/tmpk3pm0yw2.lp\n",
      "Reading time = 0.01 seconds\n",
      ": 1243 rows, 2646 columns, 11514 nonzeros\n"
     ]
    },
    {
     "name": "stderr",
     "output_type": "stream",
     "text": [
      "/Users/dap5mb/opt/anaconda3/lib/python3.8/site-packages/optlang/interface.py:1474: DeprecationWarning: Deprecated, pass a TempConstr or use Model.addLConstr\n",
      "  self._add_constraints(add_constr)\n"
     ]
    },
    {
     "name": "stdout",
     "output_type": "stream",
     "text": [
      "Read LP format model from file /var/folders/85/n42jk96d3hsbdfcjbr1qlmb80000gp/T/tmp5wd2cpoy.lp\n",
      "Reading time = 0.01 seconds\n",
      ": 1243 rows, 2646 columns, 11514 nonzeros\n"
     ]
    },
    {
     "name": "stderr",
     "output_type": "stream",
     "text": [
      "/Users/dap5mb/opt/anaconda3/lib/python3.8/site-packages/optlang/interface.py:1474: DeprecationWarning: Deprecated, pass a TempConstr or use Model.addLConstr\n",
      "  self._add_constraints(add_constr)\n"
     ]
    },
    {
     "name": "stdout",
     "output_type": "stream",
     "text": [
      "Analyzing context-specific flux distributions...\n",
      "Read LP format model from file /var/folders/85/n42jk96d3hsbdfcjbr1qlmb80000gp/T/tmpqwx78f8k.lp\n",
      "Reading time = 0.01 seconds\n",
      ": 677 rows, 1256 columns, 5552 nonzeros\n"
     ]
    },
    {
     "name": "stderr",
     "output_type": "stream",
     "text": [
      "/Users/dap5mb/opt/anaconda3/lib/python3.8/site-packages/optlang/interface.py:1474: DeprecationWarning: Deprecated, pass a TempConstr or use Model.addLConstr\n",
      "  self._add_constraints(add_constr)\n"
     ]
    },
    {
     "name": "stdout",
     "output_type": "stream",
     "text": [
      "Set parameter Username\n",
      "Academic license - for non-commercial use only - expires 2023-04-21\n",
      "Read LP format model from file /var/folders/85/n42jk96d3hsbdfcjbr1qlmb80000gp/T/tmpg27zrh15.lp\n",
      "Reading time = 0.01 seconds\n",
      ": 680 rows, 1259 columns, 8069 nonzeros\n",
      "Set parameter Username\n",
      "Academic license - for non-commercial use only - expires 2023-04-21\n",
      "Read LP format model from file /var/folders/85/n42jk96d3hsbdfcjbr1qlmb80000gp/T/tmp8_nvj6sf.lp\n",
      "Reading time = 0.01 seconds\n",
      ": 680 rows, 1259 columns, 8069 nonzeros\n",
      "Set parameter Username\n",
      "Academic license - for non-commercial use only - expires 2023-04-21\n",
      "Read LP format model from file /var/folders/85/n42jk96d3hsbdfcjbr1qlmb80000gp/T/tmpxzq6p64j.lp\n",
      "Reading time = 0.01 seconds\n",
      ": 680 rows, 1259 columns, 8069 nonzeros\n",
      "Set parameter Username\n",
      "Academic license - for non-commercial use only - expires 2023-04-21\n",
      "Read LP format model from file /var/folders/85/n42jk96d3hsbdfcjbr1qlmb80000gp/T/tmpzlvrx5qm.lp\n",
      "Reading time = 0.01 seconds\n",
      ": 680 rows, 1259 columns, 8069 nonzeros\n",
      "Set parameter Username\n",
      "Academic license - for non-commercial use only - expires 2023-04-21\n",
      "Read LP format model from file /var/folders/85/n42jk96d3hsbdfcjbr1qlmb80000gp/T/tmpelkudqq1.lp\n",
      "Reading time = 0.01 seconds\n",
      ": 680 rows, 1259 columns, 8069 nonzeros\n",
      "Set parameter Username\n",
      "Academic license - for non-commercial use only - expires 2023-04-21\n",
      "Read LP format model from file /var/folders/85/n42jk96d3hsbdfcjbr1qlmb80000gp/T/tmprmb6_7k5.lp\n",
      "Reading time = 0.01 seconds\n",
      ": 680 rows, 1259 columns, 8069 nonzeros\n",
      "Set parameter Username\n",
      "Academic license - for non-commercial use only - expires 2023-04-21\n",
      "Read LP format model from file /var/folders/85/n42jk96d3hsbdfcjbr1qlmb80000gp/T/tmpjogychtk.lp\n",
      "Reading time = 0.02 seconds\n",
      ": 680 rows, 1259 columns, 8069 nonzeros\n",
      "Set parameter Username\n",
      "Academic license - for non-commercial use only - expires 2023-04-21\n",
      "Read LP format model from file /var/folders/85/n42jk96d3hsbdfcjbr1qlmb80000gp/T/tmpr4lw3_nc.lp\n",
      "Reading time = 0.01 seconds\n",
      ": 680 rows, 1259 columns, 8069 nonzeros\n",
      "Set parameter Username\n",
      "Academic license - for non-commercial use only - expires 2023-04-21\n",
      "Read LP format model from file /var/folders/85/n42jk96d3hsbdfcjbr1qlmb80000gp/T/tmpf9eopptn.lp\n",
      "Reading time = 0.01 seconds\n",
      ": 680 rows, 1259 columns, 8069 nonzeros\n",
      "Set parameter Username\n",
      "Academic license - for non-commercial use only - expires 2023-04-21\n",
      "Read LP format model from file /var/folders/85/n42jk96d3hsbdfcjbr1qlmb80000gp/T/tmpeyrio4t7.lp\n",
      "Reading time = 0.01 seconds\n",
      ": 680 rows, 1259 columns, 8069 nonzeros\n",
      "Set parameter Username\n",
      "Academic license - for non-commercial use only - expires 2023-04-21\n",
      "Read LP format model from file /var/folders/85/n42jk96d3hsbdfcjbr1qlmb80000gp/T/tmplzxw26n6.lp\n",
      "Reading time = 0.01 seconds\n",
      ": 680 rows, 1259 columns, 8069 nonzeros\n",
      "Set parameter Username\n",
      "Academic license - for non-commercial use only - expires 2023-04-21\n",
      "Read LP format model from file /var/folders/85/n42jk96d3hsbdfcjbr1qlmb80000gp/T/tmputqzzc0j.lp\n",
      "Reading time = 0.01 seconds\n",
      ": 680 rows, 1259 columns, 8069 nonzeros\n",
      "Set parameter Username\n",
      "Academic license - for non-commercial use only - expires 2023-04-21\n",
      "Read LP format model from file /var/folders/85/n42jk96d3hsbdfcjbr1qlmb80000gp/T/tmp26xy2fhb.lp\n",
      "Reading time = 0.01 seconds\n",
      ": 680 rows, 1259 columns, 8069 nonzeros\n",
      "Set parameter Username\n",
      "Academic license - for non-commercial use only - expires 2023-04-21\n",
      "Read LP format model from file /var/folders/85/n42jk96d3hsbdfcjbr1qlmb80000gp/T/tmpfs7puqhu.lp\n",
      "Reading time = 0.02 seconds\n",
      ": 680 rows, 1259 columns, 8069 nonzeros\n"
     ]
    },
    {
     "name": "stderr",
     "output_type": "stream",
     "text": [
      "/Users/dap5mb/opt/anaconda3/lib/python3.8/site-packages/optlang/interface.py:1474: DeprecationWarning: Deprecated, pass a TempConstr or use Model.addLConstr\n",
      "  self._add_constraints(add_constr)\n"
     ]
    },
    {
     "name": "stdout",
     "output_type": "stream",
     "text": [
      "Set parameter Username\n",
      "Academic license - for non-commercial use only - expires 2023-04-21\n",
      "Read LP format model from file /var/folders/85/n42jk96d3hsbdfcjbr1qlmb80000gp/T/tmpdwnm42jx.lp\n",
      "Reading time = 0.01 seconds\n",
      ": 680 rows, 1259 columns, 8069 nonzeros\n",
      "Set parameter Username\n",
      "Academic license - for non-commercial use only - expires 2023-04-21\n",
      "Read LP format model from file /var/folders/85/n42jk96d3hsbdfcjbr1qlmb80000gp/T/tmpy2_cedsb.lp\n",
      "Reading time = 0.01 seconds\n",
      ": 680 rows, 1259 columns, 8069 nonzeros\n",
      "Set parameter Username\n",
      "Academic license - for non-commercial use only - expires 2023-04-21\n",
      "Read LP format model from file /var/folders/85/n42jk96d3hsbdfcjbr1qlmb80000gp/T/tmpr0jgct5i.lp\n",
      "Reading time = 0.01 seconds\n",
      ": 680 rows, 1259 columns, 8069 nonzeros\n",
      "Set parameter Username\n",
      "Academic license - for non-commercial use only - expires 2023-04-21\n",
      "Read LP format model from file /var/folders/85/n42jk96d3hsbdfcjbr1qlmb80000gp/T/tmpqdytlplx.lp\n",
      "Reading time = 0.01 seconds\n",
      ": 680 rows, 1259 columns, 8069 nonzeros\n",
      "Set parameter Username\n",
      "Academic license - for non-commercial use only - expires 2023-04-21\n",
      "Read LP format model from file /var/folders/85/n42jk96d3hsbdfcjbr1qlmb80000gp/T/tmp12ruwh3e.lp\n",
      "Reading time = 0.01 seconds\n",
      ": 680 rows, 1259 columns, 8069 nonzeros\n",
      "Set parameter Username\n",
      "Academic license - for non-commercial use only - expires 2023-04-21\n",
      "Read LP format model from file /var/folders/85/n42jk96d3hsbdfcjbr1qlmb80000gp/T/tmp11fku2ih.lp\n",
      "Reading time = 0.01 seconds\n",
      ": 680 rows, 1259 columns, 8069 nonzeros\n",
      "Set parameter Username\n",
      "Academic license - for non-commercial use only - expires 2023-04-21\n",
      "Read LP format model from file /var/folders/85/n42jk96d3hsbdfcjbr1qlmb80000gp/T/tmphvgrpvxx.lp\n",
      "Reading time = 0.01 seconds\n",
      ": 680 rows, 1259 columns, 8069 nonzeros\n",
      "Set parameter Username\n",
      "Academic license - for non-commercial use only - expires 2023-04-21\n",
      "Read LP format model from file /var/folders/85/n42jk96d3hsbdfcjbr1qlmb80000gp/T/tmpvzfudv36.lp\n",
      "Reading time = 0.01 seconds\n",
      ": 680 rows, 1259 columns, 8069 nonzeros\n",
      "Set parameter Username\n",
      "Academic license - for non-commercial use only - expires 2023-04-21\n",
      "Read LP format model from file /var/folders/85/n42jk96d3hsbdfcjbr1qlmb80000gp/T/tmpkfpk14ic.lp\n",
      "Reading time = 0.01 seconds\n",
      ": 680 rows, 1259 columns, 8069 nonzeros\n",
      "Set parameter Username\n",
      "Academic license - for non-commercial use only - expires 2023-04-21\n",
      "Read LP format model from file /var/folders/85/n42jk96d3hsbdfcjbr1qlmb80000gp/T/tmpp9po7azp.lp\n",
      "Reading time = 0.01 seconds\n",
      ": 680 rows, 1259 columns, 8069 nonzeros\n",
      "Set parameter Username\n",
      "Academic license - for non-commercial use only - expires 2023-04-21\n",
      "Read LP format model from file /var/folders/85/n42jk96d3hsbdfcjbr1qlmb80000gp/T/tmps28mcycg.lp\n",
      "Reading time = 0.01 seconds\n",
      ": 680 rows, 1259 columns, 8069 nonzeros\n",
      "Set parameter Username\n",
      "Academic license - for non-commercial use only - expires 2023-04-21\n",
      "Read LP format model from file /var/folders/85/n42jk96d3hsbdfcjbr1qlmb80000gp/T/tmp0wadhlu5.lp\n",
      "Reading time = 0.01 seconds\n",
      ": 680 rows, 1259 columns, 8069 nonzeros\n",
      "Set parameter Username\n",
      "Academic license - for non-commercial use only - expires 2023-04-21\n",
      "Read LP format model from file /var/folders/85/n42jk96d3hsbdfcjbr1qlmb80000gp/T/tmpop396108.lp\n",
      "Reading time = 0.01 seconds\n",
      ": 680 rows, 1259 columns, 8069 nonzeros\n",
      "Set parameter Username\n",
      "Academic license - for non-commercial use only - expires 2023-04-21\n",
      "Read LP format model from file /var/folders/85/n42jk96d3hsbdfcjbr1qlmb80000gp/T/tmpvk2wq368.lp\n",
      "Reading time = 0.01 seconds\n",
      ": 680 rows, 1259 columns, 8069 nonzeros\n",
      "\n",
      "Reactions pruned to 628 from 1323 (52.53% change)\n",
      "Metabolites pruned to 677 from 1243 (45.53% change)\n",
      "Flux through the objective DECREASED to ~114.47 from ~135.57 (15.56% change)\n",
      "Context-specific metabolism does not correlate with transcriptome (r=-0.01, n.s.)\n",
      "\n",
      "RIPTiDe completed in, 1 minute and 36 seconds \n",
      "\n"
     ]
    }
   ],
   "source": [
    "rip_hife = riptide.contextualize(model=model, conservative=True, transcriptome=hife)\n",
    "rip_lofe = riptide.contextualize(model=model, conservative=True, transcriptome=lofe, samples=500)"
   ]
  },
  {
   "cell_type": "markdown",
   "id": "15acaa46-2390-4ae4-8a04-f9c50828bcd2",
   "metadata": {},
   "source": [
    "### GSE173804"
   ]
  },
  {
   "cell_type": "code",
   "execution_count": 7,
   "id": "32aead88-46b0-4a16-970d-8a74c248c89f",
   "metadata": {},
   "outputs": [],
   "source": [
    "anaero = riptide.read_transcription_file('../data/counts/gse173804_anaerobic.tsv') # raw counts\n",
    "microaer = riptide.read_transcription_file('../data/counts/gse173804_microaerobic.tsv') # raw counts"
   ]
  },
  {
   "cell_type": "code",
   "execution_count": 8,
   "id": "14e5c7ce-35f9-4127-8e11-d0552ff6dec3",
   "metadata": {
    "tags": []
   },
   "outputs": [
    {
     "name": "stdout",
     "output_type": "stream",
     "text": [
      "\n",
      "Initializing model and integrating transcriptomic data...\n",
      "Read LP format model from file /var/folders/85/n42jk96d3hsbdfcjbr1qlmb80000gp/T/tmpkwow94xy.lp\n",
      "Reading time = 0.01 seconds\n",
      ": 1243 rows, 2646 columns, 11514 nonzeros\n",
      "Pruning zero flux subnetworks...\n",
      "Read LP format model from file /var/folders/85/n42jk96d3hsbdfcjbr1qlmb80000gp/T/tmpirr_avy_.lp\n",
      "Reading time = 0.01 seconds\n",
      ": 1243 rows, 2646 columns, 11514 nonzeros\n"
     ]
    },
    {
     "name": "stderr",
     "output_type": "stream",
     "text": [
      "/Users/dap5mb/opt/anaconda3/lib/python3.8/site-packages/optlang/interface.py:1474: DeprecationWarning: Deprecated, pass a TempConstr or use Model.addLConstr\n",
      "  self._add_constraints(add_constr)\n"
     ]
    },
    {
     "name": "stdout",
     "output_type": "stream",
     "text": [
      "Read LP format model from file /var/folders/85/n42jk96d3hsbdfcjbr1qlmb80000gp/T/tmpt2n4ocvw.lp\n",
      "Reading time = 0.01 seconds\n",
      ": 1243 rows, 2646 columns, 11514 nonzeros\n"
     ]
    },
    {
     "name": "stderr",
     "output_type": "stream",
     "text": [
      "/Users/dap5mb/opt/anaconda3/lib/python3.8/site-packages/optlang/interface.py:1474: DeprecationWarning: Deprecated, pass a TempConstr or use Model.addLConstr\n",
      "  self._add_constraints(add_constr)\n"
     ]
    },
    {
     "name": "stdout",
     "output_type": "stream",
     "text": [
      "Read LP format model from file /var/folders/85/n42jk96d3hsbdfcjbr1qlmb80000gp/T/tmpd8tyd8i9.lp\n",
      "Reading time = 0.01 seconds\n",
      ": 1243 rows, 2646 columns, 11514 nonzeros\n"
     ]
    },
    {
     "name": "stderr",
     "output_type": "stream",
     "text": [
      "/Users/dap5mb/opt/anaconda3/lib/python3.8/site-packages/optlang/interface.py:1474: DeprecationWarning: Deprecated, pass a TempConstr or use Model.addLConstr\n",
      "  self._add_constraints(add_constr)\n"
     ]
    },
    {
     "name": "stdout",
     "output_type": "stream",
     "text": [
      "Analyzing context-specific flux distributions...\n",
      "Read LP format model from file /var/folders/85/n42jk96d3hsbdfcjbr1qlmb80000gp/T/tmpounzv_zr.lp\n",
      "Reading time = 0.01 seconds\n",
      ": 674 rows, 1238 columns, 5564 nonzeros\n"
     ]
    },
    {
     "name": "stderr",
     "output_type": "stream",
     "text": [
      "/Users/dap5mb/opt/anaconda3/lib/python3.8/site-packages/optlang/interface.py:1474: DeprecationWarning: Deprecated, pass a TempConstr or use Model.addLConstr\n",
      "  self._add_constraints(add_constr)\n"
     ]
    },
    {
     "name": "stdout",
     "output_type": "stream",
     "text": [
      "Set parameter Username\n",
      "Academic license - for non-commercial use only - expires 2023-04-21\n",
      "Read LP format model from file /var/folders/85/n42jk96d3hsbdfcjbr1qlmb80000gp/T/tmp0it81xg9.lp\n",
      "Reading time = 0.01 seconds\n",
      ": 677 rows, 1241 columns, 8045 nonzeros\n",
      "Set parameter Username\n",
      "Academic license - for non-commercial use only - expires 2023-04-21\n",
      "Read LP format model from file /var/folders/85/n42jk96d3hsbdfcjbr1qlmb80000gp/T/tmp24ghnkab.lp\n",
      "Reading time = 0.01 seconds\n",
      ": 677 rows, 1241 columns, 8045 nonzeros\n",
      "Set parameter Username\n",
      "Academic license - for non-commercial use only - expires 2023-04-21\n",
      "Read LP format model from file /var/folders/85/n42jk96d3hsbdfcjbr1qlmb80000gp/T/tmp06zkzj0h.lp\n",
      "Reading time = 0.01 seconds\n",
      ": 677 rows, 1241 columns, 8045 nonzeros\n",
      "Set parameter Username\n",
      "Academic license - for non-commercial use only - expires 2023-04-21\n",
      "Read LP format model from file /var/folders/85/n42jk96d3hsbdfcjbr1qlmb80000gp/T/tmpb4795_y7.lp\n",
      "Reading time = 0.01 seconds\n",
      ": 677 rows, 1241 columns, 8045 nonzeros\n",
      "Set parameter Username\n",
      "Academic license - for non-commercial use only - expires 2023-04-21\n",
      "Read LP format model from file /var/folders/85/n42jk96d3hsbdfcjbr1qlmb80000gp/T/tmpe4em981f.lp\n",
      "Reading time = 0.01 seconds\n",
      ": 677 rows, 1241 columns, 8045 nonzeros\n",
      "Set parameter Username\n",
      "Academic license - for non-commercial use only - expires 2023-04-21\n",
      "Read LP format model from file /var/folders/85/n42jk96d3hsbdfcjbr1qlmb80000gp/T/tmp9h_n3t6e.lp\n",
      "Reading time = 0.01 seconds\n",
      ": 677 rows, 1241 columns, 8045 nonzeros\n",
      "Set parameter Username\n",
      "Academic license - for non-commercial use only - expires 2023-04-21\n",
      "Read LP format model from file /var/folders/85/n42jk96d3hsbdfcjbr1qlmb80000gp/T/tmpecyrbsrf.lp\n",
      "Reading time = 0.02 seconds\n",
      ": 677 rows, 1241 columns, 8045 nonzeros\n",
      "Set parameter Username\n",
      "Academic license - for non-commercial use only - expires 2023-04-21\n",
      "Read LP format model from file /var/folders/85/n42jk96d3hsbdfcjbr1qlmb80000gp/T/tmpq2g6f27b.lp\n",
      "Reading time = 0.01 seconds\n",
      ": 677 rows, 1241 columns, 8045 nonzeros\n",
      "Set parameter Username\n",
      "Academic license - for non-commercial use only - expires 2023-04-21\n",
      "Read LP format model from file /var/folders/85/n42jk96d3hsbdfcjbr1qlmb80000gp/T/tmplqwktqq4.lp\n",
      "Reading time = 0.01 seconds\n",
      ": 677 rows, 1241 columns, 8045 nonzeros\n",
      "Set parameter Username\n",
      "Academic license - for non-commercial use only - expires 2023-04-21\n",
      "Read LP format model from file /var/folders/85/n42jk96d3hsbdfcjbr1qlmb80000gp/T/tmpsxqihlvn.lp\n",
      "Reading time = 0.01 seconds\n",
      ": 677 rows, 1241 columns, 8045 nonzeros\n",
      "Set parameter Username\n",
      "Academic license - for non-commercial use only - expires 2023-04-21\n",
      "Read LP format model from file /var/folders/85/n42jk96d3hsbdfcjbr1qlmb80000gp/T/tmp6e1yai4m.lp\n",
      "Reading time = 0.01 seconds\n",
      ": 677 rows, 1241 columns, 8045 nonzeros\n",
      "Set parameter Username\n",
      "Academic license - for non-commercial use only - expires 2023-04-21\n",
      "Read LP format model from file /var/folders/85/n42jk96d3hsbdfcjbr1qlmb80000gp/T/tmphp_zy5oa.lp\n",
      "Reading time = 0.01 seconds\n",
      ": 677 rows, 1241 columns, 8045 nonzeros\n",
      "Set parameter Username\n",
      "Academic license - for non-commercial use only - expires 2023-04-21\n",
      "Read LP format model from file /var/folders/85/n42jk96d3hsbdfcjbr1qlmb80000gp/T/tmpb8unyt5g.lp\n",
      "Reading time = 0.01 seconds\n",
      ": 677 rows, 1241 columns, 8045 nonzeros\n",
      "Set parameter Username\n",
      "Academic license - for non-commercial use only - expires 2023-04-21\n",
      "Read LP format model from file /var/folders/85/n42jk96d3hsbdfcjbr1qlmb80000gp/T/tmplwsryxe3.lp\n",
      "Reading time = 0.01 seconds\n",
      ": 677 rows, 1241 columns, 8045 nonzeros\n"
     ]
    },
    {
     "name": "stderr",
     "output_type": "stream",
     "text": [
      "/Users/dap5mb/opt/anaconda3/lib/python3.8/site-packages/optlang/interface.py:1474: DeprecationWarning: Deprecated, pass a TempConstr or use Model.addLConstr\n",
      "  self._add_constraints(add_constr)\n"
     ]
    },
    {
     "name": "stdout",
     "output_type": "stream",
     "text": [
      "Set parameter Username\n",
      "Academic license - for non-commercial use only - expires 2023-04-21\n",
      "Read LP format model from file /var/folders/85/n42jk96d3hsbdfcjbr1qlmb80000gp/T/tmp5c3bx0th.lp\n",
      "Reading time = 0.01 seconds\n",
      ": 677 rows, 1241 columns, 8045 nonzeros\n",
      "Set parameter Username\n",
      "Academic license - for non-commercial use only - expires 2023-04-21\n",
      "Read LP format model from file /var/folders/85/n42jk96d3hsbdfcjbr1qlmb80000gp/T/tmpgeaqwvte.lp\n",
      "Reading time = 0.01 seconds\n",
      ": 677 rows, 1241 columns, 8045 nonzeros\n",
      "Set parameter Username\n",
      "Academic license - for non-commercial use only - expires 2023-04-21\n",
      "Read LP format model from file /var/folders/85/n42jk96d3hsbdfcjbr1qlmb80000gp/T/tmpjnc296xd.lp\n",
      "Reading time = 0.01 seconds\n",
      ": 677 rows, 1241 columns, 8045 nonzeros\n",
      "Set parameter Username\n",
      "Academic license - for non-commercial use only - expires 2023-04-21\n",
      "Read LP format model from file /var/folders/85/n42jk96d3hsbdfcjbr1qlmb80000gp/T/tmp2dddyca9.lp\n",
      "Reading time = 0.01 seconds\n",
      ": 677 rows, 1241 columns, 8045 nonzeros\n",
      "Set parameter Username\n",
      "Academic license - for non-commercial use only - expires 2023-04-21\n",
      "Read LP format model from file /var/folders/85/n42jk96d3hsbdfcjbr1qlmb80000gp/T/tmp47br2a0v.lp\n",
      "Reading time = 0.01 seconds\n",
      ": 677 rows, 1241 columns, 8045 nonzeros\n",
      "Set parameter Username\n",
      "Academic license - for non-commercial use only - expires 2023-04-21\n",
      "Read LP format model from file /var/folders/85/n42jk96d3hsbdfcjbr1qlmb80000gp/T/tmpf1koh44j.lp\n",
      "Reading time = 0.01 seconds\n",
      ": 677 rows, 1241 columns, 8045 nonzeros\n",
      "Set parameter Username\n",
      "Academic license - for non-commercial use only - expires 2023-04-21\n",
      "Read LP format model from file /var/folders/85/n42jk96d3hsbdfcjbr1qlmb80000gp/T/tmpm11u5qxx.lp\n",
      "Reading time = 0.01 seconds\n",
      ": 677 rows, 1241 columns, 8045 nonzeros\n",
      "Set parameter Username\n",
      "Academic license - for non-commercial use only - expires 2023-04-21\n",
      "Read LP format model from file /var/folders/85/n42jk96d3hsbdfcjbr1qlmb80000gp/T/tmpo6cg064b.lp\n",
      "Reading time = 0.01 seconds\n",
      ": 677 rows, 1241 columns, 8045 nonzeros\n",
      "Set parameter Username\n",
      "Academic license - for non-commercial use only - expires 2023-04-21\n",
      "Read LP format model from file /var/folders/85/n42jk96d3hsbdfcjbr1qlmb80000gp/T/tmp112_7sax.lp\n",
      "Reading time = 0.01 seconds\n",
      ": 677 rows, 1241 columns, 8045 nonzeros\n",
      "Set parameter Username\n",
      "Academic license - for non-commercial use only - expires 2023-04-21\n",
      "Read LP format model from file /var/folders/85/n42jk96d3hsbdfcjbr1qlmb80000gp/T/tmp4yuo4qaw.lp\n",
      "Reading time = 0.01 seconds\n",
      ": 677 rows, 1241 columns, 8045 nonzeros\n",
      "Set parameter Username\n",
      "Academic license - for non-commercial use only - expires 2023-04-21\n",
      "Read LP format model from file /var/folders/85/n42jk96d3hsbdfcjbr1qlmb80000gp/T/tmphbwazczg.lp\n",
      "Reading time = 0.01 seconds\n",
      ": 677 rows, 1241 columns, 8045 nonzeros\n",
      "Set parameter Username\n",
      "Academic license - for non-commercial use only - expires 2023-04-21\n",
      "Read LP format model from file /var/folders/85/n42jk96d3hsbdfcjbr1qlmb80000gp/T/tmpu2en3sum.lp\n",
      "Reading time = 0.01 seconds\n",
      ": 677 rows, 1241 columns, 8045 nonzeros\n",
      "Set parameter Username\n",
      "Academic license - for non-commercial use only - expires 2023-04-21\n",
      "Read LP format model from file /var/folders/85/n42jk96d3hsbdfcjbr1qlmb80000gp/T/tmpe_zypbt2.lp\n",
      "Reading time = 0.01 seconds\n",
      ": 677 rows, 1241 columns, 8045 nonzeros\n",
      "Set parameter Username\n",
      "Academic license - for non-commercial use only - expires 2023-04-21\n",
      "Read LP format model from file /var/folders/85/n42jk96d3hsbdfcjbr1qlmb80000gp/T/tmp239_q6fe.lp\n",
      "Reading time = 0.01 seconds\n",
      ": 677 rows, 1241 columns, 8045 nonzeros\n",
      "\n",
      "Reactions pruned to 619 from 1323 (53.21% change)\n",
      "Metabolites pruned to 674 from 1243 (45.78% change)\n",
      "Flux through the objective DECREASED to ~118.17 from ~135.57 (12.83% change)\n",
      "Context-specific metabolism does not correlate with transcriptome (r=0.003, n.s.)\n",
      "\n",
      "RIPTiDe completed in, 1 minute and 37 seconds \n",
      "\n",
      "\n",
      "Initializing model and integrating transcriptomic data...\n",
      "Read LP format model from file /var/folders/85/n42jk96d3hsbdfcjbr1qlmb80000gp/T/tmpu8as9j00.lp\n",
      "Reading time = 0.01 seconds\n",
      ": 1243 rows, 2646 columns, 11514 nonzeros\n",
      "Pruning zero flux subnetworks...\n",
      "Read LP format model from file /var/folders/85/n42jk96d3hsbdfcjbr1qlmb80000gp/T/tmpi6sedun6.lp\n",
      "Reading time = 0.01 seconds\n",
      ": 1243 rows, 2646 columns, 11514 nonzeros\n"
     ]
    },
    {
     "name": "stderr",
     "output_type": "stream",
     "text": [
      "/Users/dap5mb/opt/anaconda3/lib/python3.8/site-packages/optlang/interface.py:1474: DeprecationWarning: Deprecated, pass a TempConstr or use Model.addLConstr\n",
      "  self._add_constraints(add_constr)\n"
     ]
    },
    {
     "name": "stdout",
     "output_type": "stream",
     "text": [
      "Read LP format model from file /var/folders/85/n42jk96d3hsbdfcjbr1qlmb80000gp/T/tmpounjmml8.lp\n",
      "Reading time = 0.01 seconds\n",
      ": 1243 rows, 2646 columns, 11514 nonzeros\n"
     ]
    },
    {
     "name": "stderr",
     "output_type": "stream",
     "text": [
      "/Users/dap5mb/opt/anaconda3/lib/python3.8/site-packages/optlang/interface.py:1474: DeprecationWarning: Deprecated, pass a TempConstr or use Model.addLConstr\n",
      "  self._add_constraints(add_constr)\n"
     ]
    },
    {
     "name": "stdout",
     "output_type": "stream",
     "text": [
      "Read LP format model from file /var/folders/85/n42jk96d3hsbdfcjbr1qlmb80000gp/T/tmpkaw6zrrg.lp\n",
      "Reading time = 0.01 seconds\n",
      ": 1243 rows, 2646 columns, 11514 nonzeros\n"
     ]
    },
    {
     "name": "stderr",
     "output_type": "stream",
     "text": [
      "/Users/dap5mb/opt/anaconda3/lib/python3.8/site-packages/optlang/interface.py:1474: DeprecationWarning: Deprecated, pass a TempConstr or use Model.addLConstr\n",
      "  self._add_constraints(add_constr)\n"
     ]
    },
    {
     "name": "stdout",
     "output_type": "stream",
     "text": [
      "Analyzing context-specific flux distributions...\n",
      "Read LP format model from file /var/folders/85/n42jk96d3hsbdfcjbr1qlmb80000gp/T/tmpm9_axxyl.lp\n",
      "Reading time = 0.01 seconds\n",
      ": 678 rows, 1250 columns, 5632 nonzeros\n"
     ]
    },
    {
     "name": "stderr",
     "output_type": "stream",
     "text": [
      "/Users/dap5mb/opt/anaconda3/lib/python3.8/site-packages/optlang/interface.py:1474: DeprecationWarning: Deprecated, pass a TempConstr or use Model.addLConstr\n",
      "  self._add_constraints(add_constr)\n"
     ]
    },
    {
     "name": "stdout",
     "output_type": "stream",
     "text": [
      "Set parameter Username\n",
      "Academic license - for non-commercial use only - expires 2023-04-21\n",
      "Read LP format model from file /var/folders/85/n42jk96d3hsbdfcjbr1qlmb80000gp/T/tmpp_fgas3l.lp\n",
      "Reading time = 0.01 seconds\n",
      ": 681 rows, 1253 columns, 8137 nonzeros\n",
      "Set parameter Username\n",
      "Academic license - for non-commercial use only - expires 2023-04-21\n",
      "Read LP format model from file /var/folders/85/n42jk96d3hsbdfcjbr1qlmb80000gp/T/tmp2fjuqnx1.lp\n",
      "Reading time = 0.01 seconds\n",
      ": 681 rows, 1253 columns, 8137 nonzeros\n",
      "Set parameter Username\n",
      "Academic license - for non-commercial use only - expires 2023-04-21\n",
      "Read LP format model from file /var/folders/85/n42jk96d3hsbdfcjbr1qlmb80000gp/T/tmpdmhdfner.lp\n",
      "Reading time = 0.01 seconds\n",
      ": 681 rows, 1253 columns, 8137 nonzeros\n",
      "Set parameter Username\n",
      "Academic license - for non-commercial use only - expires 2023-04-21\n",
      "Read LP format model from file /var/folders/85/n42jk96d3hsbdfcjbr1qlmb80000gp/T/tmpah22bcx7.lp\n",
      "Reading time = 0.01 seconds\n",
      ": 681 rows, 1253 columns, 8137 nonzeros\n",
      "Set parameter Username\n",
      "Academic license - for non-commercial use only - expires 2023-04-21\n",
      "Read LP format model from file /var/folders/85/n42jk96d3hsbdfcjbr1qlmb80000gp/T/tmpmkok2y5p.lp\n",
      "Reading time = 0.01 seconds\n",
      ": 681 rows, 1253 columns, 8137 nonzeros\n",
      "Set parameter Username\n",
      "Academic license - for non-commercial use only - expires 2023-04-21\n",
      "Read LP format model from file /var/folders/85/n42jk96d3hsbdfcjbr1qlmb80000gp/T/tmpuivxugn0.lp\n",
      "Reading time = 0.01 seconds\n",
      ": 681 rows, 1253 columns, 8137 nonzeros\n",
      "Set parameter Username\n",
      "Academic license - for non-commercial use only - expires 2023-04-21\n",
      "Read LP format model from file /var/folders/85/n42jk96d3hsbdfcjbr1qlmb80000gp/T/tmpqahkjd6a.lp\n",
      "Reading time = 0.01 seconds\n",
      ": 681 rows, 1253 columns, 8137 nonzeros\n",
      "Set parameter Username\n",
      "Academic license - for non-commercial use only - expires 2023-04-21\n",
      "Read LP format model from file /var/folders/85/n42jk96d3hsbdfcjbr1qlmb80000gp/T/tmpg0metvdy.lp\n",
      "Reading time = 0.01 seconds\n",
      ": 681 rows, 1253 columns, 8137 nonzeros\n",
      "Set parameter Username\n",
      "Academic license - for non-commercial use only - expires 2023-04-21\n",
      "Read LP format model from file /var/folders/85/n42jk96d3hsbdfcjbr1qlmb80000gp/T/tmpxa1hhw3z.lp\n",
      "Reading time = 0.01 seconds\n",
      ": 681 rows, 1253 columns, 8137 nonzeros\n",
      "Set parameter Username\n",
      "Academic license - for non-commercial use only - expires 2023-04-21\n",
      "Read LP format model from file /var/folders/85/n42jk96d3hsbdfcjbr1qlmb80000gp/T/tmpaghmlszr.lp\n",
      "Reading time = 0.01 seconds\n",
      ": 681 rows, 1253 columns, 8137 nonzeros\n",
      "Set parameter Username\n",
      "Academic license - for non-commercial use only - expires 2023-04-21\n",
      "Read LP format model from file /var/folders/85/n42jk96d3hsbdfcjbr1qlmb80000gp/T/tmpyv875haa.lp\n",
      "Reading time = 0.01 seconds\n",
      ": 681 rows, 1253 columns, 8137 nonzeros\n",
      "Set parameter Username\n",
      "Academic license - for non-commercial use only - expires 2023-04-21\n",
      "Read LP format model from file /var/folders/85/n42jk96d3hsbdfcjbr1qlmb80000gp/T/tmp5h6g1qw5.lp\n",
      "Reading time = 0.01 seconds\n",
      ": 681 rows, 1253 columns, 8137 nonzeros\n",
      "Set parameter Username\n",
      "Academic license - for non-commercial use only - expires 2023-04-21\n",
      "Read LP format model from file /var/folders/85/n42jk96d3hsbdfcjbr1qlmb80000gp/T/tmpjl9ad_7n.lp\n",
      "Reading time = 0.01 seconds\n",
      ": 681 rows, 1253 columns, 8137 nonzeros\n",
      "Set parameter Username\n",
      "Academic license - for non-commercial use only - expires 2023-04-21\n",
      "Read LP format model from file /var/folders/85/n42jk96d3hsbdfcjbr1qlmb80000gp/T/tmpcnfy5ik_.lp\n",
      "Reading time = 0.01 seconds\n",
      ": 681 rows, 1253 columns, 8137 nonzeros\n"
     ]
    },
    {
     "name": "stderr",
     "output_type": "stream",
     "text": [
      "/Users/dap5mb/opt/anaconda3/lib/python3.8/site-packages/optlang/interface.py:1474: DeprecationWarning: Deprecated, pass a TempConstr or use Model.addLConstr\n",
      "  self._add_constraints(add_constr)\n"
     ]
    },
    {
     "name": "stdout",
     "output_type": "stream",
     "text": [
      "Set parameter Username\n",
      "Academic license - for non-commercial use only - expires 2023-04-21\n",
      "Read LP format model from file /var/folders/85/n42jk96d3hsbdfcjbr1qlmb80000gp/T/tmpl5yp_mxh.lp\n",
      "Reading time = 0.01 seconds\n",
      ": 681 rows, 1253 columns, 8137 nonzeros\n",
      "Set parameter Username\n",
      "Academic license - for non-commercial use only - expires 2023-04-21\n",
      "Read LP format model from file /var/folders/85/n42jk96d3hsbdfcjbr1qlmb80000gp/T/tmpnuiouoqv.lp\n",
      "Reading time = 0.01 seconds\n",
      ": 681 rows, 1253 columns, 8137 nonzeros\n",
      "Set parameter Username\n",
      "Academic license - for non-commercial use only - expires 2023-04-21\n",
      "Read LP format model from file /var/folders/85/n42jk96d3hsbdfcjbr1qlmb80000gp/T/tmpawjpcaow.lp\n",
      "Reading time = 0.01 seconds\n",
      ": 681 rows, 1253 columns, 8137 nonzeros\n",
      "Set parameter Username\n",
      "Academic license - for non-commercial use only - expires 2023-04-21\n",
      "Read LP format model from file /var/folders/85/n42jk96d3hsbdfcjbr1qlmb80000gp/T/tmp8f05tadk.lp\n",
      "Reading time = 0.01 seconds\n",
      ": 681 rows, 1253 columns, 8137 nonzeros\n",
      "Set parameter Username\n",
      "Academic license - for non-commercial use only - expires 2023-04-21\n",
      "Read LP format model from file /var/folders/85/n42jk96d3hsbdfcjbr1qlmb80000gp/T/tmpgs6ux_wq.lp\n",
      "Reading time = 0.01 seconds\n",
      ": 681 rows, 1253 columns, 8137 nonzeros\n",
      "Set parameter Username\n",
      "Academic license - for non-commercial use only - expires 2023-04-21\n",
      "Read LP format model from file /var/folders/85/n42jk96d3hsbdfcjbr1qlmb80000gp/T/tmpt0dy1_yh.lp\n",
      "Reading time = 0.01 seconds\n",
      ": 681 rows, 1253 columns, 8137 nonzeros\n",
      "Set parameter Username\n",
      "Academic license - for non-commercial use only - expires 2023-04-21\n",
      "Read LP format model from file /var/folders/85/n42jk96d3hsbdfcjbr1qlmb80000gp/T/tmpb6mx3nxq.lp\n",
      "Reading time = 0.01 seconds\n",
      ": 681 rows, 1253 columns, 8137 nonzeros\n",
      "Set parameter Username\n",
      "Academic license - for non-commercial use only - expires 2023-04-21\n",
      "Read LP format model from file /var/folders/85/n42jk96d3hsbdfcjbr1qlmb80000gp/T/tmp4hnjzx9q.lp\n",
      "Reading time = 0.01 seconds\n",
      ": 681 rows, 1253 columns, 8137 nonzeros\n",
      "Set parameter Username\n",
      "Academic license - for non-commercial use only - expires 2023-04-21\n",
      "Read LP format model from file /var/folders/85/n42jk96d3hsbdfcjbr1qlmb80000gp/T/tmpihcld2hb.lp\n",
      "Reading time = 0.01 seconds\n",
      ": 681 rows, 1253 columns, 8137 nonzeros\n",
      "Set parameter Username\n",
      "Academic license - for non-commercial use only - expires 2023-04-21\n",
      "Read LP format model from file /var/folders/85/n42jk96d3hsbdfcjbr1qlmb80000gp/T/tmpvebzb36_.lp\n",
      "Reading time = 0.01 seconds\n",
      ": 681 rows, 1253 columns, 8137 nonzeros\n",
      "Set parameter Username\n",
      "Academic license - for non-commercial use only - expires 2023-04-21\n",
      "Read LP format model from file /var/folders/85/n42jk96d3hsbdfcjbr1qlmb80000gp/T/tmpsutjz22d.lp\n",
      "Reading time = 0.01 seconds\n",
      ": 681 rows, 1253 columns, 8137 nonzeros\n",
      "Set parameter Username\n",
      "Academic license - for non-commercial use only - expires 2023-04-21\n",
      "Read LP format model from file /var/folders/85/n42jk96d3hsbdfcjbr1qlmb80000gp/T/tmpbqiksao6.lp\n",
      "Reading time = 0.01 seconds\n",
      ": 681 rows, 1253 columns, 8137 nonzeros\n",
      "Set parameter Username\n",
      "Academic license - for non-commercial use only - expires 2023-04-21\n",
      "Read LP format model from file /var/folders/85/n42jk96d3hsbdfcjbr1qlmb80000gp/T/tmpxl66em8g.lp\n",
      "Reading time = 0.01 seconds\n",
      ": 681 rows, 1253 columns, 8137 nonzeros\n",
      "Set parameter Username\n",
      "Academic license - for non-commercial use only - expires 2023-04-21\n",
      "Read LP format model from file /var/folders/85/n42jk96d3hsbdfcjbr1qlmb80000gp/T/tmp5j4t46vx.lp\n",
      "Reading time = 0.01 seconds\n",
      ": 681 rows, 1253 columns, 8137 nonzeros\n",
      "\n",
      "Reactions pruned to 625 from 1323 (52.76% change)\n",
      "Metabolites pruned to 678 from 1243 (45.45% change)\n",
      "Flux through the objective DECREASED to ~117.39 from ~135.57 (13.41% change)\n",
      "Context-specific metabolism does not correlate with transcriptome (r=-0.039, n.s.)\n",
      "\n",
      "RIPTiDe completed in, 1 minute and 37 seconds \n",
      "\n"
     ]
    }
   ],
   "source": [
    "rip_anaero = riptide.contextualize(model=model, transcriptome=anaero, conservative=True)\n",
    "rip_microaer = riptide.contextualize(model=model, transcriptome=microaer,  conservative=True, samples=500)"
   ]
  },
  {
   "cell_type": "code",
   "execution_count": null,
   "id": "31b3a149-e370-4b53-a939-2fd8a1226abd",
   "metadata": {
    "tags": []
   },
   "outputs": [],
   "source": []
  },
  {
   "cell_type": "markdown",
   "id": "b8bd94f5-5433-4c7e-88ce-94a3177e6c2c",
   "metadata": {},
   "source": [
    "### GSE165116"
   ]
  },
  {
   "cell_type": "code",
   "execution_count": 9,
   "id": "a2f02d67-d5ac-4d94-bbce-44ef7c35bf6f",
   "metadata": {},
   "outputs": [],
   "source": [
    "bhis = riptide.read_transcription_file('../data/counts/gse165116_bhis9h.tsv', norm=False) # Already normalized\n",
    "d120 = riptide.read_transcription_file('../data/counts/gse165116_D1209h.tsv', norm=False) # Already normalized\n",
    "d240 = riptide.read_transcription_file('../data/counts/gse165116_D2409h.tsv', norm=False) # Already normalized"
   ]
  },
  {
   "cell_type": "code",
   "execution_count": 10,
   "id": "44a4ef31-150c-4ff4-982d-fd26053dd22c",
   "metadata": {
    "tags": []
   },
   "outputs": [
    {
     "name": "stdout",
     "output_type": "stream",
     "text": [
      "\n",
      "Initializing model and integrating transcriptomic data...\n",
      "Read LP format model from file /var/folders/85/n42jk96d3hsbdfcjbr1qlmb80000gp/T/tmpt96ikvbd.lp\n",
      "Reading time = 0.01 seconds\n",
      ": 1243 rows, 2646 columns, 11514 nonzeros\n",
      "Pruning zero flux subnetworks...\n",
      "Read LP format model from file /var/folders/85/n42jk96d3hsbdfcjbr1qlmb80000gp/T/tmp0ky_o1pn.lp\n",
      "Reading time = 0.01 seconds\n",
      ": 1243 rows, 2646 columns, 11514 nonzeros\n"
     ]
    },
    {
     "name": "stderr",
     "output_type": "stream",
     "text": [
      "/Users/dap5mb/opt/anaconda3/lib/python3.8/site-packages/optlang/interface.py:1474: DeprecationWarning: Deprecated, pass a TempConstr or use Model.addLConstr\n",
      "  self._add_constraints(add_constr)\n"
     ]
    },
    {
     "name": "stdout",
     "output_type": "stream",
     "text": [
      "Read LP format model from file /var/folders/85/n42jk96d3hsbdfcjbr1qlmb80000gp/T/tmp91sl3z72.lp\n",
      "Reading time = 0.01 seconds\n",
      ": 1243 rows, 2646 columns, 11514 nonzeros\n"
     ]
    },
    {
     "name": "stderr",
     "output_type": "stream",
     "text": [
      "/Users/dap5mb/opt/anaconda3/lib/python3.8/site-packages/optlang/interface.py:1474: DeprecationWarning: Deprecated, pass a TempConstr or use Model.addLConstr\n",
      "  self._add_constraints(add_constr)\n"
     ]
    },
    {
     "name": "stdout",
     "output_type": "stream",
     "text": [
      "Read LP format model from file /var/folders/85/n42jk96d3hsbdfcjbr1qlmb80000gp/T/tmp5u6lthmq.lp\n",
      "Reading time = 0.01 seconds\n",
      ": 1243 rows, 2646 columns, 11514 nonzeros\n"
     ]
    },
    {
     "name": "stderr",
     "output_type": "stream",
     "text": [
      "/Users/dap5mb/opt/anaconda3/lib/python3.8/site-packages/optlang/interface.py:1474: DeprecationWarning: Deprecated, pass a TempConstr or use Model.addLConstr\n",
      "  self._add_constraints(add_constr)\n"
     ]
    },
    {
     "name": "stdout",
     "output_type": "stream",
     "text": [
      "Analyzing context-specific flux distributions...\n",
      "Read LP format model from file /var/folders/85/n42jk96d3hsbdfcjbr1qlmb80000gp/T/tmps70iqvpi.lp\n",
      "Reading time = 0.01 seconds\n",
      ": 657 rows, 1188 columns, 5382 nonzeros\n"
     ]
    },
    {
     "name": "stderr",
     "output_type": "stream",
     "text": [
      "/Users/dap5mb/opt/anaconda3/lib/python3.8/site-packages/optlang/interface.py:1474: DeprecationWarning: Deprecated, pass a TempConstr or use Model.addLConstr\n",
      "  self._add_constraints(add_constr)\n"
     ]
    },
    {
     "name": "stdout",
     "output_type": "stream",
     "text": [
      "Set parameter Username\n",
      "Academic license - for non-commercial use only - expires 2023-04-21\n",
      "Read LP format model from file /var/folders/85/n42jk96d3hsbdfcjbr1qlmb80000gp/T/tmpcbsukydp.lp\n",
      "Reading time = 0.01 seconds\n",
      ": 660 rows, 1191 columns, 7763 nonzeros\n",
      "Set parameter Username\n",
      "Academic license - for non-commercial use only - expires 2023-04-21\n",
      "Read LP format model from file /var/folders/85/n42jk96d3hsbdfcjbr1qlmb80000gp/T/tmpwnxy0raj.lp\n",
      "Reading time = 0.01 seconds\n",
      ": 660 rows, 1191 columns, 7763 nonzeros\n",
      "Set parameter Username\n",
      "Academic license - for non-commercial use only - expires 2023-04-21\n",
      "Read LP format model from file /var/folders/85/n42jk96d3hsbdfcjbr1qlmb80000gp/T/tmpzbdyvbza.lp\n",
      "Reading time = 0.01 seconds\n",
      ": 660 rows, 1191 columns, 7763 nonzeros\n",
      "Set parameter Username\n",
      "Academic license - for non-commercial use only - expires 2023-04-21\n",
      "Read LP format model from file /var/folders/85/n42jk96d3hsbdfcjbr1qlmb80000gp/T/tmpd0y7uro4.lp\n",
      "Reading time = 0.01 seconds\n",
      ": 660 rows, 1191 columns, 7763 nonzeros\n",
      "Set parameter Username\n",
      "Academic license - for non-commercial use only - expires 2023-04-21\n",
      "Read LP format model from file /var/folders/85/n42jk96d3hsbdfcjbr1qlmb80000gp/T/tmpqo1g1lhp.lp\n",
      "Reading time = 0.01 seconds\n",
      ": 660 rows, 1191 columns, 7763 nonzeros\n",
      "Set parameter Username\n",
      "Academic license - for non-commercial use only - expires 2023-04-21\n",
      "Read LP format model from file /var/folders/85/n42jk96d3hsbdfcjbr1qlmb80000gp/T/tmp_ambinfg.lp\n",
      "Reading time = 0.01 seconds\n",
      ": 660 rows, 1191 columns, 7763 nonzeros\n",
      "Set parameter Username\n",
      "Academic license - for non-commercial use only - expires 2023-04-21\n",
      "Read LP format model from file /var/folders/85/n42jk96d3hsbdfcjbr1qlmb80000gp/T/tmpxshgq5s8.lp\n",
      "Reading time = 0.01 seconds\n",
      ": 660 rows, 1191 columns, 7763 nonzeros\n",
      "Set parameter Username\n",
      "Academic license - for non-commercial use only - expires 2023-04-21\n",
      "Read LP format model from file /var/folders/85/n42jk96d3hsbdfcjbr1qlmb80000gp/T/tmpl9hsy56m.lp\n",
      "Reading time = 0.01 seconds\n",
      ": 660 rows, 1191 columns, 7763 nonzeros\n",
      "Set parameter Username\n",
      "Academic license - for non-commercial use only - expires 2023-04-21\n",
      "Read LP format model from file /var/folders/85/n42jk96d3hsbdfcjbr1qlmb80000gp/T/tmp6u1zbw94.lp\n",
      "Reading time = 0.01 seconds\n",
      ": 660 rows, 1191 columns, 7763 nonzeros\n",
      "Set parameter Username\n",
      "Academic license - for non-commercial use only - expires 2023-04-21\n",
      "Read LP format model from file /var/folders/85/n42jk96d3hsbdfcjbr1qlmb80000gp/T/tmp0wa72njv.lp\n",
      "Reading time = 0.01 seconds\n",
      ": 660 rows, 1191 columns, 7763 nonzeros\n",
      "Set parameter Username\n",
      "Academic license - for non-commercial use only - expires 2023-04-21\n",
      "Read LP format model from file /var/folders/85/n42jk96d3hsbdfcjbr1qlmb80000gp/T/tmpuk0mj01v.lp\n",
      "Reading time = 0.01 seconds\n",
      ": 660 rows, 1191 columns, 7763 nonzeros\n",
      "Set parameter Username\n",
      "Academic license - for non-commercial use only - expires 2023-04-21\n",
      "Read LP format model from file /var/folders/85/n42jk96d3hsbdfcjbr1qlmb80000gp/T/tmpgtemup8j.lp\n",
      "Reading time = 0.01 seconds\n",
      ": 660 rows, 1191 columns, 7763 nonzeros\n",
      "Set parameter Username\n",
      "Academic license - for non-commercial use only - expires 2023-04-21\n",
      "Read LP format model from file /var/folders/85/n42jk96d3hsbdfcjbr1qlmb80000gp/T/tmpswfibdz9.lp\n",
      "Reading time = 0.01 seconds\n",
      ": 660 rows, 1191 columns, 7763 nonzeros\n",
      "Set parameter Username\n",
      "Academic license - for non-commercial use only - expires 2023-04-21\n",
      "Read LP format model from file /var/folders/85/n42jk96d3hsbdfcjbr1qlmb80000gp/T/tmpuif595vb.lp\n",
      "Reading time = 0.01 seconds\n",
      ": 660 rows, 1191 columns, 7763 nonzeros\n"
     ]
    },
    {
     "name": "stderr",
     "output_type": "stream",
     "text": [
      "/Users/dap5mb/opt/anaconda3/lib/python3.8/site-packages/optlang/interface.py:1474: DeprecationWarning: Deprecated, pass a TempConstr or use Model.addLConstr\n",
      "  self._add_constraints(add_constr)\n"
     ]
    },
    {
     "name": "stdout",
     "output_type": "stream",
     "text": [
      "Set parameter Username\n",
      "Academic license - for non-commercial use only - expires 2023-04-21\n",
      "Read LP format model from file /var/folders/85/n42jk96d3hsbdfcjbr1qlmb80000gp/T/tmp3jr40e5t.lp\n",
      "Reading time = 0.01 seconds\n",
      ": 660 rows, 1191 columns, 7763 nonzeros\n",
      "Set parameter Username\n",
      "Academic license - for non-commercial use only - expires 2023-04-21\n",
      "Read LP format model from file /var/folders/85/n42jk96d3hsbdfcjbr1qlmb80000gp/T/tmpf95o9p4r.lp\n",
      "Reading time = 0.01 seconds\n",
      ": 660 rows, 1191 columns, 7763 nonzeros\n",
      "Set parameter Username\n",
      "Academic license - for non-commercial use only - expires 2023-04-21\n",
      "Read LP format model from file /var/folders/85/n42jk96d3hsbdfcjbr1qlmb80000gp/T/tmpw14j85l5.lp\n",
      "Reading time = 0.01 seconds\n",
      ": 660 rows, 1191 columns, 7763 nonzeros\n",
      "Set parameter Username\n",
      "Academic license - for non-commercial use only - expires 2023-04-21\n",
      "Read LP format model from file /var/folders/85/n42jk96d3hsbdfcjbr1qlmb80000gp/T/tmpom9p70b8.lp\n",
      "Reading time = 0.01 seconds\n",
      ": 660 rows, 1191 columns, 7763 nonzeros\n",
      "Set parameter Username\n",
      "Academic license - for non-commercial use only - expires 2023-04-21\n",
      "Read LP format model from file /var/folders/85/n42jk96d3hsbdfcjbr1qlmb80000gp/T/tmp5ra81cjv.lp\n",
      "Reading time = 0.01 seconds\n",
      ": 660 rows, 1191 columns, 7763 nonzeros\n",
      "Set parameter Username\n",
      "Academic license - for non-commercial use only - expires 2023-04-21\n",
      "Read LP format model from file /var/folders/85/n42jk96d3hsbdfcjbr1qlmb80000gp/T/tmpyo9_2jg2.lp\n",
      "Reading time = 0.01 seconds\n",
      ": 660 rows, 1191 columns, 7763 nonzeros\n",
      "Set parameter Username\n",
      "Academic license - for non-commercial use only - expires 2023-04-21\n",
      "Read LP format model from file /var/folders/85/n42jk96d3hsbdfcjbr1qlmb80000gp/T/tmpfm84u76b.lp\n",
      "Reading time = 0.01 seconds\n",
      ": 660 rows, 1191 columns, 7763 nonzeros\n",
      "Set parameter Username\n",
      "Academic license - for non-commercial use only - expires 2023-04-21\n",
      "Read LP format model from file /var/folders/85/n42jk96d3hsbdfcjbr1qlmb80000gp/T/tmp79o4qc4v.lp\n",
      "Reading time = 0.01 seconds\n",
      ": 660 rows, 1191 columns, 7763 nonzeros\n",
      "Set parameter Username\n",
      "Academic license - for non-commercial use only - expires 2023-04-21\n",
      "Read LP format model from file /var/folders/85/n42jk96d3hsbdfcjbr1qlmb80000gp/T/tmpl1klmr4l.lp\n",
      "Reading time = 0.01 seconds\n",
      ": 660 rows, 1191 columns, 7763 nonzeros\n",
      "Set parameter Username\n",
      "Academic license - for non-commercial use only - expires 2023-04-21\n",
      "Read LP format model from file /var/folders/85/n42jk96d3hsbdfcjbr1qlmb80000gp/T/tmp717klo4h.lp\n",
      "Reading time = 0.01 seconds\n",
      ": 660 rows, 1191 columns, 7763 nonzeros\n",
      "Set parameter Username\n",
      "Academic license - for non-commercial use only - expires 2023-04-21\n",
      "Read LP format model from file /var/folders/85/n42jk96d3hsbdfcjbr1qlmb80000gp/T/tmpr_jxiihq.lp\n",
      "Reading time = 0.01 seconds\n",
      ": 660 rows, 1191 columns, 7763 nonzeros\n",
      "Set parameter Username\n",
      "Academic license - for non-commercial use only - expires 2023-04-21\n",
      "Read LP format model from file /var/folders/85/n42jk96d3hsbdfcjbr1qlmb80000gp/T/tmpleh2met6.lp\n",
      "Reading time = 0.01 seconds\n",
      ": 660 rows, 1191 columns, 7763 nonzeros\n",
      "Set parameter Username\n",
      "Academic license - for non-commercial use only - expires 2023-04-21\n",
      "Read LP format model from file /var/folders/85/n42jk96d3hsbdfcjbr1qlmb80000gp/T/tmp7_fhs5eq.lp\n",
      "Reading time = 0.01 seconds\n",
      ": 660 rows, 1191 columns, 7763 nonzeros\n",
      "Set parameter Username\n",
      "Academic license - for non-commercial use only - expires 2023-04-21\n",
      "Read LP format model from file /var/folders/85/n42jk96d3hsbdfcjbr1qlmb80000gp/T/tmpl0so8q0l.lp\n",
      "Reading time = 0.01 seconds\n",
      ": 660 rows, 1191 columns, 7763 nonzeros\n",
      "\n",
      "Reactions pruned to 594 from 1323 (55.1% change)\n",
      "Metabolites pruned to 657 from 1243 (47.14% change)\n",
      "Flux through the objective DECREASED to ~116.29 from ~135.57 (14.22% change)\n",
      "Context-specific metabolism does not correlate with transcriptome (r=-0.058, n.s.)\n",
      "\n",
      "RIPTiDe completed in, 1 minute and 40 seconds \n",
      "\n",
      "\n",
      "Initializing model and integrating transcriptomic data...\n",
      "Read LP format model from file /var/folders/85/n42jk96d3hsbdfcjbr1qlmb80000gp/T/tmp24b6v7tq.lp\n",
      "Reading time = 0.01 seconds\n",
      ": 1243 rows, 2646 columns, 11514 nonzeros\n",
      "Pruning zero flux subnetworks...\n",
      "Read LP format model from file /var/folders/85/n42jk96d3hsbdfcjbr1qlmb80000gp/T/tmpdq8u459_.lp\n",
      "Reading time = 0.01 seconds\n",
      ": 1243 rows, 2646 columns, 11514 nonzeros\n"
     ]
    },
    {
     "name": "stderr",
     "output_type": "stream",
     "text": [
      "/Users/dap5mb/opt/anaconda3/lib/python3.8/site-packages/optlang/interface.py:1474: DeprecationWarning: Deprecated, pass a TempConstr or use Model.addLConstr\n",
      "  self._add_constraints(add_constr)\n"
     ]
    },
    {
     "name": "stdout",
     "output_type": "stream",
     "text": [
      "Read LP format model from file /var/folders/85/n42jk96d3hsbdfcjbr1qlmb80000gp/T/tmp7_lfhjmy.lp\n",
      "Reading time = 0.01 seconds\n",
      ": 1243 rows, 2646 columns, 11514 nonzeros\n"
     ]
    },
    {
     "name": "stderr",
     "output_type": "stream",
     "text": [
      "/Users/dap5mb/opt/anaconda3/lib/python3.8/site-packages/optlang/interface.py:1474: DeprecationWarning: Deprecated, pass a TempConstr or use Model.addLConstr\n",
      "  self._add_constraints(add_constr)\n"
     ]
    },
    {
     "name": "stdout",
     "output_type": "stream",
     "text": [
      "Read LP format model from file /var/folders/85/n42jk96d3hsbdfcjbr1qlmb80000gp/T/tmpgvlchkc_.lp\n",
      "Reading time = 0.01 seconds\n",
      ": 1243 rows, 2646 columns, 11514 nonzeros\n"
     ]
    },
    {
     "name": "stderr",
     "output_type": "stream",
     "text": [
      "/Users/dap5mb/opt/anaconda3/lib/python3.8/site-packages/optlang/interface.py:1474: DeprecationWarning: Deprecated, pass a TempConstr or use Model.addLConstr\n",
      "  self._add_constraints(add_constr)\n"
     ]
    },
    {
     "name": "stdout",
     "output_type": "stream",
     "text": [
      "Analyzing context-specific flux distributions...\n",
      "Read LP format model from file /var/folders/85/n42jk96d3hsbdfcjbr1qlmb80000gp/T/tmpv7i0ee75.lp\n",
      "Reading time = 0.01 seconds\n",
      ": 677 rows, 1252 columns, 5552 nonzeros\n"
     ]
    },
    {
     "name": "stderr",
     "output_type": "stream",
     "text": [
      "/Users/dap5mb/opt/anaconda3/lib/python3.8/site-packages/optlang/interface.py:1474: DeprecationWarning: Deprecated, pass a TempConstr or use Model.addLConstr\n",
      "  self._add_constraints(add_constr)\n"
     ]
    },
    {
     "name": "stdout",
     "output_type": "stream",
     "text": [
      "Set parameter Username\n",
      "Academic license - for non-commercial use only - expires 2023-04-21\n",
      "Read LP format model from file /var/folders/85/n42jk96d3hsbdfcjbr1qlmb80000gp/T/tmpsx86blru.lp\n",
      "Reading time = 0.01 seconds\n",
      ": 680 rows, 1255 columns, 8061 nonzeros\n",
      "Set parameter Username\n",
      "Academic license - for non-commercial use only - expires 2023-04-21\n",
      "Read LP format model from file /var/folders/85/n42jk96d3hsbdfcjbr1qlmb80000gp/T/tmpgskh1m4w.lp\n",
      "Reading time = 0.01 seconds\n",
      ": 680 rows, 1255 columns, 8061 nonzeros\n",
      "Set parameter Username\n",
      "Academic license - for non-commercial use only - expires 2023-04-21\n",
      "Read LP format model from file /var/folders/85/n42jk96d3hsbdfcjbr1qlmb80000gp/T/tmpjdpbcfhy.lp\n",
      "Reading time = 0.01 seconds\n",
      ": 680 rows, 1255 columns, 8061 nonzeros\n",
      "Set parameter Username\n",
      "Academic license - for non-commercial use only - expires 2023-04-21\n",
      "Read LP format model from file /var/folders/85/n42jk96d3hsbdfcjbr1qlmb80000gp/T/tmpbhzma31b.lp\n",
      "Reading time = 0.01 seconds\n",
      ": 680 rows, 1255 columns, 8061 nonzeros\n",
      "Set parameter Username\n",
      "Academic license - for non-commercial use only - expires 2023-04-21\n",
      "Read LP format model from file /var/folders/85/n42jk96d3hsbdfcjbr1qlmb80000gp/T/tmpz6gri_6i.lp\n",
      "Reading time = 0.01 seconds\n",
      ": 680 rows, 1255 columns, 8061 nonzeros\n",
      "Set parameter Username\n",
      "Academic license - for non-commercial use only - expires 2023-04-21\n",
      "Read LP format model from file /var/folders/85/n42jk96d3hsbdfcjbr1qlmb80000gp/T/tmpwrhudidi.lp\n",
      "Reading time = 0.01 seconds\n",
      ": 680 rows, 1255 columns, 8061 nonzeros\n",
      "Set parameter Username\n",
      "Academic license - for non-commercial use only - expires 2023-04-21\n",
      "Read LP format model from file /var/folders/85/n42jk96d3hsbdfcjbr1qlmb80000gp/T/tmpzh82imbf.lp\n",
      "Reading time = 0.02 seconds\n",
      ": 680 rows, 1255 columns, 8061 nonzeros\n",
      "Set parameter Username\n",
      "Academic license - for non-commercial use only - expires 2023-04-21\n",
      "Read LP format model from file /var/folders/85/n42jk96d3hsbdfcjbr1qlmb80000gp/T/tmpysqbo9b6.lp\n",
      "Reading time = 0.01 seconds\n",
      ": 680 rows, 1255 columns, 8061 nonzeros\n",
      "Set parameter Username\n",
      "Academic license - for non-commercial use only - expires 2023-04-21\n",
      "Read LP format model from file /var/folders/85/n42jk96d3hsbdfcjbr1qlmb80000gp/T/tmpzl9zgrrt.lp\n",
      "Reading time = 0.01 seconds\n",
      ": 680 rows, 1255 columns, 8061 nonzeros\n",
      "Set parameter Username\n",
      "Academic license - for non-commercial use only - expires 2023-04-21\n",
      "Read LP format model from file /var/folders/85/n42jk96d3hsbdfcjbr1qlmb80000gp/T/tmpyu5r42cz.lp\n",
      "Reading time = 0.01 seconds\n",
      ": 680 rows, 1255 columns, 8061 nonzeros\n",
      "Set parameter Username\n",
      "Academic license - for non-commercial use only - expires 2023-04-21\n",
      "Read LP format model from file /var/folders/85/n42jk96d3hsbdfcjbr1qlmb80000gp/T/tmpo_f_h8pw.lp\n",
      "Reading time = 0.01 seconds\n",
      ": 680 rows, 1255 columns, 8061 nonzeros\n",
      "Set parameter Username\n",
      "Academic license - for non-commercial use only - expires 2023-04-21\n",
      "Read LP format model from file /var/folders/85/n42jk96d3hsbdfcjbr1qlmb80000gp/T/tmpphv5qkkx.lp\n",
      "Reading time = 0.01 seconds\n",
      ": 680 rows, 1255 columns, 8061 nonzeros\n",
      "Set parameter Username\n",
      "Academic license - for non-commercial use only - expires 2023-04-21\n",
      "Read LP format model from file /var/folders/85/n42jk96d3hsbdfcjbr1qlmb80000gp/T/tmpboj6yvht.lp\n",
      "Reading time = 0.01 seconds\n",
      ": 680 rows, 1255 columns, 8061 nonzeros\n",
      "Set parameter Username\n",
      "Academic license - for non-commercial use only - expires 2023-04-21\n",
      "Read LP format model from file /var/folders/85/n42jk96d3hsbdfcjbr1qlmb80000gp/T/tmpd9vorx7_.lp\n",
      "Reading time = 0.01 seconds\n",
      ": 680 rows, 1255 columns, 8061 nonzeros\n"
     ]
    },
    {
     "name": "stderr",
     "output_type": "stream",
     "text": [
      "/Users/dap5mb/opt/anaconda3/lib/python3.8/site-packages/optlang/interface.py:1474: DeprecationWarning: Deprecated, pass a TempConstr or use Model.addLConstr\n",
      "  self._add_constraints(add_constr)\n"
     ]
    },
    {
     "name": "stdout",
     "output_type": "stream",
     "text": [
      "Set parameter Username\n",
      "Academic license - for non-commercial use only - expires 2023-04-21\n",
      "Read LP format model from file /var/folders/85/n42jk96d3hsbdfcjbr1qlmb80000gp/T/tmprv3b9cc4.lp\n",
      "Reading time = 0.01 seconds\n",
      ": 680 rows, 1255 columns, 8061 nonzeros\n",
      "Set parameter Username\n",
      "Academic license - for non-commercial use only - expires 2023-04-21\n",
      "Read LP format model from file /var/folders/85/n42jk96d3hsbdfcjbr1qlmb80000gp/T/tmpvhn5k6te.lp\n",
      "Reading time = 0.01 seconds\n",
      ": 680 rows, 1255 columns, 8061 nonzeros\n",
      "Set parameter Username\n",
      "Academic license - for non-commercial use only - expires 2023-04-21\n",
      "Read LP format model from file /var/folders/85/n42jk96d3hsbdfcjbr1qlmb80000gp/T/tmp8fcqssdg.lp\n",
      "Reading time = 0.01 seconds\n",
      ": 680 rows, 1255 columns, 8061 nonzeros\n",
      "Set parameter Username\n",
      "Academic license - for non-commercial use only - expires 2023-04-21\n",
      "Read LP format model from file /var/folders/85/n42jk96d3hsbdfcjbr1qlmb80000gp/T/tmpngsyoym_.lp\n",
      "Reading time = 0.01 seconds\n",
      ": 680 rows, 1255 columns, 8061 nonzeros\n",
      "Set parameter Username\n",
      "Academic license - for non-commercial use only - expires 2023-04-21\n",
      "Read LP format model from file /var/folders/85/n42jk96d3hsbdfcjbr1qlmb80000gp/T/tmp949zltid.lp\n",
      "Reading time = 0.01 seconds\n",
      ": 680 rows, 1255 columns, 8061 nonzeros\n",
      "Set parameter Username\n",
      "Academic license - for non-commercial use only - expires 2023-04-21\n",
      "Read LP format model from file /var/folders/85/n42jk96d3hsbdfcjbr1qlmb80000gp/T/tmp2ets0__j.lp\n",
      "Reading time = 0.01 seconds\n",
      ": 680 rows, 1255 columns, 8061 nonzeros\n",
      "Set parameter Username\n",
      "Academic license - for non-commercial use only - expires 2023-04-21\n",
      "Read LP format model from file /var/folders/85/n42jk96d3hsbdfcjbr1qlmb80000gp/T/tmpbub12y7_.lp\n",
      "Reading time = 0.01 seconds\n",
      ": 680 rows, 1255 columns, 8061 nonzeros\n",
      "Set parameter Username\n",
      "Academic license - for non-commercial use only - expires 2023-04-21\n",
      "Read LP format model from file /var/folders/85/n42jk96d3hsbdfcjbr1qlmb80000gp/T/tmpk_k89o0b.lp\n",
      "Reading time = 0.01 seconds\n",
      ": 680 rows, 1255 columns, 8061 nonzeros\n",
      "Set parameter Username\n",
      "Academic license - for non-commercial use only - expires 2023-04-21\n",
      "Read LP format model from file /var/folders/85/n42jk96d3hsbdfcjbr1qlmb80000gp/T/tmpb40u0jn6.lp\n",
      "Reading time = 0.01 seconds\n",
      ": 680 rows, 1255 columns, 8061 nonzeros\n",
      "Set parameter Username\n",
      "Academic license - for non-commercial use only - expires 2023-04-21\n",
      "Read LP format model from file /var/folders/85/n42jk96d3hsbdfcjbr1qlmb80000gp/T/tmpu8n6lr71.lp\n",
      "Reading time = 0.01 seconds\n",
      ": 680 rows, 1255 columns, 8061 nonzeros\n",
      "Set parameter Username\n",
      "Academic license - for non-commercial use only - expires 2023-04-21\n",
      "Read LP format model from file /var/folders/85/n42jk96d3hsbdfcjbr1qlmb80000gp/T/tmp7kzfm946.lp\n",
      "Reading time = 0.01 seconds\n",
      ": 680 rows, 1255 columns, 8061 nonzeros\n",
      "Set parameter Username\n",
      "Academic license - for non-commercial use only - expires 2023-04-21\n",
      "Read LP format model from file /var/folders/85/n42jk96d3hsbdfcjbr1qlmb80000gp/T/tmpua98okyd.lp\n",
      "Reading time = 0.01 seconds\n",
      ": 680 rows, 1255 columns, 8061 nonzeros\n",
      "Set parameter Username\n",
      "Academic license - for non-commercial use only - expires 2023-04-21\n",
      "Read LP format model from file /var/folders/85/n42jk96d3hsbdfcjbr1qlmb80000gp/T/tmpt38fvzck.lp\n",
      "Reading time = 0.03 seconds\n",
      ": 680 rows, 1255 columns, 8061 nonzeros\n",
      "Set parameter Username\n",
      "Academic license - for non-commercial use only - expires 2023-04-21\n",
      "Read LP format model from file /var/folders/85/n42jk96d3hsbdfcjbr1qlmb80000gp/T/tmpr7z_tyys.lp\n",
      "Reading time = 0.01 seconds\n",
      ": 680 rows, 1255 columns, 8061 nonzeros\n",
      "\n",
      "Reactions pruned to 626 from 1323 (52.68% change)\n",
      "Metabolites pruned to 677 from 1243 (45.53% change)\n",
      "Flux through the objective DECREASED to ~126.57 from ~135.57 (6.64% change)\n",
      "Context-specific metabolism does not correlate with transcriptome (r=-0.048, n.s.)\n",
      "\n",
      "RIPTiDe completed in, 1 minute and 36 seconds \n",
      "\n",
      "\n",
      "Initializing model and integrating transcriptomic data...\n",
      "Read LP format model from file /var/folders/85/n42jk96d3hsbdfcjbr1qlmb80000gp/T/tmp_eo5prbh.lp\n",
      "Reading time = 0.01 seconds\n",
      ": 1243 rows, 2646 columns, 11514 nonzeros\n",
      "Pruning zero flux subnetworks...\n",
      "Read LP format model from file /var/folders/85/n42jk96d3hsbdfcjbr1qlmb80000gp/T/tmpg83n8fkd.lp\n",
      "Reading time = 0.01 seconds\n",
      ": 1243 rows, 2646 columns, 11514 nonzeros\n"
     ]
    },
    {
     "name": "stderr",
     "output_type": "stream",
     "text": [
      "/Users/dap5mb/opt/anaconda3/lib/python3.8/site-packages/optlang/interface.py:1474: DeprecationWarning: Deprecated, pass a TempConstr or use Model.addLConstr\n",
      "  self._add_constraints(add_constr)\n"
     ]
    },
    {
     "name": "stdout",
     "output_type": "stream",
     "text": [
      "Read LP format model from file /var/folders/85/n42jk96d3hsbdfcjbr1qlmb80000gp/T/tmpks26bi38.lp\n",
      "Reading time = 0.01 seconds\n",
      ": 1243 rows, 2646 columns, 11514 nonzeros\n"
     ]
    },
    {
     "name": "stderr",
     "output_type": "stream",
     "text": [
      "/Users/dap5mb/opt/anaconda3/lib/python3.8/site-packages/optlang/interface.py:1474: DeprecationWarning: Deprecated, pass a TempConstr or use Model.addLConstr\n",
      "  self._add_constraints(add_constr)\n"
     ]
    },
    {
     "name": "stdout",
     "output_type": "stream",
     "text": [
      "Read LP format model from file /var/folders/85/n42jk96d3hsbdfcjbr1qlmb80000gp/T/tmp94jvpkzt.lp\n",
      "Reading time = 0.01 seconds\n",
      ": 1243 rows, 2646 columns, 11514 nonzeros\n"
     ]
    },
    {
     "name": "stderr",
     "output_type": "stream",
     "text": [
      "/Users/dap5mb/opt/anaconda3/lib/python3.8/site-packages/optlang/interface.py:1474: DeprecationWarning: Deprecated, pass a TempConstr or use Model.addLConstr\n",
      "  self._add_constraints(add_constr)\n"
     ]
    },
    {
     "name": "stdout",
     "output_type": "stream",
     "text": [
      "Analyzing context-specific flux distributions...\n",
      "Read LP format model from file /var/folders/85/n42jk96d3hsbdfcjbr1qlmb80000gp/T/tmpjj61ktv9.lp\n",
      "Reading time = 0.01 seconds\n",
      ": 671 rows, 1226 columns, 5516 nonzeros\n"
     ]
    },
    {
     "name": "stderr",
     "output_type": "stream",
     "text": [
      "/Users/dap5mb/opt/anaconda3/lib/python3.8/site-packages/optlang/interface.py:1474: DeprecationWarning: Deprecated, pass a TempConstr or use Model.addLConstr\n",
      "  self._add_constraints(add_constr)\n"
     ]
    },
    {
     "name": "stdout",
     "output_type": "stream",
     "text": [
      "Set parameter Username\n",
      "Academic license - for non-commercial use only - expires 2023-04-21\n",
      "Read LP format model from file /var/folders/85/n42jk96d3hsbdfcjbr1qlmb80000gp/T/tmp902d7c25.lp\n",
      "Reading time = 0.01 seconds\n",
      ": 674 rows, 1229 columns, 7973 nonzeros\n",
      "Set parameter Username\n",
      "Academic license - for non-commercial use only - expires 2023-04-21\n",
      "Read LP format model from file /var/folders/85/n42jk96d3hsbdfcjbr1qlmb80000gp/T/tmpdzjhzdri.lp\n",
      "Reading time = 0.01 seconds\n",
      ": 674 rows, 1229 columns, 7973 nonzeros\n",
      "Set parameter Username\n",
      "Academic license - for non-commercial use only - expires 2023-04-21\n",
      "Read LP format model from file /var/folders/85/n42jk96d3hsbdfcjbr1qlmb80000gp/T/tmp00dyt5d3.lp\n",
      "Reading time = 0.01 seconds\n",
      ": 674 rows, 1229 columns, 7973 nonzeros\n",
      "Set parameter Username\n",
      "Academic license - for non-commercial use only - expires 2023-04-21\n",
      "Read LP format model from file /var/folders/85/n42jk96d3hsbdfcjbr1qlmb80000gp/T/tmpyhiyu7xz.lp\n",
      "Reading time = 0.01 seconds\n",
      ": 674 rows, 1229 columns, 7973 nonzeros\n",
      "Set parameter Username\n",
      "Academic license - for non-commercial use only - expires 2023-04-21\n",
      "Read LP format model from file /var/folders/85/n42jk96d3hsbdfcjbr1qlmb80000gp/T/tmpapr6_oui.lp\n",
      "Reading time = 0.01 seconds\n",
      ": 674 rows, 1229 columns, 7973 nonzeros\n",
      "Set parameter Username\n",
      "Academic license - for non-commercial use only - expires 2023-04-21\n",
      "Read LP format model from file /var/folders/85/n42jk96d3hsbdfcjbr1qlmb80000gp/T/tmp3tz1lv7_.lp\n",
      "Reading time = 0.01 seconds\n",
      ": 674 rows, 1229 columns, 7973 nonzeros\n",
      "Set parameter Username\n",
      "Academic license - for non-commercial use only - expires 2023-04-21\n",
      "Read LP format model from file /var/folders/85/n42jk96d3hsbdfcjbr1qlmb80000gp/T/tmpa7_i_9yi.lp\n",
      "Reading time = 0.01 seconds\n",
      ": 674 rows, 1229 columns, 7973 nonzeros\n",
      "Set parameter Username\n",
      "Academic license - for non-commercial use only - expires 2023-04-21\n",
      "Read LP format model from file /var/folders/85/n42jk96d3hsbdfcjbr1qlmb80000gp/T/tmpssjoij1e.lp\n",
      "Reading time = 0.01 seconds\n",
      ": 674 rows, 1229 columns, 7973 nonzeros\n",
      "Set parameter Username\n",
      "Academic license - for non-commercial use only - expires 2023-04-21\n",
      "Read LP format model from file /var/folders/85/n42jk96d3hsbdfcjbr1qlmb80000gp/T/tmpw7guqi4o.lp\n",
      "Reading time = 0.01 seconds\n",
      ": 674 rows, 1229 columns, 7973 nonzeros\n",
      "Set parameter Username\n",
      "Academic license - for non-commercial use only - expires 2023-04-21\n",
      "Read LP format model from file /var/folders/85/n42jk96d3hsbdfcjbr1qlmb80000gp/T/tmpmpuwz_uo.lp\n",
      "Reading time = 0.01 seconds\n",
      ": 674 rows, 1229 columns, 7973 nonzeros\n",
      "Set parameter Username\n",
      "Academic license - for non-commercial use only - expires 2023-04-21\n",
      "Read LP format model from file /var/folders/85/n42jk96d3hsbdfcjbr1qlmb80000gp/T/tmp66kcwqs1.lp\n",
      "Reading time = 0.01 seconds\n",
      ": 674 rows, 1229 columns, 7973 nonzeros\n",
      "Set parameter Username\n",
      "Academic license - for non-commercial use only - expires 2023-04-21\n",
      "Read LP format model from file /var/folders/85/n42jk96d3hsbdfcjbr1qlmb80000gp/T/tmptaxot_4r.lp\n",
      "Reading time = 0.01 seconds\n",
      ": 674 rows, 1229 columns, 7973 nonzeros\n",
      "Set parameter Username\n",
      "Academic license - for non-commercial use only - expires 2023-04-21\n",
      "Read LP format model from file /var/folders/85/n42jk96d3hsbdfcjbr1qlmb80000gp/T/tmp90fefvu_.lp\n",
      "Reading time = 0.01 seconds\n",
      ": 674 rows, 1229 columns, 7973 nonzeros\n",
      "Set parameter Username\n",
      "Academic license - for non-commercial use only - expires 2023-04-21\n",
      "Read LP format model from file /var/folders/85/n42jk96d3hsbdfcjbr1qlmb80000gp/T/tmpsajizxiz.lp\n",
      "Reading time = 0.01 seconds\n",
      ": 674 rows, 1229 columns, 7973 nonzeros\n"
     ]
    },
    {
     "name": "stderr",
     "output_type": "stream",
     "text": [
      "/Users/dap5mb/opt/anaconda3/lib/python3.8/site-packages/optlang/interface.py:1474: DeprecationWarning: Deprecated, pass a TempConstr or use Model.addLConstr\n",
      "  self._add_constraints(add_constr)\n"
     ]
    },
    {
     "name": "stdout",
     "output_type": "stream",
     "text": [
      "Set parameter Username\n",
      "Academic license - for non-commercial use only - expires 2023-04-21\n",
      "Read LP format model from file /var/folders/85/n42jk96d3hsbdfcjbr1qlmb80000gp/T/tmp3lwwju7c.lp\n",
      "Reading time = 0.01 seconds\n",
      ": 674 rows, 1229 columns, 7973 nonzeros\n",
      "Set parameter Username\n",
      "Academic license - for non-commercial use only - expires 2023-04-21\n",
      "Read LP format model from file /var/folders/85/n42jk96d3hsbdfcjbr1qlmb80000gp/T/tmpq6zmlead.lp\n",
      "Reading time = 0.01 seconds\n",
      ": 674 rows, 1229 columns, 7973 nonzeros\n",
      "Set parameter Username\n",
      "Academic license - for non-commercial use only - expires 2023-04-21\n",
      "Read LP format model from file /var/folders/85/n42jk96d3hsbdfcjbr1qlmb80000gp/T/tmpumoyw0hh.lp\n",
      "Reading time = 0.01 seconds\n",
      ": 674 rows, 1229 columns, 7973 nonzeros\n",
      "Set parameter Username\n",
      "Academic license - for non-commercial use only - expires 2023-04-21\n",
      "Read LP format model from file /var/folders/85/n42jk96d3hsbdfcjbr1qlmb80000gp/T/tmpdns0bdqi.lp\n",
      "Reading time = 0.01 seconds\n",
      ": 674 rows, 1229 columns, 7973 nonzeros\n",
      "Set parameter Username\n",
      "Academic license - for non-commercial use only - expires 2023-04-21\n",
      "Read LP format model from file /var/folders/85/n42jk96d3hsbdfcjbr1qlmb80000gp/T/tmp8_rbd1kw.lp\n",
      "Reading time = 0.01 seconds\n",
      ": 674 rows, 1229 columns, 7973 nonzeros\n",
      "Set parameter Username\n",
      "Academic license - for non-commercial use only - expires 2023-04-21\n",
      "Read LP format model from file /var/folders/85/n42jk96d3hsbdfcjbr1qlmb80000gp/T/tmpflb07etz.lp\n",
      "Reading time = 0.01 seconds\n",
      ": 674 rows, 1229 columns, 7973 nonzeros\n",
      "Set parameter Username\n",
      "Academic license - for non-commercial use only - expires 2023-04-21\n",
      "Read LP format model from file /var/folders/85/n42jk96d3hsbdfcjbr1qlmb80000gp/T/tmpgpxlh6o3.lp\n",
      "Reading time = 0.02 seconds\n",
      ": 674 rows, 1229 columns, 7973 nonzeros\n",
      "Set parameter Username\n",
      "Academic license - for non-commercial use only - expires 2023-04-21\n",
      "Read LP format model from file /var/folders/85/n42jk96d3hsbdfcjbr1qlmb80000gp/T/tmpi5cjmmnu.lp\n",
      "Reading time = 0.01 seconds\n",
      ": 674 rows, 1229 columns, 7973 nonzeros\n",
      "Set parameter Username\n",
      "Academic license - for non-commercial use only - expires 2023-04-21\n",
      "Read LP format model from file /var/folders/85/n42jk96d3hsbdfcjbr1qlmb80000gp/T/tmpf054md1m.lp\n",
      "Reading time = 0.01 seconds\n",
      ": 674 rows, 1229 columns, 7973 nonzeros\n",
      "Set parameter Username\n",
      "Academic license - for non-commercial use only - expires 2023-04-21\n",
      "Read LP format model from file /var/folders/85/n42jk96d3hsbdfcjbr1qlmb80000gp/T/tmpxms3eifu.lp\n",
      "Reading time = 0.01 seconds\n",
      ": 674 rows, 1229 columns, 7973 nonzeros\n",
      "Set parameter Username\n",
      "Academic license - for non-commercial use only - expires 2023-04-21\n",
      "Read LP format model from file /var/folders/85/n42jk96d3hsbdfcjbr1qlmb80000gp/T/tmpdp60kjx7.lp\n",
      "Reading time = 0.01 seconds\n",
      ": 674 rows, 1229 columns, 7973 nonzeros\n",
      "Set parameter Username\n",
      "Academic license - for non-commercial use only - expires 2023-04-21\n",
      "Read LP format model from file /var/folders/85/n42jk96d3hsbdfcjbr1qlmb80000gp/T/tmptajemue6.lp\n",
      "Reading time = 0.01 seconds\n",
      ": 674 rows, 1229 columns, 7973 nonzeros\n",
      "Set parameter Username\n",
      "Academic license - for non-commercial use only - expires 2023-04-21\n",
      "Read LP format model from file /var/folders/85/n42jk96d3hsbdfcjbr1qlmb80000gp/T/tmp2tpjkuot.lp\n",
      "Reading time = 0.01 seconds\n",
      ": 674 rows, 1229 columns, 7973 nonzeros\n",
      "Set parameter Username\n",
      "Academic license - for non-commercial use only - expires 2023-04-21\n",
      "Read LP format model from file /var/folders/85/n42jk96d3hsbdfcjbr1qlmb80000gp/T/tmpmlq5vzx9.lp\n",
      "Reading time = 0.01 seconds\n",
      ": 674 rows, 1229 columns, 7973 nonzeros\n",
      "\n",
      "Reactions pruned to 613 from 1323 (53.67% change)\n",
      "Metabolites pruned to 671 from 1243 (46.02% change)\n",
      "Flux through the objective DECREASED to ~125.8 from ~135.57 (7.21% change)\n",
      "Context-specific metabolism does not correlate with transcriptome (r=-0.029, n.s.)\n",
      "\n",
      "RIPTiDe completed in, 1 minute and 37 seconds \n",
      "\n"
     ]
    }
   ],
   "source": [
    "rip_bhis = riptide.contextualize(model=model, conservative=True, transcriptome=bhis)\n",
    "rip_d120 = riptide.contextualize(model=model,  conservative=True, transcriptome=d120)\n",
    "rip_d240 = riptide.contextualize(model=model, conservative=True,  transcriptome=d240)"
   ]
  },
  {
   "cell_type": "markdown",
   "id": "34a42424-2716-4e83-946b-608b613f196e",
   "metadata": {},
   "source": [
    "# C. difficile R20291 studies\n",
    "### GSE107961"
   ]
  },
  {
   "cell_type": "code",
   "execution_count": 11,
   "id": "a8bba052-4384-446c-8cd3-3e90e5e5fb21",
   "metadata": {},
   "outputs": [
    {
     "name": "stderr",
     "output_type": "stream",
     "text": [
      "/Users/dap5mb/opt/anaconda3/lib/python3.8/site-packages/optlang/interface.py:1474: DeprecationWarning: Deprecated, pass a TempConstr or use Model.addLConstr\n",
      "  self._add_constraints(add_constr)\n"
     ]
    }
   ],
   "source": [
    "# Load R20291 model\n",
    "r20291=cobra.io.read_sbml_model(\"models/iCdR703.sbml\")"
   ]
  },
  {
   "cell_type": "code",
   "execution_count": 12,
   "id": "c8986f02-a297-4d9b-852f-069eaeb864a5",
   "metadata": {},
   "outputs": [],
   "source": [
    "ty = riptide.read_transcription_file('../data/counts/gse107961_TY8h.tsv') # Raw counts\n",
    "tycys = riptide.read_transcription_file('../data/counts/gse107961_TYCys8h.tsv') # Raw counts"
   ]
  },
  {
   "cell_type": "code",
   "execution_count": 13,
   "id": "becfd698-c374-4582-9a80-e900966815ce",
   "metadata": {
    "tags": []
   },
   "outputs": [
    {
     "name": "stdout",
     "output_type": "stream",
     "text": [
      "\n",
      "Initializing model and integrating transcriptomic data...\n",
      "Read LP format model from file /var/folders/85/n42jk96d3hsbdfcjbr1qlmb80000gp/T/tmpq21001os.lp\n",
      "Reading time = 0.01 seconds\n",
      ": 1243 rows, 2626 columns, 11388 nonzeros\n",
      "Pruning zero flux subnetworks...\n",
      "Read LP format model from file /var/folders/85/n42jk96d3hsbdfcjbr1qlmb80000gp/T/tmpo6wk4hvh.lp\n",
      "Reading time = 0.01 seconds\n",
      ": 1243 rows, 2626 columns, 11388 nonzeros\n",
      "Read LP format model from file /var/folders/85/n42jk96d3hsbdfcjbr1qlmb80000gp/T/tmplna06zfy.lp\n",
      "Reading time = 0.01 seconds\n",
      ": 1243 rows, 2626 columns, 11388 nonzeros\n"
     ]
    },
    {
     "name": "stderr",
     "output_type": "stream",
     "text": [
      "/Users/dap5mb/opt/anaconda3/lib/python3.8/site-packages/optlang/interface.py:1474: DeprecationWarning: Deprecated, pass a TempConstr or use Model.addLConstr\n",
      "  self._add_constraints(add_constr)\n"
     ]
    },
    {
     "name": "stdout",
     "output_type": "stream",
     "text": [
      "Analyzing context-specific flux distributions...\n",
      "Read LP format model from file /var/folders/85/n42jk96d3hsbdfcjbr1qlmb80000gp/T/tmpq9qkt6mu.lp\n",
      "Reading time = 0.01 seconds\n",
      ": 651 rows, 1180 columns, 5290 nonzeros\n"
     ]
    },
    {
     "name": "stderr",
     "output_type": "stream",
     "text": [
      "/Users/dap5mb/opt/anaconda3/lib/python3.8/site-packages/optlang/interface.py:1474: DeprecationWarning: Deprecated, pass a TempConstr or use Model.addLConstr\n",
      "  self._add_constraints(add_constr)\n"
     ]
    },
    {
     "name": "stdout",
     "output_type": "stream",
     "text": [
      "Set parameter Username\n",
      "Academic license - for non-commercial use only - expires 2023-04-21\n",
      "Read LP format model from file /var/folders/85/n42jk96d3hsbdfcjbr1qlmb80000gp/T/tmpbk6r25dk.lp\n",
      "Reading time = 0.01 seconds\n",
      ": 654 rows, 1183 columns, 7655 nonzeros\n",
      "Set parameter Username\n",
      "Academic license - for non-commercial use only - expires 2023-04-21\n",
      "Read LP format model from file /var/folders/85/n42jk96d3hsbdfcjbr1qlmb80000gp/T/tmpbvz4vs3u.lp\n",
      "Reading time = 0.01 seconds\n",
      ": 654 rows, 1183 columns, 7655 nonzeros\n",
      "Set parameter Username\n",
      "Academic license - for non-commercial use only - expires 2023-04-21\n",
      "Read LP format model from file /var/folders/85/n42jk96d3hsbdfcjbr1qlmb80000gp/T/tmprdz4ti2i.lp\n",
      "Reading time = 0.01 seconds\n",
      ": 654 rows, 1183 columns, 7655 nonzeros\n",
      "Set parameter Username\n",
      "Academic license - for non-commercial use only - expires 2023-04-21\n",
      "Read LP format model from file /var/folders/85/n42jk96d3hsbdfcjbr1qlmb80000gp/T/tmp80yeq3o1.lp\n",
      "Reading time = 0.01 seconds\n",
      ": 654 rows, 1183 columns, 7655 nonzeros\n",
      "Set parameter Username\n",
      "Academic license - for non-commercial use only - expires 2023-04-21\n",
      "Read LP format model from file /var/folders/85/n42jk96d3hsbdfcjbr1qlmb80000gp/T/tmpxxv4ws7w.lp\n",
      "Reading time = 0.01 seconds\n",
      ": 654 rows, 1183 columns, 7655 nonzeros\n",
      "Set parameter Username\n",
      "Academic license - for non-commercial use only - expires 2023-04-21\n",
      "Read LP format model from file /var/folders/85/n42jk96d3hsbdfcjbr1qlmb80000gp/T/tmpibfz8y1x.lp\n",
      "Reading time = 0.01 seconds\n",
      ": 654 rows, 1183 columns, 7655 nonzeros\n",
      "Set parameter Username\n",
      "Academic license - for non-commercial use only - expires 2023-04-21\n",
      "Read LP format model from file /var/folders/85/n42jk96d3hsbdfcjbr1qlmb80000gp/T/tmpcthcsz3w.lp\n",
      "Reading time = 0.01 seconds\n",
      ": 654 rows, 1183 columns, 7655 nonzeros\n",
      "Set parameter Username\n",
      "Academic license - for non-commercial use only - expires 2023-04-21\n",
      "Read LP format model from file /var/folders/85/n42jk96d3hsbdfcjbr1qlmb80000gp/T/tmpjcsyf5iu.lp\n",
      "Reading time = 0.01 seconds\n",
      ": 654 rows, 1183 columns, 7655 nonzeros\n",
      "Set parameter Username\n",
      "Academic license - for non-commercial use only - expires 2023-04-21\n",
      "Read LP format model from file /var/folders/85/n42jk96d3hsbdfcjbr1qlmb80000gp/T/tmpy79misnr.lp\n",
      "Reading time = 0.01 seconds\n",
      ": 654 rows, 1183 columns, 7655 nonzeros\n",
      "Set parameter Username\n",
      "Academic license - for non-commercial use only - expires 2023-04-21\n",
      "Read LP format model from file /var/folders/85/n42jk96d3hsbdfcjbr1qlmb80000gp/T/tmpbvpcei_o.lp\n",
      "Reading time = 0.01 seconds\n",
      ": 654 rows, 1183 columns, 7655 nonzeros\n",
      "Set parameter Username\n",
      "Academic license - for non-commercial use only - expires 2023-04-21\n",
      "Read LP format model from file /var/folders/85/n42jk96d3hsbdfcjbr1qlmb80000gp/T/tmpi03gvgnu.lp\n",
      "Reading time = 0.01 seconds\n",
      ": 654 rows, 1183 columns, 7655 nonzeros\n",
      "Set parameter Username\n",
      "Academic license - for non-commercial use only - expires 2023-04-21\n",
      "Read LP format model from file /var/folders/85/n42jk96d3hsbdfcjbr1qlmb80000gp/T/tmp85zzb0dy.lp\n",
      "Reading time = 0.01 seconds\n",
      ": 654 rows, 1183 columns, 7655 nonzeros\n",
      "Set parameter Username\n",
      "Academic license - for non-commercial use only - expires 2023-04-21\n",
      "Read LP format model from file /var/folders/85/n42jk96d3hsbdfcjbr1qlmb80000gp/T/tmpt5bfr23h.lp\n",
      "Reading time = 0.01 seconds\n",
      ": 654 rows, 1183 columns, 7655 nonzeros\n",
      "Set parameter Username\n",
      "Academic license - for non-commercial use only - expires 2023-04-21\n",
      "Read LP format model from file /var/folders/85/n42jk96d3hsbdfcjbr1qlmb80000gp/T/tmpc8s30lum.lp\n",
      "Reading time = 0.01 seconds\n",
      ": 654 rows, 1183 columns, 7655 nonzeros\n"
     ]
    },
    {
     "name": "stderr",
     "output_type": "stream",
     "text": [
      "/Users/dap5mb/opt/anaconda3/lib/python3.8/site-packages/optlang/interface.py:1474: DeprecationWarning: Deprecated, pass a TempConstr or use Model.addLConstr\n",
      "  self._add_constraints(add_constr)\n"
     ]
    },
    {
     "name": "stdout",
     "output_type": "stream",
     "text": [
      "Set parameter Username\n",
      "Academic license - for non-commercial use only - expires 2023-04-21\n",
      "Read LP format model from file /var/folders/85/n42jk96d3hsbdfcjbr1qlmb80000gp/T/tmpefz8xqna.lp\n",
      "Reading time = 0.01 seconds\n",
      ": 654 rows, 1183 columns, 7655 nonzeros\n",
      "Set parameter Username\n",
      "Academic license - for non-commercial use only - expires 2023-04-21\n",
      "Read LP format model from file /var/folders/85/n42jk96d3hsbdfcjbr1qlmb80000gp/T/tmpyo85u91d.lp\n",
      "Reading time = 0.01 seconds\n",
      ": 654 rows, 1183 columns, 7655 nonzeros\n",
      "Set parameter Username\n",
      "Academic license - for non-commercial use only - expires 2023-04-21\n",
      "Read LP format model from file /var/folders/85/n42jk96d3hsbdfcjbr1qlmb80000gp/T/tmpwwe2cbx3.lp\n",
      "Reading time = 0.01 seconds\n",
      ": 654 rows, 1183 columns, 7655 nonzeros\n",
      "Set parameter Username\n",
      "Academic license - for non-commercial use only - expires 2023-04-21\n",
      "Read LP format model from file /var/folders/85/n42jk96d3hsbdfcjbr1qlmb80000gp/T/tmppoyal98w.lp\n",
      "Reading time = 0.01 seconds\n",
      ": 654 rows, 1183 columns, 7655 nonzeros\n",
      "Set parameter Username\n",
      "Academic license - for non-commercial use only - expires 2023-04-21\n",
      "Read LP format model from file /var/folders/85/n42jk96d3hsbdfcjbr1qlmb80000gp/T/tmp8yn20icx.lp\n",
      "Reading time = 0.01 seconds\n",
      ": 654 rows, 1183 columns, 7655 nonzeros\n",
      "Set parameter Username\n",
      "Academic license - for non-commercial use only - expires 2023-04-21\n",
      "Read LP format model from file /var/folders/85/n42jk96d3hsbdfcjbr1qlmb80000gp/T/tmpgs2nx5u_.lp\n",
      "Reading time = 0.01 seconds\n",
      ": 654 rows, 1183 columns, 7655 nonzeros\n",
      "Set parameter Username\n",
      "Academic license - for non-commercial use only - expires 2023-04-21\n",
      "Read LP format model from file /var/folders/85/n42jk96d3hsbdfcjbr1qlmb80000gp/T/tmp3t6updtn.lp\n",
      "Reading time = 0.01 seconds\n",
      ": 654 rows, 1183 columns, 7655 nonzeros\n",
      "Set parameter Username\n",
      "Academic license - for non-commercial use only - expires 2023-04-21\n",
      "Read LP format model from file /var/folders/85/n42jk96d3hsbdfcjbr1qlmb80000gp/T/tmpdti6h2xe.lp\n",
      "Reading time = 0.01 seconds\n",
      ": 654 rows, 1183 columns, 7655 nonzeros\n",
      "Set parameter Username\n",
      "Academic license - for non-commercial use only - expires 2023-04-21\n",
      "Read LP format model from file /var/folders/85/n42jk96d3hsbdfcjbr1qlmb80000gp/T/tmp5z2eyq83.lp\n",
      "Reading time = 0.01 seconds\n",
      ": 654 rows, 1183 columns, 7655 nonzeros\n",
      "Set parameter Username\n",
      "Academic license - for non-commercial use only - expires 2023-04-21\n",
      "Read LP format model from file /var/folders/85/n42jk96d3hsbdfcjbr1qlmb80000gp/T/tmpzf5h802g.lp\n",
      "Reading time = 0.01 seconds\n",
      ": 654 rows, 1183 columns, 7655 nonzeros\n",
      "Set parameter Username\n",
      "Academic license - for non-commercial use only - expires 2023-04-21\n",
      "Read LP format model from file /var/folders/85/n42jk96d3hsbdfcjbr1qlmb80000gp/T/tmpu47tcv75.lp\n",
      "Reading time = 0.01 seconds\n",
      ": 654 rows, 1183 columns, 7655 nonzeros\n",
      "Set parameter Username\n",
      "Academic license - for non-commercial use only - expires 2023-04-21\n",
      "Read LP format model from file /var/folders/85/n42jk96d3hsbdfcjbr1qlmb80000gp/T/tmpnl8k2fdp.lp\n",
      "Reading time = 0.01 seconds\n",
      ": 654 rows, 1183 columns, 7655 nonzeros\n",
      "Set parameter Username\n",
      "Academic license - for non-commercial use only - expires 2023-04-21\n",
      "Read LP format model from file /var/folders/85/n42jk96d3hsbdfcjbr1qlmb80000gp/T/tmpmsk9uqsh.lp\n",
      "Reading time = 0.01 seconds\n",
      ": 654 rows, 1183 columns, 7655 nonzeros\n",
      "Set parameter Username\n",
      "Academic license - for non-commercial use only - expires 2023-04-21\n",
      "Read LP format model from file /var/folders/85/n42jk96d3hsbdfcjbr1qlmb80000gp/T/tmpleo650z0.lp\n",
      "Reading time = 0.01 seconds\n",
      ": 654 rows, 1183 columns, 7655 nonzeros\n",
      "\n",
      "Reactions pruned to 590 from 1313 (55.06% change)\n",
      "Metabolites pruned to 651 from 1243 (47.63% change)\n",
      "Flux through the objective DECREASED to ~142.26 from ~159.67 (10.9% change)\n",
      "Context-specific metabolism does not correlate with transcriptome (r=-0.058, n.s.)\n",
      "\n",
      "RIPTiDe completed in, 1 minute and 36 seconds \n",
      "\n",
      "\n",
      "Initializing model and integrating transcriptomic data...\n",
      "Read LP format model from file /var/folders/85/n42jk96d3hsbdfcjbr1qlmb80000gp/T/tmpr36tdauh.lp\n",
      "Reading time = 0.01 seconds\n",
      ": 1243 rows, 2626 columns, 11388 nonzeros\n",
      "Pruning zero flux subnetworks...\n",
      "Read LP format model from file /var/folders/85/n42jk96d3hsbdfcjbr1qlmb80000gp/T/tmproh8ojov.lp\n",
      "Reading time = 0.01 seconds\n",
      ": 1243 rows, 2626 columns, 11388 nonzeros\n"
     ]
    },
    {
     "name": "stderr",
     "output_type": "stream",
     "text": [
      "/Users/dap5mb/opt/anaconda3/lib/python3.8/site-packages/optlang/interface.py:1474: DeprecationWarning: Deprecated, pass a TempConstr or use Model.addLConstr\n",
      "  self._add_constraints(add_constr)\n"
     ]
    },
    {
     "name": "stdout",
     "output_type": "stream",
     "text": [
      "Read LP format model from file /var/folders/85/n42jk96d3hsbdfcjbr1qlmb80000gp/T/tmpj76uf718.lp\n",
      "Reading time = 0.01 seconds\n",
      ": 1243 rows, 2626 columns, 11388 nonzeros\n"
     ]
    },
    {
     "name": "stderr",
     "output_type": "stream",
     "text": [
      "/Users/dap5mb/opt/anaconda3/lib/python3.8/site-packages/optlang/interface.py:1474: DeprecationWarning: Deprecated, pass a TempConstr or use Model.addLConstr\n",
      "  self._add_constraints(add_constr)\n"
     ]
    },
    {
     "name": "stdout",
     "output_type": "stream",
     "text": [
      "Analyzing context-specific flux distributions...\n",
      "Read LP format model from file /var/folders/85/n42jk96d3hsbdfcjbr1qlmb80000gp/T/tmp1w6sxtdq.lp\n",
      "Reading time = 0.01 seconds\n",
      ": 644 rows, 1160 columns, 5204 nonzeros\n"
     ]
    },
    {
     "name": "stderr",
     "output_type": "stream",
     "text": [
      "/Users/dap5mb/opt/anaconda3/lib/python3.8/site-packages/optlang/interface.py:1474: DeprecationWarning: Deprecated, pass a TempConstr or use Model.addLConstr\n",
      "  self._add_constraints(add_constr)\n"
     ]
    },
    {
     "name": "stdout",
     "output_type": "stream",
     "text": [
      "Set parameter Username\n",
      "Academic license - for non-commercial use only - expires 2023-04-21\n",
      "Read LP format model from file /var/folders/85/n42jk96d3hsbdfcjbr1qlmb80000gp/T/tmpnwuor5un.lp\n",
      "Reading time = 0.01 seconds\n",
      ": 647 rows, 1163 columns, 7529 nonzeros\n",
      "Set parameter Username\n",
      "Academic license - for non-commercial use only - expires 2023-04-21\n",
      "Read LP format model from file /var/folders/85/n42jk96d3hsbdfcjbr1qlmb80000gp/T/tmpb5_2185e.lp\n",
      "Reading time = 0.01 seconds\n",
      ": 647 rows, 1163 columns, 7529 nonzeros\n",
      "Set parameter Username\n",
      "Academic license - for non-commercial use only - expires 2023-04-21\n",
      "Read LP format model from file /var/folders/85/n42jk96d3hsbdfcjbr1qlmb80000gp/T/tmpjgk0ph2k.lp\n",
      "Reading time = 0.01 seconds\n",
      ": 647 rows, 1163 columns, 7529 nonzeros\n",
      "Set parameter Username\n",
      "Academic license - for non-commercial use only - expires 2023-04-21\n",
      "Read LP format model from file /var/folders/85/n42jk96d3hsbdfcjbr1qlmb80000gp/T/tmpcs1blmm7.lp\n",
      "Reading time = 0.01 seconds\n",
      ": 647 rows, 1163 columns, 7529 nonzeros\n",
      "Set parameter Username\n",
      "Academic license - for non-commercial use only - expires 2023-04-21\n",
      "Read LP format model from file /var/folders/85/n42jk96d3hsbdfcjbr1qlmb80000gp/T/tmp8xa53qra.lp\n",
      "Reading time = 0.01 seconds\n",
      ": 647 rows, 1163 columns, 7529 nonzeros\n",
      "Set parameter Username\n",
      "Academic license - for non-commercial use only - expires 2023-04-21\n",
      "Read LP format model from file /var/folders/85/n42jk96d3hsbdfcjbr1qlmb80000gp/T/tmpdl6rwskk.lp\n",
      "Reading time = 0.01 seconds\n",
      ": 647 rows, 1163 columns, 7529 nonzeros\n",
      "Set parameter Username\n",
      "Academic license - for non-commercial use only - expires 2023-04-21\n",
      "Read LP format model from file /var/folders/85/n42jk96d3hsbdfcjbr1qlmb80000gp/T/tmpj61thj88.lp\n",
      "Reading time = 0.02 seconds\n",
      ": 647 rows, 1163 columns, 7529 nonzeros\n",
      "Set parameter Username\n",
      "Academic license - for non-commercial use only - expires 2023-04-21\n",
      "Read LP format model from file /var/folders/85/n42jk96d3hsbdfcjbr1qlmb80000gp/T/tmp_5ycddao.lp\n",
      "Reading time = 0.01 seconds\n",
      ": 647 rows, 1163 columns, 7529 nonzeros\n",
      "Set parameter Username\n",
      "Academic license - for non-commercial use only - expires 2023-04-21\n",
      "Read LP format model from file /var/folders/85/n42jk96d3hsbdfcjbr1qlmb80000gp/T/tmp9ruhb62z.lp\n",
      "Reading time = 0.01 seconds\n",
      ": 647 rows, 1163 columns, 7529 nonzeros\n",
      "Set parameter Username\n",
      "Academic license - for non-commercial use only - expires 2023-04-21\n",
      "Read LP format model from file /var/folders/85/n42jk96d3hsbdfcjbr1qlmb80000gp/T/tmpd_tj3_gf.lp\n",
      "Reading time = 0.01 seconds\n",
      ": 647 rows, 1163 columns, 7529 nonzeros\n",
      "Set parameter Username\n",
      "Academic license - for non-commercial use only - expires 2023-04-21\n",
      "Read LP format model from file /var/folders/85/n42jk96d3hsbdfcjbr1qlmb80000gp/T/tmpgu3vead7.lp\n",
      "Reading time = 0.01 seconds\n",
      ": 647 rows, 1163 columns, 7529 nonzeros\n",
      "Set parameter Username\n",
      "Academic license - for non-commercial use only - expires 2023-04-21\n",
      "Read LP format model from file /var/folders/85/n42jk96d3hsbdfcjbr1qlmb80000gp/T/tmpc2i4rqtm.lp\n",
      "Reading time = 0.01 seconds\n",
      ": 647 rows, 1163 columns, 7529 nonzeros\n",
      "Set parameter Username\n",
      "Academic license - for non-commercial use only - expires 2023-04-21\n",
      "Read LP format model from file /var/folders/85/n42jk96d3hsbdfcjbr1qlmb80000gp/T/tmp4qxbrqlk.lp\n",
      "Reading time = 0.01 seconds\n",
      ": 647 rows, 1163 columns, 7529 nonzeros\n",
      "Set parameter Username\n",
      "Academic license - for non-commercial use only - expires 2023-04-21\n",
      "Read LP format model from file /var/folders/85/n42jk96d3hsbdfcjbr1qlmb80000gp/T/tmppgbh5ovz.lp\n",
      "Reading time = 0.02 seconds\n",
      ": 647 rows, 1163 columns, 7529 nonzeros\n"
     ]
    },
    {
     "name": "stderr",
     "output_type": "stream",
     "text": [
      "/Users/dap5mb/opt/anaconda3/lib/python3.8/site-packages/optlang/interface.py:1474: DeprecationWarning: Deprecated, pass a TempConstr or use Model.addLConstr\n",
      "  self._add_constraints(add_constr)\n"
     ]
    },
    {
     "name": "stdout",
     "output_type": "stream",
     "text": [
      "Set parameter Username\n",
      "Academic license - for non-commercial use only - expires 2023-04-21\n",
      "Read LP format model from file /var/folders/85/n42jk96d3hsbdfcjbr1qlmb80000gp/T/tmpf1q1yzwr.lp\n",
      "Reading time = 0.01 seconds\n",
      ": 647 rows, 1163 columns, 7529 nonzeros\n",
      "Set parameter Username\n",
      "Academic license - for non-commercial use only - expires 2023-04-21\n",
      "Read LP format model from file /var/folders/85/n42jk96d3hsbdfcjbr1qlmb80000gp/T/tmpap3x7xpp.lp\n",
      "Reading time = 0.01 seconds\n",
      ": 647 rows, 1163 columns, 7529 nonzeros\n",
      "Set parameter Username\n",
      "Academic license - for non-commercial use only - expires 2023-04-21\n",
      "Read LP format model from file /var/folders/85/n42jk96d3hsbdfcjbr1qlmb80000gp/T/tmpkbzjumw7.lp\n",
      "Reading time = 0.01 seconds\n",
      ": 647 rows, 1163 columns, 7529 nonzeros\n",
      "Set parameter Username\n",
      "Academic license - for non-commercial use only - expires 2023-04-21\n",
      "Read LP format model from file /var/folders/85/n42jk96d3hsbdfcjbr1qlmb80000gp/T/tmpjuhju20o.lp\n",
      "Reading time = 0.01 seconds\n",
      ": 647 rows, 1163 columns, 7529 nonzeros\n",
      "Set parameter Username\n",
      "Academic license - for non-commercial use only - expires 2023-04-21\n",
      "Read LP format model from file /var/folders/85/n42jk96d3hsbdfcjbr1qlmb80000gp/T/tmpunvltd8j.lp\n",
      "Reading time = 0.01 seconds\n",
      ": 647 rows, 1163 columns, 7529 nonzeros\n",
      "Set parameter Username\n",
      "Academic license - for non-commercial use only - expires 2023-04-21\n",
      "Read LP format model from file /var/folders/85/n42jk96d3hsbdfcjbr1qlmb80000gp/T/tmpxrttyf0s.lp\n",
      "Reading time = 0.01 seconds\n",
      ": 647 rows, 1163 columns, 7529 nonzeros\n",
      "Set parameter Username\n",
      "Academic license - for non-commercial use only - expires 2023-04-21\n",
      "Read LP format model from file /var/folders/85/n42jk96d3hsbdfcjbr1qlmb80000gp/T/tmp2cqoo__2.lp\n",
      "Reading time = 0.01 seconds\n",
      ": 647 rows, 1163 columns, 7529 nonzeros\n",
      "Set parameter Username\n",
      "Academic license - for non-commercial use only - expires 2023-04-21\n",
      "Read LP format model from file /var/folders/85/n42jk96d3hsbdfcjbr1qlmb80000gp/T/tmpj6kok0tn.lp\n",
      "Reading time = 0.01 seconds\n",
      ": 647 rows, 1163 columns, 7529 nonzeros\n",
      "Set parameter Username\n",
      "Academic license - for non-commercial use only - expires 2023-04-21\n",
      "Read LP format model from file /var/folders/85/n42jk96d3hsbdfcjbr1qlmb80000gp/T/tmp4k9h59u6.lp\n",
      "Reading time = 0.01 seconds\n",
      ": 647 rows, 1163 columns, 7529 nonzeros\n",
      "Set parameter Username\n",
      "Academic license - for non-commercial use only - expires 2023-04-21\n",
      "Read LP format model from file /var/folders/85/n42jk96d3hsbdfcjbr1qlmb80000gp/T/tmpsdlftt8z.lp\n",
      "Reading time = 0.01 seconds\n",
      ": 647 rows, 1163 columns, 7529 nonzeros\n",
      "Set parameter Username\n",
      "Academic license - for non-commercial use only - expires 2023-04-21\n",
      "Read LP format model from file /var/folders/85/n42jk96d3hsbdfcjbr1qlmb80000gp/T/tmp75i0sfnt.lp\n",
      "Reading time = 0.01 seconds\n",
      ": 647 rows, 1163 columns, 7529 nonzeros\n",
      "Set parameter Username\n",
      "Academic license - for non-commercial use only - expires 2023-04-21\n",
      "Read LP format model from file /var/folders/85/n42jk96d3hsbdfcjbr1qlmb80000gp/T/tmpqmcuauyk.lp\n",
      "Reading time = 0.01 seconds\n",
      ": 647 rows, 1163 columns, 7529 nonzeros\n",
      "Set parameter Username\n",
      "Academic license - for non-commercial use only - expires 2023-04-21\n",
      "Read LP format model from file /var/folders/85/n42jk96d3hsbdfcjbr1qlmb80000gp/T/tmphrc3s9mx.lp\n",
      "Reading time = 0.01 seconds\n",
      ": 647 rows, 1163 columns, 7529 nonzeros\n",
      "Set parameter Username\n",
      "Academic license - for non-commercial use only - expires 2023-04-21\n",
      "Read LP format model from file /var/folders/85/n42jk96d3hsbdfcjbr1qlmb80000gp/T/tmptga8_ds5.lp\n",
      "Reading time = 0.01 seconds\n",
      ": 647 rows, 1163 columns, 7529 nonzeros\n",
      "\n",
      "Reactions pruned to 580 from 1313 (55.83% change)\n",
      "Metabolites pruned to 644 from 1243 (48.19% change)\n",
      "Flux through the objective DECREASED to ~142.37 from ~159.67 (10.83% change)\n",
      "Context-specific metabolism does not correlate with transcriptome (r=-0.055, n.s.)\n",
      "\n",
      "RIPTiDe completed in, 1 minute and 44 seconds \n",
      "\n"
     ]
    }
   ],
   "source": [
    "rip_ty = riptide.contextualize(model=r20291, conservative=True, transcriptome=ty)\n",
    "rip_tycys = riptide.contextualize(model=r20291, conservative=True, transcriptome=tycys, samples=500)"
   ]
  },
  {
   "cell_type": "markdown",
   "id": "5f77b8f0-238e-4c7b-8152-6a526947f89a",
   "metadata": {},
   "source": [
    "### GSE86152"
   ]
  },
  {
   "cell_type": "code",
   "execution_count": 14,
   "id": "99f3ccf6-6b14-45af-9bc8-8ccebe8cc0c8",
   "metadata": {},
   "outputs": [],
   "source": [
    "dmso = riptide.read_transcription_file('../data/counts/gse86152_dmso.tsv') # Raw counts\n",
    "dca = riptide.read_transcription_file('../data/counts/gse86152_dca.tsv') # Raw counts\n",
    "cho = riptide.read_transcription_file('../data/counts/gse86152_cho.tsv') # Raw counts"
   ]
  },
  {
   "cell_type": "code",
   "execution_count": 15,
   "id": "e7a7593b-2225-40af-bca1-1845ab23d5e2",
   "metadata": {
    "tags": []
   },
   "outputs": [
    {
     "name": "stdout",
     "output_type": "stream",
     "text": [
      "\n",
      "Initializing model and integrating transcriptomic data...\n",
      "Read LP format model from file /var/folders/85/n42jk96d3hsbdfcjbr1qlmb80000gp/T/tmpmju1ybz5.lp\n",
      "Reading time = 0.01 seconds\n",
      ": 1243 rows, 2626 columns, 11388 nonzeros\n",
      "Pruning zero flux subnetworks...\n",
      "Read LP format model from file /var/folders/85/n42jk96d3hsbdfcjbr1qlmb80000gp/T/tmp5dak9wvv.lp\n",
      "Reading time = 0.01 seconds\n",
      ": 1243 rows, 2626 columns, 11388 nonzeros\n"
     ]
    },
    {
     "name": "stderr",
     "output_type": "stream",
     "text": [
      "/Users/dap5mb/opt/anaconda3/lib/python3.8/site-packages/optlang/interface.py:1474: DeprecationWarning: Deprecated, pass a TempConstr or use Model.addLConstr\n",
      "  self._add_constraints(add_constr)\n"
     ]
    },
    {
     "name": "stdout",
     "output_type": "stream",
     "text": [
      "Read LP format model from file /var/folders/85/n42jk96d3hsbdfcjbr1qlmb80000gp/T/tmple5ssrab.lp\n",
      "Reading time = 0.01 seconds\n",
      ": 1243 rows, 2626 columns, 11388 nonzeros\n"
     ]
    },
    {
     "name": "stderr",
     "output_type": "stream",
     "text": [
      "/Users/dap5mb/opt/anaconda3/lib/python3.8/site-packages/optlang/interface.py:1474: DeprecationWarning: Deprecated, pass a TempConstr or use Model.addLConstr\n",
      "  self._add_constraints(add_constr)\n"
     ]
    },
    {
     "name": "stdout",
     "output_type": "stream",
     "text": [
      "Read LP format model from file /var/folders/85/n42jk96d3hsbdfcjbr1qlmb80000gp/T/tmpisvck3fr.lp\n",
      "Reading time = 0.01 seconds\n",
      ": 1243 rows, 2626 columns, 11388 nonzeros\n"
     ]
    },
    {
     "name": "stderr",
     "output_type": "stream",
     "text": [
      "/Users/dap5mb/opt/anaconda3/lib/python3.8/site-packages/optlang/interface.py:1474: DeprecationWarning: Deprecated, pass a TempConstr or use Model.addLConstr\n",
      "  self._add_constraints(add_constr)\n"
     ]
    },
    {
     "name": "stdout",
     "output_type": "stream",
     "text": [
      "Read LP format model from file /var/folders/85/n42jk96d3hsbdfcjbr1qlmb80000gp/T/tmpogdjbpqe.lp\n",
      "Reading time = 0.01 seconds\n",
      ": 1243 rows, 2626 columns, 11388 nonzeros\n"
     ]
    },
    {
     "name": "stderr",
     "output_type": "stream",
     "text": [
      "/Users/dap5mb/opt/anaconda3/lib/python3.8/site-packages/optlang/interface.py:1474: DeprecationWarning: Deprecated, pass a TempConstr or use Model.addLConstr\n",
      "  self._add_constraints(add_constr)\n"
     ]
    },
    {
     "name": "stdout",
     "output_type": "stream",
     "text": [
      "Analyzing context-specific flux distributions...\n",
      "Read LP format model from file /var/folders/85/n42jk96d3hsbdfcjbr1qlmb80000gp/T/tmplh7g0uxn.lp\n",
      "Reading time = 0.01 seconds\n",
      ": 659 rows, 1208 columns, 5376 nonzeros\n"
     ]
    },
    {
     "name": "stderr",
     "output_type": "stream",
     "text": [
      "/Users/dap5mb/opt/anaconda3/lib/python3.8/site-packages/optlang/interface.py:1474: DeprecationWarning: Deprecated, pass a TempConstr or use Model.addLConstr\n",
      "  self._add_constraints(add_constr)\n"
     ]
    },
    {
     "name": "stdout",
     "output_type": "stream",
     "text": [
      "Set parameter Username\n",
      "Academic license - for non-commercial use only - expires 2023-04-21\n",
      "Read LP format model from file /var/folders/85/n42jk96d3hsbdfcjbr1qlmb80000gp/T/tmpupmu6euw.lp\n",
      "Reading time = 0.01 seconds\n",
      ": 662 rows, 1211 columns, 7797 nonzeros\n",
      "Set parameter Username\n",
      "Academic license - for non-commercial use only - expires 2023-04-21\n",
      "Read LP format model from file /var/folders/85/n42jk96d3hsbdfcjbr1qlmb80000gp/T/tmpri_8k8fw.lp\n",
      "Reading time = 0.01 seconds\n",
      ": 662 rows, 1211 columns, 7797 nonzeros\n",
      "Set parameter Username\n",
      "Academic license - for non-commercial use only - expires 2023-04-21\n",
      "Read LP format model from file /var/folders/85/n42jk96d3hsbdfcjbr1qlmb80000gp/T/tmpjg20ujlw.lp\n",
      "Reading time = 0.01 seconds\n",
      ": 662 rows, 1211 columns, 7797 nonzeros\n",
      "Set parameter Username\n",
      "Academic license - for non-commercial use only - expires 2023-04-21\n",
      "Read LP format model from file /var/folders/85/n42jk96d3hsbdfcjbr1qlmb80000gp/T/tmpnj2di8o9.lp\n",
      "Reading time = 0.01 seconds\n",
      ": 662 rows, 1211 columns, 7797 nonzeros\n",
      "Set parameter Username\n",
      "Academic license - for non-commercial use only - expires 2023-04-21\n",
      "Read LP format model from file /var/folders/85/n42jk96d3hsbdfcjbr1qlmb80000gp/T/tmpsnjjchm2.lp\n",
      "Reading time = 0.01 seconds\n",
      ": 662 rows, 1211 columns, 7797 nonzeros\n",
      "Set parameter Username\n",
      "Academic license - for non-commercial use only - expires 2023-04-21\n",
      "Read LP format model from file /var/folders/85/n42jk96d3hsbdfcjbr1qlmb80000gp/T/tmprmxr8zz7.lp\n",
      "Reading time = 0.01 seconds\n",
      ": 662 rows, 1211 columns, 7797 nonzeros\n",
      "Set parameter Username\n",
      "Academic license - for non-commercial use only - expires 2023-04-21\n",
      "Read LP format model from file /var/folders/85/n42jk96d3hsbdfcjbr1qlmb80000gp/T/tmp3zcfz72c.lp\n",
      "Reading time = 0.01 seconds\n",
      ": 662 rows, 1211 columns, 7797 nonzeros\n",
      "Set parameter Username\n",
      "Academic license - for non-commercial use only - expires 2023-04-21\n",
      "Read LP format model from file /var/folders/85/n42jk96d3hsbdfcjbr1qlmb80000gp/T/tmpvhkwqje4.lp\n",
      "Reading time = 0.01 seconds\n",
      ": 662 rows, 1211 columns, 7797 nonzeros\n",
      "Set parameter Username\n",
      "Academic license - for non-commercial use only - expires 2023-04-21\n",
      "Read LP format model from file /var/folders/85/n42jk96d3hsbdfcjbr1qlmb80000gp/T/tmppt7rqcl5.lp\n",
      "Reading time = 0.01 seconds\n",
      ": 662 rows, 1211 columns, 7797 nonzeros\n",
      "Set parameter Username\n",
      "Academic license - for non-commercial use only - expires 2023-04-21\n",
      "Read LP format model from file /var/folders/85/n42jk96d3hsbdfcjbr1qlmb80000gp/T/tmpoq7rj6vh.lp\n",
      "Reading time = 0.01 seconds\n",
      ": 662 rows, 1211 columns, 7797 nonzeros\n",
      "Set parameter Username\n",
      "Academic license - for non-commercial use only - expires 2023-04-21\n",
      "Read LP format model from file /var/folders/85/n42jk96d3hsbdfcjbr1qlmb80000gp/T/tmphfosbcy3.lp\n",
      "Reading time = 0.01 seconds\n",
      ": 662 rows, 1211 columns, 7797 nonzeros\n",
      "Set parameter Username\n",
      "Academic license - for non-commercial use only - expires 2023-04-21\n",
      "Read LP format model from file /var/folders/85/n42jk96d3hsbdfcjbr1qlmb80000gp/T/tmpcqrwn3rw.lp\n",
      "Reading time = 0.01 seconds\n",
      ": 662 rows, 1211 columns, 7797 nonzeros\n",
      "Set parameter Username\n",
      "Academic license - for non-commercial use only - expires 2023-04-21\n",
      "Read LP format model from file /var/folders/85/n42jk96d3hsbdfcjbr1qlmb80000gp/T/tmp_ui8igy6.lp\n",
      "Reading time = 0.01 seconds\n",
      ": 662 rows, 1211 columns, 7797 nonzeros\n",
      "Set parameter Username\n",
      "Academic license - for non-commercial use only - expires 2023-04-21\n",
      "Read LP format model from file /var/folders/85/n42jk96d3hsbdfcjbr1qlmb80000gp/T/tmpi4wffuoy.lp\n",
      "Reading time = 0.01 seconds\n",
      ": 662 rows, 1211 columns, 7797 nonzeros\n"
     ]
    },
    {
     "name": "stderr",
     "output_type": "stream",
     "text": [
      "/Users/dap5mb/opt/anaconda3/lib/python3.8/site-packages/optlang/interface.py:1474: DeprecationWarning: Deprecated, pass a TempConstr or use Model.addLConstr\n",
      "  self._add_constraints(add_constr)\n"
     ]
    },
    {
     "name": "stdout",
     "output_type": "stream",
     "text": [
      "Set parameter Username\n",
      "Academic license - for non-commercial use only - expires 2023-04-21\n",
      "Read LP format model from file /var/folders/85/n42jk96d3hsbdfcjbr1qlmb80000gp/T/tmp0yz0lkcm.lp\n",
      "Reading time = 0.01 seconds\n",
      ": 662 rows, 1211 columns, 7797 nonzeros\n",
      "Set parameter Username\n",
      "Academic license - for non-commercial use only - expires 2023-04-21\n",
      "Read LP format model from file /var/folders/85/n42jk96d3hsbdfcjbr1qlmb80000gp/T/tmp9q84qg_z.lp\n",
      "Reading time = 0.01 seconds\n",
      ": 662 rows, 1211 columns, 7797 nonzeros\n",
      "Set parameter Username\n",
      "Academic license - for non-commercial use only - expires 2023-04-21\n",
      "Read LP format model from file /var/folders/85/n42jk96d3hsbdfcjbr1qlmb80000gp/T/tmpl3z62f65.lp\n",
      "Reading time = 0.01 seconds\n",
      ": 662 rows, 1211 columns, 7797 nonzeros\n",
      "Set parameter Username\n",
      "Academic license - for non-commercial use only - expires 2023-04-21\n",
      "Read LP format model from file /var/folders/85/n42jk96d3hsbdfcjbr1qlmb80000gp/T/tmpmhcygq3d.lp\n",
      "Reading time = 0.01 seconds\n",
      ": 662 rows, 1211 columns, 7797 nonzeros\n",
      "Set parameter Username\n",
      "Academic license - for non-commercial use only - expires 2023-04-21\n",
      "Read LP format model from file /var/folders/85/n42jk96d3hsbdfcjbr1qlmb80000gp/T/tmp_4awnovb.lp\n",
      "Reading time = 0.01 seconds\n",
      ": 662 rows, 1211 columns, 7797 nonzeros\n",
      "Set parameter Username\n",
      "Academic license - for non-commercial use only - expires 2023-04-21\n",
      "Read LP format model from file /var/folders/85/n42jk96d3hsbdfcjbr1qlmb80000gp/T/tmp_3dpa7fb.lp\n",
      "Reading time = 0.01 seconds\n",
      ": 662 rows, 1211 columns, 7797 nonzeros\n",
      "Set parameter Username\n",
      "Academic license - for non-commercial use only - expires 2023-04-21\n",
      "Read LP format model from file /var/folders/85/n42jk96d3hsbdfcjbr1qlmb80000gp/T/tmpt9k4dsz6.lp\n",
      "Reading time = 0.01 seconds\n",
      ": 662 rows, 1211 columns, 7797 nonzeros\n",
      "Set parameter Username\n",
      "Academic license - for non-commercial use only - expires 2023-04-21\n",
      "Read LP format model from file /var/folders/85/n42jk96d3hsbdfcjbr1qlmb80000gp/T/tmps0xnqf6g.lp\n",
      "Reading time = 0.01 seconds\n",
      ": 662 rows, 1211 columns, 7797 nonzeros\n",
      "Set parameter Username\n",
      "Academic license - for non-commercial use only - expires 2023-04-21\n",
      "Read LP format model from file /var/folders/85/n42jk96d3hsbdfcjbr1qlmb80000gp/T/tmp3pl0te8e.lp\n",
      "Reading time = 0.01 seconds\n",
      ": 662 rows, 1211 columns, 7797 nonzeros\n",
      "Set parameter Username\n",
      "Academic license - for non-commercial use only - expires 2023-04-21\n",
      "Read LP format model from file /var/folders/85/n42jk96d3hsbdfcjbr1qlmb80000gp/T/tmpnfi5afqg.lp\n",
      "Reading time = 0.01 seconds\n",
      ": 662 rows, 1211 columns, 7797 nonzeros\n",
      "Set parameter Username\n",
      "Academic license - for non-commercial use only - expires 2023-04-21\n",
      "Read LP format model from file /var/folders/85/n42jk96d3hsbdfcjbr1qlmb80000gp/T/tmpfuezqsn8.lp\n",
      "Reading time = 0.01 seconds\n",
      ": 662 rows, 1211 columns, 7797 nonzeros\n",
      "Set parameter Username\n",
      "Academic license - for non-commercial use only - expires 2023-04-21\n",
      "Read LP format model from file /var/folders/85/n42jk96d3hsbdfcjbr1qlmb80000gp/T/tmpez2uy9zx.lp\n",
      "Reading time = 0.01 seconds\n",
      ": 662 rows, 1211 columns, 7797 nonzeros\n",
      "Set parameter Username\n",
      "Academic license - for non-commercial use only - expires 2023-04-21\n",
      "Read LP format model from file /var/folders/85/n42jk96d3hsbdfcjbr1qlmb80000gp/T/tmpzq9ym_ud.lp\n",
      "Reading time = 0.01 seconds\n",
      ": 662 rows, 1211 columns, 7797 nonzeros\n",
      "Set parameter Username\n",
      "Academic license - for non-commercial use only - expires 2023-04-21\n",
      "Read LP format model from file /var/folders/85/n42jk96d3hsbdfcjbr1qlmb80000gp/T/tmp157xbkd1.lp\n",
      "Reading time = 0.01 seconds\n",
      ": 662 rows, 1211 columns, 7797 nonzeros\n",
      "\n",
      "Reactions pruned to 604 from 1313 (54.0% change)\n",
      "Metabolites pruned to 659 from 1243 (46.98% change)\n",
      "Flux through the objective DECREASED to ~151.9 from ~159.67 (4.87% change)\n",
      "Context-specific metabolism does not correlate with transcriptome (r=0.072, n.s.)\n",
      "\n",
      "RIPTiDe completed in, 1 minute and 41 seconds \n",
      "\n",
      "\n",
      "Initializing model and integrating transcriptomic data...\n",
      "Read LP format model from file /var/folders/85/n42jk96d3hsbdfcjbr1qlmb80000gp/T/tmpvos3iyid.lp\n",
      "Reading time = 0.01 seconds\n",
      ": 1243 rows, 2626 columns, 11388 nonzeros\n",
      "Pruning zero flux subnetworks...\n",
      "Read LP format model from file /var/folders/85/n42jk96d3hsbdfcjbr1qlmb80000gp/T/tmpb2e3m_vm.lp\n",
      "Reading time = 0.01 seconds\n",
      ": 1243 rows, 2626 columns, 11388 nonzeros\n"
     ]
    },
    {
     "name": "stderr",
     "output_type": "stream",
     "text": [
      "/Users/dap5mb/opt/anaconda3/lib/python3.8/site-packages/optlang/interface.py:1474: DeprecationWarning: Deprecated, pass a TempConstr or use Model.addLConstr\n",
      "  self._add_constraints(add_constr)\n"
     ]
    },
    {
     "name": "stdout",
     "output_type": "stream",
     "text": [
      "Read LP format model from file /var/folders/85/n42jk96d3hsbdfcjbr1qlmb80000gp/T/tmpbi5rrnfe.lp\n",
      "Reading time = 0.01 seconds\n",
      ": 1243 rows, 2626 columns, 11388 nonzeros\n"
     ]
    },
    {
     "name": "stderr",
     "output_type": "stream",
     "text": [
      "/Users/dap5mb/opt/anaconda3/lib/python3.8/site-packages/optlang/interface.py:1474: DeprecationWarning: Deprecated, pass a TempConstr or use Model.addLConstr\n",
      "  self._add_constraints(add_constr)\n"
     ]
    },
    {
     "name": "stdout",
     "output_type": "stream",
     "text": [
      "Read LP format model from file /var/folders/85/n42jk96d3hsbdfcjbr1qlmb80000gp/T/tmp_uer4zhx.lp\n",
      "Reading time = 0.01 seconds\n",
      ": 1243 rows, 2626 columns, 11388 nonzeros\n"
     ]
    },
    {
     "name": "stderr",
     "output_type": "stream",
     "text": [
      "/Users/dap5mb/opt/anaconda3/lib/python3.8/site-packages/optlang/interface.py:1474: DeprecationWarning: Deprecated, pass a TempConstr or use Model.addLConstr\n",
      "  self._add_constraints(add_constr)\n"
     ]
    },
    {
     "name": "stdout",
     "output_type": "stream",
     "text": [
      "Read LP format model from file /var/folders/85/n42jk96d3hsbdfcjbr1qlmb80000gp/T/tmpcwvzui4r.lp\n",
      "Reading time = 0.01 seconds\n",
      ": 1243 rows, 2626 columns, 11388 nonzeros\n"
     ]
    },
    {
     "name": "stderr",
     "output_type": "stream",
     "text": [
      "/Users/dap5mb/opt/anaconda3/lib/python3.8/site-packages/optlang/interface.py:1474: DeprecationWarning: Deprecated, pass a TempConstr or use Model.addLConstr\n",
      "  self._add_constraints(add_constr)\n"
     ]
    },
    {
     "name": "stdout",
     "output_type": "stream",
     "text": [
      "Analyzing context-specific flux distributions...\n",
      "Read LP format model from file /var/folders/85/n42jk96d3hsbdfcjbr1qlmb80000gp/T/tmpde1aaq08.lp\n",
      "Reading time = 0.01 seconds\n",
      ": 651 rows, 1202 columns, 5348 nonzeros\n"
     ]
    },
    {
     "name": "stderr",
     "output_type": "stream",
     "text": [
      "/Users/dap5mb/opt/anaconda3/lib/python3.8/site-packages/optlang/interface.py:1474: DeprecationWarning: Deprecated, pass a TempConstr or use Model.addLConstr\n",
      "  self._add_constraints(add_constr)\n"
     ]
    },
    {
     "name": "stdout",
     "output_type": "stream",
     "text": [
      "Set parameter Username\n",
      "Academic license - for non-commercial use only - expires 2023-04-21\n",
      "Read LP format model from file /var/folders/85/n42jk96d3hsbdfcjbr1qlmb80000gp/T/tmpnax6u0uf.lp\n",
      "Reading time = 0.01 seconds\n",
      ": 654 rows, 1205 columns, 7757 nonzeros\n",
      "Set parameter Username\n",
      "Academic license - for non-commercial use only - expires 2023-04-21\n",
      "Read LP format model from file /var/folders/85/n42jk96d3hsbdfcjbr1qlmb80000gp/T/tmpse2mi5nz.lp\n",
      "Reading time = 0.01 seconds\n",
      ": 654 rows, 1205 columns, 7757 nonzeros\n",
      "Set parameter Username\n",
      "Academic license - for non-commercial use only - expires 2023-04-21\n",
      "Read LP format model from file /var/folders/85/n42jk96d3hsbdfcjbr1qlmb80000gp/T/tmpouvsxwqp.lp\n",
      "Reading time = 0.01 seconds\n",
      ": 654 rows, 1205 columns, 7757 nonzeros\n",
      "Set parameter Username\n",
      "Academic license - for non-commercial use only - expires 2023-04-21\n",
      "Read LP format model from file /var/folders/85/n42jk96d3hsbdfcjbr1qlmb80000gp/T/tmprikopocq.lp\n",
      "Reading time = 0.01 seconds\n",
      ": 654 rows, 1205 columns, 7757 nonzeros\n",
      "Set parameter Username\n",
      "Academic license - for non-commercial use only - expires 2023-04-21\n",
      "Read LP format model from file /var/folders/85/n42jk96d3hsbdfcjbr1qlmb80000gp/T/tmpdmrdeyeb.lp\n",
      "Reading time = 0.01 seconds\n",
      ": 654 rows, 1205 columns, 7757 nonzeros\n",
      "Set parameter Username\n",
      "Academic license - for non-commercial use only - expires 2023-04-21\n",
      "Read LP format model from file /var/folders/85/n42jk96d3hsbdfcjbr1qlmb80000gp/T/tmp2r7tkmda.lp\n",
      "Reading time = 0.01 seconds\n",
      ": 654 rows, 1205 columns, 7757 nonzeros\n",
      "Set parameter Username\n",
      "Academic license - for non-commercial use only - expires 2023-04-21\n",
      "Read LP format model from file /var/folders/85/n42jk96d3hsbdfcjbr1qlmb80000gp/T/tmpzj7u1ax9.lp\n",
      "Reading time = 0.01 seconds\n",
      ": 654 rows, 1205 columns, 7757 nonzeros\n",
      "Set parameter Username\n",
      "Academic license - for non-commercial use only - expires 2023-04-21\n",
      "Read LP format model from file /var/folders/85/n42jk96d3hsbdfcjbr1qlmb80000gp/T/tmpvf18s713.lp\n",
      "Reading time = 0.01 seconds\n",
      ": 654 rows, 1205 columns, 7757 nonzeros\n",
      "Set parameter Username\n",
      "Academic license - for non-commercial use only - expires 2023-04-21\n",
      "Read LP format model from file /var/folders/85/n42jk96d3hsbdfcjbr1qlmb80000gp/T/tmpg3fulsm_.lp\n",
      "Reading time = 0.02 seconds\n",
      ": 654 rows, 1205 columns, 7757 nonzeros\n",
      "Set parameter Username\n",
      "Academic license - for non-commercial use only - expires 2023-04-21\n",
      "Read LP format model from file /var/folders/85/n42jk96d3hsbdfcjbr1qlmb80000gp/T/tmpezj472x4.lp\n",
      "Reading time = 0.01 seconds\n",
      ": 654 rows, 1205 columns, 7757 nonzeros\n",
      "Set parameter Username\n",
      "Academic license - for non-commercial use only - expires 2023-04-21\n",
      "Read LP format model from file /var/folders/85/n42jk96d3hsbdfcjbr1qlmb80000gp/T/tmpg3o2voev.lp\n",
      "Reading time = 0.01 seconds\n",
      ": 654 rows, 1205 columns, 7757 nonzeros\n",
      "Set parameter Username\n",
      "Academic license - for non-commercial use only - expires 2023-04-21\n",
      "Read LP format model from file /var/folders/85/n42jk96d3hsbdfcjbr1qlmb80000gp/T/tmpsd9ndqk2.lp\n",
      "Reading time = 0.01 seconds\n",
      ": 654 rows, 1205 columns, 7757 nonzeros\n",
      "Set parameter Username\n",
      "Academic license - for non-commercial use only - expires 2023-04-21\n",
      "Read LP format model from file /var/folders/85/n42jk96d3hsbdfcjbr1qlmb80000gp/T/tmpakto5ig4.lp\n",
      "Reading time = 0.01 seconds\n",
      ": 654 rows, 1205 columns, 7757 nonzeros\n",
      "Set parameter Username\n",
      "Academic license - for non-commercial use only - expires 2023-04-21\n",
      "Read LP format model from file /var/folders/85/n42jk96d3hsbdfcjbr1qlmb80000gp/T/tmpz5p56az3.lp\n",
      "Reading time = 0.01 seconds\n",
      ": 654 rows, 1205 columns, 7757 nonzeros\n"
     ]
    },
    {
     "name": "stderr",
     "output_type": "stream",
     "text": [
      "/Users/dap5mb/opt/anaconda3/lib/python3.8/site-packages/optlang/interface.py:1474: DeprecationWarning: Deprecated, pass a TempConstr or use Model.addLConstr\n",
      "  self._add_constraints(add_constr)\n"
     ]
    },
    {
     "name": "stdout",
     "output_type": "stream",
     "text": [
      "Set parameter Username\n",
      "Academic license - for non-commercial use only - expires 2023-04-21\n",
      "Read LP format model from file /var/folders/85/n42jk96d3hsbdfcjbr1qlmb80000gp/T/tmpm0dgxvox.lp\n",
      "Reading time = 0.01 seconds\n",
      ": 654 rows, 1205 columns, 7757 nonzeros\n",
      "Set parameter Username\n",
      "Academic license - for non-commercial use only - expires 2023-04-21\n",
      "Read LP format model from file /var/folders/85/n42jk96d3hsbdfcjbr1qlmb80000gp/T/tmp8gzlx0ql.lp\n",
      "Reading time = 0.01 seconds\n",
      ": 654 rows, 1205 columns, 7757 nonzeros\n",
      "Set parameter Username\n",
      "Academic license - for non-commercial use only - expires 2023-04-21\n",
      "Read LP format model from file /var/folders/85/n42jk96d3hsbdfcjbr1qlmb80000gp/T/tmpmtwsaz60.lp\n",
      "Reading time = 0.01 seconds\n",
      ": 654 rows, 1205 columns, 7757 nonzeros\n",
      "Set parameter Username\n",
      "Academic license - for non-commercial use only - expires 2023-04-21\n",
      "Read LP format model from file /var/folders/85/n42jk96d3hsbdfcjbr1qlmb80000gp/T/tmptxqs7cxi.lp\n",
      "Reading time = 0.01 seconds\n",
      ": 654 rows, 1205 columns, 7757 nonzeros\n",
      "Set parameter Username\n",
      "Academic license - for non-commercial use only - expires 2023-04-21\n",
      "Read LP format model from file /var/folders/85/n42jk96d3hsbdfcjbr1qlmb80000gp/T/tmp9zmht1ac.lp\n",
      "Reading time = 0.01 seconds\n",
      ": 654 rows, 1205 columns, 7757 nonzeros\n",
      "Set parameter Username\n",
      "Academic license - for non-commercial use only - expires 2023-04-21\n",
      "Read LP format model from file /var/folders/85/n42jk96d3hsbdfcjbr1qlmb80000gp/T/tmphknzjr7t.lp\n",
      "Reading time = 0.01 seconds\n",
      ": 654 rows, 1205 columns, 7757 nonzeros\n",
      "Set parameter Username\n",
      "Academic license - for non-commercial use only - expires 2023-04-21\n",
      "Read LP format model from file /var/folders/85/n42jk96d3hsbdfcjbr1qlmb80000gp/T/tmped1d4ix9.lp\n",
      "Reading time = 0.02 seconds\n",
      ": 654 rows, 1205 columns, 7757 nonzeros\n",
      "Set parameter Username\n",
      "Academic license - for non-commercial use only - expires 2023-04-21\n",
      "Read LP format model from file /var/folders/85/n42jk96d3hsbdfcjbr1qlmb80000gp/T/tmp374jfxac.lp\n",
      "Reading time = 0.01 seconds\n",
      ": 654 rows, 1205 columns, 7757 nonzeros\n",
      "Set parameter Username\n",
      "Academic license - for non-commercial use only - expires 2023-04-21\n",
      "Read LP format model from file /var/folders/85/n42jk96d3hsbdfcjbr1qlmb80000gp/T/tmpoicssr41.lp\n",
      "Reading time = 0.01 seconds\n",
      ": 654 rows, 1205 columns, 7757 nonzeros\n",
      "Set parameter Username\n",
      "Academic license - for non-commercial use only - expires 2023-04-21\n",
      "Read LP format model from file /var/folders/85/n42jk96d3hsbdfcjbr1qlmb80000gp/T/tmpda0giqgl.lp\n",
      "Reading time = 0.01 seconds\n",
      ": 654 rows, 1205 columns, 7757 nonzeros\n",
      "Set parameter Username\n",
      "Academic license - for non-commercial use only - expires 2023-04-21\n",
      "Read LP format model from file /var/folders/85/n42jk96d3hsbdfcjbr1qlmb80000gp/T/tmpvj2an3ft.lp\n",
      "Reading time = 0.01 seconds\n",
      ": 654 rows, 1205 columns, 7757 nonzeros\n",
      "Set parameter Username\n",
      "Academic license - for non-commercial use only - expires 2023-04-21\n",
      "Read LP format model from file /var/folders/85/n42jk96d3hsbdfcjbr1qlmb80000gp/T/tmplmhfcvsm.lp\n",
      "Reading time = 0.01 seconds\n",
      ": 654 rows, 1205 columns, 7757 nonzeros\n",
      "Set parameter Username\n",
      "Academic license - for non-commercial use only - expires 2023-04-21\n",
      "Read LP format model from file /var/folders/85/n42jk96d3hsbdfcjbr1qlmb80000gp/T/tmpyea1cx3m.lp\n",
      "Reading time = 0.01 seconds\n",
      ": 654 rows, 1205 columns, 7757 nonzeros\n",
      "Set parameter Username\n",
      "Academic license - for non-commercial use only - expires 2023-04-21\n",
      "Read LP format model from file /var/folders/85/n42jk96d3hsbdfcjbr1qlmb80000gp/T/tmpndinl3e2.lp\n",
      "Reading time = 0.01 seconds\n",
      ": 654 rows, 1205 columns, 7757 nonzeros\n",
      "\n",
      "Reactions pruned to 601 from 1313 (54.23% change)\n",
      "Metabolites pruned to 651 from 1243 (47.63% change)\n",
      "Flux through the objective DECREASED to ~150.42 from ~159.67 (5.79% change)\n",
      "Context-specific metabolism does not correlate with transcriptome (r=0.0, n.s.)\n",
      "\n",
      "RIPTiDe completed in, 1 minute and 42 seconds \n",
      "\n",
      "\n",
      "Initializing model and integrating transcriptomic data...\n",
      "Read LP format model from file /var/folders/85/n42jk96d3hsbdfcjbr1qlmb80000gp/T/tmpf_zioxyl.lp\n",
      "Reading time = 0.01 seconds\n",
      ": 1243 rows, 2626 columns, 11388 nonzeros\n",
      "Pruning zero flux subnetworks...\n",
      "Read LP format model from file /var/folders/85/n42jk96d3hsbdfcjbr1qlmb80000gp/T/tmp5ggkx61p.lp\n",
      "Reading time = 0.01 seconds\n",
      ": 1243 rows, 2626 columns, 11388 nonzeros\n"
     ]
    },
    {
     "name": "stderr",
     "output_type": "stream",
     "text": [
      "/Users/dap5mb/opt/anaconda3/lib/python3.8/site-packages/optlang/interface.py:1474: DeprecationWarning: Deprecated, pass a TempConstr or use Model.addLConstr\n",
      "  self._add_constraints(add_constr)\n"
     ]
    },
    {
     "name": "stdout",
     "output_type": "stream",
     "text": [
      "Read LP format model from file /var/folders/85/n42jk96d3hsbdfcjbr1qlmb80000gp/T/tmp_abgapnx.lp\n",
      "Reading time = 0.01 seconds\n",
      ": 1243 rows, 2626 columns, 11388 nonzeros\n"
     ]
    },
    {
     "name": "stderr",
     "output_type": "stream",
     "text": [
      "/Users/dap5mb/opt/anaconda3/lib/python3.8/site-packages/optlang/interface.py:1474: DeprecationWarning: Deprecated, pass a TempConstr or use Model.addLConstr\n",
      "  self._add_constraints(add_constr)\n"
     ]
    },
    {
     "name": "stdout",
     "output_type": "stream",
     "text": [
      "Read LP format model from file /var/folders/85/n42jk96d3hsbdfcjbr1qlmb80000gp/T/tmp1_n1c5k5.lp\n",
      "Reading time = 0.01 seconds\n",
      ": 1243 rows, 2626 columns, 11388 nonzeros\n"
     ]
    },
    {
     "name": "stderr",
     "output_type": "stream",
     "text": [
      "/Users/dap5mb/opt/anaconda3/lib/python3.8/site-packages/optlang/interface.py:1474: DeprecationWarning: Deprecated, pass a TempConstr or use Model.addLConstr\n",
      "  self._add_constraints(add_constr)\n"
     ]
    },
    {
     "name": "stdout",
     "output_type": "stream",
     "text": [
      "Read LP format model from file /var/folders/85/n42jk96d3hsbdfcjbr1qlmb80000gp/T/tmpmup69qti.lp\n",
      "Reading time = 0.01 seconds\n",
      ": 1243 rows, 2626 columns, 11388 nonzeros\n"
     ]
    },
    {
     "name": "stderr",
     "output_type": "stream",
     "text": [
      "/Users/dap5mb/opt/anaconda3/lib/python3.8/site-packages/optlang/interface.py:1474: DeprecationWarning: Deprecated, pass a TempConstr or use Model.addLConstr\n",
      "  self._add_constraints(add_constr)\n"
     ]
    },
    {
     "name": "stdout",
     "output_type": "stream",
     "text": [
      "Analyzing context-specific flux distributions...\n",
      "Read LP format model from file /var/folders/85/n42jk96d3hsbdfcjbr1qlmb80000gp/T/tmpndaleo3o.lp\n",
      "Reading time = 0.01 seconds\n",
      ": 657 rows, 1208 columns, 5372 nonzeros\n"
     ]
    },
    {
     "name": "stderr",
     "output_type": "stream",
     "text": [
      "/Users/dap5mb/opt/anaconda3/lib/python3.8/site-packages/optlang/interface.py:1474: DeprecationWarning: Deprecated, pass a TempConstr or use Model.addLConstr\n",
      "  self._add_constraints(add_constr)\n"
     ]
    },
    {
     "name": "stdout",
     "output_type": "stream",
     "text": [
      "Set parameter Username\n",
      "Academic license - for non-commercial use only - expires 2023-04-21\n",
      "Read LP format model from file /var/folders/85/n42jk96d3hsbdfcjbr1qlmb80000gp/T/tmpe__8088l.lp\n",
      "Reading time = 0.01 seconds\n",
      ": 660 rows, 1211 columns, 7793 nonzeros\n",
      "Set parameter Username\n",
      "Academic license - for non-commercial use only - expires 2023-04-21\n",
      "Read LP format model from file /var/folders/85/n42jk96d3hsbdfcjbr1qlmb80000gp/T/tmpv10ywfjt.lp\n",
      "Reading time = 0.01 seconds\n",
      ": 660 rows, 1211 columns, 7793 nonzeros\n",
      "Set parameter Username\n",
      "Academic license - for non-commercial use only - expires 2023-04-21\n",
      "Read LP format model from file /var/folders/85/n42jk96d3hsbdfcjbr1qlmb80000gp/T/tmp2i7e4l_n.lp\n",
      "Reading time = 0.01 seconds\n",
      ": 660 rows, 1211 columns, 7793 nonzeros\n",
      "Set parameter Username\n",
      "Academic license - for non-commercial use only - expires 2023-04-21\n",
      "Read LP format model from file /var/folders/85/n42jk96d3hsbdfcjbr1qlmb80000gp/T/tmpv6br3jau.lp\n",
      "Reading time = 0.01 seconds\n",
      ": 660 rows, 1211 columns, 7793 nonzeros\n",
      "Set parameter Username\n",
      "Academic license - for non-commercial use only - expires 2023-04-21\n",
      "Read LP format model from file /var/folders/85/n42jk96d3hsbdfcjbr1qlmb80000gp/T/tmp5vndj0p7.lp\n",
      "Reading time = 0.01 seconds\n",
      ": 660 rows, 1211 columns, 7793 nonzeros\n",
      "Set parameter Username\n",
      "Academic license - for non-commercial use only - expires 2023-04-21\n",
      "Read LP format model from file /var/folders/85/n42jk96d3hsbdfcjbr1qlmb80000gp/T/tmpzsksok0g.lp\n",
      "Reading time = 0.01 seconds\n",
      ": 660 rows, 1211 columns, 7793 nonzeros\n",
      "Set parameter Username\n",
      "Academic license - for non-commercial use only - expires 2023-04-21\n",
      "Read LP format model from file /var/folders/85/n42jk96d3hsbdfcjbr1qlmb80000gp/T/tmpgs3w5f5w.lp\n",
      "Reading time = 0.04 seconds\n",
      ": 660 rows, 1211 columns, 7793 nonzeros\n",
      "Set parameter Username\n",
      "Academic license - for non-commercial use only - expires 2023-04-21\n",
      "Read LP format model from file /var/folders/85/n42jk96d3hsbdfcjbr1qlmb80000gp/T/tmprd5eall2.lp\n",
      "Reading time = 0.01 seconds\n",
      ": 660 rows, 1211 columns, 7793 nonzeros\n",
      "Set parameter Username\n",
      "Academic license - for non-commercial use only - expires 2023-04-21\n",
      "Read LP format model from file /var/folders/85/n42jk96d3hsbdfcjbr1qlmb80000gp/T/tmp2d4nxhiy.lp\n",
      "Reading time = 0.01 seconds\n",
      ": 660 rows, 1211 columns, 7793 nonzeros\n",
      "Set parameter Username\n",
      "Academic license - for non-commercial use only - expires 2023-04-21\n",
      "Read LP format model from file /var/folders/85/n42jk96d3hsbdfcjbr1qlmb80000gp/T/tmpgwk1k7f0.lp\n",
      "Reading time = 0.01 seconds\n",
      ": 660 rows, 1211 columns, 7793 nonzeros\n",
      "Set parameter Username\n",
      "Academic license - for non-commercial use only - expires 2023-04-21\n",
      "Read LP format model from file /var/folders/85/n42jk96d3hsbdfcjbr1qlmb80000gp/T/tmp8blnfw6v.lp\n",
      "Reading time = 0.01 seconds\n",
      ": 660 rows, 1211 columns, 7793 nonzeros\n",
      "Set parameter Username\n",
      "Academic license - for non-commercial use only - expires 2023-04-21\n",
      "Read LP format model from file /var/folders/85/n42jk96d3hsbdfcjbr1qlmb80000gp/T/tmphdkvynet.lp\n",
      "Reading time = 0.01 seconds\n",
      ": 660 rows, 1211 columns, 7793 nonzeros\n",
      "Set parameter Username\n",
      "Academic license - for non-commercial use only - expires 2023-04-21\n",
      "Read LP format model from file /var/folders/85/n42jk96d3hsbdfcjbr1qlmb80000gp/T/tmpo79ulwig.lp\n",
      "Reading time = 0.01 seconds\n",
      ": 660 rows, 1211 columns, 7793 nonzeros\n",
      "Set parameter Username\n",
      "Academic license - for non-commercial use only - expires 2023-04-21\n",
      "Read LP format model from file /var/folders/85/n42jk96d3hsbdfcjbr1qlmb80000gp/T/tmpgv29biaq.lp\n",
      "Reading time = 0.01 seconds\n",
      ": 660 rows, 1211 columns, 7793 nonzeros\n"
     ]
    },
    {
     "name": "stderr",
     "output_type": "stream",
     "text": [
      "/Users/dap5mb/opt/anaconda3/lib/python3.8/site-packages/optlang/interface.py:1474: DeprecationWarning: Deprecated, pass a TempConstr or use Model.addLConstr\n",
      "  self._add_constraints(add_constr)\n"
     ]
    },
    {
     "name": "stdout",
     "output_type": "stream",
     "text": [
      "Set parameter Username\n",
      "Academic license - for non-commercial use only - expires 2023-04-21\n",
      "Read LP format model from file /var/folders/85/n42jk96d3hsbdfcjbr1qlmb80000gp/T/tmpmfhf0fqk.lp\n",
      "Reading time = 0.01 seconds\n",
      ": 660 rows, 1211 columns, 7793 nonzeros\n",
      "Set parameter Username\n",
      "Academic license - for non-commercial use only - expires 2023-04-21\n",
      "Read LP format model from file /var/folders/85/n42jk96d3hsbdfcjbr1qlmb80000gp/T/tmp88rcbnrl.lp\n",
      "Reading time = 0.01 seconds\n",
      ": 660 rows, 1211 columns, 7793 nonzeros\n",
      "Set parameter Username\n",
      "Academic license - for non-commercial use only - expires 2023-04-21\n",
      "Read LP format model from file /var/folders/85/n42jk96d3hsbdfcjbr1qlmb80000gp/T/tmp887xckxu.lp\n",
      "Reading time = 0.01 seconds\n",
      ": 660 rows, 1211 columns, 7793 nonzeros\n",
      "Set parameter Username\n",
      "Academic license - for non-commercial use only - expires 2023-04-21\n",
      "Read LP format model from file /var/folders/85/n42jk96d3hsbdfcjbr1qlmb80000gp/T/tmposynei0p.lp\n",
      "Reading time = 0.01 seconds\n",
      ": 660 rows, 1211 columns, 7793 nonzeros\n",
      "Set parameter Username\n",
      "Academic license - for non-commercial use only - expires 2023-04-21\n",
      "Read LP format model from file /var/folders/85/n42jk96d3hsbdfcjbr1qlmb80000gp/T/tmp06133wc7.lp\n",
      "Reading time = 0.01 seconds\n",
      ": 660 rows, 1211 columns, 7793 nonzeros\n",
      "Set parameter Username\n",
      "Academic license - for non-commercial use only - expires 2023-04-21\n",
      "Read LP format model from file /var/folders/85/n42jk96d3hsbdfcjbr1qlmb80000gp/T/tmpyhylo7_2.lp\n",
      "Reading time = 0.01 seconds\n",
      ": 660 rows, 1211 columns, 7793 nonzeros\n",
      "Set parameter Username\n",
      "Academic license - for non-commercial use only - expires 2023-04-21\n",
      "Read LP format model from file /var/folders/85/n42jk96d3hsbdfcjbr1qlmb80000gp/T/tmpsfl63p3g.lp\n",
      "Reading time = 0.01 seconds\n",
      ": 660 rows, 1211 columns, 7793 nonzeros\n",
      "Set parameter Username\n",
      "Academic license - for non-commercial use only - expires 2023-04-21\n",
      "Read LP format model from file /var/folders/85/n42jk96d3hsbdfcjbr1qlmb80000gp/T/tmp1r1fkjz9.lp\n",
      "Reading time = 0.01 seconds\n",
      ": 660 rows, 1211 columns, 7793 nonzeros\n",
      "Set parameter Username\n",
      "Academic license - for non-commercial use only - expires 2023-04-21\n",
      "Read LP format model from file /var/folders/85/n42jk96d3hsbdfcjbr1qlmb80000gp/T/tmpyh2wj47m.lp\n",
      "Reading time = 0.01 seconds\n",
      ": 660 rows, 1211 columns, 7793 nonzeros\n",
      "Set parameter Username\n",
      "Academic license - for non-commercial use only - expires 2023-04-21\n",
      "Read LP format model from file /var/folders/85/n42jk96d3hsbdfcjbr1qlmb80000gp/T/tmp47n4j_89.lp\n",
      "Reading time = 0.01 seconds\n",
      ": 660 rows, 1211 columns, 7793 nonzeros\n",
      "Set parameter Username\n",
      "Academic license - for non-commercial use only - expires 2023-04-21\n",
      "Read LP format model from file /var/folders/85/n42jk96d3hsbdfcjbr1qlmb80000gp/T/tmpfzp32jp7.lp\n",
      "Reading time = 0.01 seconds\n",
      ": 660 rows, 1211 columns, 7793 nonzeros\n",
      "Set parameter Username\n",
      "Academic license - for non-commercial use only - expires 2023-04-21\n",
      "Read LP format model from file /var/folders/85/n42jk96d3hsbdfcjbr1qlmb80000gp/T/tmpbh5kjrj_.lp\n",
      "Reading time = 0.01 seconds\n",
      ": 660 rows, 1211 columns, 7793 nonzeros\n",
      "Set parameter Username\n",
      "Academic license - for non-commercial use only - expires 2023-04-21\n",
      "Read LP format model from file /var/folders/85/n42jk96d3hsbdfcjbr1qlmb80000gp/T/tmpfh830j17.lp\n",
      "Reading time = 0.01 seconds\n",
      ": 660 rows, 1211 columns, 7793 nonzeros\n",
      "Set parameter Username\n",
      "Academic license - for non-commercial use only - expires 2023-04-21\n",
      "Read LP format model from file /var/folders/85/n42jk96d3hsbdfcjbr1qlmb80000gp/T/tmpsraki720.lp\n",
      "Reading time = 0.01 seconds\n",
      ": 660 rows, 1211 columns, 7793 nonzeros\n",
      "\n",
      "Reactions pruned to 604 from 1313 (54.0% change)\n",
      "Metabolites pruned to 657 from 1243 (47.14% change)\n",
      "Flux through the objective DECREASED to ~150.87 from ~159.67 (5.51% change)\n",
      "Context-specific metabolism does not correlate with transcriptome (r=-0.001, n.s.)\n",
      "\n",
      "RIPTiDe completed in, 1 minute and 38 seconds \n",
      "\n"
     ]
    }
   ],
   "source": [
    "rip_dmso = riptide.contextualize(model=r20291, conservative=True, transcriptome=dmso)\n",
    "rip_dca = riptide.contextualize(model=r20291, conservative=True, transcriptome=dca)\n",
    "rip_cho = riptide.contextualize(model=r20291, conservative=True, transcriptome=cho)"
   ]
  },
  {
   "cell_type": "markdown",
   "id": "02c36483-a266-41e6-8731-248c4353a979",
   "metadata": {},
   "source": [
    "### GSE199109"
   ]
  },
  {
   "cell_type": "code",
   "execution_count": 16,
   "id": "86124497-44ae-4eef-a9f8-c0a84cd5098f",
   "metadata": {},
   "outputs": [],
   "source": [
    "dmso1 = riptide.read_transcription_file('../data/counts/gse199109_dmso.tsv') # Raw counts\n",
    "enox = riptide.read_transcription_file('../data/counts/gse199109_enoxolone.tsv') # Raw counts"
   ]
  },
  {
   "cell_type": "code",
   "execution_count": 17,
   "id": "ff38fcbf-55cf-4ef5-806e-397d4a1f6c91",
   "metadata": {
    "tags": []
   },
   "outputs": [
    {
     "name": "stdout",
     "output_type": "stream",
     "text": [
      "\n",
      "Initializing model and integrating transcriptomic data...\n",
      "Read LP format model from file /var/folders/85/n42jk96d3hsbdfcjbr1qlmb80000gp/T/tmpoqhflvsi.lp\n",
      "Reading time = 0.01 seconds\n",
      ": 1243 rows, 2626 columns, 11388 nonzeros\n",
      "Pruning zero flux subnetworks...\n",
      "Read LP format model from file /var/folders/85/n42jk96d3hsbdfcjbr1qlmb80000gp/T/tmpkskba7_6.lp\n",
      "Reading time = 0.01 seconds\n",
      ": 1243 rows, 2626 columns, 11388 nonzeros\n"
     ]
    },
    {
     "name": "stderr",
     "output_type": "stream",
     "text": [
      "/Users/dap5mb/opt/anaconda3/lib/python3.8/site-packages/optlang/interface.py:1474: DeprecationWarning: Deprecated, pass a TempConstr or use Model.addLConstr\n",
      "  self._add_constraints(add_constr)\n"
     ]
    },
    {
     "name": "stdout",
     "output_type": "stream",
     "text": [
      "Read LP format model from file /var/folders/85/n42jk96d3hsbdfcjbr1qlmb80000gp/T/tmpz261mabj.lp\n",
      "Reading time = 0.01 seconds\n",
      ": 1243 rows, 2626 columns, 11388 nonzeros\n"
     ]
    },
    {
     "name": "stderr",
     "output_type": "stream",
     "text": [
      "/Users/dap5mb/opt/anaconda3/lib/python3.8/site-packages/optlang/interface.py:1474: DeprecationWarning: Deprecated, pass a TempConstr or use Model.addLConstr\n",
      "  self._add_constraints(add_constr)\n"
     ]
    },
    {
     "name": "stdout",
     "output_type": "stream",
     "text": [
      "Read LP format model from file /var/folders/85/n42jk96d3hsbdfcjbr1qlmb80000gp/T/tmpjvfkxv3c.lp\n",
      "Reading time = 0.01 seconds\n",
      ": 1243 rows, 2626 columns, 11388 nonzeros\n"
     ]
    },
    {
     "name": "stderr",
     "output_type": "stream",
     "text": [
      "/Users/dap5mb/opt/anaconda3/lib/python3.8/site-packages/optlang/interface.py:1474: DeprecationWarning: Deprecated, pass a TempConstr or use Model.addLConstr\n",
      "  self._add_constraints(add_constr)\n"
     ]
    },
    {
     "name": "stdout",
     "output_type": "stream",
     "text": [
      "Analyzing context-specific flux distributions...\n",
      "Read LP format model from file /var/folders/85/n42jk96d3hsbdfcjbr1qlmb80000gp/T/tmp15wmp5rb.lp\n",
      "Reading time = 0.01 seconds\n",
      ": 638 rows, 1172 columns, 5216 nonzeros\n"
     ]
    },
    {
     "name": "stderr",
     "output_type": "stream",
     "text": [
      "/Users/dap5mb/opt/anaconda3/lib/python3.8/site-packages/optlang/interface.py:1474: DeprecationWarning: Deprecated, pass a TempConstr or use Model.addLConstr\n",
      "  self._add_constraints(add_constr)\n"
     ]
    },
    {
     "name": "stdout",
     "output_type": "stream",
     "text": [
      "Set parameter Username\n",
      "Academic license - for non-commercial use only - expires 2023-04-21\n",
      "Read LP format model from file /var/folders/85/n42jk96d3hsbdfcjbr1qlmb80000gp/T/tmpcbsn06th.lp\n",
      "Reading time = 0.01 seconds\n",
      ": 641 rows, 1175 columns, 7565 nonzeros\n",
      "Set parameter Username\n",
      "Academic license - for non-commercial use only - expires 2023-04-21\n",
      "Read LP format model from file /var/folders/85/n42jk96d3hsbdfcjbr1qlmb80000gp/T/tmp_1jew7k5.lp\n",
      "Reading time = 0.01 seconds\n",
      ": 641 rows, 1175 columns, 7565 nonzeros\n",
      "Set parameter Username\n",
      "Academic license - for non-commercial use only - expires 2023-04-21\n",
      "Read LP format model from file /var/folders/85/n42jk96d3hsbdfcjbr1qlmb80000gp/T/tmpo94usq76.lp\n",
      "Reading time = 0.01 seconds\n",
      ": 641 rows, 1175 columns, 7565 nonzeros\n",
      "Set parameter Username\n",
      "Academic license - for non-commercial use only - expires 2023-04-21\n",
      "Read LP format model from file /var/folders/85/n42jk96d3hsbdfcjbr1qlmb80000gp/T/tmpkej4ik2b.lp\n",
      "Reading time = 0.01 seconds\n",
      ": 641 rows, 1175 columns, 7565 nonzeros\n",
      "Set parameter Username\n",
      "Academic license - for non-commercial use only - expires 2023-04-21\n",
      "Read LP format model from file /var/folders/85/n42jk96d3hsbdfcjbr1qlmb80000gp/T/tmpt9n75yj1.lp\n",
      "Reading time = 0.01 seconds\n",
      ": 641 rows, 1175 columns, 7565 nonzeros\n",
      "Set parameter Username\n",
      "Academic license - for non-commercial use only - expires 2023-04-21\n",
      "Read LP format model from file /var/folders/85/n42jk96d3hsbdfcjbr1qlmb80000gp/T/tmprxkvv946.lp\n",
      "Reading time = 0.01 seconds\n",
      ": 641 rows, 1175 columns, 7565 nonzeros\n",
      "Set parameter Username\n",
      "Academic license - for non-commercial use only - expires 2023-04-21\n",
      "Read LP format model from file /var/folders/85/n42jk96d3hsbdfcjbr1qlmb80000gp/T/tmpjwtws2d2.lp\n",
      "Reading time = 0.01 seconds\n",
      ": 641 rows, 1175 columns, 7565 nonzeros\n",
      "Set parameter Username\n",
      "Academic license - for non-commercial use only - expires 2023-04-21\n",
      "Read LP format model from file /var/folders/85/n42jk96d3hsbdfcjbr1qlmb80000gp/T/tmpx3zgamo3.lp\n",
      "Reading time = 0.01 seconds\n",
      ": 641 rows, 1175 columns, 7565 nonzeros\n",
      "Set parameter Username\n",
      "Academic license - for non-commercial use only - expires 2023-04-21\n",
      "Read LP format model from file /var/folders/85/n42jk96d3hsbdfcjbr1qlmb80000gp/T/tmpvk1wbhq6.lp\n",
      "Reading time = 0.01 seconds\n",
      ": 641 rows, 1175 columns, 7565 nonzeros\n",
      "Set parameter Username\n",
      "Academic license - for non-commercial use only - expires 2023-04-21\n",
      "Read LP format model from file /var/folders/85/n42jk96d3hsbdfcjbr1qlmb80000gp/T/tmpa6n3apfy.lp\n",
      "Reading time = 0.01 seconds\n",
      ": 641 rows, 1175 columns, 7565 nonzeros\n",
      "Set parameter Username\n",
      "Academic license - for non-commercial use only - expires 2023-04-21\n",
      "Read LP format model from file /var/folders/85/n42jk96d3hsbdfcjbr1qlmb80000gp/T/tmphqy5nr13.lp\n",
      "Reading time = 0.01 seconds\n",
      ": 641 rows, 1175 columns, 7565 nonzeros\n",
      "Set parameter Username\n",
      "Academic license - for non-commercial use only - expires 2023-04-21\n",
      "Read LP format model from file /var/folders/85/n42jk96d3hsbdfcjbr1qlmb80000gp/T/tmpvugc2pgk.lp\n",
      "Reading time = 0.01 seconds\n",
      ": 641 rows, 1175 columns, 7565 nonzeros\n",
      "Set parameter Username\n",
      "Academic license - for non-commercial use only - expires 2023-04-21\n",
      "Read LP format model from file /var/folders/85/n42jk96d3hsbdfcjbr1qlmb80000gp/T/tmpv9a01ooi.lp\n",
      "Reading time = 0.01 seconds\n",
      ": 641 rows, 1175 columns, 7565 nonzeros\n",
      "Set parameter Username\n",
      "Academic license - for non-commercial use only - expires 2023-04-21\n",
      "Read LP format model from file /var/folders/85/n42jk96d3hsbdfcjbr1qlmb80000gp/T/tmp0h9lrvxs.lp\n",
      "Reading time = 0.01 seconds\n",
      ": 641 rows, 1175 columns, 7565 nonzeros\n"
     ]
    },
    {
     "name": "stderr",
     "output_type": "stream",
     "text": [
      "/Users/dap5mb/opt/anaconda3/lib/python3.8/site-packages/optlang/interface.py:1474: DeprecationWarning: Deprecated, pass a TempConstr or use Model.addLConstr\n",
      "  self._add_constraints(add_constr)\n"
     ]
    },
    {
     "name": "stdout",
     "output_type": "stream",
     "text": [
      "Set parameter Username\n",
      "Academic license - for non-commercial use only - expires 2023-04-21\n",
      "Read LP format model from file /var/folders/85/n42jk96d3hsbdfcjbr1qlmb80000gp/T/tmp2g_9wvy7.lp\n",
      "Reading time = 0.01 seconds\n",
      ": 641 rows, 1175 columns, 7565 nonzeros\n",
      "Set parameter Username\n",
      "Academic license - for non-commercial use only - expires 2023-04-21\n",
      "Read LP format model from file /var/folders/85/n42jk96d3hsbdfcjbr1qlmb80000gp/T/tmp93_bhxgn.lp\n",
      "Reading time = 0.01 seconds\n",
      ": 641 rows, 1175 columns, 7565 nonzeros\n",
      "Set parameter Username\n",
      "Academic license - for non-commercial use only - expires 2023-04-21\n",
      "Read LP format model from file /var/folders/85/n42jk96d3hsbdfcjbr1qlmb80000gp/T/tmpxb81wgwo.lp\n",
      "Reading time = 0.01 seconds\n",
      ": 641 rows, 1175 columns, 7565 nonzeros\n",
      "Set parameter Username\n",
      "Academic license - for non-commercial use only - expires 2023-04-21\n",
      "Read LP format model from file /var/folders/85/n42jk96d3hsbdfcjbr1qlmb80000gp/T/tmpr4fmz624.lp\n",
      "Reading time = 0.01 seconds\n",
      ": 641 rows, 1175 columns, 7565 nonzeros\n",
      "Set parameter Username\n",
      "Academic license - for non-commercial use only - expires 2023-04-21\n",
      "Read LP format model from file /var/folders/85/n42jk96d3hsbdfcjbr1qlmb80000gp/T/tmp_t9uujd7.lp\n",
      "Reading time = 0.01 seconds\n",
      ": 641 rows, 1175 columns, 7565 nonzeros\n",
      "Set parameter Username\n",
      "Academic license - for non-commercial use only - expires 2023-04-21\n",
      "Read LP format model from file /var/folders/85/n42jk96d3hsbdfcjbr1qlmb80000gp/T/tmpa4usi5lo.lp\n",
      "Reading time = 0.01 seconds\n",
      ": 641 rows, 1175 columns, 7565 nonzeros\n",
      "Set parameter Username\n",
      "Academic license - for non-commercial use only - expires 2023-04-21\n",
      "Read LP format model from file /var/folders/85/n42jk96d3hsbdfcjbr1qlmb80000gp/T/tmpkt0n1zi0.lp\n",
      "Reading time = 0.01 seconds\n",
      ": 641 rows, 1175 columns, 7565 nonzeros\n",
      "Set parameter Username\n",
      "Academic license - for non-commercial use only - expires 2023-04-21\n",
      "Read LP format model from file /var/folders/85/n42jk96d3hsbdfcjbr1qlmb80000gp/T/tmpj33fcmlb.lp\n",
      "Reading time = 0.01 seconds\n",
      ": 641 rows, 1175 columns, 7565 nonzeros\n",
      "Set parameter Username\n",
      "Academic license - for non-commercial use only - expires 2023-04-21\n",
      "Read LP format model from file /var/folders/85/n42jk96d3hsbdfcjbr1qlmb80000gp/T/tmp0ghvz0hi.lp\n",
      "Reading time = 0.01 seconds\n",
      ": 641 rows, 1175 columns, 7565 nonzeros\n",
      "Set parameter Username\n",
      "Academic license - for non-commercial use only - expires 2023-04-21\n",
      "Read LP format model from file /var/folders/85/n42jk96d3hsbdfcjbr1qlmb80000gp/T/tmp7gnhdaej.lp\n",
      "Reading time = 0.01 seconds\n",
      ": 641 rows, 1175 columns, 7565 nonzeros\n",
      "Set parameter Username\n",
      "Academic license - for non-commercial use only - expires 2023-04-21\n",
      "Read LP format model from file /var/folders/85/n42jk96d3hsbdfcjbr1qlmb80000gp/T/tmpwufnaa5t.lp\n",
      "Reading time = 0.01 seconds\n",
      ": 641 rows, 1175 columns, 7565 nonzeros\n",
      "Set parameter Username\n",
      "Academic license - for non-commercial use only - expires 2023-04-21\n",
      "Read LP format model from file /var/folders/85/n42jk96d3hsbdfcjbr1qlmb80000gp/T/tmphkq9xnql.lp\n",
      "Reading time = 0.01 seconds\n",
      ": 641 rows, 1175 columns, 7565 nonzeros\n",
      "Set parameter Username\n",
      "Academic license - for non-commercial use only - expires 2023-04-21\n",
      "Read LP format model from file /var/folders/85/n42jk96d3hsbdfcjbr1qlmb80000gp/T/tmpog6_fqp8.lp\n",
      "Reading time = 0.01 seconds\n",
      ": 641 rows, 1175 columns, 7565 nonzeros\n",
      "Set parameter Username\n",
      "Academic license - for non-commercial use only - expires 2023-04-21\n",
      "Read LP format model from file /var/folders/85/n42jk96d3hsbdfcjbr1qlmb80000gp/T/tmpyhkp2vkb.lp\n",
      "Reading time = 0.01 seconds\n",
      ": 641 rows, 1175 columns, 7565 nonzeros\n",
      "\n",
      "Reactions pruned to 586 from 1313 (55.37% change)\n",
      "Metabolites pruned to 638 from 1243 (48.67% change)\n",
      "Flux through the objective DECREASED to ~135.76 from ~159.67 (14.97% change)\n",
      "Context-specific metabolism correlates with transcriptome (r=-0.125, p=0.002 *)\n",
      "\n",
      "RIPTiDe completed in, 1 minute and 35 seconds \n",
      "\n",
      "\n",
      "Initializing model and integrating transcriptomic data...\n",
      "Read LP format model from file /var/folders/85/n42jk96d3hsbdfcjbr1qlmb80000gp/T/tmpp0n4y1y7.lp\n",
      "Reading time = 0.01 seconds\n",
      ": 1243 rows, 2626 columns, 11388 nonzeros\n",
      "Pruning zero flux subnetworks...\n",
      "Read LP format model from file /var/folders/85/n42jk96d3hsbdfcjbr1qlmb80000gp/T/tmpkdbnhfne.lp\n",
      "Reading time = 0.01 seconds\n",
      ": 1243 rows, 2626 columns, 11388 nonzeros\n"
     ]
    },
    {
     "name": "stderr",
     "output_type": "stream",
     "text": [
      "/Users/dap5mb/opt/anaconda3/lib/python3.8/site-packages/optlang/interface.py:1474: DeprecationWarning: Deprecated, pass a TempConstr or use Model.addLConstr\n",
      "  self._add_constraints(add_constr)\n"
     ]
    },
    {
     "name": "stdout",
     "output_type": "stream",
     "text": [
      "Read LP format model from file /var/folders/85/n42jk96d3hsbdfcjbr1qlmb80000gp/T/tmps7hk2frg.lp\n",
      "Reading time = 0.01 seconds\n",
      ": 1243 rows, 2626 columns, 11388 nonzeros\n"
     ]
    },
    {
     "name": "stderr",
     "output_type": "stream",
     "text": [
      "/Users/dap5mb/opt/anaconda3/lib/python3.8/site-packages/optlang/interface.py:1474: DeprecationWarning: Deprecated, pass a TempConstr or use Model.addLConstr\n",
      "  self._add_constraints(add_constr)\n"
     ]
    },
    {
     "name": "stdout",
     "output_type": "stream",
     "text": [
      "Read LP format model from file /var/folders/85/n42jk96d3hsbdfcjbr1qlmb80000gp/T/tmp_vu1mpkq.lp\n",
      "Reading time = 0.01 seconds\n",
      ": 1243 rows, 2626 columns, 11388 nonzeros\n"
     ]
    },
    {
     "name": "stderr",
     "output_type": "stream",
     "text": [
      "/Users/dap5mb/opt/anaconda3/lib/python3.8/site-packages/optlang/interface.py:1474: DeprecationWarning: Deprecated, pass a TempConstr or use Model.addLConstr\n",
      "  self._add_constraints(add_constr)\n"
     ]
    },
    {
     "name": "stdout",
     "output_type": "stream",
     "text": [
      "Analyzing context-specific flux distributions...\n",
      "Read LP format model from file /var/folders/85/n42jk96d3hsbdfcjbr1qlmb80000gp/T/tmp1grv2qf9.lp\n",
      "Reading time = 0.01 seconds\n",
      ": 641 rows, 1178 columns, 5244 nonzeros\n"
     ]
    },
    {
     "name": "stderr",
     "output_type": "stream",
     "text": [
      "/Users/dap5mb/opt/anaconda3/lib/python3.8/site-packages/optlang/interface.py:1474: DeprecationWarning: Deprecated, pass a TempConstr or use Model.addLConstr\n",
      "  self._add_constraints(add_constr)\n"
     ]
    },
    {
     "name": "stdout",
     "output_type": "stream",
     "text": [
      "Set parameter Username\n",
      "Academic license - for non-commercial use only - expires 2023-04-21\n",
      "Read LP format model from file /var/folders/85/n42jk96d3hsbdfcjbr1qlmb80000gp/T/tmpjo8rotwj.lp\n",
      "Reading time = 0.01 seconds\n",
      ": 644 rows, 1181 columns, 7605 nonzeros\n",
      "Set parameter Username\n",
      "Academic license - for non-commercial use only - expires 2023-04-21\n",
      "Read LP format model from file /var/folders/85/n42jk96d3hsbdfcjbr1qlmb80000gp/T/tmpegvjq952.lp\n",
      "Reading time = 0.01 seconds\n",
      ": 644 rows, 1181 columns, 7605 nonzeros\n",
      "Set parameter Username\n",
      "Academic license - for non-commercial use only - expires 2023-04-21\n",
      "Read LP format model from file /var/folders/85/n42jk96d3hsbdfcjbr1qlmb80000gp/T/tmpgriifrj7.lp\n",
      "Reading time = 0.01 seconds\n",
      ": 644 rows, 1181 columns, 7605 nonzeros\n",
      "Set parameter Username\n",
      "Academic license - for non-commercial use only - expires 2023-04-21\n",
      "Read LP format model from file /var/folders/85/n42jk96d3hsbdfcjbr1qlmb80000gp/T/tmpo1xk466u.lp\n",
      "Reading time = 0.01 seconds\n",
      ": 644 rows, 1181 columns, 7605 nonzeros\n",
      "Set parameter Username\n",
      "Academic license - for non-commercial use only - expires 2023-04-21\n",
      "Read LP format model from file /var/folders/85/n42jk96d3hsbdfcjbr1qlmb80000gp/T/tmpsv8pfg59.lp\n",
      "Reading time = 0.01 seconds\n",
      ": 644 rows, 1181 columns, 7605 nonzeros\n",
      "Set parameter Username\n",
      "Academic license - for non-commercial use only - expires 2023-04-21\n",
      "Read LP format model from file /var/folders/85/n42jk96d3hsbdfcjbr1qlmb80000gp/T/tmp49mw01nw.lp\n",
      "Reading time = 0.01 seconds\n",
      ": 644 rows, 1181 columns, 7605 nonzeros\n",
      "Set parameter Username\n",
      "Academic license - for non-commercial use only - expires 2023-04-21\n",
      "Read LP format model from file /var/folders/85/n42jk96d3hsbdfcjbr1qlmb80000gp/T/tmpvku9u88w.lp\n",
      "Reading time = 0.01 seconds\n",
      ": 644 rows, 1181 columns, 7605 nonzeros\n",
      "Set parameter Username\n",
      "Academic license - for non-commercial use only - expires 2023-04-21\n",
      "Read LP format model from file /var/folders/85/n42jk96d3hsbdfcjbr1qlmb80000gp/T/tmpiwi8tkmi.lp\n",
      "Reading time = 0.01 seconds\n",
      ": 644 rows, 1181 columns, 7605 nonzeros\n",
      "Set parameter Username\n",
      "Academic license - for non-commercial use only - expires 2023-04-21\n",
      "Read LP format model from file /var/folders/85/n42jk96d3hsbdfcjbr1qlmb80000gp/T/tmpb40bexta.lp\n",
      "Reading time = 0.01 seconds\n",
      ": 644 rows, 1181 columns, 7605 nonzeros\n",
      "Set parameter Username\n",
      "Academic license - for non-commercial use only - expires 2023-04-21\n",
      "Read LP format model from file /var/folders/85/n42jk96d3hsbdfcjbr1qlmb80000gp/T/tmp7s3rim10.lp\n",
      "Reading time = 0.01 seconds\n",
      ": 644 rows, 1181 columns, 7605 nonzeros\n",
      "Set parameter Username\n",
      "Academic license - for non-commercial use only - expires 2023-04-21\n",
      "Read LP format model from file /var/folders/85/n42jk96d3hsbdfcjbr1qlmb80000gp/T/tmpxxs2g5bf.lp\n",
      "Reading time = 0.01 seconds\n",
      ": 644 rows, 1181 columns, 7605 nonzeros\n",
      "Set parameter Username\n",
      "Academic license - for non-commercial use only - expires 2023-04-21\n",
      "Read LP format model from file /var/folders/85/n42jk96d3hsbdfcjbr1qlmb80000gp/T/tmpzzxawem5.lp\n",
      "Reading time = 0.01 seconds\n",
      ": 644 rows, 1181 columns, 7605 nonzeros\n",
      "Set parameter Username\n",
      "Academic license - for non-commercial use only - expires 2023-04-21\n",
      "Read LP format model from file /var/folders/85/n42jk96d3hsbdfcjbr1qlmb80000gp/T/tmp0tgkbk3l.lp\n",
      "Reading time = 0.01 seconds\n",
      ": 644 rows, 1181 columns, 7605 nonzeros\n",
      "Set parameter Username\n",
      "Academic license - for non-commercial use only - expires 2023-04-21\n",
      "Read LP format model from file /var/folders/85/n42jk96d3hsbdfcjbr1qlmb80000gp/T/tmp9883fdlt.lp\n",
      "Reading time = 0.01 seconds\n",
      ": 644 rows, 1181 columns, 7605 nonzeros\n"
     ]
    },
    {
     "name": "stderr",
     "output_type": "stream",
     "text": [
      "/Users/dap5mb/opt/anaconda3/lib/python3.8/site-packages/optlang/interface.py:1474: DeprecationWarning: Deprecated, pass a TempConstr or use Model.addLConstr\n",
      "  self._add_constraints(add_constr)\n"
     ]
    },
    {
     "name": "stdout",
     "output_type": "stream",
     "text": [
      "Set parameter Username\n",
      "Academic license - for non-commercial use only - expires 2023-04-21\n",
      "Read LP format model from file /var/folders/85/n42jk96d3hsbdfcjbr1qlmb80000gp/T/tmp8r7lqzgf.lp\n",
      "Reading time = 0.01 seconds\n",
      ": 644 rows, 1181 columns, 7605 nonzeros\n",
      "Set parameter Username\n",
      "Academic license - for non-commercial use only - expires 2023-04-21\n",
      "Read LP format model from file /var/folders/85/n42jk96d3hsbdfcjbr1qlmb80000gp/T/tmpgor4i6gc.lp\n",
      "Reading time = 0.01 seconds\n",
      ": 644 rows, 1181 columns, 7605 nonzeros\n",
      "Set parameter Username\n",
      "Academic license - for non-commercial use only - expires 2023-04-21\n",
      "Read LP format model from file /var/folders/85/n42jk96d3hsbdfcjbr1qlmb80000gp/T/tmp933x2ggb.lp\n",
      "Reading time = 0.01 seconds\n",
      ": 644 rows, 1181 columns, 7605 nonzeros\n",
      "Set parameter Username\n",
      "Academic license - for non-commercial use only - expires 2023-04-21\n",
      "Read LP format model from file /var/folders/85/n42jk96d3hsbdfcjbr1qlmb80000gp/T/tmp7htn9ac2.lp\n",
      "Reading time = 0.01 seconds\n",
      ": 644 rows, 1181 columns, 7605 nonzeros\n",
      "Set parameter Username\n",
      "Academic license - for non-commercial use only - expires 2023-04-21\n",
      "Read LP format model from file /var/folders/85/n42jk96d3hsbdfcjbr1qlmb80000gp/T/tmpi5njuo0x.lp\n",
      "Reading time = 0.01 seconds\n",
      ": 644 rows, 1181 columns, 7605 nonzeros\n",
      "Set parameter Username\n",
      "Academic license - for non-commercial use only - expires 2023-04-21\n",
      "Read LP format model from file /var/folders/85/n42jk96d3hsbdfcjbr1qlmb80000gp/T/tmpsd4yro00.lp\n",
      "Reading time = 0.01 seconds\n",
      ": 644 rows, 1181 columns, 7605 nonzeros\n",
      "Set parameter Username\n",
      "Academic license - for non-commercial use only - expires 2023-04-21\n",
      "Read LP format model from file /var/folders/85/n42jk96d3hsbdfcjbr1qlmb80000gp/T/tmpfq31kz31.lp\n",
      "Reading time = 0.01 seconds\n",
      ": 644 rows, 1181 columns, 7605 nonzeros\n",
      "Set parameter Username\n",
      "Academic license - for non-commercial use only - expires 2023-04-21\n",
      "Read LP format model from file /var/folders/85/n42jk96d3hsbdfcjbr1qlmb80000gp/T/tmp4agq2_73.lp\n",
      "Reading time = 0.01 seconds\n",
      ": 644 rows, 1181 columns, 7605 nonzeros\n",
      "Set parameter Username\n",
      "Academic license - for non-commercial use only - expires 2023-04-21\n",
      "Read LP format model from file /var/folders/85/n42jk96d3hsbdfcjbr1qlmb80000gp/T/tmp9j8jyrhl.lp\n",
      "Reading time = 0.01 seconds\n",
      ": 644 rows, 1181 columns, 7605 nonzeros\n",
      "Set parameter Username\n",
      "Academic license - for non-commercial use only - expires 2023-04-21\n",
      "Read LP format model from file /var/folders/85/n42jk96d3hsbdfcjbr1qlmb80000gp/T/tmpofmlh324.lp\n",
      "Reading time = 0.01 seconds\n",
      ": 644 rows, 1181 columns, 7605 nonzeros\n",
      "Set parameter Username\n",
      "Academic license - for non-commercial use only - expires 2023-04-21\n",
      "Read LP format model from file /var/folders/85/n42jk96d3hsbdfcjbr1qlmb80000gp/T/tmp_pt5knu0.lp\n",
      "Reading time = 0.01 seconds\n",
      ": 644 rows, 1181 columns, 7605 nonzeros\n",
      "Set parameter Username\n",
      "Academic license - for non-commercial use only - expires 2023-04-21\n",
      "Read LP format model from file /var/folders/85/n42jk96d3hsbdfcjbr1qlmb80000gp/T/tmpm_0h_dt9.lp\n",
      "Reading time = 0.01 seconds\n",
      ": 644 rows, 1181 columns, 7605 nonzeros\n",
      "Set parameter Username\n",
      "Academic license - for non-commercial use only - expires 2023-04-21\n",
      "Read LP format model from file /var/folders/85/n42jk96d3hsbdfcjbr1qlmb80000gp/T/tmpjbb79vzz.lp\n",
      "Reading time = 0.01 seconds\n",
      ": 644 rows, 1181 columns, 7605 nonzeros\n",
      "Set parameter Username\n",
      "Academic license - for non-commercial use only - expires 2023-04-21\n",
      "Read LP format model from file /var/folders/85/n42jk96d3hsbdfcjbr1qlmb80000gp/T/tmp6aln5srf.lp\n",
      "Reading time = 0.01 seconds\n",
      ": 644 rows, 1181 columns, 7605 nonzeros\n",
      "\n",
      "Reactions pruned to 589 from 1313 (55.14% change)\n",
      "Metabolites pruned to 641 from 1243 (48.43% change)\n",
      "Flux through the objective DECREASED to ~136.94 from ~159.67 (14.24% change)\n",
      "Context-specific metabolism correlates with transcriptome (r=-0.134, p=0.001 *)\n",
      "\n",
      "RIPTiDe completed in, 1 minute and 36 seconds \n",
      "\n"
     ]
    }
   ],
   "source": [
    "rip_dmso1 = riptide.contextualize(model=r20291, conservative=True, transcriptome=dmso1)\n",
    "rip_enox = riptide.contextualize(model=r20291, conservative=True, transcriptome=enox)"
   ]
  },
  {
   "cell_type": "markdown",
   "id": "cf3801dc-bca3-49a0-a8f1-54f0f25699ac",
   "metadata": {},
   "source": [
    "### GSE135912"
   ]
  },
  {
   "cell_type": "code",
   "execution_count": 18,
   "id": "a1497427-862d-425f-bfd2-bc69aa02a226",
   "metadata": {},
   "outputs": [],
   "source": [
    "bhisr = riptide.read_transcription_file('../data/counts/gse135912_bhis.tsv', norm = False) # Normalized counts\n",
    "cal = riptide.read_transcription_file('../data/counts/gse135912_calprotectin.tsv', norm = False) # Normalized counts"
   ]
  },
  {
   "cell_type": "code",
   "execution_count": 19,
   "id": "e00e7191-513c-44bd-b846-b48b026b6dd7",
   "metadata": {
    "tags": []
   },
   "outputs": [
    {
     "name": "stdout",
     "output_type": "stream",
     "text": [
      "\n",
      "Initializing model and integrating transcriptomic data...\n",
      "Read LP format model from file /var/folders/85/n42jk96d3hsbdfcjbr1qlmb80000gp/T/tmpcvtckm35.lp\n",
      "Reading time = 0.01 seconds\n",
      ": 1243 rows, 2626 columns, 11388 nonzeros\n",
      "Pruning zero flux subnetworks...\n",
      "Read LP format model from file /var/folders/85/n42jk96d3hsbdfcjbr1qlmb80000gp/T/tmp5bzojtbp.lp\n",
      "Reading time = 0.01 seconds\n",
      ": 1243 rows, 2626 columns, 11388 nonzeros\n"
     ]
    },
    {
     "name": "stderr",
     "output_type": "stream",
     "text": [
      "/Users/dap5mb/opt/anaconda3/lib/python3.8/site-packages/optlang/interface.py:1474: DeprecationWarning: Deprecated, pass a TempConstr or use Model.addLConstr\n",
      "  self._add_constraints(add_constr)\n"
     ]
    },
    {
     "name": "stdout",
     "output_type": "stream",
     "text": [
      "Read LP format model from file /var/folders/85/n42jk96d3hsbdfcjbr1qlmb80000gp/T/tmpxf070tpf.lp\n",
      "Reading time = 0.01 seconds\n",
      ": 1243 rows, 2626 columns, 11388 nonzeros\n"
     ]
    },
    {
     "name": "stderr",
     "output_type": "stream",
     "text": [
      "/Users/dap5mb/opt/anaconda3/lib/python3.8/site-packages/optlang/interface.py:1474: DeprecationWarning: Deprecated, pass a TempConstr or use Model.addLConstr\n",
      "  self._add_constraints(add_constr)\n"
     ]
    },
    {
     "name": "stdout",
     "output_type": "stream",
     "text": [
      "Read LP format model from file /var/folders/85/n42jk96d3hsbdfcjbr1qlmb80000gp/T/tmpead29xmd.lp\n",
      "Reading time = 0.01 seconds\n",
      ": 1243 rows, 2626 columns, 11388 nonzeros\n"
     ]
    },
    {
     "name": "stderr",
     "output_type": "stream",
     "text": [
      "/Users/dap5mb/opt/anaconda3/lib/python3.8/site-packages/optlang/interface.py:1474: DeprecationWarning: Deprecated, pass a TempConstr or use Model.addLConstr\n",
      "  self._add_constraints(add_constr)\n"
     ]
    },
    {
     "name": "stdout",
     "output_type": "stream",
     "text": [
      "Analyzing context-specific flux distributions...\n",
      "Read LP format model from file /var/folders/85/n42jk96d3hsbdfcjbr1qlmb80000gp/T/tmpy96jhw2s.lp\n",
      "Reading time = 0.01 seconds\n",
      ": 632 rows, 1154 columns, 5176 nonzeros\n"
     ]
    },
    {
     "name": "stderr",
     "output_type": "stream",
     "text": [
      "/Users/dap5mb/opt/anaconda3/lib/python3.8/site-packages/optlang/interface.py:1474: DeprecationWarning: Deprecated, pass a TempConstr or use Model.addLConstr\n",
      "  self._add_constraints(add_constr)\n"
     ]
    },
    {
     "name": "stdout",
     "output_type": "stream",
     "text": [
      "Set parameter Username\n",
      "Academic license - for non-commercial use only - expires 2023-04-21\n",
      "Read LP format model from file /var/folders/85/n42jk96d3hsbdfcjbr1qlmb80000gp/T/tmp4aeae5df.lp\n",
      "Reading time = 0.01 seconds\n",
      ": 635 rows, 1157 columns, 7489 nonzeros\n",
      "Set parameter Username\n",
      "Academic license - for non-commercial use only - expires 2023-04-21\n",
      "Read LP format model from file /var/folders/85/n42jk96d3hsbdfcjbr1qlmb80000gp/T/tmpkhtdrdsm.lp\n",
      "Reading time = 0.01 seconds\n",
      ": 635 rows, 1157 columns, 7489 nonzeros\n",
      "Set parameter Username\n",
      "Academic license - for non-commercial use only - expires 2023-04-21\n",
      "Read LP format model from file /var/folders/85/n42jk96d3hsbdfcjbr1qlmb80000gp/T/tmpro0yz65f.lp\n",
      "Reading time = 0.01 seconds\n",
      ": 635 rows, 1157 columns, 7489 nonzeros\n",
      "Set parameter Username\n",
      "Academic license - for non-commercial use only - expires 2023-04-21\n",
      "Read LP format model from file /var/folders/85/n42jk96d3hsbdfcjbr1qlmb80000gp/T/tmpawnfemis.lp\n",
      "Reading time = 0.01 seconds\n",
      ": 635 rows, 1157 columns, 7489 nonzeros\n",
      "Set parameter Username\n",
      "Academic license - for non-commercial use only - expires 2023-04-21\n",
      "Read LP format model from file /var/folders/85/n42jk96d3hsbdfcjbr1qlmb80000gp/T/tmp8f9tudbv.lp\n",
      "Reading time = 0.01 seconds\n",
      ": 635 rows, 1157 columns, 7489 nonzeros\n",
      "Set parameter Username\n",
      "Academic license - for non-commercial use only - expires 2023-04-21\n",
      "Read LP format model from file /var/folders/85/n42jk96d3hsbdfcjbr1qlmb80000gp/T/tmpzfhamd3m.lp\n",
      "Reading time = 0.01 seconds\n",
      ": 635 rows, 1157 columns, 7489 nonzeros\n",
      "Set parameter Username\n",
      "Academic license - for non-commercial use only - expires 2023-04-21\n",
      "Read LP format model from file /var/folders/85/n42jk96d3hsbdfcjbr1qlmb80000gp/T/tmpmqjk65ij.lp\n",
      "Reading time = 0.01 seconds\n",
      ": 635 rows, 1157 columns, 7489 nonzeros\n",
      "Set parameter Username\n",
      "Academic license - for non-commercial use only - expires 2023-04-21\n",
      "Read LP format model from file /var/folders/85/n42jk96d3hsbdfcjbr1qlmb80000gp/T/tmpeqt46us5.lp\n",
      "Reading time = 0.01 seconds\n",
      ": 635 rows, 1157 columns, 7489 nonzeros\n",
      "Set parameter Username\n",
      "Academic license - for non-commercial use only - expires 2023-04-21\n",
      "Read LP format model from file /var/folders/85/n42jk96d3hsbdfcjbr1qlmb80000gp/T/tmpt_t_mhya.lp\n",
      "Reading time = 0.01 seconds\n",
      ": 635 rows, 1157 columns, 7489 nonzeros\n",
      "Set parameter Username\n",
      "Academic license - for non-commercial use only - expires 2023-04-21\n",
      "Read LP format model from file /var/folders/85/n42jk96d3hsbdfcjbr1qlmb80000gp/T/tmpk2uo5__k.lp\n",
      "Reading time = 0.01 seconds\n",
      ": 635 rows, 1157 columns, 7489 nonzeros\n",
      "Set parameter Username\n",
      "Academic license - for non-commercial use only - expires 2023-04-21\n",
      "Read LP format model from file /var/folders/85/n42jk96d3hsbdfcjbr1qlmb80000gp/T/tmpx4gqy2rr.lp\n",
      "Reading time = 0.01 seconds\n",
      ": 635 rows, 1157 columns, 7489 nonzeros\n",
      "Set parameter Username\n",
      "Academic license - for non-commercial use only - expires 2023-04-21\n",
      "Read LP format model from file /var/folders/85/n42jk96d3hsbdfcjbr1qlmb80000gp/T/tmphr__kxz5.lp\n",
      "Reading time = 0.01 seconds\n",
      ": 635 rows, 1157 columns, 7489 nonzeros\n",
      "Set parameter Username\n",
      "Academic license - for non-commercial use only - expires 2023-04-21\n",
      "Read LP format model from file /var/folders/85/n42jk96d3hsbdfcjbr1qlmb80000gp/T/tmp7rr430se.lp\n",
      "Reading time = 0.01 seconds\n",
      ": 635 rows, 1157 columns, 7489 nonzeros\n",
      "Set parameter Username\n",
      "Academic license - for non-commercial use only - expires 2023-04-21\n",
      "Read LP format model from file /var/folders/85/n42jk96d3hsbdfcjbr1qlmb80000gp/T/tmpbatq85bk.lp\n",
      "Reading time = 0.01 seconds\n",
      ": 635 rows, 1157 columns, 7489 nonzeros\n"
     ]
    },
    {
     "name": "stderr",
     "output_type": "stream",
     "text": [
      "/Users/dap5mb/opt/anaconda3/lib/python3.8/site-packages/optlang/interface.py:1474: DeprecationWarning: Deprecated, pass a TempConstr or use Model.addLConstr\n",
      "  self._add_constraints(add_constr)\n"
     ]
    },
    {
     "name": "stdout",
     "output_type": "stream",
     "text": [
      "Set parameter Username\n",
      "Academic license - for non-commercial use only - expires 2023-04-21\n",
      "Read LP format model from file /var/folders/85/n42jk96d3hsbdfcjbr1qlmb80000gp/T/tmpyv78732a.lp\n",
      "Reading time = 0.01 seconds\n",
      ": 635 rows, 1157 columns, 7489 nonzeros\n",
      "Set parameter Username\n",
      "Academic license - for non-commercial use only - expires 2023-04-21\n",
      "Read LP format model from file /var/folders/85/n42jk96d3hsbdfcjbr1qlmb80000gp/T/tmpm44fs7nk.lp\n",
      "Reading time = 0.01 seconds\n",
      ": 635 rows, 1157 columns, 7489 nonzeros\n",
      "Set parameter Username\n",
      "Academic license - for non-commercial use only - expires 2023-04-21\n",
      "Read LP format model from file /var/folders/85/n42jk96d3hsbdfcjbr1qlmb80000gp/T/tmpkdtxn02h.lp\n",
      "Reading time = 0.01 seconds\n",
      ": 635 rows, 1157 columns, 7489 nonzeros\n",
      "Set parameter Username\n",
      "Academic license - for non-commercial use only - expires 2023-04-21\n",
      "Read LP format model from file /var/folders/85/n42jk96d3hsbdfcjbr1qlmb80000gp/T/tmpoxs8s4zj.lp\n",
      "Reading time = 0.01 seconds\n",
      ": 635 rows, 1157 columns, 7489 nonzeros\n",
      "Set parameter Username\n",
      "Academic license - for non-commercial use only - expires 2023-04-21\n",
      "Read LP format model from file /var/folders/85/n42jk96d3hsbdfcjbr1qlmb80000gp/T/tmp_xhtia2b.lp\n",
      "Reading time = 0.01 seconds\n",
      ": 635 rows, 1157 columns, 7489 nonzeros\n",
      "Set parameter Username\n",
      "Academic license - for non-commercial use only - expires 2023-04-21\n",
      "Read LP format model from file /var/folders/85/n42jk96d3hsbdfcjbr1qlmb80000gp/T/tmpt10u156i.lp\n",
      "Reading time = 0.01 seconds\n",
      ": 635 rows, 1157 columns, 7489 nonzeros\n",
      "Set parameter Username\n",
      "Academic license - for non-commercial use only - expires 2023-04-21\n",
      "Read LP format model from file /var/folders/85/n42jk96d3hsbdfcjbr1qlmb80000gp/T/tmpfl66mq90.lp\n",
      "Reading time = 0.01 seconds\n",
      ": 635 rows, 1157 columns, 7489 nonzeros\n",
      "Set parameter Username\n",
      "Academic license - for non-commercial use only - expires 2023-04-21\n",
      "Read LP format model from file /var/folders/85/n42jk96d3hsbdfcjbr1qlmb80000gp/T/tmpkyedglu8.lp\n",
      "Reading time = 0.01 seconds\n",
      ": 635 rows, 1157 columns, 7489 nonzeros\n",
      "Set parameter Username\n",
      "Academic license - for non-commercial use only - expires 2023-04-21\n",
      "Read LP format model from file /var/folders/85/n42jk96d3hsbdfcjbr1qlmb80000gp/T/tmp88ul495v.lp\n",
      "Reading time = 0.01 seconds\n",
      ": 635 rows, 1157 columns, 7489 nonzeros\n",
      "Set parameter Username\n",
      "Academic license - for non-commercial use only - expires 2023-04-21\n",
      "Read LP format model from file /var/folders/85/n42jk96d3hsbdfcjbr1qlmb80000gp/T/tmpl2d7vjp9.lp\n",
      "Reading time = 0.01 seconds\n",
      ": 635 rows, 1157 columns, 7489 nonzeros\n",
      "Set parameter Username\n",
      "Academic license - for non-commercial use only - expires 2023-04-21\n",
      "Read LP format model from file /var/folders/85/n42jk96d3hsbdfcjbr1qlmb80000gp/T/tmp2x8rdzyu.lp\n",
      "Reading time = 0.01 seconds\n",
      ": 635 rows, 1157 columns, 7489 nonzeros\n",
      "Set parameter Username\n",
      "Academic license - for non-commercial use only - expires 2023-04-21\n",
      "Read LP format model from file /var/folders/85/n42jk96d3hsbdfcjbr1qlmb80000gp/T/tmp6rwf9ffb.lp\n",
      "Reading time = 0.01 seconds\n",
      ": 635 rows, 1157 columns, 7489 nonzeros\n",
      "Set parameter Username\n",
      "Academic license - for non-commercial use only - expires 2023-04-21\n",
      "Read LP format model from file /var/folders/85/n42jk96d3hsbdfcjbr1qlmb80000gp/T/tmp8b3gylok.lp\n",
      "Reading time = 0.01 seconds\n",
      ": 635 rows, 1157 columns, 7489 nonzeros\n",
      "Set parameter Username\n",
      "Academic license - for non-commercial use only - expires 2023-04-21\n",
      "Read LP format model from file /var/folders/85/n42jk96d3hsbdfcjbr1qlmb80000gp/T/tmp_jd2c54k.lp\n",
      "Reading time = 0.01 seconds\n",
      ": 635 rows, 1157 columns, 7489 nonzeros\n",
      "\n",
      "Reactions pruned to 577 from 1313 (56.05% change)\n",
      "Metabolites pruned to 632 from 1243 (49.16% change)\n",
      "Flux through the objective DECREASED to ~139.27 from ~159.67 (12.78% change)\n",
      "Context-specific metabolism correlates with transcriptome (r=-0.182, p<0.001 *)\n",
      "\n",
      "RIPTiDe completed in, 1 minute and 46 seconds \n",
      "\n",
      "\n",
      "Initializing model and integrating transcriptomic data...\n",
      "Read LP format model from file /var/folders/85/n42jk96d3hsbdfcjbr1qlmb80000gp/T/tmpc4tmp042.lp\n",
      "Reading time = 0.01 seconds\n",
      ": 1243 rows, 2626 columns, 11388 nonzeros\n",
      "Pruning zero flux subnetworks...\n",
      "Read LP format model from file /var/folders/85/n42jk96d3hsbdfcjbr1qlmb80000gp/T/tmp2w5tq7ha.lp\n",
      "Reading time = 0.01 seconds\n",
      ": 1243 rows, 2626 columns, 11388 nonzeros\n"
     ]
    },
    {
     "name": "stderr",
     "output_type": "stream",
     "text": [
      "/Users/dap5mb/opt/anaconda3/lib/python3.8/site-packages/optlang/interface.py:1474: DeprecationWarning: Deprecated, pass a TempConstr or use Model.addLConstr\n",
      "  self._add_constraints(add_constr)\n"
     ]
    },
    {
     "name": "stdout",
     "output_type": "stream",
     "text": [
      "Read LP format model from file /var/folders/85/n42jk96d3hsbdfcjbr1qlmb80000gp/T/tmpnez_awqa.lp\n",
      "Reading time = 0.01 seconds\n",
      ": 1243 rows, 2626 columns, 11388 nonzeros\n"
     ]
    },
    {
     "name": "stderr",
     "output_type": "stream",
     "text": [
      "/Users/dap5mb/opt/anaconda3/lib/python3.8/site-packages/optlang/interface.py:1474: DeprecationWarning: Deprecated, pass a TempConstr or use Model.addLConstr\n",
      "  self._add_constraints(add_constr)\n"
     ]
    },
    {
     "name": "stdout",
     "output_type": "stream",
     "text": [
      "Read LP format model from file /var/folders/85/n42jk96d3hsbdfcjbr1qlmb80000gp/T/tmp1hct03zo.lp\n",
      "Reading time = 0.01 seconds\n",
      ": 1243 rows, 2626 columns, 11388 nonzeros\n"
     ]
    },
    {
     "name": "stderr",
     "output_type": "stream",
     "text": [
      "/Users/dap5mb/opt/anaconda3/lib/python3.8/site-packages/optlang/interface.py:1474: DeprecationWarning: Deprecated, pass a TempConstr or use Model.addLConstr\n",
      "  self._add_constraints(add_constr)\n"
     ]
    },
    {
     "name": "stdout",
     "output_type": "stream",
     "text": [
      "Analyzing context-specific flux distributions...\n",
      "Read LP format model from file /var/folders/85/n42jk96d3hsbdfcjbr1qlmb80000gp/T/tmpdp1y5gbk.lp\n",
      "Reading time = 0.01 seconds\n",
      ": 642 rows, 1166 columns, 5198 nonzeros\n"
     ]
    },
    {
     "name": "stderr",
     "output_type": "stream",
     "text": [
      "/Users/dap5mb/opt/anaconda3/lib/python3.8/site-packages/optlang/interface.py:1474: DeprecationWarning: Deprecated, pass a TempConstr or use Model.addLConstr\n",
      "  self._add_constraints(add_constr)\n"
     ]
    },
    {
     "name": "stdout",
     "output_type": "stream",
     "text": [
      "Set parameter Username\n",
      "Academic license - for non-commercial use only - expires 2023-04-21\n",
      "Read LP format model from file /var/folders/85/n42jk96d3hsbdfcjbr1qlmb80000gp/T/tmp2uukvpjr.lp\n",
      "Reading time = 0.01 seconds\n",
      ": 645 rows, 1169 columns, 7535 nonzeros\n",
      "Set parameter Username\n",
      "Academic license - for non-commercial use only - expires 2023-04-21\n",
      "Read LP format model from file /var/folders/85/n42jk96d3hsbdfcjbr1qlmb80000gp/T/tmpr364v2zo.lp\n",
      "Reading time = 0.01 seconds\n",
      ": 645 rows, 1169 columns, 7535 nonzeros\n",
      "Set parameter Username\n",
      "Academic license - for non-commercial use only - expires 2023-04-21\n",
      "Read LP format model from file /var/folders/85/n42jk96d3hsbdfcjbr1qlmb80000gp/T/tmpue3ptkl6.lp\n",
      "Reading time = 0.01 seconds\n",
      ": 645 rows, 1169 columns, 7535 nonzeros\n",
      "Set parameter Username\n",
      "Academic license - for non-commercial use only - expires 2023-04-21\n",
      "Read LP format model from file /var/folders/85/n42jk96d3hsbdfcjbr1qlmb80000gp/T/tmp0n5ii1dn.lp\n",
      "Reading time = 0.01 seconds\n",
      ": 645 rows, 1169 columns, 7535 nonzeros\n",
      "Set parameter Username\n",
      "Academic license - for non-commercial use only - expires 2023-04-21\n",
      "Read LP format model from file /var/folders/85/n42jk96d3hsbdfcjbr1qlmb80000gp/T/tmphk43xkxb.lp\n",
      "Reading time = 0.01 seconds\n",
      ": 645 rows, 1169 columns, 7535 nonzeros\n",
      "Set parameter Username\n",
      "Academic license - for non-commercial use only - expires 2023-04-21\n",
      "Read LP format model from file /var/folders/85/n42jk96d3hsbdfcjbr1qlmb80000gp/T/tmpi8dlgnw3.lp\n",
      "Reading time = 0.01 seconds\n",
      ": 645 rows, 1169 columns, 7535 nonzeros\n",
      "Set parameter Username\n",
      "Academic license - for non-commercial use only - expires 2023-04-21\n",
      "Read LP format model from file /var/folders/85/n42jk96d3hsbdfcjbr1qlmb80000gp/T/tmp0aestj83.lp\n",
      "Reading time = 0.02 seconds\n",
      ": 645 rows, 1169 columns, 7535 nonzeros\n",
      "Set parameter Username\n",
      "Academic license - for non-commercial use only - expires 2023-04-21\n",
      "Read LP format model from file /var/folders/85/n42jk96d3hsbdfcjbr1qlmb80000gp/T/tmp7vnsgdee.lp\n",
      "Reading time = 0.01 seconds\n",
      ": 645 rows, 1169 columns, 7535 nonzeros\n",
      "Set parameter Username\n",
      "Academic license - for non-commercial use only - expires 2023-04-21\n",
      "Read LP format model from file /var/folders/85/n42jk96d3hsbdfcjbr1qlmb80000gp/T/tmpj019nd5i.lp\n",
      "Reading time = 0.01 seconds\n",
      ": 645 rows, 1169 columns, 7535 nonzeros\n",
      "Set parameter Username\n",
      "Academic license - for non-commercial use only - expires 2023-04-21\n",
      "Read LP format model from file /var/folders/85/n42jk96d3hsbdfcjbr1qlmb80000gp/T/tmpda2h_fzx.lp\n",
      "Reading time = 0.01 seconds\n",
      ": 645 rows, 1169 columns, 7535 nonzeros\n",
      "Set parameter Username\n",
      "Academic license - for non-commercial use only - expires 2023-04-21\n",
      "Read LP format model from file /var/folders/85/n42jk96d3hsbdfcjbr1qlmb80000gp/T/tmppxxxm6g8.lp\n",
      "Reading time = 0.01 seconds\n",
      ": 645 rows, 1169 columns, 7535 nonzeros\n",
      "Set parameter Username\n",
      "Academic license - for non-commercial use only - expires 2023-04-21\n",
      "Read LP format model from file /var/folders/85/n42jk96d3hsbdfcjbr1qlmb80000gp/T/tmpdqeo0mzp.lp\n",
      "Reading time = 0.01 seconds\n",
      ": 645 rows, 1169 columns, 7535 nonzeros\n",
      "Set parameter Username\n",
      "Academic license - for non-commercial use only - expires 2023-04-21\n",
      "Read LP format model from file /var/folders/85/n42jk96d3hsbdfcjbr1qlmb80000gp/T/tmpwf3u9f3o.lp\n",
      "Reading time = 0.01 seconds\n",
      ": 645 rows, 1169 columns, 7535 nonzeros\n",
      "Set parameter Username\n",
      "Academic license - for non-commercial use only - expires 2023-04-21\n",
      "Read LP format model from file /var/folders/85/n42jk96d3hsbdfcjbr1qlmb80000gp/T/tmplwqmwnjh.lp\n",
      "Reading time = 0.01 seconds\n",
      ": 645 rows, 1169 columns, 7535 nonzeros\n"
     ]
    },
    {
     "name": "stderr",
     "output_type": "stream",
     "text": [
      "/Users/dap5mb/opt/anaconda3/lib/python3.8/site-packages/optlang/interface.py:1474: DeprecationWarning: Deprecated, pass a TempConstr or use Model.addLConstr\n",
      "  self._add_constraints(add_constr)\n"
     ]
    },
    {
     "name": "stdout",
     "output_type": "stream",
     "text": [
      "Set parameter Username\n",
      "Academic license - for non-commercial use only - expires 2023-04-21\n",
      "Read LP format model from file /var/folders/85/n42jk96d3hsbdfcjbr1qlmb80000gp/T/tmpeu70dqxd.lp\n",
      "Reading time = 0.01 seconds\n",
      ": 645 rows, 1169 columns, 7535 nonzeros\n",
      "Set parameter Username\n",
      "Academic license - for non-commercial use only - expires 2023-04-21\n",
      "Read LP format model from file /var/folders/85/n42jk96d3hsbdfcjbr1qlmb80000gp/T/tmp8p812v_s.lp\n",
      "Reading time = 0.01 seconds\n",
      ": 645 rows, 1169 columns, 7535 nonzeros\n",
      "Set parameter Username\n",
      "Academic license - for non-commercial use only - expires 2023-04-21\n",
      "Read LP format model from file /var/folders/85/n42jk96d3hsbdfcjbr1qlmb80000gp/T/tmpz7tsoay8.lp\n",
      "Reading time = 0.01 seconds\n",
      ": 645 rows, 1169 columns, 7535 nonzeros\n",
      "Set parameter Username\n",
      "Academic license - for non-commercial use only - expires 2023-04-21\n",
      "Read LP format model from file /var/folders/85/n42jk96d3hsbdfcjbr1qlmb80000gp/T/tmpivckctwx.lp\n",
      "Reading time = 0.01 seconds\n",
      ": 645 rows, 1169 columns, 7535 nonzeros\n",
      "Set parameter Username\n",
      "Academic license - for non-commercial use only - expires 2023-04-21\n",
      "Read LP format model from file /var/folders/85/n42jk96d3hsbdfcjbr1qlmb80000gp/T/tmpfwgidk6h.lp\n",
      "Reading time = 0.01 seconds\n",
      ": 645 rows, 1169 columns, 7535 nonzeros\n",
      "Set parameter Username\n",
      "Academic license - for non-commercial use only - expires 2023-04-21\n",
      "Read LP format model from file /var/folders/85/n42jk96d3hsbdfcjbr1qlmb80000gp/T/tmpbortb991.lp\n",
      "Reading time = 0.01 seconds\n",
      ": 645 rows, 1169 columns, 7535 nonzeros\n",
      "Set parameter Username\n",
      "Academic license - for non-commercial use only - expires 2023-04-21\n",
      "Read LP format model from file /var/folders/85/n42jk96d3hsbdfcjbr1qlmb80000gp/T/tmpsbcbj0e_.lp\n",
      "Reading time = 0.01 seconds\n",
      ": 645 rows, 1169 columns, 7535 nonzeros\n",
      "Set parameter Username\n",
      "Academic license - for non-commercial use only - expires 2023-04-21\n",
      "Read LP format model from file /var/folders/85/n42jk96d3hsbdfcjbr1qlmb80000gp/T/tmp59sbep1q.lp\n",
      "Reading time = 0.01 seconds\n",
      ": 645 rows, 1169 columns, 7535 nonzeros\n",
      "Set parameter Username\n",
      "Academic license - for non-commercial use only - expires 2023-04-21\n",
      "Read LP format model from file /var/folders/85/n42jk96d3hsbdfcjbr1qlmb80000gp/T/tmpfghco5ad.lp\n",
      "Reading time = 0.01 seconds\n",
      ": 645 rows, 1169 columns, 7535 nonzeros\n",
      "Set parameter Username\n",
      "Academic license - for non-commercial use only - expires 2023-04-21\n",
      "Read LP format model from file /var/folders/85/n42jk96d3hsbdfcjbr1qlmb80000gp/T/tmpo_yad0pn.lp\n",
      "Reading time = 0.01 seconds\n",
      ": 645 rows, 1169 columns, 7535 nonzeros\n",
      "Set parameter Username\n",
      "Academic license - for non-commercial use only - expires 2023-04-21\n",
      "Read LP format model from file /var/folders/85/n42jk96d3hsbdfcjbr1qlmb80000gp/T/tmpixnk_hhr.lp\n",
      "Reading time = 0.01 seconds\n",
      ": 645 rows, 1169 columns, 7535 nonzeros\n",
      "Set parameter Username\n",
      "Academic license - for non-commercial use only - expires 2023-04-21\n",
      "Read LP format model from file /var/folders/85/n42jk96d3hsbdfcjbr1qlmb80000gp/T/tmpb5eq3n2r.lp\n",
      "Reading time = 0.01 seconds\n",
      ": 645 rows, 1169 columns, 7535 nonzeros\n",
      "Set parameter Username\n",
      "Academic license - for non-commercial use only - expires 2023-04-21\n",
      "Read LP format model from file /var/folders/85/n42jk96d3hsbdfcjbr1qlmb80000gp/T/tmp7_vxd9w_.lp\n",
      "Reading time = 0.01 seconds\n",
      ": 645 rows, 1169 columns, 7535 nonzeros\n",
      "Set parameter Username\n",
      "Academic license - for non-commercial use only - expires 2023-04-21\n",
      "Read LP format model from file /var/folders/85/n42jk96d3hsbdfcjbr1qlmb80000gp/T/tmpc0tuxvi2.lp\n",
      "Reading time = 0.02 seconds\n",
      ": 645 rows, 1169 columns, 7535 nonzeros\n",
      "\n",
      "Reactions pruned to 583 from 1313 (55.6% change)\n",
      "Metabolites pruned to 642 from 1243 (48.35% change)\n",
      "Flux through the objective DECREASED to ~142.66 from ~159.67 (10.65% change)\n",
      "Context-specific metabolism correlates with transcriptome (r=-0.182, p<0.001 *)\n",
      "\n",
      "RIPTiDe completed in, 1 minute and 43 seconds \n",
      "\n"
     ]
    }
   ],
   "source": [
    "rip_bhisr = riptide.contextualize(model=r20291, conservative=True, transcriptome=bhisr)\n",
    "rip_cal = riptide.contextualize(model=r20291, conservative=True, transcriptome=cal)"
   ]
  },
  {
   "cell_type": "markdown",
   "id": "a397462b-21c8-4672-9a96-d204d14454a2",
   "metadata": {},
   "source": [
    "# Format flux sampling data\n",
    "- Add condition column\n",
    "- Downsample flux sampling to 100\n",
    "- Merge all conditions into single file"
   ]
  },
  {
   "cell_type": "code",
   "execution_count": 49,
   "id": "0270ab22-02e7-49f6-920b-58dee23ba714",
   "metadata": {},
   "outputs": [],
   "source": [
    "condition_dict = {\n",
    "    rip_hife:'High Iron',\n",
    "    rip_lofe:'Low Iron',\n",
    "    rip_anaero:'BHIS-1',\n",
    "    rip_microaer:'BHIS - Microaerobic',\n",
    "    rip_bhis:'BHIS-2',\n",
    "    rip_d120:'BHIS + 120uM Deoxycholate',\n",
    "    rip_d240:'BHIS + 240uM Deoxycholate',\n",
    "    rip_ty:'TY',\n",
    "    rip_tycys:'TY + Cysteine',\n",
    "    rip_dmso:'DMSO-1',\n",
    "    rip_dca:'Deoxycholate',\n",
    "    rip_cho:'Cholate',\n",
    "    rip_dmso1:'DMSO-2',\n",
    "    rip_enox:'Enoxolone',\n",
    "    rip_bhisr:'BHIS-3',\n",
    "    rip_cal:'BHIS + Calprotectin'\n",
    "}"
   ]
  },
  {
   "cell_type": "code",
   "execution_count": 60,
   "id": "88472f8e-e03a-4520-99dd-809a5323fc42",
   "metadata": {},
   "outputs": [],
   "source": [
    "strain_dict={\n",
    "    rip_hife:'CD630',\n",
    "    rip_lofe:'CD630',\n",
    "    rip_anaero:'CD630',\n",
    "    rip_microaer:'CD630',\n",
    "    rip_bhis:'CD630',\n",
    "    rip_d120:'CD630',\n",
    "    rip_d240:'CD630',\n",
    "    rip_ty:'CDR20291',\n",
    "    rip_tycys:'CDR20291',\n",
    "    rip_dmso:'CDR20291',\n",
    "    rip_dca:'CDR20291',\n",
    "    rip_cho:'CDR20291',\n",
    "    rip_dmso1:'CDR20291',\n",
    "    rip_enox:'CDR20291',\n",
    "    rip_bhisr:'CDR20291',\n",
    "    rip_cal:'CDR20291'\n",
    "}"
   ]
  },
  {
   "cell_type": "code",
   "execution_count": 61,
   "id": "ff85dd47-e131-42f8-8a52-3c9bb1d26e25",
   "metadata": {},
   "outputs": [],
   "source": [
    "# Binary toxin transcript level dict\n",
    "toxin_dict={\n",
    "    rip_hife:'Low',\n",
    "    rip_lofe:'Low',\n",
    "    rip_anaero:'High',\n",
    "    rip_microaer:'High',\n",
    "    rip_bhis:'High',\n",
    "    rip_d120:'High',\n",
    "    rip_d240:'Low',\n",
    "    rip_ty:'High',\n",
    "    rip_tycys:'High',\n",
    "    rip_dmso:'Low',\n",
    "    rip_dca:'Low',\n",
    "    rip_cho:'Low',\n",
    "    rip_dmso1:'High',\n",
    "    rip_enox:'Low',\n",
    "    rip_bhisr:'High',\n",
    "    rip_cal:'Low'\n",
    "}"
   ]
  },
  {
   "cell_type": "code",
   "execution_count": 73,
   "id": "62e0e9a7-a265-4931-89a0-c8a214267e41",
   "metadata": {},
   "outputs": [],
   "source": [
    "low_dict={\n",
    "    rip_hife:'Low',\n",
    "    rip_lofe:'Low',\n",
    "    rip_d240:'Low',\n",
    "    rip_dmso:'Low',\n",
    "    rip_dca:'Low',\n",
    "    rip_cho:'Low',\n",
    "    rip_enox:'Low',\n",
    "    rip_cal:'Low'\n",
    "}"
   ]
  },
  {
   "cell_type": "code",
   "execution_count": 74,
   "id": "79cfc065-9fa7-42b0-a0e8-fa49d933e10c",
   "metadata": {},
   "outputs": [],
   "source": [
    "high_dict={\n",
    "    rip_anaero:'High',\n",
    "    rip_microaer:'High',\n",
    "    rip_bhis:'High',\n",
    "    rip_d120:'High',\n",
    "    rip_ty:'High',\n",
    "    rip_tycys:'High',\n",
    "    rip_dmso1:'High',\n",
    "    rip_bhisr:'High'\n",
    "}"
   ]
  },
  {
   "cell_type": "code",
   "execution_count": 207,
   "id": "3487905a-13e5-40f5-bf48-3dd7778e48e5",
   "metadata": {
    "tags": []
   },
   "outputs": [],
   "source": [
    "alldf = pd.DataFrame()\n",
    "for fs in condition_dict:\n",
    "    g = fs.flux_samples\n",
    "    #g['strain'] = str(strain_dict[fs]) # Add strain column\n",
    "    #g['condition'] = str(condition_dict[fs]) # Add condition column\n",
    "    #g['toxin'] = str(toxin_dict[fs]) # Add toxin transcript abundance (normalized and binned)\n",
    "    alldf = alldf.append(g.sample(n=100, random_state=1, replace=True)) # Random sample to downsample, replace = True bc some rip_obj.flux_samples < 100 flux samples"
   ]
  },
  {
   "cell_type": "code",
   "execution_count": 195,
   "id": "2a86353d-1414-4518-8ad4-bf69886cb691",
   "metadata": {},
   "outputs": [],
   "source": [
    "# Replace NaN with zeros\n",
    "#alldf['condition']=alldf['condition'].fillna('Low Iron')\n",
    "alldf = alldf.fillna(0)"
   ]
  },
  {
   "cell_type": "code",
   "execution_count": 358,
   "id": "4eff78d1-73f1-40db-bbe8-16c4de6ecca0",
   "metadata": {},
   "outputs": [],
   "source": [
    "# Save downsampled flux df\n",
    "alldf.to_csv('../data/rnaseqFluxSampling.csv')"
   ]
  },
  {
   "cell_type": "code",
   "execution_count": null,
   "id": "3d52b846-6efd-49c1-8e2b-9509b61f1700",
   "metadata": {},
   "outputs": [],
   "source": []
  },
  {
   "cell_type": "markdown",
   "id": "d7c1f8f7-f4ff-4112-948f-65cca0444e32",
   "metadata": {
    "tags": []
   },
   "source": [
    "# Quick PCA of flux sampling data"
   ]
  },
  {
   "cell_type": "code",
   "execution_count": 21,
   "id": "93bf6cc2-5a19-4a94-94b3-4bdc93a523bb",
   "metadata": {},
   "outputs": [],
   "source": [
    "from sklearn.preprocessing import StandardScaler\n",
    "from sklearn.decomposition import PCA\n",
    "import matplotlib.pyplot as plt\n",
    "import pandas as pd\n",
    "import numpy as np"
   ]
  },
  {
   "cell_type": "markdown",
   "id": "4c8a7e8a-dcab-4a29-a6d9-5e53092616bd",
   "metadata": {},
   "source": [
    "#### CHECKPOINT"
   ]
  },
  {
   "cell_type": "code",
   "execution_count": 5,
   "id": "004c98ae-3119-4a40-b5f1-074d5ca51572",
   "metadata": {},
   "outputs": [],
   "source": [
    "alldf = pd.read_csv('../data/rnaseqFluxSampling.csv', index_col = 0)"
   ]
  },
  {
   "cell_type": "code",
   "execution_count": 16,
   "id": "848df398-da7e-4bec-a7aa-560c35a63a59",
   "metadata": {},
   "outputs": [],
   "source": [
    "# Features\n",
    "x = alldf.drop(['strain','condition','toxin'], axis=1).fillna(0).values\n",
    "# Target\n",
    "y = alldf.loc[:,['strain','condition']].values\n",
    "# Standardize features\n",
    "x = StandardScaler().fit_transform(x)"
   ]
  },
  {
   "cell_type": "code",
   "execution_count": 17,
   "id": "e5e70121-d9c2-477d-b062-0ac66744ffd2",
   "metadata": {},
   "outputs": [],
   "source": [
    "pca = PCA(n_components=2)\n",
    "principalComponents = pca.fit_transform(x)\n",
    "allpca = pd.DataFrame(data = principalComponents\n",
    "             , columns = ['principal component 1', 'principal component 2'])"
   ]
  },
  {
   "cell_type": "code",
   "execution_count": 18,
   "id": "8361e68f-67b6-43ec-b505-852b02031fd4",
   "metadata": {
    "collapsed": true,
    "jupyter": {
     "outputs_hidden": true
    },
    "tags": []
   },
   "outputs": [
    {
     "data": {
      "text/html": [
       "<div>\n",
       "<style scoped>\n",
       "    .dataframe tbody tr th:only-of-type {\n",
       "        vertical-align: middle;\n",
       "    }\n",
       "\n",
       "    .dataframe tbody tr th {\n",
       "        vertical-align: top;\n",
       "    }\n",
       "\n",
       "    .dataframe thead th {\n",
       "        text-align: right;\n",
       "    }\n",
       "</style>\n",
       "<table border=\"1\" class=\"dataframe\">\n",
       "  <thead>\n",
       "    <tr style=\"text-align: right;\">\n",
       "      <th></th>\n",
       "      <th>principal component 1</th>\n",
       "      <th>principal component 2</th>\n",
       "      <th>condition</th>\n",
       "    </tr>\n",
       "  </thead>\n",
       "  <tbody>\n",
       "    <tr>\n",
       "      <th>0</th>\n",
       "      <td>-12.961508</td>\n",
       "      <td>0.991176</td>\n",
       "      <td>High Iron</td>\n",
       "    </tr>\n",
       "    <tr>\n",
       "      <th>1</th>\n",
       "      <td>-8.972796</td>\n",
       "      <td>2.844733</td>\n",
       "      <td>High Iron</td>\n",
       "    </tr>\n",
       "    <tr>\n",
       "      <th>2</th>\n",
       "      <td>-1.951934</td>\n",
       "      <td>9.955117</td>\n",
       "      <td>High Iron</td>\n",
       "    </tr>\n",
       "    <tr>\n",
       "      <th>3</th>\n",
       "      <td>-12.767084</td>\n",
       "      <td>0.158412</td>\n",
       "      <td>High Iron</td>\n",
       "    </tr>\n",
       "    <tr>\n",
       "      <th>4</th>\n",
       "      <td>-13.897731</td>\n",
       "      <td>2.165987</td>\n",
       "      <td>High Iron</td>\n",
       "    </tr>\n",
       "    <tr>\n",
       "      <th>...</th>\n",
       "      <td>...</td>\n",
       "      <td>...</td>\n",
       "      <td>...</td>\n",
       "    </tr>\n",
       "    <tr>\n",
       "      <th>1595</th>\n",
       "      <td>17.779150</td>\n",
       "      <td>0.604934</td>\n",
       "      <td>BHIS + Calprotectin</td>\n",
       "    </tr>\n",
       "    <tr>\n",
       "      <th>1596</th>\n",
       "      <td>7.992351</td>\n",
       "      <td>-3.022090</td>\n",
       "      <td>BHIS + Calprotectin</td>\n",
       "    </tr>\n",
       "    <tr>\n",
       "      <th>1597</th>\n",
       "      <td>7.252034</td>\n",
       "      <td>-1.747298</td>\n",
       "      <td>BHIS + Calprotectin</td>\n",
       "    </tr>\n",
       "    <tr>\n",
       "      <th>1598</th>\n",
       "      <td>9.088316</td>\n",
       "      <td>-4.542747</td>\n",
       "      <td>BHIS + Calprotectin</td>\n",
       "    </tr>\n",
       "    <tr>\n",
       "      <th>1599</th>\n",
       "      <td>10.414969</td>\n",
       "      <td>-3.134006</td>\n",
       "      <td>BHIS + Calprotectin</td>\n",
       "    </tr>\n",
       "  </tbody>\n",
       "</table>\n",
       "<p>1600 rows × 3 columns</p>\n",
       "</div>"
      ],
      "text/plain": [
       "      principal component 1  principal component 2            condition\n",
       "0                -12.961508               0.991176            High Iron\n",
       "1                 -8.972796               2.844733            High Iron\n",
       "2                 -1.951934               9.955117            High Iron\n",
       "3                -12.767084               0.158412            High Iron\n",
       "4                -13.897731               2.165987            High Iron\n",
       "...                     ...                    ...                  ...\n",
       "1595              17.779150               0.604934  BHIS + Calprotectin\n",
       "1596               7.992351              -3.022090  BHIS + Calprotectin\n",
       "1597               7.252034              -1.747298  BHIS + Calprotectin\n",
       "1598               9.088316              -4.542747  BHIS + Calprotectin\n",
       "1599              10.414969              -3.134006  BHIS + Calprotectin\n",
       "\n",
       "[1600 rows x 3 columns]"
      ]
     },
     "execution_count": 18,
     "metadata": {},
     "output_type": "execute_result"
    }
   ],
   "source": [
    "# Condition\n",
    "conditiondf = pd.concat([allpca, alldf.reset_index()[['condition']]], axis = 1)\n",
    "conditiondf"
   ]
  },
  {
   "cell_type": "code",
   "execution_count": 19,
   "id": "8b3672d9-8928-4c6a-a7a5-8e0e6ff97807",
   "metadata": {},
   "outputs": [
    {
     "data": {
      "text/plain": [
       "array([0.35096066, 0.0496423 ])"
      ]
     },
     "execution_count": 19,
     "metadata": {},
     "output_type": "execute_result"
    }
   ],
   "source": [
    "pca.explained_variance_ratio_\n",
    "#array([0.35096066, 0.0496423 ])"
   ]
  },
  {
   "cell_type": "code",
   "execution_count": 152,
   "id": "09953fcd-1d32-4864-b1f6-a8aa72298b3e",
   "metadata": {},
   "outputs": [],
   "source": [
    "straindf = pd.concat([allpca,alldf.reset_index()[['strain']]], axis = 1)"
   ]
  },
  {
   "cell_type": "code",
   "execution_count": null,
   "id": "3a336895-acc2-4007-87bd-384bb81c5995",
   "metadata": {},
   "outputs": [],
   "source": []
  },
  {
   "cell_type": "code",
   "execution_count": 159,
   "id": "e4637a59-52d9-47d7-be38-1ec7b340566b",
   "metadata": {},
   "outputs": [
    {
     "data": {
      "image/png": "[encoded data removed]",
      "text/plain": [
       "<Figure size 576x308.736 with 1 Axes>"
      ]
     },
     "metadata": {
      "needs_background": "light"
     },
     "output_type": "display_data"
    }
   ],
   "source": [
    "fig = plt.figure(figsize=(8,4.288))\n",
    "ax = fig.add_subplot(1,1,1) \n",
    "ax.set_xlabel('PC1 [35%]', fontsize = 15)\n",
    "ax.set_ylabel('PC2 [5%]', fontsize = 15)\n",
    "ax.set_title('PCA: Flux Sampling', fontsize = 20)\n",
    "targets = straindf['strain'].unique().tolist()\n",
    "colors = ['#d2a3d3','#955a98']\n",
    "for target, color in zip(targets,colors):\n",
    "    indicesToKeep = straindf['strain'] == target\n",
    "    ax.scatter(straindf.loc[indicesToKeep, 'principal component 1']\n",
    "               , straindf.loc[indicesToKeep, 'principal component 2']\n",
    "               , c = color\n",
    "               , s = 50\n",
    "              , alpha = 0.7)\n",
    "ax.legend(targets, loc=(1.025,-0.06), title='$\\\\bf{Strains}$',frameon=False)._legend_box.align = \"left\"\n",
    "# Set aspect ratio\n",
    "ratio=1\n",
    "x_left, x_right = ax.get_xlim()\n",
    "y_low, y_high = ax.get_ylim()\n",
    "#ax.set_aspect(0.536)\n",
    "plt.yticks(np.arange(-10, 25, 10))\n",
    "plt.annotate('630', (-15,15), fontsize=14)\n",
    "plt.annotate('R20291', (25,-5), fontsize=14)\n",
    "\n",
    "#plt.savefig('../figures/allfs_PCA2.jpeg',bbox_inches='tight', dpi = 600)\n",
    "\n",
    "# To Do:\n",
    "## Add alpha to colors?\n",
    "## Adjust aspect ratio (5 x 35) > still not quite right"
   ]
  },
  {
   "cell_type": "code",
   "execution_count": 158,
   "id": "accab5be-7c4c-4d89-906d-53f8da6372f2",
   "metadata": {},
   "outputs": [
    {
     "data": {
      "image/png": "[encoded data removed]",
      "text/plain": [
       "<Figure size 576x308.736 with 1 Axes>"
      ]
     },
     "metadata": {
      "needs_background": "light"
     },
     "output_type": "display_data"
    }
   ],
   "source": [
    "fig = plt.figure(figsize=(8,4.288))\n",
    "ax = fig.add_subplot(1,1,1) \n",
    "ax.set_xlabel('PC1 [35%]', fontsize = 15)\n",
    "ax.set_ylabel('PC2 [5%]', fontsize = 15)\n",
    "ax.set_title('PCA: Flux Sampling', fontsize = 20)\n",
    "targets = conditiondf['condition'].unique().tolist()\n",
    "colors = ['#fde725','#d2e21b','#a5db36','#7ad151','#54c568','#35b779','#22a884','#1f988b','#23888e','#2a788e','#31688e','#39568c','#414487','#472f7d','#481a6c','#440154']\n",
    "for target, color in zip(targets,colors):\n",
    "    indicesToKeep = conditiondf['condition'] == target\n",
    "    ax.scatter(conditiondf.loc[indicesToKeep, 'principal component 1']\n",
    "               , conditiondf.loc[indicesToKeep, 'principal component 2']\n",
    "               , c = color\n",
    "               , s = 50\n",
    "              , alpha = 0.7)\n",
    "ax.legend(targets, loc=(1.025,-0.06), title='$\\\\bf{Conditions}$',frameon=False)._legend_box.align = \"left\"\n",
    "# Set aspect ratio\n",
    "ratio=1\n",
    "x_left, x_right = ax.get_xlim()\n",
    "y_low, y_high = ax.get_ylim()\n",
    "#ax.set_aspect(0.536)\n",
    "plt.yticks(np.arange(-10, 25, 10))\n",
    "plt.annotate('630', (-15,15), fontsize=14)\n",
    "plt.annotate('R20291', (25,-5), fontsize=14)\n",
    "\n",
    "#plt.savefig('../figures/allfs_PCA.jpeg',bbox_inches='tight', dpi = 600)\n",
    "\n",
    "# To Do:\n",
    "## Add alpha to colors?\n",
    "## Adjust aspect ratio (5 x 35) > still not quite right"
   ]
  },
  {
   "cell_type": "markdown",
   "id": "835eae97-ea55-4c71-b699-66d5a0a33a04",
   "metadata": {},
   "source": [
    "## PCA of flux samples by strain"
   ]
  },
  {
   "cell_type": "code",
   "execution_count": 2,
   "id": "090acecc-1cad-4f07-b6ec-4f8f8f01e7e3",
   "metadata": {},
   "outputs": [],
   "source": [
    "from sklearn.preprocessing import StandardScaler\n",
    "from sklearn.decomposition import PCA\n",
    "import matplotlib.pyplot as plt\n",
    "import pandas as pd\n",
    "import numpy as np"
   ]
  },
  {
   "cell_type": "code",
   "execution_count": 3,
   "id": "b400a09a-ede8-447d-91e9-f101baed0d98",
   "metadata": {},
   "outputs": [],
   "source": [
    "# Load flux sampling data\n",
    "alldf = pd.read_csv('../data/rnaseqFluxSampling.csv', index_col = 0)"
   ]
  },
  {
   "cell_type": "code",
   "execution_count": null,
   "id": "5e91f58f-55e7-43d4-8143-da7c4a0caa8f",
   "metadata": {},
   "outputs": [],
   "source": [
    "# Add strain designation to low iron condition\n",
    "#alldf.loc[alldf['condition']=='Low Iron', 'strain'] = 'CD630'"
   ]
  },
  {
   "cell_type": "code",
   "execution_count": null,
   "id": "1c518ebf-1c5a-4458-8bf6-34c4ff7432db",
   "metadata": {},
   "outputs": [],
   "source": []
  },
  {
   "cell_type": "code",
   "execution_count": 5,
   "id": "f6c2c78e-f731-45a9-82a7-96b979702061",
   "metadata": {},
   "outputs": [],
   "source": [
    "# Split by strain\n",
    "cd630 = alldf.loc[alldf['strain']=='CD630']\n",
    "cdr20291 = alldf.loc[alldf['strain']=='CDR20291']"
   ]
  },
  {
   "cell_type": "markdown",
   "id": "8867e7e7-7438-4b32-bbd2-8e76ea90ce0e",
   "metadata": {},
   "source": [
    "### CD630 flux sampling PCA"
   ]
  },
  {
   "cell_type": "code",
   "execution_count": 6,
   "id": "79f7046a-fd78-4657-b372-7b753d6b6194",
   "metadata": {},
   "outputs": [],
   "source": [
    "# Features\n",
    "x = cd630.drop(['strain','condition','toxin', 'toxin2'], axis=1).fillna(0).values\n",
    "# Target\n",
    "y = cd630.loc[:,['strain','condition']].values\n",
    "# Standardize features\n",
    "x = StandardScaler().fit_transform(x)"
   ]
  },
  {
   "cell_type": "code",
   "execution_count": 7,
   "id": "3ddb790b-f2ba-4f74-959d-385352a13599",
   "metadata": {},
   "outputs": [],
   "source": [
    "pca = PCA(n_components=2, random_state=23)\n",
    "principalComponents = pca.fit_transform(x)\n",
    "pca630 = pd.DataFrame(data = principalComponents\n",
    "             , columns = ['principal component 1', 'principal component 2'])"
   ]
  },
  {
   "cell_type": "code",
   "execution_count": 10,
   "id": "7b8979ce-5e97-45e1-9745-ca345c0c2574",
   "metadata": {
    "collapsed": true,
    "jupyter": {
     "outputs_hidden": true
    },
    "tags": []
   },
   "outputs": [
    {
     "data": {
      "text/html": [
       "<div>\n",
       "<style scoped>\n",
       "    .dataframe tbody tr th:only-of-type {\n",
       "        vertical-align: middle;\n",
       "    }\n",
       "\n",
       "    .dataframe tbody tr th {\n",
       "        vertical-align: top;\n",
       "    }\n",
       "\n",
       "    .dataframe thead th {\n",
       "        text-align: right;\n",
       "    }\n",
       "</style>\n",
       "<table border=\"1\" class=\"dataframe\">\n",
       "  <thead>\n",
       "    <tr style=\"text-align: right;\">\n",
       "      <th></th>\n",
       "      <th>principal component 1</th>\n",
       "      <th>principal component 2</th>\n",
       "      <th>condition</th>\n",
       "      <th>toxin2</th>\n",
       "    </tr>\n",
       "  </thead>\n",
       "  <tbody>\n",
       "    <tr>\n",
       "      <th>0</th>\n",
       "      <td>0.480672</td>\n",
       "      <td>10.275085</td>\n",
       "      <td>High Iron</td>\n",
       "      <td>low</td>\n",
       "    </tr>\n",
       "    <tr>\n",
       "      <th>1</th>\n",
       "      <td>11.412082</td>\n",
       "      <td>5.266300</td>\n",
       "      <td>High Iron</td>\n",
       "      <td>low</td>\n",
       "    </tr>\n",
       "    <tr>\n",
       "      <th>2</th>\n",
       "      <td>33.507406</td>\n",
       "      <td>12.376055</td>\n",
       "      <td>High Iron</td>\n",
       "      <td>low</td>\n",
       "    </tr>\n",
       "    <tr>\n",
       "      <th>3</th>\n",
       "      <td>0.895577</td>\n",
       "      <td>6.484566</td>\n",
       "      <td>High Iron</td>\n",
       "      <td>low</td>\n",
       "    </tr>\n",
       "    <tr>\n",
       "      <th>4</th>\n",
       "      <td>0.585121</td>\n",
       "      <td>5.209742</td>\n",
       "      <td>High Iron</td>\n",
       "      <td>low</td>\n",
       "    </tr>\n",
       "    <tr>\n",
       "      <th>...</th>\n",
       "      <td>...</td>\n",
       "      <td>...</td>\n",
       "      <td>...</td>\n",
       "      <td>...</td>\n",
       "    </tr>\n",
       "    <tr>\n",
       "      <th>695</th>\n",
       "      <td>6.376599</td>\n",
       "      <td>-6.658352</td>\n",
       "      <td>BHIS + 240uM Deoxycholate</td>\n",
       "      <td>low</td>\n",
       "    </tr>\n",
       "    <tr>\n",
       "      <th>696</th>\n",
       "      <td>16.679299</td>\n",
       "      <td>-1.953858</td>\n",
       "      <td>BHIS + 240uM Deoxycholate</td>\n",
       "      <td>low</td>\n",
       "    </tr>\n",
       "    <tr>\n",
       "      <th>697</th>\n",
       "      <td>7.860574</td>\n",
       "      <td>-4.834426</td>\n",
       "      <td>BHIS + 240uM Deoxycholate</td>\n",
       "      <td>low</td>\n",
       "    </tr>\n",
       "    <tr>\n",
       "      <th>698</th>\n",
       "      <td>5.947727</td>\n",
       "      <td>-7.802691</td>\n",
       "      <td>BHIS + 240uM Deoxycholate</td>\n",
       "      <td>low</td>\n",
       "    </tr>\n",
       "    <tr>\n",
       "      <th>699</th>\n",
       "      <td>12.895566</td>\n",
       "      <td>-6.357872</td>\n",
       "      <td>BHIS + 240uM Deoxycholate</td>\n",
       "      <td>low</td>\n",
       "    </tr>\n",
       "  </tbody>\n",
       "</table>\n",
       "<p>700 rows × 4 columns</p>\n",
       "</div>"
      ],
      "text/plain": [
       "     principal component 1  principal component 2                  condition  \\\n",
       "0                 0.480672              10.275085                  High Iron   \n",
       "1                11.412082               5.266300                  High Iron   \n",
       "2                33.507406              12.376055                  High Iron   \n",
       "3                 0.895577               6.484566                  High Iron   \n",
       "4                 0.585121               5.209742                  High Iron   \n",
       "..                     ...                    ...                        ...   \n",
       "695               6.376599              -6.658352  BHIS + 240uM Deoxycholate   \n",
       "696              16.679299              -1.953858  BHIS + 240uM Deoxycholate   \n",
       "697               7.860574              -4.834426  BHIS + 240uM Deoxycholate   \n",
       "698               5.947727              -7.802691  BHIS + 240uM Deoxycholate   \n",
       "699              12.895566              -6.357872  BHIS + 240uM Deoxycholate   \n",
       "\n",
       "    toxin2  \n",
       "0      low  \n",
       "1      low  \n",
       "2      low  \n",
       "3      low  \n",
       "4      low  \n",
       "..     ...  \n",
       "695    low  \n",
       "696    low  \n",
       "697    low  \n",
       "698    low  \n",
       "699    low  \n",
       "\n",
       "[700 rows x 4 columns]"
      ]
     },
     "execution_count": 10,
     "metadata": {},
     "output_type": "execute_result"
    }
   ],
   "source": [
    "# Condition\n",
    "conditiondf1 = pd.concat([pca630, cd630.reset_index()[['condition', 'toxin2']]], axis = 1)\n",
    "conditiondf1"
   ]
  },
  {
   "cell_type": "code",
   "execution_count": null,
   "id": "1d65b270-45b7-4c6f-b358-82b4b8b56786",
   "metadata": {},
   "outputs": [],
   "source": []
  },
  {
   "cell_type": "code",
   "execution_count": 9,
   "id": "de5966b2-fb68-4197-a14e-b2f356103552",
   "metadata": {},
   "outputs": [
    {
     "data": {
      "text/plain": [
       "array([0.34944557, 0.0645565 ])"
      ]
     },
     "execution_count": 9,
     "metadata": {},
     "output_type": "execute_result"
    }
   ],
   "source": [
    "pca.explained_variance_ratio_\n",
    "#array([0.35802144, 0.0645565 ])"
   ]
  },
  {
   "cell_type": "code",
   "execution_count": 135,
   "id": "2c8d270d-7fb4-431a-bb02-83e4b9207859",
   "metadata": {},
   "outputs": [
    {
     "name": "stderr",
     "output_type": "stream",
     "text": [
      "<>:15: DeprecationWarning: invalid escape sequence \\,\n",
      "<>:15: DeprecationWarning: invalid escape sequence \\,\n",
      "/var/folders/85/n42jk96d3hsbdfcjbr1qlmb80000gp/T/ipykernel_5774/1142227288.py:15: DeprecationWarning: invalid escape sequence \\,\n",
      "  ax.legend(targets, loc=(1.025,-0.06), title='\\n$\\\\bf{Growth \\, \\, Conditions}$',frameon=False)._legend_box.align = \"left\"\n"
     ]
    },
    {
     "data": {
      "image/png": "[encoded data removed]",
      "text/plain": [
       "<Figure size 576x308.736 with 1 Axes>"
      ]
     },
     "metadata": {
      "needs_background": "light"
     },
     "output_type": "display_data"
    }
   ],
   "source": [
    "# Colored by condition\n",
    "fig = plt.figure(figsize=(8,4.288))\n",
    "ax = fig.add_subplot(1,1,1) \n",
    "ax.set_xlabel('PC1 [35%]', fontsize = 15)\n",
    "ax.set_ylabel('PC2 [7%]', fontsize = 15)\n",
    "ax.set_title('CD630 Flux Sampling', fontsize = 20)\n",
    "targets = conditiondf1['condition'].unique().tolist()\n",
    "colors = ['#fde725','#90d743','#35b779','#21918c','#31688e','#443983','#440154']\n",
    "for target, color in zip(targets,colors):\n",
    "    indicesToKeep = conditiondf1['condition'] == target\n",
    "    ax.scatter(conditiondf1.loc[indicesToKeep, 'principal component 1']\n",
    "               , conditiondf1.loc[indicesToKeep, 'principal component 2']\n",
    "               , c = color\n",
    "               , s = 50\n",
    "              , alpha = 0.7)\n",
    "ax.legend(targets, loc=(1.025,-0.06), title='\\n$\\\\bf{Growth \\, \\, Conditions}$',frameon=False)._legend_box.align = \"left\"\n",
    "# Set aspect ratio\n",
    "ratio=1\n",
    "x_left, x_right = ax.get_xlim()\n",
    "y_low, y_high = ax.get_ylim()\n",
    "#ax.set_aspect(0.536)\n",
    "plt.yticks(np.arange(-10, 25, 10))\n",
    "\n",
    "#plt.savefig('../figures/cd630fs_PCA.jpeg',bbox_inches='tight', dpi = 600)\n",
    "\n",
    "# To Do:\n",
    "## Missing low iron condition --> find and add back\n",
    "## Adjust aspect ratio (7 x 35) > still not quite right\n",
    "## Think about colors?"
   ]
  },
  {
   "cell_type": "code",
   "execution_count": 38,
   "id": "34184bf7-2ee9-4c5b-82b1-e496bfc25d5b",
   "metadata": {},
   "outputs": [
    {
     "data": {
      "image/png": "[encoded data removed]",
      "text/plain": [
       "<Figure size 800x428.8 with 1 Axes>"
      ]
     },
     "metadata": {},
     "output_type": "display_data"
    }
   ],
   "source": [
    "# Colored by toxin state\n",
    "fig = plt.figure(figsize=(8,4.288))\n",
    "ax = fig.add_subplot(1,1,1) \n",
    "ax.set_xlabel('PC1 [35%]', fontsize = 15)\n",
    "ax.set_ylabel('PC2 [7%]', fontsize = 15)\n",
    "ax.set_title('CD630 Flux Sampling', fontsize = 20)\n",
    "#targets = conditiondf1['toxin2'].unique().tolist()\n",
    "#colors = ['#b3e0de','#006a6a']\n",
    "targets = ['high','low']\n",
    "colors = ['#006a6a','#b3e0de']\n",
    "for target, color in zip(targets,colors):\n",
    "    indicesToKeep = conditiondf1['toxin2'] == target\n",
    "    ax.scatter(conditiondf1.loc[indicesToKeep, 'principal component 1']\n",
    "               , conditiondf1.loc[indicesToKeep, 'principal component 2']\n",
    "               , c = color\n",
    "               , s = 50\n",
    "              , alpha = 0.7)\n",
    "ax.legend(['High','Low'], loc=(1.025,-0.06), title='\\n$\\\\bf{Toxin \\, \\, State}$',frameon=False)._legend_box.align = \"left\"\n",
    "# Set aspect ratio\n",
    "ratio=1\n",
    "x_left, x_right = ax.get_xlim()\n",
    "y_low, y_high = ax.get_ylim()\n",
    "#ax.set_aspect(0.536)\n",
    "plt.yticks(np.arange(-10, 25, 10));\n",
    "\n",
    "#plt.savefig('../figures/cd630fs_PCA_byToxin.jpeg',bbox_inches='tight', dpi = 600)"
   ]
  },
  {
   "cell_type": "markdown",
   "id": "6b5b0472-f92f-4b0f-8712-c2a7466a3242",
   "metadata": {},
   "source": [
    "### CDR20291 flux sampling PCA"
   ]
  },
  {
   "cell_type": "code",
   "execution_count": 25,
   "id": "2851f798-dadc-4a13-add6-ac653f2f0e92",
   "metadata": {},
   "outputs": [],
   "source": [
    "# Features\n",
    "x = cdr20291.drop(['strain','condition','toxin', 'toxin2'], axis=1).fillna(0).values\n",
    "# Target\n",
    "y = cdr20291.loc[:,['strain','condition']].values\n",
    "# Standardize features\n",
    "x = StandardScaler().fit_transform(x)"
   ]
  },
  {
   "cell_type": "code",
   "execution_count": 26,
   "id": "0716f3a3-c40a-4112-a5a7-b673b542270d",
   "metadata": {},
   "outputs": [],
   "source": [
    "pca = PCA(n_components=2, random_state=23)\n",
    "principalComponents = pca.fit_transform(x)\n",
    "pcar20291 = pd.DataFrame(data = principalComponents\n",
    "             , columns = ['principal component 1', 'principal component 2'])"
   ]
  },
  {
   "cell_type": "code",
   "execution_count": 27,
   "id": "d34ab02c-1d5d-42fc-9434-182e7cde1d3d",
   "metadata": {
    "collapsed": true,
    "jupyter": {
     "outputs_hidden": true
    },
    "tags": []
   },
   "outputs": [
    {
     "data": {
      "text/html": [
       "<div>\n",
       "<style scoped>\n",
       "    .dataframe tbody tr th:only-of-type {\n",
       "        vertical-align: middle;\n",
       "    }\n",
       "\n",
       "    .dataframe tbody tr th {\n",
       "        vertical-align: top;\n",
       "    }\n",
       "\n",
       "    .dataframe thead th {\n",
       "        text-align: right;\n",
       "    }\n",
       "</style>\n",
       "<table border=\"1\" class=\"dataframe\">\n",
       "  <thead>\n",
       "    <tr style=\"text-align: right;\">\n",
       "      <th></th>\n",
       "      <th>principal component 1</th>\n",
       "      <th>principal component 2</th>\n",
       "      <th>condition</th>\n",
       "      <th>toxin2</th>\n",
       "    </tr>\n",
       "  </thead>\n",
       "  <tbody>\n",
       "    <tr>\n",
       "      <th>0</th>\n",
       "      <td>-14.197929</td>\n",
       "      <td>3.598350</td>\n",
       "      <td>TY</td>\n",
       "      <td>high</td>\n",
       "    </tr>\n",
       "    <tr>\n",
       "      <th>1</th>\n",
       "      <td>-13.652146</td>\n",
       "      <td>0.185519</td>\n",
       "      <td>TY</td>\n",
       "      <td>high</td>\n",
       "    </tr>\n",
       "    <tr>\n",
       "      <th>2</th>\n",
       "      <td>2.144896</td>\n",
       "      <td>-1.951180</td>\n",
       "      <td>TY</td>\n",
       "      <td>high</td>\n",
       "    </tr>\n",
       "    <tr>\n",
       "      <th>3</th>\n",
       "      <td>-14.619903</td>\n",
       "      <td>-0.552653</td>\n",
       "      <td>TY</td>\n",
       "      <td>high</td>\n",
       "    </tr>\n",
       "    <tr>\n",
       "      <th>4</th>\n",
       "      <td>-14.838031</td>\n",
       "      <td>1.077490</td>\n",
       "      <td>TY</td>\n",
       "      <td>high</td>\n",
       "    </tr>\n",
       "    <tr>\n",
       "      <th>...</th>\n",
       "      <td>...</td>\n",
       "      <td>...</td>\n",
       "      <td>...</td>\n",
       "      <td>...</td>\n",
       "    </tr>\n",
       "    <tr>\n",
       "      <th>895</th>\n",
       "      <td>12.997610</td>\n",
       "      <td>-3.639678</td>\n",
       "      <td>BHIS + Calprotectin</td>\n",
       "      <td>low</td>\n",
       "    </tr>\n",
       "    <tr>\n",
       "      <th>896</th>\n",
       "      <td>-4.710368</td>\n",
       "      <td>-3.667110</td>\n",
       "      <td>BHIS + Calprotectin</td>\n",
       "      <td>low</td>\n",
       "    </tr>\n",
       "    <tr>\n",
       "      <th>897</th>\n",
       "      <td>-4.871261</td>\n",
       "      <td>-4.772537</td>\n",
       "      <td>BHIS + Calprotectin</td>\n",
       "      <td>low</td>\n",
       "    </tr>\n",
       "    <tr>\n",
       "      <th>898</th>\n",
       "      <td>-4.734183</td>\n",
       "      <td>-2.244481</td>\n",
       "      <td>BHIS + Calprotectin</td>\n",
       "      <td>low</td>\n",
       "    </tr>\n",
       "    <tr>\n",
       "      <th>899</th>\n",
       "      <td>-0.241516</td>\n",
       "      <td>-2.555565</td>\n",
       "      <td>BHIS + Calprotectin</td>\n",
       "      <td>low</td>\n",
       "    </tr>\n",
       "  </tbody>\n",
       "</table>\n",
       "<p>900 rows × 4 columns</p>\n",
       "</div>"
      ],
      "text/plain": [
       "     principal component 1  principal component 2            condition toxin2\n",
       "0               -14.197929               3.598350                   TY   high\n",
       "1               -13.652146               0.185519                   TY   high\n",
       "2                 2.144896              -1.951180                   TY   high\n",
       "3               -14.619903              -0.552653                   TY   high\n",
       "4               -14.838031               1.077490                   TY   high\n",
       "..                     ...                    ...                  ...    ...\n",
       "895              12.997610              -3.639678  BHIS + Calprotectin    low\n",
       "896              -4.710368              -3.667110  BHIS + Calprotectin    low\n",
       "897              -4.871261              -4.772537  BHIS + Calprotectin    low\n",
       "898              -4.734183              -2.244481  BHIS + Calprotectin    low\n",
       "899              -0.241516              -2.555565  BHIS + Calprotectin    low\n",
       "\n",
       "[900 rows x 4 columns]"
      ]
     },
     "execution_count": 27,
     "metadata": {},
     "output_type": "execute_result"
    }
   ],
   "source": [
    "# Condition\n",
    "conditiondf2 = pd.concat([pcar20291, cdr20291.reset_index()[['condition','toxin2']]], axis = 1)\n",
    "conditiondf2"
   ]
  },
  {
   "cell_type": "code",
   "execution_count": 28,
   "id": "bbe01439-e6c5-4c53-af35-ebe7f72a4d6f",
   "metadata": {},
   "outputs": [
    {
     "data": {
      "text/plain": [
       "array([0.35955514, 0.05694134])"
      ]
     },
     "execution_count": 28,
     "metadata": {},
     "output_type": "execute_result"
    }
   ],
   "source": [
    "pca.explained_variance_ratio_\n",
    "#array([0.35955514, 0.05694134])"
   ]
  },
  {
   "cell_type": "code",
   "execution_count": 141,
   "id": "d84a832c-9dca-4208-88fe-f0a440827591",
   "metadata": {},
   "outputs": [
    {
     "name": "stderr",
     "output_type": "stream",
     "text": [
      "<>:15: DeprecationWarning: invalid escape sequence \\,\n",
      "<>:15: DeprecationWarning: invalid escape sequence \\,\n",
      "/var/folders/85/n42jk96d3hsbdfcjbr1qlmb80000gp/T/ipykernel_5774/776656353.py:15: DeprecationWarning: invalid escape sequence \\,\n",
      "  ax.legend(targets, loc=(1.025,-0.06), title='$\\\\bf{Growth \\, \\, Conditions}$',frameon=False)._legend_box.align = \"left\"\n"
     ]
    },
    {
     "data": {
      "image/png": "[encoded data removed]",
      "text/plain": [
       "<Figure size 576x308.736 with 1 Axes>"
      ]
     },
     "metadata": {
      "needs_background": "light"
     },
     "output_type": "display_data"
    }
   ],
   "source": [
    "# Color by condition\n",
    "fig = plt.figure(figsize=(8,4.288))\n",
    "ax = fig.add_subplot(1,1,1) \n",
    "ax.set_xlabel('PC1 [35%]', fontsize = 15)\n",
    "ax.set_ylabel('PC2 [6%]', fontsize = 15)\n",
    "ax.set_title('CDR20291 Flux Sampling', fontsize = 20)\n",
    "targets = conditiondf2['condition'].unique().tolist()\n",
    "colors = ['#fde725','#addc30','#5ec962','#28ae80','#21918c','#2c728e','#3b528b','#472d7b','#440154']\n",
    "for target, color in zip(targets,colors):\n",
    "    indicesToKeep = conditiondf2['condition'] == target\n",
    "    ax.scatter(conditiondf2.loc[indicesToKeep, 'principal component 1']\n",
    "               , conditiondf2.loc[indicesToKeep, 'principal component 2']\n",
    "               , c = color\n",
    "               , s = 50\n",
    "              , alpha = 0.7)\n",
    "ax.legend(targets, loc=(1.025,-0.06), title='$\\\\bf{Growth \\, \\, Conditions}$',frameon=False)._legend_box.align = \"left\"\n",
    "# Set aspect ratio\n",
    "ratio=1\n",
    "x_left, x_right = ax.get_xlim()\n",
    "y_low, y_high = ax.get_ylim()\n",
    "#ax.set_aspect(0.536)\n",
    "plt.yticks(np.arange(-10, 25, 10))\n",
    "\n",
    "#plt.savefig('../figures/cdR20291fs_PCA.jpeg',bbox_inches='tight', dpi = 600)\n",
    "\n",
    "# To Do:\n",
    "## Missing low iron condition --> find and add back\n",
    "## Adjust aspect ratio (7 x 35) > still not quite right\n",
    "## Think about colors?"
   ]
  },
  {
   "cell_type": "code",
   "execution_count": 37,
   "id": "55c24018-8467-4d99-a400-bc76c5a37425",
   "metadata": {},
   "outputs": [
    {
     "data": {
      "image/png": "[encoded data removed]",
      "text/plain": [
       "<Figure size 800x428.8 with 1 Axes>"
      ]
     },
     "metadata": {},
     "output_type": "display_data"
    }
   ],
   "source": [
    "# Color by toxin\n",
    "fig = plt.figure(figsize=(8,4.288))\n",
    "ax = fig.add_subplot(1,1,1) \n",
    "ax.set_xlabel('PC1 [35%]', fontsize = 15)\n",
    "ax.set_ylabel('PC2 [6%]', fontsize = 15)\n",
    "ax.set_title('CDR20291 Flux Sampling', fontsize = 20)\n",
    "#targets = conditiondf2['toxin2'].unique().tolist()\n",
    "#colors = ['#b3e0de','#006a6a']\n",
    "targets = ['high','low']\n",
    "colors = ['#006a6a','#b3e0de']\n",
    "for target, color in zip(targets,colors):\n",
    "    indicesToKeep = conditiondf2['toxin2'] == target\n",
    "    ax.scatter(conditiondf2.loc[indicesToKeep, 'principal component 1']\n",
    "               , conditiondf2.loc[indicesToKeep, 'principal component 2']\n",
    "               , c = color\n",
    "               , s = 50\n",
    "              , alpha = 0.7)\n",
    "ax.legend(['High','Low'], loc=(1.025,-0.06), title='$\\\\bf{Toxin \\, \\, State}$',frameon=False)._legend_box.align = \"left\"\n",
    "# Set aspect ratio\n",
    "ratio=1\n",
    "x_left, x_right = ax.get_xlim()\n",
    "y_low, y_high = ax.get_ylim()\n",
    "#ax.set_aspect(0.536)\n",
    "plt.yticks(np.arange(-10, 25, 10));\n",
    "\n",
    "#plt.savefig('../figures/cdR20291fs_PCA_byToxin.jpeg',bbox_inches='tight', dpi = 600)"
   ]
  },
  {
   "cell_type": "markdown",
   "id": "51bdcddc-4382-44a5-a7d1-0a9b0474fe80",
   "metadata": {},
   "source": [
    "# Riptide model descriptions (for table)\n",
    "- Number of genes, rxns, metabolites\n",
    "    - Intersection of models: by strain, toxin transcript level, all together\n",
    "    - Unique genes, rxns, metabolites for each model"
   ]
  },
  {
   "cell_type": "code",
   "execution_count": 49,
   "id": "034f50d6-77ff-4b82-9754-aaeea9151ae7",
   "metadata": {
    "tags": []
   },
   "outputs": [],
   "source": [
    "ripdf = pd.DataFrame(columns = ['name','genes','reactions','metabolites'])\n",
    "for x in condition_dict:\n",
    "    n = condition_dict[x]\n",
    "    g = len(set(x.model.genes))\n",
    "    r = len(set(x.model.reactions))\n",
    "    m = len(set(x.model.metabolites))\n",
    "    row = {'name':n,'genes':g,'reactions':r,'metabolites':m}\n",
    "    ripdf = ripdf.append(row, ignore_index = True)"
   ]
  },
  {
   "cell_type": "code",
   "execution_count": 61,
   "id": "f2f971c0-6364-4e27-86f6-8e62e6a27c7c",
   "metadata": {},
   "outputs": [],
   "source": [
    "genes_u = dict()\n",
    "for rip in condition_dict:\n",
    "    rip_u = {x.id for x in rip.model.genes}\n",
    "    a = set(condition_dict.keys())\n",
    "    a.remove(rip)\n",
    "    amset = set()\n",
    "    for am in a:\n",
    "        amset = amset.union({x.id for x in am.model.genes})\n",
    "    u = rip_u.difference(amset)\n",
    "    genes_u[condition_dict[rip]] = u\n",
    "    #ripdf.loc[ripdf['name']==condition_dict[rip], 'genes_u'] = len(u)"
   ]
  },
  {
   "cell_type": "code",
   "execution_count": 93,
   "id": "91db4bee-21ff-421f-a0f4-183b8960f87f",
   "metadata": {},
   "outputs": [
    {
     "name": "stdout",
     "output_type": "stream",
     "text": [
      "High Iron N-Acetyl-L-aspartate amidohydrolase\n",
      "High Iron N-Acyl-L-aspartate amidohydrolase\n",
      "High Iron Nicotinamide amidohydrolase\n",
      "High Iron N-Formyl-L-aspartate amidohydrolase\n",
      "High Iron Nicotinate D-ribonucleotide:diphosphate phosphoribosyltransferase\n",
      "High Iron sucrose:sucrose 1'-beta-D-fructosyltransferase\n",
      "Low Iron Fumarate hydratase\n",
      "Low Iron (S)-Malate:NADP+ oxidoreductase(oxaloacetate-decarboxylating)\n",
      "Low Iron Ala-Gln exchange\n",
      "BHIS-1 indolepyruvate ferredoxin oxidoreductase\n",
      "BHIS-1 Phenylacetate diffusion\n",
      "BHIS-1 Phenylacetate exchange\n",
      "BHIS-2 Isobutyrate exchange\n",
      "BHIS-2 Isobutyrate diffusion\n",
      "BHIS + 240uM Deoxycholate ATP:6-deoxy-L-galactose 1-phosphotransferase\n",
      "BHIS + 240uM Deoxycholate ATP:D-ribose 5-phosphotransferase\n",
      "BHIS + 240uM Deoxycholate Ribokinase\n",
      "BHIS + 240uM Deoxycholate ATP:1D-myo-inositol-1,3,4,6-tetrakisphosphate 5-phosphotransferase\n",
      "BHIS + 240uM Deoxycholate ATP:D-fructose-1-phosphate 6-phosphotransferase\n",
      "BHIS + 240uM Deoxycholate ADP:D-fructose-6-phosphate 1-phosphotransferase\n",
      "DMSO-1 N-Acetylneuraminate pyruvate-lyase (N-acetyl-D-mannosamine-forming)\n",
      "DMSO-1 Neu5Ac exchange\n",
      "DMSO-1 3-hydroxy-3-(4-methylpent-3-en-1-yl)glutaryl-CoA acetate-lyase (7-methyl-3-oxooct-6-enoyl-CoA-forming)\n"
     ]
    }
   ],
   "source": [
    "for cond in rxns_u:\n",
    "    for i in rxns_u[cond]:\n",
    "        print(cond, model.reactions.get_by_id(i).name)"
   ]
  },
  {
   "cell_type": "code",
   "execution_count": 96,
   "id": "346a9292-accb-40f4-b159-af1fa6fdbadf",
   "metadata": {},
   "outputs": [
    {
     "name": "stdout",
     "output_type": "stream",
     "text": [
      "High Iron beta-phosphoglucomutase (EC 5.4.2.6)\n",
      "High Iron NAD-specific glutamate dehydrogenase (EC 1.4.1.2)\n",
      "High Iron beta-phosphoglucomutase (EC 5.4.2.6)\n",
      "High Iron Low-specificity L-threonine aldolase (EC 4.1.2.5)\n",
      "High Iron nicotinate phosphoribosyltransferase (EC 2.4.2.11)\n",
      "High Iron nicotinamidase (EC 3.5.1.19)\n",
      "Low Iron Fumarate hydratase class I, beta region (EC 4.2.1.2); L(+)-tartrate dehydratase beta subunit (EC 4.2.1.32) | fumB\n",
      "Low Iron Fumarate hydratase class I, alpha region (EC 4.2.1.2); L(+)-tartrate dehydratase alpha subunit (EC 4.2.1.32) | fumA\n",
      "Low Iron NADP-dependent malic enzyme (EC 1.1.1.40)\n",
      "BHIS-1 Indolepyruvate oxidoreductase subunit IorB (EC 1.2.7.8) | iorB\n",
      "BHIS + 120uM Deoxycholate guanine deaminase (EC 3.5.4.3)\n",
      "BHIS + 120uM Deoxycholate guanine deaminase (EC 3.5.4.3)\n",
      "BHIS + 240uM Deoxycholate Tagatose-6-phosphate kinase (EC 2.7.1.144)\n",
      "BHIS + 240uM Deoxycholate ribokinase (EC 2.7.1.15)\n",
      "BHIS + 240uM Deoxycholate 1-phosphofructokinase (EC 2.7.1.56)\n",
      "TY beta-phosphoglucomutase (EC 5.4.2.6)\n",
      "TY beta-phosphoglucomutase (EC 5.4.2.6)\n",
      "DMSO-1 N-acetylneuraminate lyase (EC 4.1.3.3)\n",
      "DMSO-1 L-aspartate oxidase (EC 1.4.3.16)\n",
      "Deoxycholate 4-hydroxyphenylacetate decarboxylase, small subunit\n",
      "Deoxycholate 2-oxoglutarate/2-oxoacid ferredoxin oxidoreductase, delta subunit\n",
      "Deoxycholate 4-hydroxyphenylacetate decarboxylase activating enzyme | hpdA\n",
      "Deoxycholate 2-oxoglutarate/2-oxoacid ferredoxin oxidoreductase, alpha subunit\n",
      "Deoxycholate Pyruvate formate-lyase activating enzyme (EC 1.97.1.4)\n",
      "Deoxycholate 4-hydroxyphenylacetate decarboxylase, large subunit\n",
      "Deoxycholate Formate dehydrogenase H (EC 1.2.1.2)\n",
      "Deoxycholate Pyruvate formate-lyase activating enzyme (EC 1.97.1.4)\n",
      "Deoxycholate Pyruvate formate-lyase activating enzyme (EC 1.97.1.4)\n"
     ]
    }
   ],
   "source": [
    "for cond in genes_u:\n",
    "    for i in genes_u[cond]:\n",
    "        try:\n",
    "            print(cond, model.genes.get_by_id(i).name)\n",
    "        except:\n",
    "            print(cond, r20291.genes.get_by_id(i).name)"
   ]
  },
  {
   "cell_type": "code",
   "execution_count": 77,
   "id": "f8c3a244-1bf5-4e41-9f61-1fd113f910bd",
   "metadata": {},
   "outputs": [],
   "source": [
    "lowRxn=set()\n",
    "hiRxn=set()\n",
    "for rip in low_dict:\n",
    "    lowRxn = lowRxn.union({x.id for x in rip.model.reactions})\n",
    "for rip in high_dict:\n",
    "    hiRxn=hiRxn.union(x.id for x in rip.model.reactions)"
   ]
  },
  {
   "cell_type": "code",
   "execution_count": 86,
   "id": "d6f43cd6-2645-4a1a-99ce-d512144f3eb2",
   "metadata": {},
   "outputs": [
    {
     "name": "stdout",
     "output_type": "stream",
     "text": [
      "19 reactions unique to low toxin conditions\n",
      "8 reactions unique to high toxin conditions\n"
     ]
    }
   ],
   "source": [
    "print(len(lowRxn.difference(hiRxn)), 'reactions unique to low toxin conditions')\n",
    "print(len(hiRxn.difference(lowRxn)), 'reactions unique to high toxin conditions')"
   ]
  },
  {
   "cell_type": "code",
   "execution_count": 97,
   "id": "2bfdf7f2-7dec-4961-8392-879c887e5095",
   "metadata": {
    "collapsed": true,
    "jupyter": {
     "outputs_hidden": true
    },
    "tags": []
   },
   "outputs": [
    {
     "data": {
      "text/plain": [
       "{'EX_cpd00232_e',\n",
       " 'EX_cpd11587_e',\n",
       " 'EX_cpd29694_e',\n",
       " 'rxn00012_c',\n",
       " 'rxn00161_c',\n",
       " 'rxn00345_c',\n",
       " 'rxn00376_c',\n",
       " 'rxn00390_c',\n",
       " 'rxn00772_c',\n",
       " 'rxn00799_c',\n",
       " 'rxn00938_c',\n",
       " 'rxn01265_c',\n",
       " 'rxn01322_c',\n",
       " 'rxn01492_c',\n",
       " 'rxn01987_c',\n",
       " 'rxn02262_c',\n",
       " 'rxn02489_c',\n",
       " 'rxn04043_c',\n",
       " 'rxn07879_c'}"
      ]
     },
     "execution_count": 97,
     "metadata": {},
     "output_type": "execute_result"
    }
   ],
   "source": [
    "lowRxn.difference(hiRxn)"
   ]
  },
  {
   "cell_type": "code",
   "execution_count": 88,
   "id": "50d490ca-56cf-4438-8384-ee7c26488445",
   "metadata": {},
   "outputs": [
    {
     "data": {
      "text/plain": [
       "701"
      ]
     },
     "execution_count": 88,
     "metadata": {},
     "output_type": "execute_result"
    }
   ],
   "source": [
    "len(lowRxn.intersection(hiRxn))"
   ]
  },
  {
   "cell_type": "code",
   "execution_count": 98,
   "id": "6bc5a8de-fec0-4b0f-8c48-5e6e565ea543",
   "metadata": {},
   "outputs": [],
   "source": [
    "lowGene=set()\n",
    "hiGene=set()\n",
    "for rip in low_dict:\n",
    "    lowGene = lowGene.union({x.id for x in rip.model.genes})\n",
    "for rip in high_dict:\n",
    "    hiGene=hiGene.union(x.id for x in rip.model.genes)"
   ]
  },
  {
   "cell_type": "code",
   "execution_count": 99,
   "id": "659a9866-2afd-4e45-aca9-76b9f9c7fa51",
   "metadata": {},
   "outputs": [
    {
     "name": "stdout",
     "output_type": "stream",
     "text": [
      "32 genes unique to low toxin conditions\n",
      "15 genes unique to high toxin conditions\n"
     ]
    }
   ],
   "source": [
    "print(len(lowGene.difference(hiGene)), 'genes unique to low toxin conditions')\n",
    "print(len(hiGene.difference(lowGene)), 'genes unique to high toxin conditions')"
   ]
  },
  {
   "cell_type": "code",
   "execution_count": 104,
   "id": "2eec04f5-1193-4328-84fa-61f243e3557f",
   "metadata": {},
   "outputs": [
    {
     "name": "stdout",
     "output_type": "stream",
     "text": [
      "645463.3.peg.2244 beta-phosphoglucomutase (EC 5.4.2.6)\n",
      "272563.8.peg.1740 guanine deaminase (EC 3.5.4.3)\n",
      "272563.8.peg.3332 guanine deaminase (EC 3.5.4.3)\n",
      "272563.8.peg.2790 PTS system, glucose-specific IIC component (EC 2.7.1.69)\n",
      "272563.8.peg.1403 PTS system, maltose and glucose-specific IIC component (EC 2.7.1.69)\n",
      "272563.8.peg.3174 PTS system, maltose and glucose-specific IIC component (EC 2.7.1.69)\n",
      "272563.8.peg.2634 PTS system, glucose-specific IIA component (EC 2.7.1.69)\n",
      "645463.3.peg.3144 beta-phosphoglucomutase (EC 5.4.2.6)\n",
      "272563.8.peg.2791 PTS system, glucose-specific IIC component (EC 2.7.1.69)\n",
      "272563.8.peg.2497 Indolepyruvate oxidoreductase subunit IorB (EC 1.2.7.8) | iorB\n",
      "272563.8.peg.3247 PTS system, glucose-specific IIA component (EC 2.7.1.69)\n",
      "272563.8.peg.2282 hydroxylamine reductase (EC 1.7.99.1)\n",
      "272563.8.peg.3202 PTS system, glucose-specific IIA component (EC 2.7.1.69)\n",
      "272563.8.peg.3171 PTS system, glucose-specific IIA component (EC 2.7.1.69)\n",
      "272563.8.peg.2632 PTS system, maltose and glucose-specific IIC component (EC 2.7.1.69)\n"
     ]
    }
   ],
   "source": [
    "for x in hiGene.difference(lowGene):\n",
    "    try:\n",
    "        print(x, model.genes.get_by_id(x).name)\n",
    "    except:\n",
    "        print(x, r20291.genes.get_by_id(x).name)"
   ]
  },
  {
   "cell_type": "code",
   "execution_count": 90,
   "id": "7e676d2a-8487-4b69-a2da-85f68b017fdc",
   "metadata": {},
   "outputs": [],
   "source": [
    "rxns_u = dict()\n",
    "for rip in condition_dict:\n",
    "    rip_u = {x.id for x in rip.model.reactions}\n",
    "    a = set(condition_dict.keys())\n",
    "    a.remove(rip)\n",
    "    amset = set()\n",
    "    for am in a:\n",
    "        amset = amset.union({x.id for x in am.model.reactions})\n",
    "    u = rip_u.difference(amset)\n",
    "    rxns_u[condition_dict[rip]] = u\n",
    "    #ripdf.loc[ripdf['name']==condition_dict[rip], 'reactions_u'] = len(u)"
   ]
  },
  {
   "cell_type": "code",
   "execution_count": 64,
   "id": "aad86a29-ca3e-4360-9559-ef9a77e3973b",
   "metadata": {},
   "outputs": [],
   "source": [
    "met_u = dict()\n",
    "for rip in condition_dict:\n",
    "    rip_u = {x.id for x in rip.model.metabolites} # get metabolites for model being tested\n",
    "    a = set(condition_dict.keys()) # Get all riptide models\n",
    "    a.remove(rip) # Remove the model being tested\n",
    "    amset = set() # Make an empty set to pool all model metabolites EXCEPT the model being tested\n",
    "    for am in a: # Pool model metabolites\n",
    "        amset = amset.union({x.id for x in am.model.metabolites})\n",
    "    u = rip_u.difference(amset) # Check for unique metabolites in the model being tested\n",
    "    met_u[condition_dict[rip]] = u # Save unique metabolites\n",
    "    #ripdf.loc[ripdf['name']==condition_dict[rip], 'metabolites_u'] = len(u) # Copy number of unique metabolites to df"
   ]
  },
  {
   "cell_type": "code",
   "execution_count": 104,
   "id": "9e3fd241-bc7e-4ef3-af82-48c64c543bdf",
   "metadata": {
    "tags": []
   },
   "outputs": [],
   "source": [
    "condition_toxin2 = {'High Iron': 'Low',\n",
    " 'Low Iron': 'Low',\n",
    " 'BHIS + 240uM Deoxycholate': 'Low',\n",
    " 'DMSO-1': 'Low',\n",
    " 'Deoxycholate': 'Low',\n",
    " 'Cholate': 'Low',\n",
    " 'Enoxolone': 'Low',\n",
    " 'BHIS + Calprotectin': 'Low',\n",
    " 'BHIS-3': 'High',\n",
    " 'DMSO-2': 'High',\n",
    " 'BHIS + 120uM Deoxycholate': 'High',\n",
    " 'BHIS-1': 'High',\n",
    " 'BHIS - Microaerobic': 'High',\n",
    " 'BHIS-2': 'High',\n",
    " 'TY + Cysteine': 'High',\n",
    " 'TY': 'High'}"
   ]
  },
  {
   "cell_type": "code",
   "execution_count": 107,
   "id": "39ae6b1d-1efe-424e-ac08-6d279540a1de",
   "metadata": {
    "tags": []
   },
   "outputs": [],
   "source": [
    "for x in condition_toxin2:\n",
    "    ripdf.loc[ripdf['name']==x, 'toxin'] = condition_toxin2[x]"
   ]
  },
  {
   "cell_type": "code",
   "execution_count": 13,
   "id": "07920f21-3383-4ed9-81ed-1d2b3a59839d",
   "metadata": {},
   "outputs": [],
   "source": [
    "condition_strain = {\n",
    "    'High Iron':'CD630',\n",
    "    'Low Iron':'CD630',\n",
    "    'BHIS-1':'CD630',\n",
    "    'BHIS - Microaerobic':'CD630',\n",
    "    'BHIS-2':'CD630',\n",
    "    'BHIS + 120uM Deoxycholate':'CD630',\n",
    "    'BHIS + 240uM Deoxycholate':'CD630',\n",
    "    'TY':'CDR20291',\n",
    "    'TY + Cysteine':'CDR20291',\n",
    "    'DMSO-1':'CDR20291',\n",
    "    'Deoxycholate':'CDR20291',\n",
    "    'Cholate':'CDR20291',\n",
    "    'DMSO-2':'CDR20291',\n",
    "    'Enoxolone':'CDR20291',\n",
    "    'BHIS-3':'CDR20291',\n",
    "    'BHIS + Calprotectin':'CDR20291'\n",
    "}"
   ]
  },
  {
   "cell_type": "code",
   "execution_count": 14,
   "id": "f157f85a-d663-47cf-94d6-f958ee93a89e",
   "metadata": {},
   "outputs": [],
   "source": [
    "for x in condition_strain:\n",
    "    ripdf.loc[ripdf['name']==x, 'strain'] = condition_strain[x]"
   ]
  },
  {
   "cell_type": "code",
   "execution_count": 18,
   "id": "12845520-6639-43ca-978c-a3fdadf184ae",
   "metadata": {},
   "outputs": [],
   "source": [
    "ripdf = ripdf[['name','strain','toxin','genes','genes_u','reactions','reactions_u','metabolites','metabolites_u']]"
   ]
  },
  {
   "cell_type": "code",
   "execution_count": 29,
   "id": "0e6a9955-dbde-4a91-849b-c7902b80baf9",
   "metadata": {
    "tags": []
   },
   "outputs": [],
   "source": [
    "ripdf = ripdf.sort_values(['strain','toxin'], ascending = [True, False])"
   ]
  },
  {
   "cell_type": "code",
   "execution_count": null,
   "id": "eb957698-462e-47fc-8f17-d87d21cdd7ad",
   "metadata": {},
   "outputs": [],
   "source": [
    "# Number of unique by strain, toxin (need to rerun riptide models)"
   ]
  },
  {
   "cell_type": "markdown",
   "id": "4223d84e-992d-4336-8408-64c430215809",
   "metadata": {},
   "source": [
    "### Visualize model summary"
   ]
  },
  {
   "cell_type": "markdown",
   "id": "6e89715a-9574-43c5-b6c3-acc648510d6f",
   "metadata": {},
   "source": [
    "#### CHECKPOINT"
   ]
  },
  {
   "cell_type": "code",
   "execution_count": 8,
   "id": "658d570c-39b1-4ff2-a4db-fa253660aeef",
   "metadata": {},
   "outputs": [],
   "source": [
    "import matplotlib.pyplot as plt\n",
    "from matplotlib.lines import Line2D\n",
    "import seaborn as sns\n",
    "import pandas as pd\n",
    "# Load scipy\n",
    "import scipy.stats\n",
    "import statsmodels.stats.multitest"
   ]
  },
  {
   "cell_type": "code",
   "execution_count": 30,
   "id": "75ac2a91-9422-4212-94a4-2f3470cdee89",
   "metadata": {},
   "outputs": [],
   "source": [
    "#ripdf.to_csv('../data/modelStatsdf.csv')"
   ]
  },
  {
   "cell_type": "markdown",
   "id": "fd64d634-a9d0-4b27-b222-da85299dec94",
   "metadata": {},
   "source": []
  },
  {
   "cell_type": "code",
   "execution_count": 3,
   "id": "a8886eb7-0fc0-41be-bba9-2d5fa8abcce7",
   "metadata": {},
   "outputs": [],
   "source": [
    "ripdf = pd.read_csv('../data/modelStatsdf.csv', index_col = [0])"
   ]
  },
  {
   "cell_type": "code",
   "execution_count": 31,
   "id": "e67ca35f-19d6-4b78-a25c-7bd4f766bb68",
   "metadata": {},
   "outputs": [
    {
     "data": {
      "text/html": [
       "<div>\n",
       "<style scoped>\n",
       "    .dataframe tbody tr th:only-of-type {\n",
       "        vertical-align: middle;\n",
       "    }\n",
       "\n",
       "    .dataframe tbody tr th {\n",
       "        vertical-align: top;\n",
       "    }\n",
       "\n",
       "    .dataframe thead th {\n",
       "        text-align: right;\n",
       "    }\n",
       "</style>\n",
       "<table border=\"1\" class=\"dataframe\">\n",
       "  <thead>\n",
       "    <tr style=\"text-align: right;\">\n",
       "      <th></th>\n",
       "      <th>genes</th>\n",
       "      <th>genes_u</th>\n",
       "      <th>reactions</th>\n",
       "      <th>reactions_u</th>\n",
       "      <th>metabolites</th>\n",
       "      <th>metabolites_u</th>\n",
       "    </tr>\n",
       "    <tr>\n",
       "      <th>toxin</th>\n",
       "      <th></th>\n",
       "      <th></th>\n",
       "      <th></th>\n",
       "      <th></th>\n",
       "      <th></th>\n",
       "      <th></th>\n",
       "    </tr>\n",
       "  </thead>\n",
       "  <tbody>\n",
       "    <tr>\n",
       "      <th>High</th>\n",
       "      <td>235.750</td>\n",
       "      <td>0.625</td>\n",
       "      <td>599.625</td>\n",
       "      <td>0.625</td>\n",
       "      <td>656.375</td>\n",
       "      <td>0.25</td>\n",
       "    </tr>\n",
       "    <tr>\n",
       "      <th>Low</th>\n",
       "      <td>246.125</td>\n",
       "      <td>2.875</td>\n",
       "      <td>610.000</td>\n",
       "      <td>2.250</td>\n",
       "      <td>662.500</td>\n",
       "      <td>1.75</td>\n",
       "    </tr>\n",
       "  </tbody>\n",
       "</table>\n",
       "</div>"
      ],
      "text/plain": [
       "         genes  genes_u  reactions  reactions_u  metabolites  metabolites_u\n",
       "toxin                                                                      \n",
       "High   235.750    0.625    599.625        0.625      656.375           0.25\n",
       "Low    246.125    2.875    610.000        2.250      662.500           1.75"
      ]
     },
     "execution_count": 31,
     "metadata": {},
     "output_type": "execute_result"
    }
   ],
   "source": [
    "ripdf.groupby(by=['toxin']).mean()"
   ]
  },
  {
   "cell_type": "code",
   "execution_count": 21,
   "id": "f2e43208-08c0-476a-877b-0bde678fc2d0",
   "metadata": {},
   "outputs": [],
   "source": [
    "m1 = ripdf.loc[ripdf['strain']=='CD630']\n",
    "m2 = ripdf.loc[ripdf['strain']=='CDR20291']"
   ]
  },
  {
   "cell_type": "code",
   "execution_count": null,
   "id": "6adb2ccb-80c5-4d02-b9c7-04dd35e51105",
   "metadata": {},
   "outputs": [],
   "source": [
    "0.15, 0.28\n",
    "0.03, 0.05"
   ]
  },
  {
   "cell_type": "code",
   "execution_count": 33,
   "id": "3e883d11-174a-4f1d-9845-da752a2216fe",
   "metadata": {},
   "outputs": [
    {
     "data": {
      "text/plain": [
       "Ttest_indResult(statistic=1.5781401445338983, pvalue=0.13685564334733258)"
      ]
     },
     "execution_count": 33,
     "metadata": {},
     "output_type": "execute_result"
    }
   ],
   "source": [
    "scipy.stats.ttest_ind(ripdf.loc[ripdf['toxin']=='Low', 'reactions_u'], ripdf.loc[ripdf['toxin']=='High', 'reactions_u'])"
   ]
  },
  {
   "cell_type": "code",
   "execution_count": 9,
   "id": "822fa230-36ad-47fe-a595-f1bda8c2ab38",
   "metadata": {},
   "outputs": [
    {
     "data": {
      "text/plain": [
       "0     266\n",
       "1     254\n",
       "6     243\n",
       "9     243\n",
       "10    249\n",
       "11    246\n",
       "13    235\n",
       "15    233\n",
       "Name: genes, dtype: int64"
      ]
     },
     "execution_count": 9,
     "metadata": {},
     "output_type": "execute_result"
    }
   ],
   "source": [
    "ripdf.loc[ripdf['toxin']=='Low', 'genes_u']"
   ]
  },
  {
   "cell_type": "code",
   "execution_count": 6,
   "id": "98962e8c-d741-47cd-8ce2-51ba8375e65a",
   "metadata": {},
   "outputs": [],
   "source": [
    "ripdf['strain1'] = 0\n",
    "ripdf.loc[ripdf['strain']=='CDR20291', 'strain1'] = 1"
   ]
  },
  {
   "cell_type": "code",
   "execution_count": 7,
   "id": "50956467-8acd-4098-a319-9b9220162ec8",
   "metadata": {},
   "outputs": [],
   "source": [
    "ripdf['toxin1'] = 0\n",
    "ripdf.loc[ripdf['toxin']=='High', 'toxin1'] = 1"
   ]
  },
  {
   "cell_type": "code",
   "execution_count": 8,
   "id": "e050f46c-e7aa-490a-903b-418705526cfb",
   "metadata": {
    "tags": []
   },
   "outputs": [
    {
     "data": {
      "image/png": "[encoded data removed]",
      "text/plain": [
       "<Figure size 432x288 with 7 Axes>"
      ]
     },
     "metadata": {
      "needs_background": "light"
     },
     "output_type": "display_data"
    }
   ],
   "source": [
    "spine_locs = ['left','right','bottom','top']\n",
    "fig, ax = plt.subplots(1,7, gridspec_kw={'width_ratios': [0.8,0.8,3,0.3,7,0.3,7], 'wspace':0})\n",
    "\n",
    "# Strain\n",
    "axs = sns.heatmap(ripdf[['name','strain1']].set_index('name'), ax = ax[0], cmap = ['#d2a3d3','#955a98'], cbar = False, square=True, linewidths=1, xticklabels = False)\n",
    "axs.set_ylabel('RIPTiDe Model', fontsize=14)\n",
    "ax[0].tick_params(axis = 'y', labelsize=13)\n",
    "\n",
    "# Toxin\n",
    "axt = sns.heatmap(ripdf[['name','toxin1']].set_index('name'), ax = ax[1], cmap = ['#b3e0de','#006a6a'], cbar = False, square=True, linewidths=1, yticklabels = False, xticklabels = False)\n",
    "axt.set_ylabel(\"\")\n",
    "\n",
    "# Genes\n",
    "axg = ax[2].barh(ripdf['name'], ripdf['genes'], tick_label = '', color = '#BBBAA8') #795CD0 #BBBAA8 #7b9691\n",
    "ax[2].tick_params(left = False)\n",
    "ax[2].set_ylim(-0.5,15.5)\n",
    "ax[2].set_xlabel('Genes', fontsize=14)\n",
    "[ax[2].spines[x].set_visible(False) for x in spine_locs]\n",
    "\n",
    "# Reactions\n",
    "ax[3].set_visible(False)\n",
    "axr = ax[4].barh(ripdf['name'], ripdf['reactions'], tick_label = '', color = '#3787bfff') #296d98 #3787bfff #3792bc\n",
    "ax[4].tick_params(left = False)\n",
    "ax[4].set_ylim(-0.5,15.5)\n",
    "ax[4].set_xlabel('Reactions', fontsize=14)\n",
    "[ax[4].spines[x].set_visible(False) for x in spine_locs]\n",
    "\n",
    "# Metabolites\n",
    "ax[5].set_visible(False)\n",
    "axm = ax[6].barh(ripdf['name'], ripdf['metabolites'], tick_label = '', color = '#FAA600') #F6BE00 #FCC201 #EB9C5C #FAA600\n",
    "ax[6].tick_params(left = False)\n",
    "ax[6].set_ylim(-0.5,15.5)\n",
    "ax[6].set_xlabel('Metabolites', fontsize=14)\n",
    "[ax[6].spines[x].set_visible(False) for x in spine_locs]\n",
    "\n",
    "# Strain legend\n",
    "strain_lines = [Line2D([0], [0], color='#d2a3d3', lw=6),\n",
    "                Line2D([0], [0], color='#955a98', lw=6)]\n",
    "ax[0].legend(strain_lines, ['CD630', 'CDR20291'], loc=[25,0.25], title='$\\\\bf{Strain}$', frameon=False)._legend_box.align = 'left'\n",
    "\n",
    "# Toxin legend\n",
    "toxin_lines = [Line2D([0], [0], color='#b3e0de', lw=6),\n",
    "                Line2D([0], [0], color='#006a6a', lw=6)]\n",
    "ax[1].legend(toxin_lines, ['Low', 'High'], loc=[24,0], title='$\\\\bf{Toxin}$', frameon=False)._legend_box.align = 'left'\n",
    "\n",
    "#plt.savefig('../figures/riptideModelsSummary1.jpeg',bbox_inches='tight', dpi = 600)"
   ]
  },
  {
   "cell_type": "code",
   "execution_count": 59,
   "id": "9951c037-61f2-4b6e-8f77-e8c9499f65c3",
   "metadata": {},
   "outputs": [
    {
     "data": {
      "image/png": "[encoded data removed]",
      "text/plain": [
       "<Figure size 144x504 with 5 Axes>"
      ]
     },
     "metadata": {
      "needs_background": "light"
     },
     "output_type": "display_data"
    }
   ],
   "source": [
    "#spine_locs = ['left','right','bottom','top']\n",
    "fig, ax = plt.subplots(1,5, figsize = (2,7), gridspec_kw = {'wspace':0})\n",
    "\n",
    "# Strain\n",
    "axs = sns.heatmap(ripdf[['name','strain1']].set_index('name'), ax = ax[0], cmap = ['#d2a3d3','#955a98'], cbar = False, square=True, linewidths=1)\n",
    "axs.set_ylabel('RIPTiDe Model', fontsize=14)\n",
    "ax[0].tick_params(axis = 'y', labelsize=13)\n",
    "axs.set_xticklabels(['Strain'],rotation=45, ha='right', fontsize = 12);\n",
    "\n",
    "# Toxin\n",
    "axt = sns.heatmap(ripdf[['name','toxin1']].set_index('name'), ax = ax[1], cmap = ['#b3e0de','#006a6a'], cbar = False, square=True, linewidths=1, yticklabels = False)\n",
    "axt.set_ylabel(\"\")\n",
    "axt.set_xticklabels(['Toxin'],rotation=45, ha='right', fontsize = 12);\n",
    "\n",
    "# Genes\n",
    "ax2 = sns.heatmap(ripdf[['genes']], \n",
    "                 annot=True, \n",
    "                 fmt=\"d\", \n",
    "                 cmap=\"Greys\", \n",
    "                 square=True,\n",
    "                 linewidths=1,\n",
    "                 cbar=False,\n",
    "                 yticklabels='',\n",
    "                 ax = ax[2])\n",
    "ax2.set_xticklabels(['Genes'],rotation=45, ha='right', fontsize = 12);\n",
    "\n",
    "# Reactions\n",
    "ax3 = sns.heatmap(ripdf[['reactions']], \n",
    "                 annot=True, \n",
    "                 fmt=\"d\", \n",
    "                 cmap=\"Blues\",\n",
    "                 square=True,\n",
    "                 linewidths=1,\n",
    "                 cbar=False,\n",
    "                 yticklabels='',\n",
    "                 ax = ax[3])\n",
    "ax3.set_xticklabels(['Reactions'],rotation=45, ha='right', fontsize = 12);\n",
    "\n",
    "# Metabolites\n",
    "ax4 = sns.heatmap(ripdf[['metabolites']], \n",
    "                 annot=True, \n",
    "                 fmt=\"d\", \n",
    "                 cmap=\"Oranges\", \n",
    "                 square=True,\n",
    "                 linewidths=1,\n",
    "                 cbar=False,\n",
    "                 yticklabels='',\n",
    "                 ax = ax[4])\n",
    "ax4.set_xticklabels(['Metabolites'],rotation=45, ha='right', fontsize = 12);\n",
    "\n",
    "# Strain legend\n",
    "strain_lines = [Line2D([0], [0], color='#d2a3d3', lw=6),\n",
    "                Line2D([0], [0], color='#955a98', lw=6)]\n",
    "ax[0].legend(strain_lines, ['CD630', 'CDR20291'], loc=[5.5,0.15], title='$\\\\bf{Strain}$', frameon=False)._legend_box.align = 'left'\n",
    "\n",
    "# Toxin legend\n",
    "toxin_lines = [Line2D([0], [0], color='#b3e0de', lw=6),\n",
    "                Line2D([0], [0], color='#006a6a', lw=6)]\n",
    "ax[1].legend(toxin_lines, ['Low', 'High'], loc=[4.5,0], title='$\\\\bf{Toxin}$', frameon=False)._legend_box.align = 'left'\n",
    "\n",
    "#plt.savefig('../figures/riptideModelsSummary2.jpeg',bbox_inches='tight', dpi = 600)"
   ]
  },
  {
   "cell_type": "code",
   "execution_count": 128,
   "id": "e7ca692a-632a-467d-b33e-b5b89a35268d",
   "metadata": {},
   "outputs": [
    {
     "data": {
      "text/plain": [
       "604.8125"
      ]
     },
     "execution_count": 128,
     "metadata": {},
     "output_type": "execute_result"
    }
   ],
   "source": [
    "ripdf.reactions.mean()"
   ]
  },
  {
   "cell_type": "code",
   "execution_count": 129,
   "id": "7448cf08-de38-4c2e-b7f0-0c1ddcf20c96",
   "metadata": {},
   "outputs": [
    {
     "data": {
      "text/plain": [
       "0.7985946057662499"
      ]
     },
     "execution_count": 129,
     "metadata": {},
     "output_type": "execute_result"
    }
   ],
   "source": [
    "483/604.8125"
   ]
  },
  {
   "cell_type": "code",
   "execution_count": 79,
   "id": "4ff2168a-aa1e-40d1-8ccd-0566755ba5a8",
   "metadata": {},
   "outputs": [],
   "source": [
    "rf20 = ['rxn00933_c',\n",
    " 'rxn09341_c',\n",
    " 'rxn12549_c',\n",
    " 'rxn05546_c',\n",
    " 'rxn01646_c',\n",
    " 'rxn12645_c',\n",
    " 'rxn04043_c',\n",
    " 'rxn01671_c',\n",
    " 'rxn00297_c',\n",
    " 'EX_cpd00367_e',\n",
    " 'rxn00530_c',\n",
    " 'rxn00970_c',\n",
    " 'EX_cpd00136_e',\n",
    " 'EX_cpd11581_e',\n",
    " 'rxn05198_c',\n",
    " 'rxn01492_c',\n",
    " 'rxn10840_c',\n",
    " 'EX_cpd00064_e',\n",
    " 'rxn10131_c',\n",
    " 'rxn00471_c']"
   ]
  },
  {
   "cell_type": "code",
   "execution_count": 124,
   "id": "f015f9df-7e77-484a-9ade-293bbc4932f1",
   "metadata": {},
   "outputs": [],
   "source": [
    "shared = {x.id for x in model.reactions}.intersection({x.id for x in r20291.reactions})\n",
    "for x in condition_dict:\n",
    "    shared = shared.intersection({rxn.id for rxn in x.model.reactions})"
   ]
  },
  {
   "cell_type": "code",
   "execution_count": 126,
   "id": "587370ae-0e0c-481e-8a6b-1c74c70a4670",
   "metadata": {},
   "outputs": [
    {
     "data": {
      "text/plain": [
       "483"
      ]
     },
     "execution_count": 126,
     "metadata": {},
     "output_type": "execute_result"
    }
   ],
   "source": [
    "len(shared)"
   ]
  },
  {
   "cell_type": "code",
   "execution_count": 117,
   "id": "6aef4be6-5531-49f9-8cf2-ac0d8331881a",
   "metadata": {},
   "outputs": [
    {
     "data": {
      "text/plain": [
       "set()"
      ]
     },
     "execution_count": 117,
     "metadata": {},
     "output_type": "execute_result"
    }
   ],
   "source": [
    "set(model.reactions).intersection(set(r20291.reactions))"
   ]
  },
  {
   "cell_type": "markdown",
   "id": "fc3f843b-65b8-44cc-84f1-950507e50bcd",
   "metadata": {},
   "source": [
    "# Shadow pricing"
   ]
  },
  {
   "cell_type": "code",
   "execution_count": 273,
   "id": "e491e1a6-596c-45fd-b5f1-e4df5a50e381",
   "metadata": {},
   "outputs": [],
   "source": [
    "objFxnList = {'rxn00134_c': \"ATP:adenosine 5'-phosphotransferase\",\n",
    " 'rxn00313_c': 'meso-2,6-diaminoheptanedioate carboxy-lyase (L-lysine-forming)',\n",
    " 'rxn30239_c': 'Aminopeptidase',\n",
    " 'EX_cpd15603_e': 'Gly-Cys exchange',\n",
    " 'rxn12848_c': 'Gly-Cys ABC transporters',\n",
    " 'rxn12844_c': 'Gly-Cys aminopeptidase',\n",
    " 'rxn12642_c': 'Ala-His aminopeptidase',\n",
    " 'rxn00367_c': 'CTP diphosphohydrolase (diphosphate-forming)',\n",
    " 'rxn08133_c': 'aminopeptidase (pro-gly)',\n",
    " 'EX_cpd29697_e': 'L-ala-L-his exchange',\n",
    " 'rxn05669_c': 'Amino acid transporter (val-L)',\n",
    " 'rxn30264_c': 'Dipeptide transport via ABC system',\n",
    " 'rxn09189_c': 'L-Prolinylglycine (Pro-Gly) transport via ABC system',\n",
    " 'EX_cpd15551_e': 'L-Prolinylglycine exchange',\n",
    " 'rxn00293_c': 'UTP:N-acetyl-alpha-D-glucosamine-1-phosphate uridylyltransferase',\n",
    " 'EX_cpd00156_e': 'L-Valine exchange',\n",
    " 'rxn10131_c': 'arginine/ornithine antiporter (periplasm)',\n",
    " 'rxn00471_c': 'Ornithine cyclodeaminase',\n",
    " 'EX_cpd00064_e': 'Ornithine exchange',\n",
    " 'rxn10840_c': 'L-arginine transport via diffusion (extracellular to periplasm)'}"
   ]
  },
  {
   "cell_type": "code",
   "execution_count": 294,
   "id": "72c8f93d-50e6-4f83-a545-18d5ce528c64",
   "metadata": {
    "collapsed": true,
    "jupyter": {
     "outputs_hidden": true
    },
    "tags": []
   },
   "outputs": [
    {
     "name": "stdout",
     "output_type": "stream",
     "text": [
      "rxn30239_c Objective function reaction not included in <riptide.riptide.riptideClass object at 0x7f9b0fc25430>\n",
      "EX_cpd15603_e Objective function reaction not included in <riptide.riptide.riptideClass object at 0x7f9b0fc25430>\n",
      "rxn12848_c Objective function reaction not included in <riptide.riptide.riptideClass object at 0x7f9b0fc25430>\n",
      "rxn12844_c Objective function reaction not included in <riptide.riptide.riptideClass object at 0x7f9b0fc25430>\n",
      "rxn00367_c Objective function reaction not included in <riptide.riptide.riptideClass object at 0x7f9b0fc25430>\n",
      "rxn08133_c Objective function reaction not included in <riptide.riptide.riptideClass object at 0x7f9b0fc25430>\n",
      "EX_cpd29697_e Objective function reaction not included in <riptide.riptide.riptideClass object at 0x7f9b0fc25430>\n",
      "rxn30264_c Objective function reaction not included in <riptide.riptide.riptideClass object at 0x7f9b0fc25430>\n",
      "rxn09189_c Objective function reaction not included in <riptide.riptide.riptideClass object at 0x7f9b0fc25430>\n",
      "EX_cpd15551_e Objective function reaction not included in <riptide.riptide.riptideClass object at 0x7f9b0fc25430>\n",
      "rxn30239_c Objective function reaction not included in <riptide.riptide.riptideClass object at 0x7f9b084a7eb0>\n",
      "EX_cpd15603_e Objective function reaction not included in <riptide.riptide.riptideClass object at 0x7f9b084a7eb0>\n",
      "rxn12848_c Objective function reaction not included in <riptide.riptide.riptideClass object at 0x7f9b084a7eb0>\n",
      "rxn12844_c Objective function reaction not included in <riptide.riptide.riptideClass object at 0x7f9b084a7eb0>\n",
      "rxn00367_c Objective function reaction not included in <riptide.riptide.riptideClass object at 0x7f9b084a7eb0>\n",
      "rxn08133_c Objective function reaction not included in <riptide.riptide.riptideClass object at 0x7f9b084a7eb0>\n",
      "EX_cpd29697_e Objective function reaction not included in <riptide.riptide.riptideClass object at 0x7f9b084a7eb0>\n",
      "rxn30264_c Objective function reaction not included in <riptide.riptide.riptideClass object at 0x7f9b084a7eb0>\n",
      "rxn09189_c Objective function reaction not included in <riptide.riptide.riptideClass object at 0x7f9b084a7eb0>\n",
      "EX_cpd15551_e Objective function reaction not included in <riptide.riptide.riptideClass object at 0x7f9b084a7eb0>\n",
      "rxn30239_c Objective function reaction not included in <riptide.riptide.riptideClass object at 0x7f9b1067a970>\n",
      "EX_cpd15603_e Objective function reaction not included in <riptide.riptide.riptideClass object at 0x7f9b1067a970>\n",
      "rxn12848_c Objective function reaction not included in <riptide.riptide.riptideClass object at 0x7f9b1067a970>\n",
      "rxn12844_c Objective function reaction not included in <riptide.riptide.riptideClass object at 0x7f9b1067a970>\n",
      "rxn00367_c Objective function reaction not included in <riptide.riptide.riptideClass object at 0x7f9b1067a970>\n",
      "rxn08133_c Objective function reaction not included in <riptide.riptide.riptideClass object at 0x7f9b1067a970>\n",
      "EX_cpd29697_e Objective function reaction not included in <riptide.riptide.riptideClass object at 0x7f9b1067a970>\n",
      "rxn30264_c Objective function reaction not included in <riptide.riptide.riptideClass object at 0x7f9b1067a970>\n",
      "rxn09189_c Objective function reaction not included in <riptide.riptide.riptideClass object at 0x7f9b1067a970>\n",
      "EX_cpd15551_e Objective function reaction not included in <riptide.riptide.riptideClass object at 0x7f9b1067a970>\n",
      "rxn30239_c Objective function reaction not included in <riptide.riptide.riptideClass object at 0x7f9b111995b0>\n",
      "EX_cpd15603_e Objective function reaction not included in <riptide.riptide.riptideClass object at 0x7f9b111995b0>\n",
      "rxn12848_c Objective function reaction not included in <riptide.riptide.riptideClass object at 0x7f9b111995b0>\n",
      "rxn12844_c Objective function reaction not included in <riptide.riptide.riptideClass object at 0x7f9b111995b0>\n",
      "rxn00367_c Objective function reaction not included in <riptide.riptide.riptideClass object at 0x7f9b111995b0>\n",
      "rxn08133_c Objective function reaction not included in <riptide.riptide.riptideClass object at 0x7f9b111995b0>\n",
      "EX_cpd29697_e Objective function reaction not included in <riptide.riptide.riptideClass object at 0x7f9b111995b0>\n",
      "rxn30264_c Objective function reaction not included in <riptide.riptide.riptideClass object at 0x7f9b111995b0>\n",
      "rxn09189_c Objective function reaction not included in <riptide.riptide.riptideClass object at 0x7f9b111995b0>\n",
      "EX_cpd15551_e Objective function reaction not included in <riptide.riptide.riptideClass object at 0x7f9b111995b0>\n",
      "rxn10131_c Objective function reaction not included in <riptide.riptide.riptideClass object at 0x7f9b111995b0>\n",
      "rxn00471_c Objective function reaction not included in <riptide.riptide.riptideClass object at 0x7f9b111995b0>\n",
      "EX_cpd00064_e Objective function reaction not included in <riptide.riptide.riptideClass object at 0x7f9b111995b0>\n",
      "rxn00313_c Objective function reaction not included in <riptide.riptide.riptideClass object at 0x7f9b10516b20>\n",
      "rxn30239_c Objective function reaction not included in <riptide.riptide.riptideClass object at 0x7f9b10516b20>\n",
      "EX_cpd15603_e Objective function reaction not included in <riptide.riptide.riptideClass object at 0x7f9b10516b20>\n",
      "rxn12848_c Objective function reaction not included in <riptide.riptide.riptideClass object at 0x7f9b10516b20>\n",
      "rxn12844_c Objective function reaction not included in <riptide.riptide.riptideClass object at 0x7f9b10516b20>\n",
      "rxn00367_c Objective function reaction not included in <riptide.riptide.riptideClass object at 0x7f9b10516b20>\n",
      "rxn08133_c Objective function reaction not included in <riptide.riptide.riptideClass object at 0x7f9b10516b20>\n",
      "EX_cpd29697_e Objective function reaction not included in <riptide.riptide.riptideClass object at 0x7f9b10516b20>\n",
      "rxn30264_c Objective function reaction not included in <riptide.riptide.riptideClass object at 0x7f9b10516b20>\n",
      "rxn09189_c Objective function reaction not included in <riptide.riptide.riptideClass object at 0x7f9b10516b20>\n",
      "EX_cpd15551_e Objective function reaction not included in <riptide.riptide.riptideClass object at 0x7f9b10516b20>\n",
      "rxn10131_c Objective function reaction not included in <riptide.riptide.riptideClass object at 0x7f9b10516b20>\n",
      "rxn00471_c Objective function reaction not included in <riptide.riptide.riptideClass object at 0x7f9b10516b20>\n",
      "EX_cpd00064_e Objective function reaction not included in <riptide.riptide.riptideClass object at 0x7f9b10516b20>\n",
      "rxn00313_c Objective function reaction not included in <riptide.riptide.riptideClass object at 0x7f9b16232d90>\n",
      "rxn30239_c Objective function reaction not included in <riptide.riptide.riptideClass object at 0x7f9b16232d90>\n",
      "EX_cpd15603_e Objective function reaction not included in <riptide.riptide.riptideClass object at 0x7f9b16232d90>\n",
      "rxn12848_c Objective function reaction not included in <riptide.riptide.riptideClass object at 0x7f9b16232d90>\n",
      "rxn12844_c Objective function reaction not included in <riptide.riptide.riptideClass object at 0x7f9b16232d90>\n",
      "rxn00367_c Objective function reaction not included in <riptide.riptide.riptideClass object at 0x7f9b16232d90>\n",
      "rxn08133_c Objective function reaction not included in <riptide.riptide.riptideClass object at 0x7f9b16232d90>\n",
      "EX_cpd29697_e Objective function reaction not included in <riptide.riptide.riptideClass object at 0x7f9b16232d90>\n",
      "rxn30264_c Objective function reaction not included in <riptide.riptide.riptideClass object at 0x7f9b16232d90>\n",
      "rxn09189_c Objective function reaction not included in <riptide.riptide.riptideClass object at 0x7f9b16232d90>\n",
      "EX_cpd15551_e Objective function reaction not included in <riptide.riptide.riptideClass object at 0x7f9b16232d90>\n",
      "rxn00313_c Objective function reaction not included in <riptide.riptide.riptideClass object at 0x7f9b17798e80>\n",
      "rxn30239_c Objective function reaction not included in <riptide.riptide.riptideClass object at 0x7f9b17798e80>\n",
      "EX_cpd15603_e Objective function reaction not included in <riptide.riptide.riptideClass object at 0x7f9b17798e80>\n",
      "rxn12848_c Objective function reaction not included in <riptide.riptide.riptideClass object at 0x7f9b17798e80>\n",
      "rxn12844_c Objective function reaction not included in <riptide.riptide.riptideClass object at 0x7f9b17798e80>\n",
      "rxn00367_c Objective function reaction not included in <riptide.riptide.riptideClass object at 0x7f9b17798e80>\n",
      "rxn08133_c Objective function reaction not included in <riptide.riptide.riptideClass object at 0x7f9b17798e80>\n",
      "EX_cpd29697_e Objective function reaction not included in <riptide.riptide.riptideClass object at 0x7f9b17798e80>\n",
      "rxn30264_c Objective function reaction not included in <riptide.riptide.riptideClass object at 0x7f9b17798e80>\n",
      "rxn09189_c Objective function reaction not included in <riptide.riptide.riptideClass object at 0x7f9b17798e80>\n",
      "EX_cpd15551_e Objective function reaction not included in <riptide.riptide.riptideClass object at 0x7f9b17798e80>\n",
      "rxn12642_c Objective function reaction not included in <riptide.riptide.riptideClass object at 0x7f9af46a3a30>\n",
      "rxn10131_c Objective function reaction not included in <riptide.riptide.riptideClass object at 0x7f9af46a3a30>\n",
      "rxn00471_c Objective function reaction not included in <riptide.riptide.riptideClass object at 0x7f9af46a3a30>\n",
      "EX_cpd00064_e Objective function reaction not included in <riptide.riptide.riptideClass object at 0x7f9af46a3a30>\n",
      "rxn12642_c Objective function reaction not included in <riptide.riptide.riptideClass object at 0x7f9b01ec1310>\n",
      "rxn10131_c Objective function reaction not included in <riptide.riptide.riptideClass object at 0x7f9b01ec1310>\n",
      "rxn00471_c Objective function reaction not included in <riptide.riptide.riptideClass object at 0x7f9b01ec1310>\n",
      "EX_cpd00064_e Objective function reaction not included in <riptide.riptide.riptideClass object at 0x7f9b01ec1310>\n",
      "rxn12642_c Objective function reaction not included in <riptide.riptide.riptideClass object at 0x7f9b0583ffa0>\n",
      "rxn08133_c Objective function reaction not included in <riptide.riptide.riptideClass object at 0x7f9b0583ffa0>\n",
      "rxn09189_c Objective function reaction not included in <riptide.riptide.riptideClass object at 0x7f9b0583ffa0>\n",
      "EX_cpd15551_e Objective function reaction not included in <riptide.riptide.riptideClass object at 0x7f9b0583ffa0>\n",
      "rxn12642_c Objective function reaction not included in <riptide.riptide.riptideClass object at 0x7f9b06917d90>\n",
      "rxn08133_c Objective function reaction not included in <riptide.riptide.riptideClass object at 0x7f9b06917d90>\n",
      "rxn09189_c Objective function reaction not included in <riptide.riptide.riptideClass object at 0x7f9b06917d90>\n",
      "EX_cpd15551_e Objective function reaction not included in <riptide.riptide.riptideClass object at 0x7f9b06917d90>\n",
      "rxn12642_c Objective function reaction not included in <riptide.riptide.riptideClass object at 0x7f9b06917be0>\n",
      "rxn08133_c Objective function reaction not included in <riptide.riptide.riptideClass object at 0x7f9b06917be0>\n",
      "rxn09189_c Objective function reaction not included in <riptide.riptide.riptideClass object at 0x7f9b06917be0>\n",
      "EX_cpd15551_e Objective function reaction not included in <riptide.riptide.riptideClass object at 0x7f9b06917be0>\n",
      "rxn00293_c Objective function reaction not included in <riptide.riptide.riptideClass object at 0x7f9b06917be0>\n",
      "rxn12642_c Objective function reaction not included in <riptide.riptide.riptideClass object at 0x7f9b0b351d30>\n",
      "rxn08133_c Objective function reaction not included in <riptide.riptide.riptideClass object at 0x7f9b0b351d30>\n",
      "rxn09189_c Objective function reaction not included in <riptide.riptide.riptideClass object at 0x7f9b0b351d30>\n",
      "EX_cpd15551_e Objective function reaction not included in <riptide.riptide.riptideClass object at 0x7f9b0b351d30>\n",
      "rxn12642_c Objective function reaction not included in <riptide.riptide.riptideClass object at 0x7f9b05fc6790>\n",
      "rxn08133_c Objective function reaction not included in <riptide.riptide.riptideClass object at 0x7f9b05fc6790>\n",
      "rxn09189_c Objective function reaction not included in <riptide.riptide.riptideClass object at 0x7f9b05fc6790>\n",
      "EX_cpd15551_e Objective function reaction not included in <riptide.riptide.riptideClass object at 0x7f9b05fc6790>\n",
      "rxn12642_c Objective function reaction not included in <riptide.riptide.riptideClass object at 0x7f9b0c51b520>\n",
      "rxn08133_c Objective function reaction not included in <riptide.riptide.riptideClass object at 0x7f9b0c51b520>\n",
      "rxn09189_c Objective function reaction not included in <riptide.riptide.riptideClass object at 0x7f9b0c51b520>\n",
      "EX_cpd15551_e Objective function reaction not included in <riptide.riptide.riptideClass object at 0x7f9b0c51b520>\n",
      "rxn12642_c Objective function reaction not included in <riptide.riptide.riptideClass object at 0x7f9b05597d90>\n",
      "rxn08133_c Objective function reaction not included in <riptide.riptide.riptideClass object at 0x7f9b05597d90>\n",
      "rxn09189_c Objective function reaction not included in <riptide.riptide.riptideClass object at 0x7f9b05597d90>\n",
      "EX_cpd15551_e Objective function reaction not included in <riptide.riptide.riptideClass object at 0x7f9b05597d90>\n"
     ]
    }
   ],
   "source": [
    "sp = pd.DataFrame(columns = ['strain','condition','toxin','OF','OF_name'])\n",
    "for fs in condition_dict:\n",
    "    for OF in objFxnList:\n",
    "        try:\n",
    "            fs.model.objective = OF\n",
    "            g = fs.model.optimize().shadow_prices\n",
    "            g = g[(g < 0) | (g > 0)].to_frame().T.reset_index(drop=True)\n",
    "            #g['strain'] = str(strain_dict[fs])\n",
    "            g['condition'] = str(condition_dict[fs])\n",
    "            #g['toxin'] = str(toxin_dict[fs])\n",
    "            g['OF'] = OF\n",
    "            g['OF_name'] = fs.model.reactions.get_by_id(OF).name\n",
    "            sp = pd.concat([sp,g])\n",
    "        except ValueError:\n",
    "            #print(OF, 'Objective function reaction not included in %s'%fs)"
   ]
  },
  {
   "cell_type": "code",
   "execution_count": 86,
   "id": "f3d0e09f-fb77-470e-be01-48134d9ecc7d",
   "metadata": {
    "collapsed": true,
    "jupyter": {
     "outputs_hidden": true
    },
    "tags": []
   },
   "outputs": [
    {
     "name": "stdout",
     "output_type": "stream",
     "text": [
      "rxn04043_c Objective function reaction not included in High Iron\n",
      "rxn01492_c Objective function reaction not included in High Iron\n",
      "rxn04043_c Objective function reaction not included in Low Iron\n",
      "rxn01492_c Objective function reaction not included in Low Iron\n",
      "rxn04043_c Objective function reaction not included in BHIS-1\n",
      "rxn00297_c Objective function reaction not included in BHIS-1\n",
      "EX_cpd00367_e Objective function reaction not included in BHIS-1\n",
      "rxn05198_c Objective function reaction not included in BHIS-1\n",
      "rxn01492_c Objective function reaction not included in BHIS-1\n",
      "rxn04043_c Objective function reaction not included in BHIS - Microaerobic\n",
      "rxn00297_c Objective function reaction not included in BHIS - Microaerobic\n",
      "rxn01492_c Objective function reaction not included in BHIS - Microaerobic\n",
      "EX_cpd00064_e Objective function reaction not included in BHIS - Microaerobic\n",
      "rxn10131_c Objective function reaction not included in BHIS - Microaerobic\n",
      "rxn00471_c Objective function reaction not included in BHIS - Microaerobic\n",
      "rxn04043_c Objective function reaction not included in BHIS-2\n",
      "EX_cpd00367_e Objective function reaction not included in BHIS-2\n",
      "rxn05198_c Objective function reaction not included in BHIS-2\n",
      "rxn01492_c Objective function reaction not included in BHIS-2\n",
      "EX_cpd00064_e Objective function reaction not included in BHIS-2\n",
      "rxn10131_c Objective function reaction not included in BHIS-2\n",
      "rxn00471_c Objective function reaction not included in BHIS-2\n",
      "rxn04043_c Objective function reaction not included in BHIS + 120uM Deoxycholate\n",
      "rxn01492_c Objective function reaction not included in BHIS + 120uM Deoxycholate\n",
      "rxn00933_c Objective function reaction not included in TY\n",
      "rxn04043_c Objective function reaction not included in TY\n",
      "EX_cpd00367_e Objective function reaction not included in TY\n",
      "rxn05198_c Objective function reaction not included in TY\n",
      "rxn01492_c Objective function reaction not included in TY\n",
      "EX_cpd00064_e Objective function reaction not included in TY\n",
      "rxn10131_c Objective function reaction not included in TY\n",
      "rxn00471_c Objective function reaction not included in TY\n",
      "rxn00933_c Objective function reaction not included in TY + Cysteine\n",
      "rxn04043_c Objective function reaction not included in TY + Cysteine\n",
      "EX_cpd00367_e Objective function reaction not included in TY + Cysteine\n",
      "rxn05198_c Objective function reaction not included in TY + Cysteine\n",
      "rxn01492_c Objective function reaction not included in TY + Cysteine\n",
      "EX_cpd00064_e Objective function reaction not included in TY + Cysteine\n",
      "rxn10131_c Objective function reaction not included in TY + Cysteine\n",
      "rxn00471_c Objective function reaction not included in TY + Cysteine\n",
      "rxn00933_c Objective function reaction not included in DMSO-1\n",
      "rxn04043_c Objective function reaction not included in DMSO-1\n",
      "EX_cpd00367_e Objective function reaction not included in DMSO-1\n",
      "rxn05198_c Objective function reaction not included in DMSO-1\n",
      "rxn01492_c Objective function reaction not included in DMSO-1\n",
      "rxn00933_c Objective function reaction not included in Deoxycholate\n",
      "rxn04043_c Objective function reaction not included in Deoxycholate\n",
      "EX_cpd00367_e Objective function reaction not included in Deoxycholate\n",
      "rxn05198_c Objective function reaction not included in Deoxycholate\n",
      "rxn01492_c Objective function reaction not included in Deoxycholate\n",
      "rxn04043_c Objective function reaction not included in Cholate\n",
      "rxn01492_c Objective function reaction not included in Cholate\n",
      "rxn00933_c Objective function reaction not included in DMSO-2\n",
      "rxn04043_c Objective function reaction not included in DMSO-2\n",
      "EX_cpd00367_e Objective function reaction not included in DMSO-2\n",
      "rxn05198_c Objective function reaction not included in DMSO-2\n",
      "rxn01492_c Objective function reaction not included in DMSO-2\n",
      "rxn00933_c Objective function reaction not included in Enoxolone\n",
      "rxn04043_c Objective function reaction not included in Enoxolone\n",
      "EX_cpd00367_e Objective function reaction not included in Enoxolone\n",
      "rxn05198_c Objective function reaction not included in Enoxolone\n",
      "rxn01492_c Objective function reaction not included in Enoxolone\n",
      "rxn00933_c Objective function reaction not included in BHIS-3\n",
      "rxn04043_c Objective function reaction not included in BHIS-3\n",
      "EX_cpd00367_e Objective function reaction not included in BHIS-3\n",
      "rxn05198_c Objective function reaction not included in BHIS-3\n",
      "rxn01492_c Objective function reaction not included in BHIS-3\n",
      "rxn04043_c Objective function reaction not included in BHIS + Calprotectin\n",
      "rxn01492_c Objective function reaction not included in BHIS + Calprotectin\n"
     ]
    }
   ],
   "source": [
    "sp = pd.DataFrame(columns = ['strain','condition','toxin','OF','OF_name'])\n",
    "for fs in condition_dict:\n",
    "    for OF in rf20:\n",
    "        try:\n",
    "            fs.model.objective = OF\n",
    "            g = fs.model.optimize().shadow_prices\n",
    "            g = g[(g < 0) | (g > 0)].to_frame().T.reset_index(drop=True)\n",
    "            g['strain'] = str(strain_dict[fs])\n",
    "            g['condition'] = str(condition_dict[fs])\n",
    "            g['toxin'] = str(toxin_dict[fs])\n",
    "            g['OF'] = OF\n",
    "            g['OF_name'] = fs.model.reactions.get_by_id(OF).name\n",
    "            sp = pd.concat([sp,g])\n",
    "        except ValueError:\n",
    "            print(OF, 'Objective function reaction not included in %s'%condition_dict[fs])\n",
    "            \n",
    "# Saved as shadowPrices2.csv "
   ]
  },
  {
   "cell_type": "markdown",
   "id": "54daea9d-aef7-419d-b54a-2b166d1d7a11",
   "metadata": {},
   "source": [
    "## Version 3\n",
    "- Using top 20 features from RF model (fluxSampling3.ipynb)\n"
   ]
  },
  {
   "cell_type": "code",
   "execution_count": 104,
   "id": "20604271-990c-4f0b-bf26-fc4e4dde2026",
   "metadata": {},
   "outputs": [],
   "source": [
    "rf20_3 = ['rxn01446_c',\n",
    " 'EX_cpd00492_e',\n",
    " 'rxn05234_c',\n",
    " 'EX_cpd00567_e',\n",
    " 'rxn00908_c',\n",
    " 'rxn00213_c',\n",
    " 'rxn00611_c',\n",
    " 'rxn05527_c',\n",
    " 'rxn08168_c',\n",
    " 'rxn01799_c',\n",
    " 'rxn00747_c',\n",
    " 'rxn05562_c',\n",
    " 'rxn00182_c',\n",
    " 'rxn10131_c',\n",
    " 'rxn00692_c',\n",
    " 'rxn00258_c',\n",
    " 'EX_cpd00076_e',\n",
    " 'rxn00001_c',\n",
    " 'rxn00297_c',\n",
    " 'rxn05205_c']"
   ]
  },
  {
   "cell_type": "code",
   "execution_count": 64,
   "id": "fcb17461-fbd5-4373-b2cf-cc82b5f0f969",
   "metadata": {
    "collapsed": true,
    "jupyter": {
     "outputs_hidden": true
    },
    "tags": []
   },
   "outputs": [
    {
     "name": "stdout",
     "output_type": "stream",
     "text": [
      "EX_cpd00567_e Objective function reaction not included in High Iron\n",
      "EX_cpd00567_e Objective function reaction not included in Low Iron\n",
      "rxn00182_c Objective function reaction not included in Low Iron\n",
      "EX_cpd00076_e Objective function reaction not included in Low Iron\n",
      "rxn00213_c Objective function reaction not included in BHIS-1\n",
      "rxn05562_c Objective function reaction not included in BHIS-1\n",
      "rxn00182_c Objective function reaction not included in BHIS-1\n",
      "rxn00297_c Objective function reaction not included in BHIS-1\n",
      "rxn00213_c Objective function reaction not included in BHIS - Microaerobic\n",
      "rxn05562_c Objective function reaction not included in BHIS - Microaerobic\n",
      "rxn00182_c Objective function reaction not included in BHIS - Microaerobic\n",
      "rxn10131_c Objective function reaction not included in BHIS - Microaerobic\n",
      "rxn00297_c Objective function reaction not included in BHIS - Microaerobic\n",
      "rxn00182_c Objective function reaction not included in BHIS-2\n",
      "rxn10131_c Objective function reaction not included in BHIS-2\n",
      "EX_cpd00076_e Objective function reaction not included in BHIS-2\n",
      "rxn00182_c Objective function reaction not included in BHIS + 120uM Deoxycholate\n",
      "rxn00182_c Objective function reaction not included in BHIS + 240uM Deoxycholate\n",
      "EX_cpd00567_e Objective function reaction not included in TY\n",
      "rxn08168_c Objective function reaction not included in TY\n",
      "rxn10131_c Objective function reaction not included in TY\n",
      "EX_cpd00076_e Objective function reaction not included in TY\n",
      "EX_cpd00567_e Objective function reaction not included in TY + Cysteine\n",
      "rxn08168_c Objective function reaction not included in TY + Cysteine\n",
      "rxn10131_c Objective function reaction not included in TY + Cysteine\n",
      "EX_cpd00492_e Objective function reaction not included in DMSO-1\n",
      "EX_cpd00567_e Objective function reaction not included in DMSO-1\n",
      "EX_cpd00567_e Objective function reaction not included in Deoxycholate\n",
      "rxn08168_c Objective function reaction not included in Deoxycholate\n",
      "EX_cpd00567_e Objective function reaction not included in Cholate\n",
      "rxn08168_c Objective function reaction not included in Cholate\n",
      "EX_cpd00492_e Objective function reaction not included in DMSO-2\n",
      "EX_cpd00567_e Objective function reaction not included in DMSO-2\n",
      "rxn08168_c Objective function reaction not included in DMSO-2\n",
      "EX_cpd00492_e Objective function reaction not included in Enoxolone\n",
      "EX_cpd00567_e Objective function reaction not included in Enoxolone\n",
      "rxn08168_c Objective function reaction not included in Enoxolone\n",
      "EX_cpd00492_e Objective function reaction not included in BHIS-3\n",
      "EX_cpd00567_e Objective function reaction not included in BHIS-3\n",
      "rxn08168_c Objective function reaction not included in BHIS-3\n",
      "EX_cpd00492_e Objective function reaction not included in BHIS + Calprotectin\n",
      "EX_cpd00567_e Objective function reaction not included in BHIS + Calprotectin\n",
      "rxn08168_c Objective function reaction not included in BHIS + Calprotectin\n"
     ]
    }
   ],
   "source": [
    "sp = pd.DataFrame(columns = ['strain','condition','toxin','OF','OF_name'])\n",
    "for fs in condition_dict:\n",
    "    for OF in rf20_3:\n",
    "        try:\n",
    "            fs.model.objective = OF\n",
    "            g = fs.model.optimize().shadow_prices\n",
    "            g = g[(g < 0) | (g > 0)].to_frame().T.reset_index(drop=True)\n",
    "            g['strain'] = str(strain_dict[fs])\n",
    "            g['condition'] = str(condition_dict[fs])\n",
    "            g['toxin'] = str(toxin_dict[fs])\n",
    "            g['OF'] = OF\n",
    "            g['OF_name'] = fs.model.reactions.get_by_id(OF).name\n",
    "            sp = pd.concat([sp,g])\n",
    "        except ValueError:\n",
    "            print(OF, 'Objective function reaction not included in %s'%condition_dict[fs])"
   ]
  },
  {
   "cell_type": "raw",
   "id": "2677834c-4800-4877-bf20-62dbb1861738",
   "metadata": {},
   "source": [
    "sp.to_csv('../data/shadowPrices3.csv')"
   ]
  },
  {
   "cell_type": "code",
   "execution_count": null,
   "id": "97f35585-7cdd-45cc-b399-165a46fe222c",
   "metadata": {},
   "outputs": [],
   "source": []
  },
  {
   "cell_type": "code",
   "execution_count": 342,
   "id": "11a58df2-e5f1-4e9d-b0af-f14647758787",
   "metadata": {},
   "outputs": [],
   "source": [
    "condition_toxin = {\n",
    "    'High Iron':'Low',\n",
    "    'Low Iron':'Low',\n",
    "    'BHIS-1':'High',\n",
    "    'BHIS - Microaerobic':'High',\n",
    "    'BHIS-2':'Medium',\n",
    "    'BHIS + 120uM Deoxycholate':'Low',\n",
    "    'BHIS + 240uM Deoxycholate':'Low',\n",
    "    'TY':'High',\n",
    "    'TY + Cysteine':'High',\n",
    "    'DMSO-1':'Medium',\n",
    "    'Deoxycholate':'Medium',\n",
    "    'Cholate':'Medium',\n",
    "    'DMSO-2':'Medium',\n",
    "    'Enoxolone':'Medium',\n",
    "    'BHIS-3':'Medium',\n",
    "    'BHIS + Calprotectin':'Medium'\n",
    "}"
   ]
  },
  {
   "cell_type": "code",
   "execution_count": 339,
   "id": "04afd400-14b4-4966-a06e-cb86f854da1f",
   "metadata": {},
   "outputs": [],
   "source": [
    "condition_strain = {\n",
    "    'High Iron':'CD630',\n",
    "    'Low Iron':'CD630',\n",
    "    'BHIS-1':'CD630',\n",
    "    'BHIS - Microaerobic':'CD630',\n",
    "    'BHIS-2':'CD630',\n",
    "    'BHIS + 120uM Deoxycholate':'CD630',\n",
    "    'BHIS + 240uM Deoxycholate':'CD630',\n",
    "    'TY':'CDR20291',\n",
    "    'TY + Cysteine':'CDR20291',\n",
    "    'DMSO-1':'CDR20291',\n",
    "    'Deoxycholate':'CDR20291',\n",
    "    'Cholate':'CDR20291',\n",
    "    'DMSO-2':'CDR20291',\n",
    "    'Enoxolone':'CDR20291',\n",
    "    'BHIS-3':'CDR20291',\n",
    "    'BHIS + Calprotectin':'CDR20291'\n",
    "}"
   ]
  },
  {
   "cell_type": "code",
   "execution_count": 343,
   "id": "c8e0a24e-e819-4e3e-9383-c30bfea2afa2",
   "metadata": {
    "tags": []
   },
   "outputs": [],
   "source": [
    "for x in condition_strain:\n",
    "    sp.loc[sp['condition']==x, 'strain'] = str(condition_strain[x])\n",
    "    sp.loc[sp['condition']==x, 'toxin'] = str(condition_toxin[x])"
   ]
  },
  {
   "cell_type": "code",
   "execution_count": 94,
   "id": "8104bf46-1f5d-47ed-999b-fe0df966f936",
   "metadata": {},
   "outputs": [],
   "source": [
    "# Save shadow prices df\n",
    "sp.to_csv('../data/shadowPrices2.csv',index=False)"
   ]
  },
  {
   "cell_type": "code",
   "execution_count": null,
   "id": "0ce29c7e-ab3c-40dd-a264-f1c870275934",
   "metadata": {},
   "outputs": [],
   "source": []
  },
  {
   "cell_type": "code",
   "execution_count": null,
   "id": "c2e33548-4bc3-4411-bd7a-0143d2097e2e",
   "metadata": {},
   "outputs": [],
   "source": []
  },
  {
   "cell_type": "code",
   "execution_count": 331,
   "id": "c4d69a09-f644-4fad-914d-13d698a4c133",
   "metadata": {},
   "outputs": [],
   "source": [
    "ls = sp.groupby(by='condition')['OF'].unique().tolist()"
   ]
  },
  {
   "cell_type": "code",
   "execution_count": 334,
   "id": "2ede4101-95e0-4a05-a690-9a36441f43d7",
   "metadata": {},
   "outputs": [],
   "source": [
    "ls2 = []\n",
    "for l in ls:\n",
    "    ls2.append(set(l))"
   ]
  },
  {
   "cell_type": "code",
   "execution_count": 336,
   "id": "3cd058e1-101a-4690-88d8-03724bf07719",
   "metadata": {},
   "outputs": [],
   "source": [
    "core = set.intersection(*ls2)"
   ]
  },
  {
   "cell_type": "code",
   "execution_count": 337,
   "id": "eed3428a-ff37-4827-8727-19c6161db870",
   "metadata": {},
   "outputs": [
    {
     "data": {
      "text/plain": [
       "{'EX_cpd00156_e', 'rxn00134_c', 'rxn05669_c', 'rxn10840_c'}"
      ]
     },
     "execution_count": 337,
     "metadata": {},
     "output_type": "execute_result"
    }
   ],
   "source": [
    "core"
   ]
  },
  {
   "cell_type": "code",
   "execution_count": 338,
   "id": "e0112216-ef67-4dd0-a1d6-245960ee2ce7",
   "metadata": {},
   "outputs": [
    {
     "name": "stdout",
     "output_type": "stream",
     "text": [
      "L-arginine transport via diffusion (extracellular to periplasm)\n",
      "Amino acid transporter (val-L)\n",
      "ATP:adenosine 5'-phosphotransferase\n",
      "L-Valine exchange\n"
     ]
    }
   ],
   "source": [
    "for x in core:\n",
    "    print(r20291.reactions.get_by_id(x).name)"
   ]
  },
  {
   "cell_type": "code",
   "execution_count": null,
   "id": "f75aa8f0-6646-41be-8ac1-92360df56d9a",
   "metadata": {},
   "outputs": [],
   "source": []
  },
  {
   "cell_type": "code",
   "execution_count": null,
   "id": "ecc036d0-2cea-4a23-8c1d-2bcb7945eb96",
   "metadata": {},
   "outputs": [],
   "source": []
  },
  {
   "cell_type": "code",
   "execution_count": null,
   "id": "52786557-0977-4d7e-9e7b-33c16e456bb8",
   "metadata": {},
   "outputs": [],
   "source": []
  },
  {
   "cell_type": "code",
   "execution_count": null,
   "id": "879928d7-fbec-461b-a3d7-0ce26197b174",
   "metadata": {},
   "outputs": [],
   "source": []
  },
  {
   "cell_type": "code",
   "execution_count": 29,
   "id": "cacbe352-4481-4612-af06-be5ad2eea43e",
   "metadata": {},
   "outputs": [
    {
     "name": "stderr",
     "output_type": "stream",
     "text": [
      "/Users/dap5mb/opt/anaconda3/lib/python3.8/site-packages/optlang/interface.py:1479: DeprecationWarning: Deprecated, pass a TempConstr or use Model.addLConstr\n",
      "  self._add_constraints(add_constr_sloppy, sloppy=True)\n"
     ]
    },
    {
     "data": {
      "text/html": [
       "<h3>cpd00311_c</h3><p>C10H13N5O5</p><h4>Producing Reactions</h4><table border=\"1\" class=\"dataframe\">\n",
       "  <thead>\n",
       "    <tr style=\"text-align: right;\">\n",
       "      <th>Percent</th>\n",
       "      <th>Flux</th>\n",
       "      <th>Reaction</th>\n",
       "      <th>Definition</th>\n",
       "    </tr>\n",
       "  </thead>\n",
       "  <tbody>\n",
       "    <tr>\n",
       "      <td>100.00%</td>\n",
       "      <td>1000</td>\n",
       "      <td>rxn05204_c</td>\n",
       "      <td>cpd00067_e + cpd00311_e &lt;=&gt; cpd00067_c + cpd00311_c</td>\n",
       "    </tr>\n",
       "  </tbody>\n",
       "</table><h4>Consuming Reactions</h4><table border=\"1\" class=\"dataframe\">\n",
       "  <thead>\n",
       "    <tr style=\"text-align: right;\">\n",
       "      <th>Percent</th>\n",
       "      <th>Flux</th>\n",
       "      <th>Reaction</th>\n",
       "      <th>Definition</th>\n",
       "    </tr>\n",
       "  </thead>\n",
       "  <tbody>\n",
       "    <tr>\n",
       "      <td>54.68%</td>\n",
       "      <td>-546.8</td>\n",
       "      <td>rxn01548_c</td>\n",
       "      <td>cpd00009_c + cpd00311_c &lt;=&gt; cpd00207_c + cpd00475_c</td>\n",
       "    </tr>\n",
       "    <tr>\n",
       "      <td>45.32%</td>\n",
       "      <td>-453.2</td>\n",
       "      <td>rxn13139_c</td>\n",
       "      <td>3.0 cpd00001_c + cpd00038_c &lt;-- 3.0 cpd00009_c + 3.0 cpd00067_c + cpd00311_c</td>\n",
       "    </tr>\n",
       "  </tbody>\n",
       "</table>"
      ],
      "text/plain": [
       "<cobra.summary.metabolite_summary.MetaboliteSummary at 0x7ff359d294c0>"
      ]
     },
     "execution_count": 29,
     "metadata": {},
     "output_type": "execute_result"
    }
   ],
   "source": [
    "rip_cho.model.metabolites.cpd00311_c.summary()"
   ]
  },
  {
   "cell_type": "code",
   "execution_count": 42,
   "id": "adac7c8a-dfb6-4b41-adf2-c555f455147d",
   "metadata": {},
   "outputs": [
    {
     "name": "stderr",
     "output_type": "stream",
     "text": [
      "/Users/dap5mb/opt/anaconda3/lib/python3.8/site-packages/optlang/interface.py:1479: DeprecationWarning: Deprecated, pass a TempConstr or use Model.addLConstr\n",
      "  self._add_constraints(add_constr_sloppy, sloppy=True)\n"
     ]
    },
    {
     "data": {
      "text/html": [
       "<h3>cpd00311_c</h3><p>C10H13N5O5</p><h4>Producing Reactions</h4><table border=\"1\" class=\"dataframe\">\n",
       "  <thead>\n",
       "    <tr style=\"text-align: right;\">\n",
       "      <th>Percent</th>\n",
       "      <th>Flux</th>\n",
       "      <th>Reaction</th>\n",
       "      <th>Definition</th>\n",
       "    </tr>\n",
       "  </thead>\n",
       "  <tbody>\n",
       "    <tr>\n",
       "      <td>100.00%</td>\n",
       "      <td>316.7</td>\n",
       "      <td>rxn05204_c</td>\n",
       "      <td>cpd00067_e + cpd00311_e &lt;=&gt; cpd00067_c + cpd00311_c</td>\n",
       "    </tr>\n",
       "  </tbody>\n",
       "</table><h4>Consuming Reactions</h4><table border=\"1\" class=\"dataframe\">\n",
       "  <thead>\n",
       "    <tr style=\"text-align: right;\">\n",
       "      <th>Percent</th>\n",
       "      <th>Flux</th>\n",
       "      <th>Reaction</th>\n",
       "      <th>Definition</th>\n",
       "    </tr>\n",
       "  </thead>\n",
       "  <tbody>\n",
       "    <tr>\n",
       "      <td>11.16%</td>\n",
       "      <td>-35.36</td>\n",
       "      <td>rxn01547_c</td>\n",
       "      <td>cpd00001_c + cpd00067_c + cpd00311_c --&gt; cpd00013_c + cpd01217_c</td>\n",
       "    </tr>\n",
       "    <tr>\n",
       "      <td>88.84%</td>\n",
       "      <td>-281.4</td>\n",
       "      <td>rxn13139_c</td>\n",
       "      <td>3.0 cpd00001_c + cpd00038_c &lt;-- 3.0 cpd00009_c + 3.0 cpd00067_c + cpd00311_c</td>\n",
       "    </tr>\n",
       "  </tbody>\n",
       "</table>"
      ],
      "text/plain": [
       "<cobra.summary.metabolite_summary.MetaboliteSummary at 0x7ff35bdef9a0>"
      ]
     },
     "execution_count": 42,
     "metadata": {},
     "output_type": "execute_result"
    }
   ],
   "source": [
    "rip_d240.model.metabolites.cpd00311_c.summary()"
   ]
  },
  {
   "cell_type": "code",
   "execution_count": 55,
   "id": "6bb00c35-5ead-48d1-9c47-cf352b36f08e",
   "metadata": {},
   "outputs": [
    {
     "data": {
      "text/html": [
       "\n",
       "        <table>\n",
       "            <tr>\n",
       "                <td><strong>Name</strong></td>\n",
       "                <td>iCdG709</td>\n",
       "            </tr><tr>\n",
       "                <td><strong>Memory address</strong></td>\n",
       "                <td>0x07ff38dec65b0</td>\n",
       "            </tr><tr>\n",
       "                <td><strong>Number of metabolites</strong></td>\n",
       "                <td>1243</td>\n",
       "            </tr><tr>\n",
       "                <td><strong>Number of reactions</strong></td>\n",
       "                <td>1323</td>\n",
       "            </tr><tr>\n",
       "                <td><strong>Number of groups</strong></td>\n",
       "                <td>0</td>\n",
       "            </tr><tr>\n",
       "                <td><strong>Objective expression</strong></td>\n",
       "                <td>1.0*biomass - 1.0*biomass_reverse_01e59</td>\n",
       "            </tr><tr>\n",
       "                <td><strong>Compartments</strong></td>\n",
       "                <td>cytosol, extracellular, periplasm</td>\n",
       "            </tr>\n",
       "          </table>"
      ],
      "text/plain": [
       "<Model iCdG709 at 0x7ff38dec65b0>"
      ]
     },
     "execution_count": 55,
     "metadata": {},
     "output_type": "execute_result"
    }
   ],
   "source": [
    "model"
   ]
  },
  {
   "cell_type": "code",
   "execution_count": 62,
   "id": "dee8883d-aaed-4f1a-a5ef-8efd8e3408ed",
   "metadata": {},
   "outputs": [
    {
     "data": {
      "text/plain": [
       "'Guanosine aminohydrolase'"
      ]
     },
     "execution_count": 62,
     "metadata": {},
     "output_type": "execute_result"
    }
   ],
   "source": [
    "model.reactions.get_by_id('rxn01547_c').name"
   ]
  },
  {
   "cell_type": "code",
   "execution_count": 74,
   "id": "7e6b88b8-fec2-4239-9b05-8969160d21d7",
   "metadata": {},
   "outputs": [
    {
     "name": "stderr",
     "output_type": "stream",
     "text": [
      "/Users/dap5mb/opt/anaconda3/lib/python3.8/site-packages/optlang/interface.py:1479: DeprecationWarning: Deprecated, pass a TempConstr or use Model.addLConstr\n",
      "  self._add_constraints(add_constr_sloppy, sloppy=True)\n"
     ]
    },
    {
     "data": {
      "text/html": [
       "<div>\n",
       "<style scoped>\n",
       "    .dataframe tbody tr th:only-of-type {\n",
       "        vertical-align: middle;\n",
       "    }\n",
       "\n",
       "    .dataframe tbody tr th {\n",
       "        vertical-align: top;\n",
       "    }\n",
       "\n",
       "    .dataframe thead th {\n",
       "        text-align: right;\n",
       "    }\n",
       "</style>\n",
       "<table border=\"1\" class=\"dataframe\">\n",
       "  <thead>\n",
       "    <tr style=\"text-align: right;\">\n",
       "      <th></th>\n",
       "      <th>rxn01548_c</th>\n",
       "      <th>rxn13139_c</th>\n",
       "    </tr>\n",
       "  </thead>\n",
       "  <tbody>\n",
       "    <tr>\n",
       "      <th>flux</th>\n",
       "      <td>-546.821254</td>\n",
       "      <td>-453.178746</td>\n",
       "    </tr>\n",
       "  </tbody>\n",
       "</table>\n",
       "</div>"
      ],
      "text/plain": [
       "      rxn01548_c  rxn13139_c\n",
       "flux -546.821254 -453.178746"
      ]
     },
     "execution_count": 74,
     "metadata": {},
     "output_type": "execute_result"
    }
   ],
   "source": [
    "metdf = rip_cho.model.metabolites.cpd00311_c.summary().consuming_flux[['flux']].T"
   ]
  },
  {
   "cell_type": "code",
   "execution_count": null,
   "id": "4204435a-8dbb-4b36-9e61-c85c7d4ffbb7",
   "metadata": {},
   "outputs": [],
   "source": []
  },
  {
   "cell_type": "code",
   "execution_count": 86,
   "id": "118771e9-8586-4f3c-a6ea-c8386edf0da5",
   "metadata": {
    "collapsed": true,
    "jupyter": {
     "outputs_hidden": true
    },
    "tags": []
   },
   "outputs": [
    {
     "name": "stdout",
     "output_type": "stream",
     "text": [
      "Guanosine\n"
     ]
    },
    {
     "name": "stderr",
     "output_type": "stream",
     "text": [
      "/Users/dap5mb/opt/anaconda3/lib/python3.8/site-packages/optlang/interface.py:1479: DeprecationWarning: Deprecated, pass a TempConstr or use Model.addLConstr\n",
      "  self._add_constraints(add_constr_sloppy, sloppy=True)\n",
      "/Users/dap5mb/opt/anaconda3/lib/python3.8/site-packages/optlang/interface.py:1479: DeprecationWarning: Deprecated, pass a TempConstr or use Model.addLConstr\n",
      "  self._add_constraints(add_constr_sloppy, sloppy=True)\n",
      "/Users/dap5mb/opt/anaconda3/lib/python3.8/site-packages/optlang/interface.py:1479: DeprecationWarning: Deprecated, pass a TempConstr or use Model.addLConstr\n",
      "  self._add_constraints(add_constr_sloppy, sloppy=True)\n",
      "/Users/dap5mb/opt/anaconda3/lib/python3.8/site-packages/optlang/interface.py:1479: DeprecationWarning: Deprecated, pass a TempConstr or use Model.addLConstr\n",
      "  self._add_constraints(add_constr_sloppy, sloppy=True)\n",
      "/Users/dap5mb/opt/anaconda3/lib/python3.8/site-packages/optlang/interface.py:1479: DeprecationWarning: Deprecated, pass a TempConstr or use Model.addLConstr\n",
      "  self._add_constraints(add_constr_sloppy, sloppy=True)\n",
      "/Users/dap5mb/opt/anaconda3/lib/python3.8/site-packages/optlang/interface.py:1479: DeprecationWarning: Deprecated, pass a TempConstr or use Model.addLConstr\n",
      "  self._add_constraints(add_constr_sloppy, sloppy=True)\n",
      "/Users/dap5mb/opt/anaconda3/lib/python3.8/site-packages/optlang/interface.py:1479: DeprecationWarning: Deprecated, pass a TempConstr or use Model.addLConstr\n",
      "  self._add_constraints(add_constr_sloppy, sloppy=True)\n",
      "/Users/dap5mb/opt/anaconda3/lib/python3.8/site-packages/optlang/interface.py:1479: DeprecationWarning: Deprecated, pass a TempConstr or use Model.addLConstr\n",
      "  self._add_constraints(add_constr_sloppy, sloppy=True)\n",
      "/Users/dap5mb/opt/anaconda3/lib/python3.8/site-packages/optlang/interface.py:1479: DeprecationWarning: Deprecated, pass a TempConstr or use Model.addLConstr\n",
      "  self._add_constraints(add_constr_sloppy, sloppy=True)\n",
      "/Users/dap5mb/opt/anaconda3/lib/python3.8/site-packages/optlang/interface.py:1479: DeprecationWarning: Deprecated, pass a TempConstr or use Model.addLConstr\n",
      "  self._add_constraints(add_constr_sloppy, sloppy=True)\n",
      "/Users/dap5mb/opt/anaconda3/lib/python3.8/site-packages/optlang/interface.py:1479: DeprecationWarning: Deprecated, pass a TempConstr or use Model.addLConstr\n",
      "  self._add_constraints(add_constr_sloppy, sloppy=True)\n",
      "/Users/dap5mb/opt/anaconda3/lib/python3.8/site-packages/optlang/interface.py:1479: DeprecationWarning: Deprecated, pass a TempConstr or use Model.addLConstr\n",
      "  self._add_constraints(add_constr_sloppy, sloppy=True)\n",
      "/Users/dap5mb/opt/anaconda3/lib/python3.8/site-packages/optlang/interface.py:1479: DeprecationWarning: Deprecated, pass a TempConstr or use Model.addLConstr\n",
      "  self._add_constraints(add_constr_sloppy, sloppy=True)\n",
      "/Users/dap5mb/opt/anaconda3/lib/python3.8/site-packages/optlang/interface.py:1479: DeprecationWarning: Deprecated, pass a TempConstr or use Model.addLConstr\n",
      "  self._add_constraints(add_constr_sloppy, sloppy=True)\n",
      "/Users/dap5mb/opt/anaconda3/lib/python3.8/site-packages/optlang/interface.py:1479: DeprecationWarning: Deprecated, pass a TempConstr or use Model.addLConstr\n",
      "  self._add_constraints(add_constr_sloppy, sloppy=True)\n",
      "/Users/dap5mb/opt/anaconda3/lib/python3.8/site-packages/optlang/interface.py:1479: DeprecationWarning: Deprecated, pass a TempConstr or use Model.addLConstr\n",
      "  self._add_constraints(add_constr_sloppy, sloppy=True)\n",
      "/Users/dap5mb/opt/anaconda3/lib/python3.8/site-packages/optlang/interface.py:1479: DeprecationWarning: Deprecated, pass a TempConstr or use Model.addLConstr\n",
      "  self._add_constraints(add_constr_sloppy, sloppy=True)\n",
      "/Users/dap5mb/opt/anaconda3/lib/python3.8/site-packages/optlang/interface.py:1479: DeprecationWarning: Deprecated, pass a TempConstr or use Model.addLConstr\n",
      "  self._add_constraints(add_constr_sloppy, sloppy=True)\n",
      "/Users/dap5mb/opt/anaconda3/lib/python3.8/site-packages/optlang/interface.py:1479: DeprecationWarning: Deprecated, pass a TempConstr or use Model.addLConstr\n",
      "  self._add_constraints(add_constr_sloppy, sloppy=True)\n",
      "/Users/dap5mb/opt/anaconda3/lib/python3.8/site-packages/optlang/interface.py:1479: DeprecationWarning: Deprecated, pass a TempConstr or use Model.addLConstr\n",
      "  self._add_constraints(add_constr_sloppy, sloppy=True)\n",
      "/Users/dap5mb/opt/anaconda3/lib/python3.8/site-packages/optlang/interface.py:1479: DeprecationWarning: Deprecated, pass a TempConstr or use Model.addLConstr\n",
      "  self._add_constraints(add_constr_sloppy, sloppy=True)\n",
      "/Users/dap5mb/opt/anaconda3/lib/python3.8/site-packages/optlang/interface.py:1479: DeprecationWarning: Deprecated, pass a TempConstr or use Model.addLConstr\n",
      "  self._add_constraints(add_constr_sloppy, sloppy=True)\n",
      "/Users/dap5mb/opt/anaconda3/lib/python3.8/site-packages/optlang/interface.py:1479: DeprecationWarning: Deprecated, pass a TempConstr or use Model.addLConstr\n",
      "  self._add_constraints(add_constr_sloppy, sloppy=True)\n",
      "/Users/dap5mb/opt/anaconda3/lib/python3.8/site-packages/optlang/interface.py:1479: DeprecationWarning: Deprecated, pass a TempConstr or use Model.addLConstr\n",
      "  self._add_constraints(add_constr_sloppy, sloppy=True)\n",
      "/Users/dap5mb/opt/anaconda3/lib/python3.8/site-packages/optlang/interface.py:1479: DeprecationWarning: Deprecated, pass a TempConstr or use Model.addLConstr\n",
      "  self._add_constraints(add_constr_sloppy, sloppy=True)\n",
      "/Users/dap5mb/opt/anaconda3/lib/python3.8/site-packages/optlang/interface.py:1479: DeprecationWarning: Deprecated, pass a TempConstr or use Model.addLConstr\n",
      "  self._add_constraints(add_constr_sloppy, sloppy=True)\n",
      "/Users/dap5mb/opt/anaconda3/lib/python3.8/site-packages/optlang/interface.py:1479: DeprecationWarning: Deprecated, pass a TempConstr or use Model.addLConstr\n",
      "  self._add_constraints(add_constr_sloppy, sloppy=True)\n",
      "/Users/dap5mb/opt/anaconda3/lib/python3.8/site-packages/optlang/interface.py:1479: DeprecationWarning: Deprecated, pass a TempConstr or use Model.addLConstr\n",
      "  self._add_constraints(add_constr_sloppy, sloppy=True)\n",
      "/Users/dap5mb/opt/anaconda3/lib/python3.8/site-packages/optlang/interface.py:1479: DeprecationWarning: Deprecated, pass a TempConstr or use Model.addLConstr\n",
      "  self._add_constraints(add_constr_sloppy, sloppy=True)\n",
      "/Users/dap5mb/opt/anaconda3/lib/python3.8/site-packages/optlang/interface.py:1479: DeprecationWarning: Deprecated, pass a TempConstr or use Model.addLConstr\n",
      "  self._add_constraints(add_constr_sloppy, sloppy=True)\n",
      "/Users/dap5mb/opt/anaconda3/lib/python3.8/site-packages/optlang/interface.py:1479: DeprecationWarning: Deprecated, pass a TempConstr or use Model.addLConstr\n",
      "  self._add_constraints(add_constr_sloppy, sloppy=True)\n",
      "/Users/dap5mb/opt/anaconda3/lib/python3.8/site-packages/optlang/interface.py:1479: DeprecationWarning: Deprecated, pass a TempConstr or use Model.addLConstr\n",
      "  self._add_constraints(add_constr_sloppy, sloppy=True)\n"
     ]
    }
   ],
   "source": [
    "print(model.metabolites.get_by_id(\"cpd00311_c\").name)\n",
    "\n",
    "k = pd.DataFrame()\n",
    "\n",
    "for x in condition_dict:\n",
    "    j = x.model.metabolites.cpd00311_c.summary().consuming_flux[['flux']].T\n",
    "    j = pd.concat([j, x.model.metabolites.cpd00311_c.summary().producing_flux[['flux']].T], axis=1)\n",
    "    j.insert(0, \"name\", condition_dict[x])\n",
    "    k = pd.concat([k,j])\n",
    "    #print(condition_dict[x], x.model.metabolites.cpd00311_c.summary().producing_flux[['flux']].T);"
   ]
  },
  {
   "cell_type": "code",
   "execution_count": 96,
   "id": "6e292685-6927-49c7-8a4a-fb7d5034a311",
   "metadata": {
    "collapsed": true,
    "jupyter": {
     "outputs_hidden": true
    },
    "tags": []
   },
   "outputs": [
    {
     "name": "stdout",
     "output_type": "stream",
     "text": [
      "Guanine\n"
     ]
    },
    {
     "name": "stderr",
     "output_type": "stream",
     "text": [
      "/Users/dap5mb/opt/anaconda3/lib/python3.8/site-packages/optlang/interface.py:1479: DeprecationWarning: Deprecated, pass a TempConstr or use Model.addLConstr\n",
      "  self._add_constraints(add_constr_sloppy, sloppy=True)\n",
      "/Users/dap5mb/opt/anaconda3/lib/python3.8/site-packages/optlang/interface.py:1479: DeprecationWarning: Deprecated, pass a TempConstr or use Model.addLConstr\n",
      "  self._add_constraints(add_constr_sloppy, sloppy=True)\n",
      "/Users/dap5mb/opt/anaconda3/lib/python3.8/site-packages/optlang/interface.py:1479: DeprecationWarning: Deprecated, pass a TempConstr or use Model.addLConstr\n",
      "  self._add_constraints(add_constr_sloppy, sloppy=True)\n",
      "/Users/dap5mb/opt/anaconda3/lib/python3.8/site-packages/optlang/interface.py:1479: DeprecationWarning: Deprecated, pass a TempConstr or use Model.addLConstr\n",
      "  self._add_constraints(add_constr_sloppy, sloppy=True)\n",
      "/Users/dap5mb/opt/anaconda3/lib/python3.8/site-packages/optlang/interface.py:1479: DeprecationWarning: Deprecated, pass a TempConstr or use Model.addLConstr\n",
      "  self._add_constraints(add_constr_sloppy, sloppy=True)\n",
      "/Users/dap5mb/opt/anaconda3/lib/python3.8/site-packages/optlang/interface.py:1479: DeprecationWarning: Deprecated, pass a TempConstr or use Model.addLConstr\n",
      "  self._add_constraints(add_constr_sloppy, sloppy=True)\n",
      "/Users/dap5mb/opt/anaconda3/lib/python3.8/site-packages/optlang/interface.py:1479: DeprecationWarning: Deprecated, pass a TempConstr or use Model.addLConstr\n",
      "  self._add_constraints(add_constr_sloppy, sloppy=True)\n",
      "/Users/dap5mb/opt/anaconda3/lib/python3.8/site-packages/optlang/interface.py:1479: DeprecationWarning: Deprecated, pass a TempConstr or use Model.addLConstr\n",
      "  self._add_constraints(add_constr_sloppy, sloppy=True)\n",
      "/Users/dap5mb/opt/anaconda3/lib/python3.8/site-packages/optlang/interface.py:1479: DeprecationWarning: Deprecated, pass a TempConstr or use Model.addLConstr\n",
      "  self._add_constraints(add_constr_sloppy, sloppy=True)\n",
      "/Users/dap5mb/opt/anaconda3/lib/python3.8/site-packages/optlang/interface.py:1479: DeprecationWarning: Deprecated, pass a TempConstr or use Model.addLConstr\n",
      "  self._add_constraints(add_constr_sloppy, sloppy=True)\n",
      "/Users/dap5mb/opt/anaconda3/lib/python3.8/site-packages/optlang/interface.py:1479: DeprecationWarning: Deprecated, pass a TempConstr or use Model.addLConstr\n",
      "  self._add_constraints(add_constr_sloppy, sloppy=True)\n",
      "/Users/dap5mb/opt/anaconda3/lib/python3.8/site-packages/optlang/interface.py:1479: DeprecationWarning: Deprecated, pass a TempConstr or use Model.addLConstr\n",
      "  self._add_constraints(add_constr_sloppy, sloppy=True)\n",
      "/Users/dap5mb/opt/anaconda3/lib/python3.8/site-packages/optlang/interface.py:1479: DeprecationWarning: Deprecated, pass a TempConstr or use Model.addLConstr\n",
      "  self._add_constraints(add_constr_sloppy, sloppy=True)\n",
      "/Users/dap5mb/opt/anaconda3/lib/python3.8/site-packages/optlang/interface.py:1479: DeprecationWarning: Deprecated, pass a TempConstr or use Model.addLConstr\n",
      "  self._add_constraints(add_constr_sloppy, sloppy=True)\n",
      "/Users/dap5mb/opt/anaconda3/lib/python3.8/site-packages/optlang/interface.py:1479: DeprecationWarning: Deprecated, pass a TempConstr or use Model.addLConstr\n",
      "  self._add_constraints(add_constr_sloppy, sloppy=True)\n",
      "/Users/dap5mb/opt/anaconda3/lib/python3.8/site-packages/optlang/interface.py:1479: DeprecationWarning: Deprecated, pass a TempConstr or use Model.addLConstr\n",
      "  self._add_constraints(add_constr_sloppy, sloppy=True)\n",
      "/Users/dap5mb/opt/anaconda3/lib/python3.8/site-packages/optlang/interface.py:1479: DeprecationWarning: Deprecated, pass a TempConstr or use Model.addLConstr\n",
      "  self._add_constraints(add_constr_sloppy, sloppy=True)\n",
      "/Users/dap5mb/opt/anaconda3/lib/python3.8/site-packages/optlang/interface.py:1479: DeprecationWarning: Deprecated, pass a TempConstr or use Model.addLConstr\n",
      "  self._add_constraints(add_constr_sloppy, sloppy=True)\n",
      "/Users/dap5mb/opt/anaconda3/lib/python3.8/site-packages/optlang/interface.py:1479: DeprecationWarning: Deprecated, pass a TempConstr or use Model.addLConstr\n",
      "  self._add_constraints(add_constr_sloppy, sloppy=True)\n",
      "/Users/dap5mb/opt/anaconda3/lib/python3.8/site-packages/optlang/interface.py:1479: DeprecationWarning: Deprecated, pass a TempConstr or use Model.addLConstr\n",
      "  self._add_constraints(add_constr_sloppy, sloppy=True)\n",
      "/Users/dap5mb/opt/anaconda3/lib/python3.8/site-packages/optlang/interface.py:1479: DeprecationWarning: Deprecated, pass a TempConstr or use Model.addLConstr\n",
      "  self._add_constraints(add_constr_sloppy, sloppy=True)\n",
      "/Users/dap5mb/opt/anaconda3/lib/python3.8/site-packages/optlang/interface.py:1479: DeprecationWarning: Deprecated, pass a TempConstr or use Model.addLConstr\n",
      "  self._add_constraints(add_constr_sloppy, sloppy=True)\n",
      "/Users/dap5mb/opt/anaconda3/lib/python3.8/site-packages/optlang/interface.py:1479: DeprecationWarning: Deprecated, pass a TempConstr or use Model.addLConstr\n",
      "  self._add_constraints(add_constr_sloppy, sloppy=True)\n",
      "/Users/dap5mb/opt/anaconda3/lib/python3.8/site-packages/optlang/interface.py:1479: DeprecationWarning: Deprecated, pass a TempConstr or use Model.addLConstr\n",
      "  self._add_constraints(add_constr_sloppy, sloppy=True)\n",
      "/Users/dap5mb/opt/anaconda3/lib/python3.8/site-packages/optlang/interface.py:1479: DeprecationWarning: Deprecated, pass a TempConstr or use Model.addLConstr\n",
      "  self._add_constraints(add_constr_sloppy, sloppy=True)\n",
      "/Users/dap5mb/opt/anaconda3/lib/python3.8/site-packages/optlang/interface.py:1479: DeprecationWarning: Deprecated, pass a TempConstr or use Model.addLConstr\n",
      "  self._add_constraints(add_constr_sloppy, sloppy=True)\n",
      "/Users/dap5mb/opt/anaconda3/lib/python3.8/site-packages/optlang/interface.py:1479: DeprecationWarning: Deprecated, pass a TempConstr or use Model.addLConstr\n",
      "  self._add_constraints(add_constr_sloppy, sloppy=True)\n",
      "/Users/dap5mb/opt/anaconda3/lib/python3.8/site-packages/optlang/interface.py:1479: DeprecationWarning: Deprecated, pass a TempConstr or use Model.addLConstr\n",
      "  self._add_constraints(add_constr_sloppy, sloppy=True)\n",
      "/Users/dap5mb/opt/anaconda3/lib/python3.8/site-packages/optlang/interface.py:1479: DeprecationWarning: Deprecated, pass a TempConstr or use Model.addLConstr\n",
      "  self._add_constraints(add_constr_sloppy, sloppy=True)\n",
      "/Users/dap5mb/opt/anaconda3/lib/python3.8/site-packages/optlang/interface.py:1479: DeprecationWarning: Deprecated, pass a TempConstr or use Model.addLConstr\n",
      "  self._add_constraints(add_constr_sloppy, sloppy=True)\n",
      "/Users/dap5mb/opt/anaconda3/lib/python3.8/site-packages/optlang/interface.py:1479: DeprecationWarning: Deprecated, pass a TempConstr or use Model.addLConstr\n",
      "  self._add_constraints(add_constr_sloppy, sloppy=True)\n",
      "/Users/dap5mb/opt/anaconda3/lib/python3.8/site-packages/optlang/interface.py:1479: DeprecationWarning: Deprecated, pass a TempConstr or use Model.addLConstr\n",
      "  self._add_constraints(add_constr_sloppy, sloppy=True)\n"
     ]
    }
   ],
   "source": [
    "print(model.metabolites.get_by_id('cpd00207_c').name)\n",
    "guanine = pd.DataFrame()\n",
    "\n",
    "for x in condition_dict:\n",
    "    j = x.model.metabolites.cpd00207_c.summary().consuming_flux[['flux']].T\n",
    "    j = pd.concat([j, x.model.metabolites.cpd00207_c.summary().producing_flux[['flux']].T], axis=1)\n",
    "    j.insert(0, \"name\", condition_dict[x])\n",
    "    guanine = pd.concat([guanine,j])"
   ]
  },
  {
   "cell_type": "code",
   "execution_count": 101,
   "id": "d8488398-14bd-4c2f-9871-03c2c879e913",
   "metadata": {
    "collapsed": true,
    "jupyter": {
     "outputs_hidden": true
    },
    "tags": []
   },
   "outputs": [
    {
     "name": "stdout",
     "output_type": "stream",
     "text": [
      "Deoxyguanosine\n"
     ]
    },
    {
     "name": "stderr",
     "output_type": "stream",
     "text": [
      "/Users/dap5mb/opt/anaconda3/lib/python3.8/site-packages/optlang/interface.py:1479: DeprecationWarning: Deprecated, pass a TempConstr or use Model.addLConstr\n",
      "  self._add_constraints(add_constr_sloppy, sloppy=True)\n",
      "/Users/dap5mb/opt/anaconda3/lib/python3.8/site-packages/optlang/interface.py:1479: DeprecationWarning: Deprecated, pass a TempConstr or use Model.addLConstr\n",
      "  self._add_constraints(add_constr_sloppy, sloppy=True)\n",
      "/Users/dap5mb/opt/anaconda3/lib/python3.8/site-packages/optlang/interface.py:1479: DeprecationWarning: Deprecated, pass a TempConstr or use Model.addLConstr\n",
      "  self._add_constraints(add_constr_sloppy, sloppy=True)\n",
      "/Users/dap5mb/opt/anaconda3/lib/python3.8/site-packages/optlang/interface.py:1479: DeprecationWarning: Deprecated, pass a TempConstr or use Model.addLConstr\n",
      "  self._add_constraints(add_constr_sloppy, sloppy=True)\n",
      "/Users/dap5mb/opt/anaconda3/lib/python3.8/site-packages/optlang/interface.py:1479: DeprecationWarning: Deprecated, pass a TempConstr or use Model.addLConstr\n",
      "  self._add_constraints(add_constr_sloppy, sloppy=True)\n",
      "/Users/dap5mb/opt/anaconda3/lib/python3.8/site-packages/optlang/interface.py:1479: DeprecationWarning: Deprecated, pass a TempConstr or use Model.addLConstr\n",
      "  self._add_constraints(add_constr_sloppy, sloppy=True)\n",
      "/Users/dap5mb/opt/anaconda3/lib/python3.8/site-packages/optlang/interface.py:1479: DeprecationWarning: Deprecated, pass a TempConstr or use Model.addLConstr\n",
      "  self._add_constraints(add_constr_sloppy, sloppy=True)\n",
      "/Users/dap5mb/opt/anaconda3/lib/python3.8/site-packages/optlang/interface.py:1479: DeprecationWarning: Deprecated, pass a TempConstr or use Model.addLConstr\n",
      "  self._add_constraints(add_constr_sloppy, sloppy=True)\n",
      "/Users/dap5mb/opt/anaconda3/lib/python3.8/site-packages/optlang/interface.py:1479: DeprecationWarning: Deprecated, pass a TempConstr or use Model.addLConstr\n",
      "  self._add_constraints(add_constr_sloppy, sloppy=True)\n",
      "/Users/dap5mb/opt/anaconda3/lib/python3.8/site-packages/optlang/interface.py:1479: DeprecationWarning: Deprecated, pass a TempConstr or use Model.addLConstr\n",
      "  self._add_constraints(add_constr_sloppy, sloppy=True)\n",
      "/Users/dap5mb/opt/anaconda3/lib/python3.8/site-packages/optlang/interface.py:1479: DeprecationWarning: Deprecated, pass a TempConstr or use Model.addLConstr\n",
      "  self._add_constraints(add_constr_sloppy, sloppy=True)\n",
      "/Users/dap5mb/opt/anaconda3/lib/python3.8/site-packages/optlang/interface.py:1479: DeprecationWarning: Deprecated, pass a TempConstr or use Model.addLConstr\n",
      "  self._add_constraints(add_constr_sloppy, sloppy=True)\n",
      "/Users/dap5mb/opt/anaconda3/lib/python3.8/site-packages/optlang/interface.py:1479: DeprecationWarning: Deprecated, pass a TempConstr or use Model.addLConstr\n",
      "  self._add_constraints(add_constr_sloppy, sloppy=True)\n",
      "/Users/dap5mb/opt/anaconda3/lib/python3.8/site-packages/optlang/interface.py:1479: DeprecationWarning: Deprecated, pass a TempConstr or use Model.addLConstr\n",
      "  self._add_constraints(add_constr_sloppy, sloppy=True)\n",
      "/Users/dap5mb/opt/anaconda3/lib/python3.8/site-packages/optlang/interface.py:1479: DeprecationWarning: Deprecated, pass a TempConstr or use Model.addLConstr\n",
      "  self._add_constraints(add_constr_sloppy, sloppy=True)\n",
      "/Users/dap5mb/opt/anaconda3/lib/python3.8/site-packages/optlang/interface.py:1479: DeprecationWarning: Deprecated, pass a TempConstr or use Model.addLConstr\n",
      "  self._add_constraints(add_constr_sloppy, sloppy=True)\n",
      "/Users/dap5mb/opt/anaconda3/lib/python3.8/site-packages/optlang/interface.py:1479: DeprecationWarning: Deprecated, pass a TempConstr or use Model.addLConstr\n",
      "  self._add_constraints(add_constr_sloppy, sloppy=True)\n",
      "/Users/dap5mb/opt/anaconda3/lib/python3.8/site-packages/optlang/interface.py:1479: DeprecationWarning: Deprecated, pass a TempConstr or use Model.addLConstr\n",
      "  self._add_constraints(add_constr_sloppy, sloppy=True)\n",
      "/Users/dap5mb/opt/anaconda3/lib/python3.8/site-packages/optlang/interface.py:1479: DeprecationWarning: Deprecated, pass a TempConstr or use Model.addLConstr\n",
      "  self._add_constraints(add_constr_sloppy, sloppy=True)\n",
      "/Users/dap5mb/opt/anaconda3/lib/python3.8/site-packages/optlang/interface.py:1479: DeprecationWarning: Deprecated, pass a TempConstr or use Model.addLConstr\n",
      "  self._add_constraints(add_constr_sloppy, sloppy=True)\n",
      "/Users/dap5mb/opt/anaconda3/lib/python3.8/site-packages/optlang/interface.py:1479: DeprecationWarning: Deprecated, pass a TempConstr or use Model.addLConstr\n",
      "  self._add_constraints(add_constr_sloppy, sloppy=True)\n",
      "/Users/dap5mb/opt/anaconda3/lib/python3.8/site-packages/optlang/interface.py:1479: DeprecationWarning: Deprecated, pass a TempConstr or use Model.addLConstr\n",
      "  self._add_constraints(add_constr_sloppy, sloppy=True)\n",
      "/Users/dap5mb/opt/anaconda3/lib/python3.8/site-packages/optlang/interface.py:1479: DeprecationWarning: Deprecated, pass a TempConstr or use Model.addLConstr\n",
      "  self._add_constraints(add_constr_sloppy, sloppy=True)\n",
      "/Users/dap5mb/opt/anaconda3/lib/python3.8/site-packages/optlang/interface.py:1479: DeprecationWarning: Deprecated, pass a TempConstr or use Model.addLConstr\n",
      "  self._add_constraints(add_constr_sloppy, sloppy=True)\n",
      "/Users/dap5mb/opt/anaconda3/lib/python3.8/site-packages/optlang/interface.py:1479: DeprecationWarning: Deprecated, pass a TempConstr or use Model.addLConstr\n",
      "  self._add_constraints(add_constr_sloppy, sloppy=True)\n",
      "/Users/dap5mb/opt/anaconda3/lib/python3.8/site-packages/optlang/interface.py:1479: DeprecationWarning: Deprecated, pass a TempConstr or use Model.addLConstr\n",
      "  self._add_constraints(add_constr_sloppy, sloppy=True)\n",
      "/Users/dap5mb/opt/anaconda3/lib/python3.8/site-packages/optlang/interface.py:1479: DeprecationWarning: Deprecated, pass a TempConstr or use Model.addLConstr\n",
      "  self._add_constraints(add_constr_sloppy, sloppy=True)\n",
      "/Users/dap5mb/opt/anaconda3/lib/python3.8/site-packages/optlang/interface.py:1479: DeprecationWarning: Deprecated, pass a TempConstr or use Model.addLConstr\n",
      "  self._add_constraints(add_constr_sloppy, sloppy=True)\n",
      "/Users/dap5mb/opt/anaconda3/lib/python3.8/site-packages/optlang/interface.py:1479: DeprecationWarning: Deprecated, pass a TempConstr or use Model.addLConstr\n",
      "  self._add_constraints(add_constr_sloppy, sloppy=True)\n",
      "/Users/dap5mb/opt/anaconda3/lib/python3.8/site-packages/optlang/interface.py:1479: DeprecationWarning: Deprecated, pass a TempConstr or use Model.addLConstr\n",
      "  self._add_constraints(add_constr_sloppy, sloppy=True)\n",
      "/Users/dap5mb/opt/anaconda3/lib/python3.8/site-packages/optlang/interface.py:1479: DeprecationWarning: Deprecated, pass a TempConstr or use Model.addLConstr\n",
      "  self._add_constraints(add_constr_sloppy, sloppy=True)\n",
      "/Users/dap5mb/opt/anaconda3/lib/python3.8/site-packages/optlang/interface.py:1479: DeprecationWarning: Deprecated, pass a TempConstr or use Model.addLConstr\n",
      "  self._add_constraints(add_constr_sloppy, sloppy=True)\n"
     ]
    }
   ],
   "source": [
    "print(model.metabolites.get_by_id('cpd00277_c').name)\n",
    "deoxyguanosine = pd.DataFrame()\n",
    "\n",
    "for x in condition_dict:\n",
    "    j = x.model.metabolites.cpd00277_c.summary().consuming_flux[['flux']].T\n",
    "    j = pd.concat([j, x.model.metabolites.cpd00277_c.summary().producing_flux[['flux']].T], axis=1)\n",
    "    j.insert(0, \"name\", condition_dict[x])\n",
    "    deoxyguanosine = pd.concat([deoxyguanosine,j])"
   ]
  },
  {
   "cell_type": "code",
   "execution_count": 109,
   "id": "19ecbddc-7e03-4963-8c19-e2289c63ff21",
   "metadata": {},
   "outputs": [
    {
     "data": {
      "text/html": [
       "\n",
       "        <table>\n",
       "            <tr>\n",
       "                <td><strong>Reaction identifier</strong></td><td>EX_cpd00492_e</td>\n",
       "            </tr><tr>\n",
       "                <td><strong>Name</strong></td><td>N-Acetyl-D-mannosamine exchange</td>\n",
       "            </tr><tr>\n",
       "                <td><strong>Memory address</strong></td>\n",
       "                <td>0x07ff370398f40</td>\n",
       "            </tr><tr>\n",
       "                <td><strong>Stoichiometry</strong></td>\n",
       "                <td>\n",
       "                    <p style='text-align:right'>cpd00492_e <=></p>\n",
       "                    <p style='text-align:right'>N-Acetyl-D-mannosamine <=></p>\n",
       "                </td>\n",
       "            </tr><tr>\n",
       "                <td><strong>GPR</strong></td><td></td>\n",
       "            </tr><tr>\n",
       "                <td><strong>Lower bound</strong></td><td>-1000.0</td>\n",
       "            </tr><tr>\n",
       "                <td><strong>Upper bound</strong></td><td>1000.0</td>\n",
       "            </tr>\n",
       "        </table>\n",
       "        "
      ],
      "text/plain": [
       "<Reaction EX_cpd00492_e at 0x7ff370398f40>"
      ]
     },
     "execution_count": 109,
     "metadata": {},
     "output_type": "execute_result"
    }
   ],
   "source": [
    "model.reactions.get_by_id('EX_cpd00492_e')"
   ]
  },
  {
   "cell_type": "code",
   "execution_count": 110,
   "id": "65f68d01-03b7-465e-bfae-f76d83a74ae1",
   "metadata": {},
   "outputs": [
    {
     "data": {
      "text/plain": [
       "'N-Acetyl-D-mannosamine'"
      ]
     },
     "execution_count": 110,
     "metadata": {},
     "output_type": "execute_result"
    }
   ],
   "source": [
    "model.metabolites.cpd00492_e.name"
   ]
  },
  {
   "cell_type": "code",
   "execution_count": 111,
   "id": "2315e309-53f6-4938-ab72-3ac08f96518d",
   "metadata": {},
   "outputs": [],
   "source": [
    "ftdf = pd.DataFrame()"
   ]
  },
  {
   "cell_type": "code",
   "execution_count": 148,
   "id": "460287b6-530f-40d2-aad0-c53553f3ba80",
   "metadata": {
    "tags": []
   },
   "outputs": [
    {
     "data": {
      "text/html": [
       "\n",
       "        <table>\n",
       "            <tr>\n",
       "                <td><strong>Reaction identifier</strong></td><td>rxn00213_c</td>\n",
       "            </tr><tr>\n",
       "                <td><strong>Name</strong></td><td>UTP:alpha-D-glucose-1-phosphate uridylyltransferase</td>\n",
       "            </tr><tr>\n",
       "                <td><strong>Memory address</strong></td>\n",
       "                <td>0x07ff36ffd2a60</td>\n",
       "            </tr><tr>\n",
       "                <td><strong>Stoichiometry</strong></td>\n",
       "                <td>\n",
       "                    <p style='text-align:right'>cpd00062_c + cpd00089_c --> cpd00012_c + cpd00026_c</p>\n",
       "                    <p style='text-align:right'>UTP + Glucose-1-phosphate --> PPi + UDP-glucose</p>\n",
       "                </td>\n",
       "            </tr><tr>\n",
       "                <td><strong>GPR</strong></td><td>272563.8.peg.2840 or 272563.8.peg.3656</td>\n",
       "            </tr><tr>\n",
       "                <td><strong>Lower bound</strong></td><td>0.0</td>\n",
       "            </tr><tr>\n",
       "                <td><strong>Upper bound</strong></td><td>1000.0</td>\n",
       "            </tr>\n",
       "        </table>\n",
       "        "
      ],
      "text/plain": [
       "<Reaction rxn00213_c at 0x7ff36ffd2a60>"
      ]
     },
     "execution_count": 148,
     "metadata": {},
     "output_type": "execute_result"
    }
   ],
   "source": [
    "model.reactions.rxn00213_c"
   ]
  },
  {
   "cell_type": "code",
   "execution_count": 177,
   "id": "b42eb807-5a36-4e73-997b-1841611e2181",
   "metadata": {
    "collapsed": true,
    "jupyter": {
     "outputs_hidden": true
    },
    "tags": []
   },
   "outputs": [
    {
     "name": "stderr",
     "output_type": "stream",
     "text": [
      "/Users/dap5mb/opt/anaconda3/lib/python3.8/site-packages/optlang/interface.py:1479: DeprecationWarning: Deprecated, pass a TempConstr or use Model.addLConstr\n",
      "  self._add_constraints(add_constr_sloppy, sloppy=True)\n",
      "/Users/dap5mb/opt/anaconda3/lib/python3.8/site-packages/optlang/interface.py:1479: DeprecationWarning: Deprecated, pass a TempConstr or use Model.addLConstr\n",
      "  self._add_constraints(add_constr_sloppy, sloppy=True)\n",
      "/Users/dap5mb/opt/anaconda3/lib/python3.8/site-packages/optlang/interface.py:1479: DeprecationWarning: Deprecated, pass a TempConstr or use Model.addLConstr\n",
      "  self._add_constraints(add_constr_sloppy, sloppy=True)\n",
      "/Users/dap5mb/opt/anaconda3/lib/python3.8/site-packages/optlang/interface.py:1479: DeprecationWarning: Deprecated, pass a TempConstr or use Model.addLConstr\n",
      "  self._add_constraints(add_constr_sloppy, sloppy=True)\n",
      "/Users/dap5mb/opt/anaconda3/lib/python3.8/site-packages/optlang/interface.py:1479: DeprecationWarning: Deprecated, pass a TempConstr or use Model.addLConstr\n",
      "  self._add_constraints(add_constr_sloppy, sloppy=True)\n",
      "/Users/dap5mb/opt/anaconda3/lib/python3.8/site-packages/optlang/interface.py:1479: DeprecationWarning: Deprecated, pass a TempConstr or use Model.addLConstr\n",
      "  self._add_constraints(add_constr_sloppy, sloppy=True)\n",
      "/Users/dap5mb/opt/anaconda3/lib/python3.8/site-packages/optlang/interface.py:1479: DeprecationWarning: Deprecated, pass a TempConstr or use Model.addLConstr\n",
      "  self._add_constraints(add_constr_sloppy, sloppy=True)\n",
      "/Users/dap5mb/opt/anaconda3/lib/python3.8/site-packages/optlang/interface.py:1479: DeprecationWarning: Deprecated, pass a TempConstr or use Model.addLConstr\n",
      "  self._add_constraints(add_constr_sloppy, sloppy=True)\n",
      "/Users/dap5mb/opt/anaconda3/lib/python3.8/site-packages/optlang/interface.py:1479: DeprecationWarning: Deprecated, pass a TempConstr or use Model.addLConstr\n",
      "  self._add_constraints(add_constr_sloppy, sloppy=True)\n",
      "/Users/dap5mb/opt/anaconda3/lib/python3.8/site-packages/optlang/interface.py:1479: DeprecationWarning: Deprecated, pass a TempConstr or use Model.addLConstr\n",
      "  self._add_constraints(add_constr_sloppy, sloppy=True)\n",
      "/Users/dap5mb/opt/anaconda3/lib/python3.8/site-packages/optlang/interface.py:1479: DeprecationWarning: Deprecated, pass a TempConstr or use Model.addLConstr\n",
      "  self._add_constraints(add_constr_sloppy, sloppy=True)\n",
      "/Users/dap5mb/opt/anaconda3/lib/python3.8/site-packages/optlang/interface.py:1479: DeprecationWarning: Deprecated, pass a TempConstr or use Model.addLConstr\n",
      "  self._add_constraints(add_constr_sloppy, sloppy=True)\n",
      "/Users/dap5mb/opt/anaconda3/lib/python3.8/site-packages/optlang/interface.py:1479: DeprecationWarning: Deprecated, pass a TempConstr or use Model.addLConstr\n",
      "  self._add_constraints(add_constr_sloppy, sloppy=True)\n",
      "/Users/dap5mb/opt/anaconda3/lib/python3.8/site-packages/optlang/interface.py:1479: DeprecationWarning: Deprecated, pass a TempConstr or use Model.addLConstr\n",
      "  self._add_constraints(add_constr_sloppy, sloppy=True)\n",
      "/Users/dap5mb/opt/anaconda3/lib/python3.8/site-packages/optlang/interface.py:1479: DeprecationWarning: Deprecated, pass a TempConstr or use Model.addLConstr\n",
      "  self._add_constraints(add_constr_sloppy, sloppy=True)\n",
      "/Users/dap5mb/opt/anaconda3/lib/python3.8/site-packages/optlang/interface.py:1479: DeprecationWarning: Deprecated, pass a TempConstr or use Model.addLConstr\n",
      "  self._add_constraints(add_constr_sloppy, sloppy=True)\n",
      "/Users/dap5mb/opt/anaconda3/lib/python3.8/site-packages/optlang/interface.py:1479: DeprecationWarning: Deprecated, pass a TempConstr or use Model.addLConstr\n",
      "  self._add_constraints(add_constr_sloppy, sloppy=True)\n",
      "/Users/dap5mb/opt/anaconda3/lib/python3.8/site-packages/optlang/interface.py:1479: DeprecationWarning: Deprecated, pass a TempConstr or use Model.addLConstr\n",
      "  self._add_constraints(add_constr_sloppy, sloppy=True)\n",
      "/Users/dap5mb/opt/anaconda3/lib/python3.8/site-packages/optlang/interface.py:1479: DeprecationWarning: Deprecated, pass a TempConstr or use Model.addLConstr\n",
      "  self._add_constraints(add_constr_sloppy, sloppy=True)\n",
      "/Users/dap5mb/opt/anaconda3/lib/python3.8/site-packages/optlang/interface.py:1479: DeprecationWarning: Deprecated, pass a TempConstr or use Model.addLConstr\n",
      "  self._add_constraints(add_constr_sloppy, sloppy=True)\n",
      "/Users/dap5mb/opt/anaconda3/lib/python3.8/site-packages/optlang/interface.py:1479: DeprecationWarning: Deprecated, pass a TempConstr or use Model.addLConstr\n",
      "  self._add_constraints(add_constr_sloppy, sloppy=True)\n",
      "/Users/dap5mb/opt/anaconda3/lib/python3.8/site-packages/optlang/interface.py:1479: DeprecationWarning: Deprecated, pass a TempConstr or use Model.addLConstr\n",
      "  self._add_constraints(add_constr_sloppy, sloppy=True)\n",
      "/Users/dap5mb/opt/anaconda3/lib/python3.8/site-packages/optlang/interface.py:1479: DeprecationWarning: Deprecated, pass a TempConstr or use Model.addLConstr\n",
      "  self._add_constraints(add_constr_sloppy, sloppy=True)\n",
      "/Users/dap5mb/opt/anaconda3/lib/python3.8/site-packages/optlang/interface.py:1479: DeprecationWarning: Deprecated, pass a TempConstr or use Model.addLConstr\n",
      "  self._add_constraints(add_constr_sloppy, sloppy=True)\n",
      "/Users/dap5mb/opt/anaconda3/lib/python3.8/site-packages/optlang/interface.py:1479: DeprecationWarning: Deprecated, pass a TempConstr or use Model.addLConstr\n",
      "  self._add_constraints(add_constr_sloppy, sloppy=True)\n",
      "/Users/dap5mb/opt/anaconda3/lib/python3.8/site-packages/optlang/interface.py:1479: DeprecationWarning: Deprecated, pass a TempConstr or use Model.addLConstr\n",
      "  self._add_constraints(add_constr_sloppy, sloppy=True)\n",
      "/Users/dap5mb/opt/anaconda3/lib/python3.8/site-packages/optlang/interface.py:1479: DeprecationWarning: Deprecated, pass a TempConstr or use Model.addLConstr\n",
      "  self._add_constraints(add_constr_sloppy, sloppy=True)\n",
      "/Users/dap5mb/opt/anaconda3/lib/python3.8/site-packages/optlang/interface.py:1479: DeprecationWarning: Deprecated, pass a TempConstr or use Model.addLConstr\n",
      "  self._add_constraints(add_constr_sloppy, sloppy=True)\n",
      "/Users/dap5mb/opt/anaconda3/lib/python3.8/site-packages/optlang/interface.py:1479: DeprecationWarning: Deprecated, pass a TempConstr or use Model.addLConstr\n",
      "  self._add_constraints(add_constr_sloppy, sloppy=True)\n",
      "/Users/dap5mb/opt/anaconda3/lib/python3.8/site-packages/optlang/interface.py:1479: DeprecationWarning: Deprecated, pass a TempConstr or use Model.addLConstr\n",
      "  self._add_constraints(add_constr_sloppy, sloppy=True)\n",
      "/Users/dap5mb/opt/anaconda3/lib/python3.8/site-packages/optlang/interface.py:1479: DeprecationWarning: Deprecated, pass a TempConstr or use Model.addLConstr\n",
      "  self._add_constraints(add_constr_sloppy, sloppy=True)\n",
      "/Users/dap5mb/opt/anaconda3/lib/python3.8/site-packages/optlang/interface.py:1479: DeprecationWarning: Deprecated, pass a TempConstr or use Model.addLConstr\n",
      "  self._add_constraints(add_constr_sloppy, sloppy=True)\n"
     ]
    }
   ],
   "source": [
    "metab = 'cpd00041_c'\n",
    "for x in condition_dict:\n",
    "    try:\n",
    "        j = x.model.metabolites.get_by_id(metab).summary().consuming_flux[['flux']].T;\n",
    "        j = pd.concat([j, x.model.metabolites.get_by_id(metab).summary().producing_flux[['flux']].T], axis=1);\n",
    "        j.insert(0, \"metabolite\", metab)\n",
    "        j.insert(0, \"metabolite_name\", model.metabolites.get_by_id(metab).name)\n",
    "        j.insert(0, \"model\", condition_dict[x])\n",
    "        ftdf = pd.concat([ftdf,j])\n",
    "    except AttributeError:\n",
    "        print(\"metabolite pruned out of %s RIPTiDe model\" %condition_dict[x])\n",
    "    "
   ]
  },
  {
   "cell_type": "code",
   "execution_count": 179,
   "id": "ba7f8e09-6965-4dd9-9ff3-b52c3edbdf11",
   "metadata": {
    "tags": []
   },
   "outputs": [
    {
     "data": {
      "text/html": [
       "<div>\n",
       "<style scoped>\n",
       "    .dataframe tbody tr th:only-of-type {\n",
       "        vertical-align: middle;\n",
       "    }\n",
       "\n",
       "    .dataframe tbody tr th {\n",
       "        vertical-align: top;\n",
       "    }\n",
       "\n",
       "    .dataframe thead th {\n",
       "        text-align: right;\n",
       "    }\n",
       "</style>\n",
       "<table border=\"1\" class=\"dataframe\">\n",
       "  <thead>\n",
       "    <tr style=\"text-align: right;\">\n",
       "      <th></th>\n",
       "      <th>model</th>\n",
       "      <th>metabolite_name</th>\n",
       "      <th>metabolite</th>\n",
       "      <th>rxn00085_c</th>\n",
       "      <th>rxn00182_c</th>\n",
       "      <th>R01214_c</th>\n",
       "      <th>rxn00260_c</th>\n",
       "      <th>rxn00493_c</th>\n",
       "      <th>rxn00527_c</th>\n",
       "      <th>rxn01575_c</th>\n",
       "      <th>rxn02339_c</th>\n",
       "      <th>rxn21134_c</th>\n",
       "      <th>rxn30075_c</th>\n",
       "      <th>rxn00806_c</th>\n",
       "    </tr>\n",
       "  </thead>\n",
       "  <tbody>\n",
       "    <tr>\n",
       "      <th>flux</th>\n",
       "      <td>High Iron</td>\n",
       "      <td>2-Oxoglutarate</td>\n",
       "      <td>cpd00024_c</td>\n",
       "      <td>1000.000000</td>\n",
       "      <td>212.860503</td>\n",
       "      <td>0.000000</td>\n",
       "      <td>-2.404626</td>\n",
       "      <td>0.0</td>\n",
       "      <td>-235.020056</td>\n",
       "      <td>-975.435821</td>\n",
       "      <td>0.0</td>\n",
       "      <td>0.0</td>\n",
       "      <td>NaN</td>\n",
       "      <td>NaN</td>\n",
       "    </tr>\n",
       "    <tr>\n",
       "      <th>flux</th>\n",
       "      <td>Low Iron</td>\n",
       "      <td>2-Oxoglutarate</td>\n",
       "      <td>cpd00024_c</td>\n",
       "      <td>1000.000000</td>\n",
       "      <td>NaN</td>\n",
       "      <td>0.000000</td>\n",
       "      <td>-2.232082</td>\n",
       "      <td>0.0</td>\n",
       "      <td>-20.569498</td>\n",
       "      <td>-977.198420</td>\n",
       "      <td>0.0</td>\n",
       "      <td>0.0</td>\n",
       "      <td>NaN</td>\n",
       "      <td>NaN</td>\n",
       "    </tr>\n",
       "    <tr>\n",
       "      <th>flux</th>\n",
       "      <td>BHIS-1</td>\n",
       "      <td>2-Oxoglutarate</td>\n",
       "      <td>cpd00024_c</td>\n",
       "      <td>978.764324</td>\n",
       "      <td>NaN</td>\n",
       "      <td>0.000000</td>\n",
       "      <td>-2.304372</td>\n",
       "      <td>0.0</td>\n",
       "      <td>0.000000</td>\n",
       "      <td>-976.459952</td>\n",
       "      <td>0.0</td>\n",
       "      <td>0.0</td>\n",
       "      <td>NaN</td>\n",
       "      <td>NaN</td>\n",
       "    </tr>\n",
       "    <tr>\n",
       "      <th>flux</th>\n",
       "      <td>BHIS - Microaerobic</td>\n",
       "      <td>2-Oxoglutarate</td>\n",
       "      <td>cpd00024_c</td>\n",
       "      <td>1000.000000</td>\n",
       "      <td>NaN</td>\n",
       "      <td>0.000000</td>\n",
       "      <td>-2.289076</td>\n",
       "      <td>0.0</td>\n",
       "      <td>-34.209010</td>\n",
       "      <td>-963.501914</td>\n",
       "      <td>0.0</td>\n",
       "      <td>0.0</td>\n",
       "      <td>NaN</td>\n",
       "      <td>NaN</td>\n",
       "    </tr>\n",
       "    <tr>\n",
       "      <th>flux</th>\n",
       "      <td>BHIS-2</td>\n",
       "      <td>2-Oxoglutarate</td>\n",
       "      <td>cpd00024_c</td>\n",
       "      <td>1000.000000</td>\n",
       "      <td>NaN</td>\n",
       "      <td>-20.896825</td>\n",
       "      <td>-2.267602</td>\n",
       "      <td>NaN</td>\n",
       "      <td>NaN</td>\n",
       "      <td>-976.835573</td>\n",
       "      <td>0.0</td>\n",
       "      <td>0.0</td>\n",
       "      <td>NaN</td>\n",
       "      <td>NaN</td>\n",
       "    </tr>\n",
       "    <tr>\n",
       "      <th>flux</th>\n",
       "      <td>BHIS + 120uM Deoxycholate</td>\n",
       "      <td>2-Oxoglutarate</td>\n",
       "      <td>cpd00024_c</td>\n",
       "      <td>1000.000000</td>\n",
       "      <td>NaN</td>\n",
       "      <td>0.000000</td>\n",
       "      <td>-25.212559</td>\n",
       "      <td>NaN</td>\n",
       "      <td>NaN</td>\n",
       "      <td>-974.787441</td>\n",
       "      <td>0.0</td>\n",
       "      <td>0.0</td>\n",
       "      <td>NaN</td>\n",
       "      <td>NaN</td>\n",
       "    </tr>\n",
       "    <tr>\n",
       "      <th>flux</th>\n",
       "      <td>BHIS + 240uM Deoxycholate</td>\n",
       "      <td>2-Oxoglutarate</td>\n",
       "      <td>cpd00024_c</td>\n",
       "      <td>1000.000000</td>\n",
       "      <td>NaN</td>\n",
       "      <td>0.000000</td>\n",
       "      <td>-25.058751</td>\n",
       "      <td>NaN</td>\n",
       "      <td>NaN</td>\n",
       "      <td>-974.941249</td>\n",
       "      <td>0.0</td>\n",
       "      <td>0.0</td>\n",
       "      <td>NaN</td>\n",
       "      <td>NaN</td>\n",
       "    </tr>\n",
       "    <tr>\n",
       "      <th>flux</th>\n",
       "      <td>TY</td>\n",
       "      <td>2-Oxoglutarate</td>\n",
       "      <td>cpd00024_c</td>\n",
       "      <td>1000.000000</td>\n",
       "      <td>-1000.000000</td>\n",
       "      <td>0.000000</td>\n",
       "      <td>990.774685</td>\n",
       "      <td>0.0</td>\n",
       "      <td>0.000000</td>\n",
       "      <td>-490.774685</td>\n",
       "      <td>0.0</td>\n",
       "      <td>0.0</td>\n",
       "      <td>0.0</td>\n",
       "      <td>-500.000000</td>\n",
       "    </tr>\n",
       "    <tr>\n",
       "      <th>flux</th>\n",
       "      <td>TY + Cysteine</td>\n",
       "      <td>2-Oxoglutarate</td>\n",
       "      <td>cpd00024_c</td>\n",
       "      <td>1000.000000</td>\n",
       "      <td>-307.991546</td>\n",
       "      <td>0.000000</td>\n",
       "      <td>779.631647</td>\n",
       "      <td>0.0</td>\n",
       "      <td>0.000000</td>\n",
       "      <td>-971.640101</td>\n",
       "      <td>0.0</td>\n",
       "      <td>0.0</td>\n",
       "      <td>0.0</td>\n",
       "      <td>-500.000000</td>\n",
       "    </tr>\n",
       "    <tr>\n",
       "      <th>flux</th>\n",
       "      <td>DMSO-1</td>\n",
       "      <td>2-Oxoglutarate</td>\n",
       "      <td>cpd00024_c</td>\n",
       "      <td>1000.000000</td>\n",
       "      <td>-596.830803</td>\n",
       "      <td>0.000000</td>\n",
       "      <td>1000.000000</td>\n",
       "      <td>0.0</td>\n",
       "      <td>0.000000</td>\n",
       "      <td>-969.740635</td>\n",
       "      <td>0.0</td>\n",
       "      <td>0.0</td>\n",
       "      <td>0.0</td>\n",
       "      <td>-433.428562</td>\n",
       "    </tr>\n",
       "    <tr>\n",
       "      <th>flux</th>\n",
       "      <td>Deoxycholate</td>\n",
       "      <td>2-Oxoglutarate</td>\n",
       "      <td>cpd00024_c</td>\n",
       "      <td>1000.000000</td>\n",
       "      <td>-513.547976</td>\n",
       "      <td>0.000000</td>\n",
       "      <td>748.093204</td>\n",
       "      <td>0.0</td>\n",
       "      <td>-396.453226</td>\n",
       "      <td>-734.545227</td>\n",
       "      <td>0.0</td>\n",
       "      <td>0.0</td>\n",
       "      <td>0.0</td>\n",
       "      <td>-103.546774</td>\n",
       "    </tr>\n",
       "    <tr>\n",
       "      <th>flux</th>\n",
       "      <td>Cholate</td>\n",
       "      <td>2-Oxoglutarate</td>\n",
       "      <td>cpd00024_c</td>\n",
       "      <td>1000.000000</td>\n",
       "      <td>-529.345826</td>\n",
       "      <td>0.000000</td>\n",
       "      <td>867.643906</td>\n",
       "      <td>0.0</td>\n",
       "      <td>0.000000</td>\n",
       "      <td>-838.298080</td>\n",
       "      <td>0.0</td>\n",
       "      <td>0.0</td>\n",
       "      <td>0.0</td>\n",
       "      <td>-500.000000</td>\n",
       "    </tr>\n",
       "    <tr>\n",
       "      <th>flux</th>\n",
       "      <td>DMSO-2</td>\n",
       "      <td>2-Oxoglutarate</td>\n",
       "      <td>cpd00024_c</td>\n",
       "      <td>1000.000000</td>\n",
       "      <td>-1000.000000</td>\n",
       "      <td>0.000000</td>\n",
       "      <td>890.650455</td>\n",
       "      <td>NaN</td>\n",
       "      <td>NaN</td>\n",
       "      <td>-890.650455</td>\n",
       "      <td>0.0</td>\n",
       "      <td>0.0</td>\n",
       "      <td>0.0</td>\n",
       "      <td>NaN</td>\n",
       "    </tr>\n",
       "    <tr>\n",
       "      <th>flux</th>\n",
       "      <td>Enoxolone</td>\n",
       "      <td>2-Oxoglutarate</td>\n",
       "      <td>cpd00024_c</td>\n",
       "      <td>967.446536</td>\n",
       "      <td>-1000.000000</td>\n",
       "      <td>0.000000</td>\n",
       "      <td>1000.000000</td>\n",
       "      <td>NaN</td>\n",
       "      <td>NaN</td>\n",
       "      <td>-967.446536</td>\n",
       "      <td>0.0</td>\n",
       "      <td>0.0</td>\n",
       "      <td>0.0</td>\n",
       "      <td>NaN</td>\n",
       "    </tr>\n",
       "    <tr>\n",
       "      <th>flux</th>\n",
       "      <td>BHIS-3</td>\n",
       "      <td>2-Oxoglutarate</td>\n",
       "      <td>cpd00024_c</td>\n",
       "      <td>1000.000000</td>\n",
       "      <td>-579.750680</td>\n",
       "      <td>0.000000</td>\n",
       "      <td>620.922185</td>\n",
       "      <td>0.0</td>\n",
       "      <td>0.000000</td>\n",
       "      <td>-972.256507</td>\n",
       "      <td>0.0</td>\n",
       "      <td>0.0</td>\n",
       "      <td>0.0</td>\n",
       "      <td>-68.914998</td>\n",
       "    </tr>\n",
       "    <tr>\n",
       "      <th>flux</th>\n",
       "      <td>BHIS + Calprotectin</td>\n",
       "      <td>2-Oxoglutarate</td>\n",
       "      <td>cpd00024_c</td>\n",
       "      <td>940.448730</td>\n",
       "      <td>-687.586085</td>\n",
       "      <td>0.000000</td>\n",
       "      <td>999.857337</td>\n",
       "      <td>0.0</td>\n",
       "      <td>0.000000</td>\n",
       "      <td>-971.581437</td>\n",
       "      <td>0.0</td>\n",
       "      <td>0.0</td>\n",
       "      <td>0.0</td>\n",
       "      <td>-281.138544</td>\n",
       "    </tr>\n",
       "  </tbody>\n",
       "</table>\n",
       "</div>"
      ],
      "text/plain": [
       "                          model metabolite_name  metabolite   rxn00085_c  \\\n",
       "flux                  High Iron  2-Oxoglutarate  cpd00024_c  1000.000000   \n",
       "flux                   Low Iron  2-Oxoglutarate  cpd00024_c  1000.000000   \n",
       "flux                     BHIS-1  2-Oxoglutarate  cpd00024_c   978.764324   \n",
       "flux        BHIS - Microaerobic  2-Oxoglutarate  cpd00024_c  1000.000000   \n",
       "flux                     BHIS-2  2-Oxoglutarate  cpd00024_c  1000.000000   \n",
       "flux  BHIS + 120uM Deoxycholate  2-Oxoglutarate  cpd00024_c  1000.000000   \n",
       "flux  BHIS + 240uM Deoxycholate  2-Oxoglutarate  cpd00024_c  1000.000000   \n",
       "flux                         TY  2-Oxoglutarate  cpd00024_c  1000.000000   \n",
       "flux              TY + Cysteine  2-Oxoglutarate  cpd00024_c  1000.000000   \n",
       "flux                     DMSO-1  2-Oxoglutarate  cpd00024_c  1000.000000   \n",
       "flux               Deoxycholate  2-Oxoglutarate  cpd00024_c  1000.000000   \n",
       "flux                    Cholate  2-Oxoglutarate  cpd00024_c  1000.000000   \n",
       "flux                     DMSO-2  2-Oxoglutarate  cpd00024_c  1000.000000   \n",
       "flux                  Enoxolone  2-Oxoglutarate  cpd00024_c   967.446536   \n",
       "flux                     BHIS-3  2-Oxoglutarate  cpd00024_c  1000.000000   \n",
       "flux        BHIS + Calprotectin  2-Oxoglutarate  cpd00024_c   940.448730   \n",
       "\n",
       "       rxn00182_c   R01214_c   rxn00260_c  rxn00493_c  rxn00527_c  rxn01575_c  \\\n",
       "flux   212.860503   0.000000    -2.404626         0.0 -235.020056 -975.435821   \n",
       "flux          NaN   0.000000    -2.232082         0.0  -20.569498 -977.198420   \n",
       "flux          NaN   0.000000    -2.304372         0.0    0.000000 -976.459952   \n",
       "flux          NaN   0.000000    -2.289076         0.0  -34.209010 -963.501914   \n",
       "flux          NaN -20.896825    -2.267602         NaN         NaN -976.835573   \n",
       "flux          NaN   0.000000   -25.212559         NaN         NaN -974.787441   \n",
       "flux          NaN   0.000000   -25.058751         NaN         NaN -974.941249   \n",
       "flux -1000.000000   0.000000   990.774685         0.0    0.000000 -490.774685   \n",
       "flux  -307.991546   0.000000   779.631647         0.0    0.000000 -971.640101   \n",
       "flux  -596.830803   0.000000  1000.000000         0.0    0.000000 -969.740635   \n",
       "flux  -513.547976   0.000000   748.093204         0.0 -396.453226 -734.545227   \n",
       "flux  -529.345826   0.000000   867.643906         0.0    0.000000 -838.298080   \n",
       "flux -1000.000000   0.000000   890.650455         NaN         NaN -890.650455   \n",
       "flux -1000.000000   0.000000  1000.000000         NaN         NaN -967.446536   \n",
       "flux  -579.750680   0.000000   620.922185         0.0    0.000000 -972.256507   \n",
       "flux  -687.586085   0.000000   999.857337         0.0    0.000000 -971.581437   \n",
       "\n",
       "      rxn02339_c  rxn21134_c  rxn30075_c  rxn00806_c  \n",
       "flux         0.0         0.0         NaN         NaN  \n",
       "flux         0.0         0.0         NaN         NaN  \n",
       "flux         0.0         0.0         NaN         NaN  \n",
       "flux         0.0         0.0         NaN         NaN  \n",
       "flux         0.0         0.0         NaN         NaN  \n",
       "flux         0.0         0.0         NaN         NaN  \n",
       "flux         0.0         0.0         NaN         NaN  \n",
       "flux         0.0         0.0         0.0 -500.000000  \n",
       "flux         0.0         0.0         0.0 -500.000000  \n",
       "flux         0.0         0.0         0.0 -433.428562  \n",
       "flux         0.0         0.0         0.0 -103.546774  \n",
       "flux         0.0         0.0         0.0 -500.000000  \n",
       "flux         0.0         0.0         0.0         NaN  \n",
       "flux         0.0         0.0         0.0         NaN  \n",
       "flux         0.0         0.0         0.0  -68.914998  \n",
       "flux         0.0         0.0         0.0 -281.138544  "
      ]
     },
     "execution_count": 179,
     "metadata": {},
     "output_type": "execute_result"
    }
   ],
   "source": [
    "ftdf.loc[ftdf['metabolite']=='cpd00024_c'].dropna(axis=1, how='all')"
   ]
  },
  {
   "cell_type": "code",
   "execution_count": 130,
   "id": "1b1abf62-6fc0-4d59-a0c9-0f42cf9dfa6b",
   "metadata": {
    "collapsed": true,
    "jupyter": {
     "outputs_hidden": true
    },
    "tags": []
   },
   "outputs": [
    {
     "data": {
      "text/html": [
       "<div>\n",
       "<style scoped>\n",
       "    .dataframe tbody tr th:only-of-type {\n",
       "        vertical-align: middle;\n",
       "    }\n",
       "\n",
       "    .dataframe tbody tr th {\n",
       "        vertical-align: top;\n",
       "    }\n",
       "\n",
       "    .dataframe thead th {\n",
       "        text-align: right;\n",
       "    }\n",
       "</style>\n",
       "<table border=\"1\" class=\"dataframe\">\n",
       "  <thead>\n",
       "    <tr style=\"text-align: right;\">\n",
       "      <th></th>\n",
       "      <th>rxn00292_c</th>\n",
       "      <th>rxn00293_c</th>\n",
       "      <th>rxn00461_c</th>\n",
       "      <th>rxn03408_c</th>\n",
       "      <th>rxn03933_c</th>\n",
       "      <th>rxn08040_c</th>\n",
       "      <th>rxn00297_c</th>\n",
       "      <th>rxn09341_c</th>\n",
       "    </tr>\n",
       "  </thead>\n",
       "  <tbody>\n",
       "    <tr>\n",
       "      <th>flux</th>\n",
       "      <td>0.000000</td>\n",
       "      <td>-443.593330</td>\n",
       "      <td>-73.988491</td>\n",
       "      <td>-36.994246</td>\n",
       "      <td>-36.994246</td>\n",
       "      <td>-1.233142</td>\n",
       "      <td>74.142634</td>\n",
       "      <td>518.660820</td>\n",
       "    </tr>\n",
       "    <tr>\n",
       "      <th>flux</th>\n",
       "      <td>0.000000</td>\n",
       "      <td>-555.492301</td>\n",
       "      <td>-68.679459</td>\n",
       "      <td>-34.339730</td>\n",
       "      <td>-34.339730</td>\n",
       "      <td>-1.144658</td>\n",
       "      <td>212.677391</td>\n",
       "      <td>481.318485</td>\n",
       "    </tr>\n",
       "    <tr>\n",
       "      <th>flux</th>\n",
       "      <td>NaN</td>\n",
       "      <td>-424.951302</td>\n",
       "      <td>-70.903760</td>\n",
       "      <td>-35.451880</td>\n",
       "      <td>-35.451880</td>\n",
       "      <td>-1.181729</td>\n",
       "      <td>NaN</td>\n",
       "      <td>567.940551</td>\n",
       "    </tr>\n",
       "    <tr>\n",
       "      <th>flux</th>\n",
       "      <td>NaN</td>\n",
       "      <td>-422.130588</td>\n",
       "      <td>-70.433119</td>\n",
       "      <td>-35.216560</td>\n",
       "      <td>-35.216560</td>\n",
       "      <td>-1.173885</td>\n",
       "      <td>NaN</td>\n",
       "      <td>564.170712</td>\n",
       "    </tr>\n",
       "    <tr>\n",
       "      <th>flux</th>\n",
       "      <td>0.000000</td>\n",
       "      <td>-564.459894</td>\n",
       "      <td>-69.772371</td>\n",
       "      <td>-34.886186</td>\n",
       "      <td>-34.886186</td>\n",
       "      <td>-1.162873</td>\n",
       "      <td>216.061776</td>\n",
       "      <td>489.105734</td>\n",
       "    </tr>\n",
       "    <tr>\n",
       "      <th>flux</th>\n",
       "      <td>0.000000</td>\n",
       "      <td>-455.302124</td>\n",
       "      <td>-75.941442</td>\n",
       "      <td>-37.970721</td>\n",
       "      <td>-37.970721</td>\n",
       "      <td>-1.265691</td>\n",
       "      <td>76.099653</td>\n",
       "      <td>532.351045</td>\n",
       "    </tr>\n",
       "    <tr>\n",
       "      <th>flux</th>\n",
       "      <td>0.000000</td>\n",
       "      <td>-452.367328</td>\n",
       "      <td>-75.478165</td>\n",
       "      <td>-37.739082</td>\n",
       "      <td>-37.739082</td>\n",
       "      <td>-1.257969</td>\n",
       "      <td>75.478165</td>\n",
       "      <td>529.103463</td>\n",
       "    </tr>\n",
       "    <tr>\n",
       "      <th>flux</th>\n",
       "      <td>265.745571</td>\n",
       "      <td>0.000000</td>\n",
       "      <td>-85.357250</td>\n",
       "      <td>-42.678625</td>\n",
       "      <td>-42.678625</td>\n",
       "      <td>-1.422621</td>\n",
       "      <td>-1.422621</td>\n",
       "      <td>-92.185830</td>\n",
       "    </tr>\n",
       "    <tr>\n",
       "      <th>flux</th>\n",
       "      <td>60.590506</td>\n",
       "      <td>0.000000</td>\n",
       "      <td>-85.421384</td>\n",
       "      <td>-42.710692</td>\n",
       "      <td>-42.710692</td>\n",
       "      <td>-1.423690</td>\n",
       "      <td>-1.423690</td>\n",
       "      <td>113.099640</td>\n",
       "    </tr>\n",
       "    <tr>\n",
       "      <th>flux</th>\n",
       "      <td>100.470365</td>\n",
       "      <td>0.000000</td>\n",
       "      <td>-91.142665</td>\n",
       "      <td>-45.571333</td>\n",
       "      <td>-45.571333</td>\n",
       "      <td>-1.519044</td>\n",
       "      <td>-1.519044</td>\n",
       "      <td>84.853054</td>\n",
       "    </tr>\n",
       "    <tr>\n",
       "      <th>flux</th>\n",
       "      <td>280.975644</td>\n",
       "      <td>0.000000</td>\n",
       "      <td>-90.249136</td>\n",
       "      <td>-45.124568</td>\n",
       "      <td>-45.124568</td>\n",
       "      <td>-1.504152</td>\n",
       "      <td>-1.504152</td>\n",
       "      <td>-97.469067</td>\n",
       "    </tr>\n",
       "    <tr>\n",
       "      <th>flux</th>\n",
       "      <td>281.826408</td>\n",
       "      <td>NaN</td>\n",
       "      <td>-90.522401</td>\n",
       "      <td>-45.261200</td>\n",
       "      <td>-45.261200</td>\n",
       "      <td>-1.508707</td>\n",
       "      <td>-1.508707</td>\n",
       "      <td>-97.764193</td>\n",
       "    </tr>\n",
       "    <tr>\n",
       "      <th>flux</th>\n",
       "      <td>0.000000</td>\n",
       "      <td>57.777593</td>\n",
       "      <td>-81.455696</td>\n",
       "      <td>-40.727848</td>\n",
       "      <td>-40.727848</td>\n",
       "      <td>-1.357595</td>\n",
       "      <td>-1.357595</td>\n",
       "      <td>107.848990</td>\n",
       "    </tr>\n",
       "    <tr>\n",
       "      <th>flux</th>\n",
       "      <td>0.000000</td>\n",
       "      <td>58.278459</td>\n",
       "      <td>-82.161826</td>\n",
       "      <td>-41.080913</td>\n",
       "      <td>-41.080913</td>\n",
       "      <td>-1.369364</td>\n",
       "      <td>-1.369364</td>\n",
       "      <td>108.783920</td>\n",
       "    </tr>\n",
       "    <tr>\n",
       "      <th>flux</th>\n",
       "      <td>0.000000</td>\n",
       "      <td>59.273564</td>\n",
       "      <td>-83.564739</td>\n",
       "      <td>-41.782369</td>\n",
       "      <td>-41.782369</td>\n",
       "      <td>-1.392746</td>\n",
       "      <td>-1.392746</td>\n",
       "      <td>110.641405</td>\n",
       "    </tr>\n",
       "    <tr>\n",
       "      <th>flux</th>\n",
       "      <td>0.000000</td>\n",
       "      <td>60.715840</td>\n",
       "      <td>-85.598080</td>\n",
       "      <td>-42.799040</td>\n",
       "      <td>-42.799040</td>\n",
       "      <td>-1.426635</td>\n",
       "      <td>-1.426635</td>\n",
       "      <td>113.333590</td>\n",
       "    </tr>\n",
       "  </tbody>\n",
       "</table>\n",
       "</div>"
      ],
      "text/plain": [
       "      rxn00292_c  rxn00293_c  rxn00461_c  rxn03408_c  rxn03933_c  rxn08040_c  \\\n",
       "flux    0.000000 -443.593330  -73.988491  -36.994246  -36.994246   -1.233142   \n",
       "flux    0.000000 -555.492301  -68.679459  -34.339730  -34.339730   -1.144658   \n",
       "flux         NaN -424.951302  -70.903760  -35.451880  -35.451880   -1.181729   \n",
       "flux         NaN -422.130588  -70.433119  -35.216560  -35.216560   -1.173885   \n",
       "flux    0.000000 -564.459894  -69.772371  -34.886186  -34.886186   -1.162873   \n",
       "flux    0.000000 -455.302124  -75.941442  -37.970721  -37.970721   -1.265691   \n",
       "flux    0.000000 -452.367328  -75.478165  -37.739082  -37.739082   -1.257969   \n",
       "flux  265.745571    0.000000  -85.357250  -42.678625  -42.678625   -1.422621   \n",
       "flux   60.590506    0.000000  -85.421384  -42.710692  -42.710692   -1.423690   \n",
       "flux  100.470365    0.000000  -91.142665  -45.571333  -45.571333   -1.519044   \n",
       "flux  280.975644    0.000000  -90.249136  -45.124568  -45.124568   -1.504152   \n",
       "flux  281.826408         NaN  -90.522401  -45.261200  -45.261200   -1.508707   \n",
       "flux    0.000000   57.777593  -81.455696  -40.727848  -40.727848   -1.357595   \n",
       "flux    0.000000   58.278459  -82.161826  -41.080913  -41.080913   -1.369364   \n",
       "flux    0.000000   59.273564  -83.564739  -41.782369  -41.782369   -1.392746   \n",
       "flux    0.000000   60.715840  -85.598080  -42.799040  -42.799040   -1.426635   \n",
       "\n",
       "      rxn00297_c  rxn09341_c  \n",
       "flux   74.142634  518.660820  \n",
       "flux  212.677391  481.318485  \n",
       "flux         NaN  567.940551  \n",
       "flux         NaN  564.170712  \n",
       "flux  216.061776  489.105734  \n",
       "flux   76.099653  532.351045  \n",
       "flux   75.478165  529.103463  \n",
       "flux   -1.422621  -92.185830  \n",
       "flux   -1.423690  113.099640  \n",
       "flux   -1.519044   84.853054  \n",
       "flux   -1.504152  -97.469067  \n",
       "flux   -1.508707  -97.764193  \n",
       "flux   -1.357595  107.848990  \n",
       "flux   -1.369364  108.783920  \n",
       "flux   -1.392746  110.641405  \n",
       "flux   -1.426635  113.333590  "
      ]
     },
     "execution_count": 130,
     "metadata": {},
     "output_type": "execute_result"
    }
   ],
   "source": [
    "ftdf.loc[ftdf['metabolite']=='cpd00037_c'].dropna(axis=1, how='all').iloc[:,3:]"
   ]
  },
  {
   "cell_type": "code",
   "execution_count": 176,
   "id": "2ca893a1-2c8f-4c45-b8ee-e046c501b66f",
   "metadata": {},
   "outputs": [
    {
     "data": {
      "text/html": [
       "\n",
       "        <table>\n",
       "            <tr>\n",
       "                <td><strong>Reaction identifier</strong></td><td>rxn08168_c</td>\n",
       "            </tr><tr>\n",
       "                <td><strong>Name</strong></td><td>L-aspartate:fumarate oxidoreductase (deaminating)</td>\n",
       "            </tr><tr>\n",
       "                <td><strong>Memory address</strong></td>\n",
       "                <td>0x07ff370398160</td>\n",
       "            </tr><tr>\n",
       "                <td><strong>Stoichiometry</strong></td>\n",
       "                <td>\n",
       "                    <p style='text-align:right'>cpd00041_c + cpd00067_c + cpd00106_c <=> cpd00036_c + cpd03470_c</p>\n",
       "                    <p style='text-align:right'>L-Aspartate + H+ + Fumarate <=> Succinate + Iminoaspartate</p>\n",
       "                </td>\n",
       "            </tr><tr>\n",
       "                <td><strong>GPR</strong></td><td>272563.8.peg.2488</td>\n",
       "            </tr><tr>\n",
       "                <td><strong>Lower bound</strong></td><td>-1000.0</td>\n",
       "            </tr><tr>\n",
       "                <td><strong>Upper bound</strong></td><td>1000.0</td>\n",
       "            </tr>\n",
       "        </table>\n",
       "        "
      ],
      "text/plain": [
       "<Reaction rxn08168_c at 0x7ff370398160>"
      ]
     },
     "execution_count": 176,
     "metadata": {},
     "output_type": "execute_result"
    }
   ],
   "source": [
    "model.reactions.rxn08168_c"
   ]
  },
  {
   "cell_type": "code",
   "execution_count": 107,
   "id": "a1f79b4f-0905-486d-ac03-c69caea1c2ce",
   "metadata": {},
   "outputs": [
    {
     "name": "stdout",
     "output_type": "stream",
     "text": [
      "rxn01446_c : Deoxyguanosine:orthophosphate ribosyltransferase\n",
      "EX_cpd00492_e : N-Acetyl-D-mannosamine exchange\n",
      "rxn05234_c : 2'-Deoxyguanosine 5'-triphosphate:oxydized-thioredoxin 2'-oxidoreductase\n",
      "EX_cpd00567_e : D-Proline exchange\n",
      "rxn00908_c : glycine synthase\n",
      "rxn00213_c : UTP:alpha-D-glucose-1-phosphate uridylyltransferase\n",
      "rxn00611_c : sn-Glycerol-3-phosphate:NAD+ 2-oxidoreductase\n",
      "rxn05527_c : Cytosine hydrogen symport\n",
      "rxn08168_c : L-aspartate:fumarate oxidoreductase (deaminating)\n",
      "rxn01799_c : deoxyuridine:orthophosphate 2-deoxy-D-ribosyltransferase\n",
      "rxn00747_c : D-glyceraldehyde-3-phosphate aldose-ketose-isomerase\n",
      "rxn05562_c : Glucose-1-phosphate transport via phosphate antiport\n",
      "rxn00182_c : L-glutamate:NAD+ oxidoreductase (deaminating)\n",
      "rxn10131_c : arginine/ornithine antiporter (periplasm)\n",
      "rxn00692_c : 5,10-Methylenetetrahydrofolate:glycine hydroxymethyltransferase\n",
      "rxn00258_c : Malonyl-CoA:pyruvate carboxytransferase\n",
      "EX_cpd00076_e : Sucrose exchange\n",
      "rxn00001_c : diphosphate phosphohydrolase\n",
      "rxn00297_c : UDP-N-acetyl-D-glucosamine 2-epimerase\n",
      "rxn05205_c : Transport of deoxycytidine, extracellular\n"
     ]
    },
    {
     "data": {
      "text/plain": [
       "[None,\n",
       " None,\n",
       " None,\n",
       " None,\n",
       " None,\n",
       " None,\n",
       " None,\n",
       " None,\n",
       " None,\n",
       " None,\n",
       " None,\n",
       " None,\n",
       " None,\n",
       " None,\n",
       " None,\n",
       " None,\n",
       " None,\n",
       " None,\n",
       " None,\n",
       " None]"
      ]
     },
     "execution_count": 107,
     "metadata": {},
     "output_type": "execute_result"
    }
   ],
   "source": [
    "[print(x, \":\",model.reactions.get_by_id(x).name) for x in rf20_3]"
   ]
  },
  {
   "cell_type": "markdown",
   "id": "e21b8cbf-b307-4f78-a517-58ffb8e666b6",
   "metadata": {
    "tags": []
   },
   "source": [
    "# Flux direction exploration"
   ]
  },
  {
   "cell_type": "code",
   "execution_count": 23,
   "id": "4a41faa7-9343-4ada-a516-a9dea5e865e4",
   "metadata": {},
   "outputs": [],
   "source": [
    "from cobra.io import load_json_model, save_json_model, load_matlab_model, save_matlab_model, read_sbml_model, write_sbml_model"
   ]
  },
  {
   "cell_type": "code",
   "execution_count": 144,
   "id": "02e0dd33-cebd-4d1d-b5dd-3579526807ea",
   "metadata": {},
   "outputs": [],
   "source": [
    "foo = rip_cho.flux_samples\n",
    "foo1 = rip_d240.flux_samples"
   ]
  },
  {
   "cell_type": "code",
   "execution_count": 27,
   "id": "fcbf1e4b-af06-480e-8bd0-362a8b973476",
   "metadata": {},
   "outputs": [],
   "source": [
    "save_json_model(rip_cho.model, 'models/rip_cho')"
   ]
  },
  {
   "cell_type": "code",
   "execution_count": 127,
   "id": "10971752-9672-48f3-9dad-adbf29c97252",
   "metadata": {},
   "outputs": [
    {
     "name": "stderr",
     "output_type": "stream",
     "text": [
      "/Users/dap5mb/opt/anaconda3/lib/python3.8/site-packages/optlang/interface.py:1479: DeprecationWarning: Deprecated, pass a TempConstr or use Model.addLConstr\n",
      "  self._add_constraints(add_constr_sloppy, sloppy=True)\n"
     ]
    },
    {
     "data": {
      "text/html": [
       "<h3>cpd00129_c</h3><p>C5H9NO2</p><h4>Producing Reactions</h4><table border=\"1\" class=\"dataframe\">\n",
       "  <thead>\n",
       "    <tr style=\"text-align: right;\">\n",
       "      <th>Percent</th>\n",
       "      <th>Flux</th>\n",
       "      <th>Reaction</th>\n",
       "      <th>Definition</th>\n",
       "    </tr>\n",
       "  </thead>\n",
       "  <tbody>\n",
       "    <tr>\n",
       "      <td>100.00%</td>\n",
       "      <td>8.75</td>\n",
       "      <td>rxn00933_c</td>\n",
       "      <td>cpd00129_c &lt;=&gt; cpd00567_c</td>\n",
       "    </tr>\n",
       "  </tbody>\n",
       "</table><h4>Consuming Reactions</h4><table border=\"1\" class=\"dataframe\">\n",
       "  <thead>\n",
       "    <tr style=\"text-align: right;\">\n",
       "      <th>Percent</th>\n",
       "      <th>Flux</th>\n",
       "      <th>Reaction</th>\n",
       "      <th>Definition</th>\n",
       "    </tr>\n",
       "  </thead>\n",
       "  <tbody>\n",
       "    <tr>\n",
       "      <td>100.00%</td>\n",
       "      <td>-8.75</td>\n",
       "      <td>rxn06445_c</td>\n",
       "      <td>cpd00002_c + cpd00129_c + 0.05 cpd17043_c &lt;=&gt; cpd00012_c + cpd00018_c + cpd00067_c + cpd12164_c</td>\n",
       "    </tr>\n",
       "  </tbody>\n",
       "</table>"
      ],
      "text/plain": [
       "<cobra.summary.metabolite_summary.MetaboliteSummary at 0x7fd30d97df10>"
      ]
     },
     "execution_count": 127,
     "metadata": {},
     "output_type": "execute_result"
    }
   ],
   "source": [
    "r20291.metabolites.cpd00129_c.summary()"
   ]
  },
  {
   "cell_type": "code",
   "execution_count": 101,
   "id": "604d4070-13d2-4633-8c39-dcface6fa001",
   "metadata": {},
   "outputs": [
    {
     "data": {
      "text/plain": [
       "-641.4957024501437"
      ]
     },
     "execution_count": 101,
     "metadata": {},
     "output_type": "execute_result"
    }
   ],
   "source": [
    "foo['rxn10840_c'].median()"
   ]
  },
  {
   "cell_type": "code",
   "execution_count": 140,
   "id": "502b0ecf-4dd4-4ca5-95ce-9edf48e28e4f",
   "metadata": {},
   "outputs": [
    {
     "data": {
      "text/plain": [
       "627.1242582868539"
      ]
     },
     "execution_count": 140,
     "metadata": {},
     "output_type": "execute_result"
    }
   ],
   "source": [
    "foo['rxn20606_c'].median()"
   ]
  },
  {
   "cell_type": "code",
   "execution_count": 1,
   "id": "3944364c-10bc-4988-a8db-dc5d1d9bb176",
   "metadata": {},
   "outputs": [
    {
     "ename": "NameError",
     "evalue": "name 'model' is not defined",
     "output_type": "error",
     "traceback": [
      "\u001b[0;31m---------------------------------------------------------------------------\u001b[0m",
      "\u001b[0;31mNameError\u001b[0m                                 Traceback (most recent call last)",
      "\u001b[0;32m/var/folders/85/n42jk96d3hsbdfcjbr1qlmb80000gp/T/ipykernel_62518/2174894957.py\u001b[0m in \u001b[0;36m<module>\u001b[0;34m\u001b[0m\n\u001b[0;32m----> 1\u001b[0;31m \u001b[0mmodel\u001b[0m\u001b[0;34m.\u001b[0m\u001b[0mreactions\u001b[0m\u001b[0;34m.\u001b[0m\u001b[0mget_by_id\u001b[0m\u001b[0;34m(\u001b[0m\u001b[0;34m'rxn06432_c'\u001b[0m\u001b[0;34m)\u001b[0m\u001b[0;34m.\u001b[0m\u001b[0mname\u001b[0m\u001b[0;34m\u001b[0m\u001b[0;34m\u001b[0m\u001b[0m\n\u001b[0m",
      "\u001b[0;31mNameError\u001b[0m: name 'model' is not defined"
     ]
    }
   ],
   "source": [
    "model.reactions.get_by_id('rxn06432_c').name"
   ]
  },
  {
   "cell_type": "code",
   "execution_count": 141,
   "id": "04748ec9-8e43-4e48-9fa7-e353d0ca7ac4",
   "metadata": {},
   "outputs": [
    {
     "data": {
      "text/html": [
       "\n",
       "        <table>\n",
       "            <tr>\n",
       "                <td><strong>Reaction identifier</strong></td><td>rxn20606_c</td>\n",
       "            </tr><tr>\n",
       "                <td><strong>Name</strong></td><td>D-proline reductase</td>\n",
       "            </tr><tr>\n",
       "                <td><strong>Memory address</strong></td>\n",
       "                <td>0x07fd2f91c6220</td>\n",
       "            </tr><tr>\n",
       "                <td><strong>Stoichiometry</strong></td>\n",
       "                <td>\n",
       "                    <p style='text-align:right'>cpd00004_c + cpd00067_c + cpd00567_c --> cpd00003_c + cpd00339_c</p>\n",
       "                    <p style='text-align:right'>NADH + H+ + D-Proline --> NAD + 5-Aminopentanoate</p>\n",
       "                </td>\n",
       "            </tr><tr>\n",
       "                <td><strong>GPR</strong></td><td>645463.3.peg.3295 and ( 645463.3.peg.3293 or 645463.3.peg.3291 ) and ( 645463.3.peg.3295 or...</td>\n",
       "            </tr><tr>\n",
       "                <td><strong>Lower bound</strong></td><td>0.0</td>\n",
       "            </tr><tr>\n",
       "                <td><strong>Upper bound</strong></td><td>1000.0</td>\n",
       "            </tr>\n",
       "        </table>\n",
       "        "
      ],
      "text/plain": [
       "<Reaction rxn20606_c at 0x7fd2f91c6220>"
      ]
     },
     "execution_count": 141,
     "metadata": {},
     "output_type": "execute_result"
    }
   ],
   "source": [
    "r20291.reactions.get_by_id('rxn20606_c')"
   ]
  },
  {
   "cell_type": "code",
   "execution_count": 146,
   "id": "7c4eace6-ce5f-44da-a806-3c57e549c7a7",
   "metadata": {},
   "outputs": [
    {
     "data": {
      "text/plain": [
       "994.4656157694062"
      ]
     },
     "execution_count": 146,
     "metadata": {},
     "output_type": "execute_result"
    }
   ],
   "source": [
    "foo1['rxn20606_c'].median()"
   ]
  }
 ],
 "metadata": {
  "kernelspec": {
   "display_name": "Python 3 (ipykernel)",
   "language": "python",
   "name": "python3"
  },
  "language_info": {
   "codemirror_mode": {
    "name": "ipython",
    "version": 3
   },
   "file_extension": ".py",
   "mimetype": "text/x-python",
   "name": "python",
   "nbconvert_exporter": "python",
   "pygments_lexer": "ipython3",
   "version": "3.8.8"
  },
  "toc-autonumbering": false,
  "toc-showmarkdowntxt": true,
  "toc-showtags": false
 },
 "nbformat": 4,
 "nbformat_minor": 5
}
